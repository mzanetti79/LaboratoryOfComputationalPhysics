{
 "cells": [
  {
   "cell_type": "markdown",
   "metadata": {},
   "source": [
    "# Pandas\n",
    "\n",
    "The `numpy` module is excellent for numerical computations, but to handle missing data or arrays with mixed types takes more work. The `pandas` module is currently the most widely used tool for data manipulation, providing high-performance, easy-to-use data structures and advanced data analysis tools.\n",
    "\n",
    "In particular `pandas` features:\n",
    "\n",
    "* A fast and efficient \"DataFrame\" object for data manipulation with integrated indexing;\n",
    "* Tools for reading and writing data between in-memory data structures and different formats (CSV, Excel, SQL, HDF5);\n",
    "* Intelligent data alignment and integrated handling of missing data;\n",
    "* Intelligent label-based slicing, fancy indexing, and subsetting of large data sets;\n",
    "* Aggregating or transforming data with a powerful \"group-by\" engine; \n",
    "* High performance merging and joining of data sets;\n",
    "* Hierarchical axis indexing provides an intuitive way of working with high-dimensional data in a lower-dimensional data structure;\n",
    "* Time series-functionalities;\n",
    "* Highly optimized for performance, with critical code paths written in Cython or C.\n"
   ]
  },
  {
   "cell_type": "code",
<<<<<<< HEAD
   "execution_count": 3,
   "metadata": {
    "collapsed": true
   },
=======
   "execution_count": null,
   "metadata": {},
>>>>>>> upstream/master
   "outputs": [],
   "source": [
    "import pandas as pd\n",
    "import numpy as np"
   ]
  },
  {
   "cell_type": "markdown",
   "metadata": {},
   "source": [
    "## Series\n",
    "\n",
    "Series are completely equivalent to 1D array but with axis labels and the possibility to store heterogeneous elements. Of paramount importance are the time-series, used to define time evolutions of a phenomenon. \n"
   ]
  },
  {
   "cell_type": "code",
<<<<<<< HEAD
   "execution_count": 5,
   "metadata": {},
   "outputs": [
    {
     "name": "stdout",
     "output_type": "stream",
     "text": [
      "a    0.0\n",
      "b    0.5\n",
      "c    1.0\n",
      "d    1.5\n",
      "e    2.0\n",
      "f    2.5\n",
      "g    3.0\n",
      "h    3.5\n",
      "i    4.0\n",
      "j    4.5\n",
      "dtype: float64 \n",
      "\n",
      "Index(['a', 'b', 'c', 'd', 'e', 'f', 'g', 'h', 'i', 'j'], dtype='object') \n",
      "\n",
      "[ 0.   0.5  1.   1.5  2.   2.5  3.   3.5  4.   4.5] <class 'numpy.ndarray'> \n",
      "\n",
      "2.5 2.5 3.5 \n",
      "\n",
      "d    1.5\n",
      "f    2.5\n",
      "h    3.5\n",
      "dtype: float64 \n",
      "\n"
     ]
    }
   ],
=======
   "execution_count": null,
   "metadata": {},
   "outputs": [],
>>>>>>> upstream/master
   "source": [
    "from string import ascii_lowercase as letters\n",
    "\n",
    "# Creating a series, accessing indexes, values and values by their index \n",
<<<<<<< HEAD
    "xs = pd.Series(np.arange(10)*0.5, index=tuple(letters[:10]))\n",
=======
    "xs = Series(np.arange(10)*0.5, index=tuple(letters[:10]))\n",
>>>>>>> upstream/master
    "print (xs,'\\n')\n",
    "print (xs.index,'\\n')\n",
    "# Values of the Series are actually a numpy array\n",
    "print (xs.values, type(xs.values),'\\n')\n",
    "print (xs['f'], xs.f, xs.h, '\\n')\n",
    "print (xs[['d', 'f', 'h']], '\\n')"
   ]
  },
  {
   "cell_type": "code",
<<<<<<< HEAD
   "execution_count": 6,
   "metadata": {},
   "outputs": [
    {
     "name": "stdout",
     "output_type": "stream",
     "text": [
      "a    0.0\n",
      "b    0.5\n",
      "c    1.0\n",
      "dtype: float64 \n",
      "\n",
      "h    3.5\n",
      "i    4.0\n",
      "j    4.5\n",
      "dtype: float64 \n",
      "\n",
      "a    0.0\n",
      "d    1.5\n",
      "g    3.0\n",
      "j    4.5\n",
      "dtype: float64 \n",
      "\n",
      "h    3.5\n",
      "i    4.0\n",
      "j    4.5\n",
      "dtype: float64 \n",
      "\n",
      "a     1.000000\n",
      "b     1.648721\n",
      "c     2.718282\n",
      "d     4.481689\n",
      "e     7.389056\n",
      "f    12.182494\n",
      "g    20.085537\n",
      "h    33.115452\n",
      "i    54.598150\n",
      "j    90.017131\n",
      "dtype: float64 \n",
      "\n",
      "2.25 1.4361406616345072 \n",
      "\n"
     ]
    }
   ],
=======
   "execution_count": null,
   "metadata": {},
   "outputs": [],
>>>>>>> upstream/master
   "source": [
    "# Extracting elements and operations: same as numpy array\n",
    "print (xs[:3],'\\n')\n",
    "print (xs[7:], '\\n')\n",
    "print (xs[::3], '\\n')\n",
    "print (xs[xs>3], '\\n')\n",
    "print (np.exp(xs), '\\n')\n",
    "print (np.mean(xs), np.std(xs), '\\n')"
   ]
  },
  {
   "cell_type": "code",
<<<<<<< HEAD
   "execution_count": 7,
   "metadata": {},
   "outputs": [
    {
     "data": {
      "text/plain": [
       "a       cat\n",
       "b         1\n",
       "c    [2, 3]\n",
       "dtype: object"
      ]
     },
     "execution_count": 7,
     "metadata": {},
     "output_type": "execute_result"
    }
   ],
=======
   "execution_count": null,
   "metadata": {},
   "outputs": [],
>>>>>>> upstream/master
   "source": [
    "# Series can be created from python dictionary too.\n",
    "# Not that the elements can be whatever!\n",
    "d = {'b' : 1, 'a' : 'cat', 'c' : [2,3]}\n",
    "pd.Series(d)\n",
    "\n"
   ]
  },
  {
   "cell_type": "markdown",
   "metadata": {},
   "source": [
    "A key difference between Series and ndarray is that operations between Series automatically align the data based on label. Thus, you can write computations without giving consideration to whether the Series involved have the same labels."
   ]
  },
  {
   "cell_type": "code",
<<<<<<< HEAD
   "execution_count": 9,
   "metadata": {},
   "outputs": [
    {
     "data": {
      "text/plain": [
       "a         NaN\n",
       "b    0.747369\n",
       "c    0.058641\n",
       "d    0.834626\n",
       "e         NaN\n",
       "dtype: float64"
      ]
     },
     "execution_count": 9,
     "metadata": {},
     "output_type": "execute_result"
    }
   ],
=======
   "execution_count": null,
   "metadata": {},
   "outputs": [],
>>>>>>> upstream/master
   "source": [
    "s = pd.Series(np.random.randn(5), index=tuple(letters[:5]))\n",
    "s[1:] + s[:-1]"
   ]
  },
  {
   "cell_type": "markdown",
   "metadata": {},
   "source": [
    "### Time series\n",
    "\n",
    "Time series are very often used to profile the behaviour of a quantity as a function of time. Pandas as a special index for that, `DatetimeIndex`, that can be created e.g. with the function `pd.data_range()`"
   ]
  },
  {
   "cell_type": "code",
<<<<<<< HEAD
   "execution_count": 10,
   "metadata": {},
   "outputs": [
    {
     "name": "stdout",
     "output_type": "stream",
     "text": [
      "2018-11-19 14:45:10.000015\n",
      "19/11/2018 14:45:00\n",
      "DatetimeIndex(['2018-11-19 14:45:00', '2018-11-20 14:45:00',\n",
      "               '2018-11-21 14:45:00', '2018-11-22 14:45:00',\n",
      "               '2018-11-23 14:45:00', '2018-11-24 14:45:00',\n",
      "               '2018-11-25 14:45:00'],\n",
      "              dtype='datetime64[ns]', freq='D')\n",
      "DatetimeIndex(['2018-11-19 14:45:00', '2018-11-19 14:45:01',\n",
      "               '2018-11-19 14:45:02', '2018-11-19 14:45:03',\n",
      "               '2018-11-19 14:45:04', '2018-11-19 14:45:05',\n",
      "               '2018-11-19 14:45:06', '2018-11-19 14:45:07',\n",
      "               '2018-11-19 14:45:08', '2018-11-19 14:45:09',\n",
      "               ...\n",
      "               '2018-11-19 15:44:50', '2018-11-19 15:44:51',\n",
      "               '2018-11-19 15:44:52', '2018-11-19 15:44:53',\n",
      "               '2018-11-19 15:44:54', '2018-11-19 15:44:55',\n",
      "               '2018-11-19 15:44:56', '2018-11-19 15:44:57',\n",
      "               '2018-11-19 15:44:58', '2018-11-19 15:44:59'],\n",
      "              dtype='datetime64[ns]', length=3600, freq='S')\n"
     ]
    }
   ],
=======
   "execution_count": null,
   "metadata": {},
   "outputs": [],
>>>>>>> upstream/master
   "source": [
    "# to define a date, the datetime module is very useful\n",
    "import datetime as dt\n",
    "date = dt.date.today()\n",
    "date = dt.datetime(2018,11,19,14,45,10,15)\n",
    "print (date)\n",
    "\n",
    "# otherwise, several notations are interpreted too\n",
    "date = 'Nov 19 2018'\n",
    "date = '19/11/2018 14:45:00'\n",
    "print (date)\n",
    "\n",
    "days = pd.date_range(date, periods=7, freq='D')\n",
    "print (days)\n",
    "\n",
    "seconds = pd.date_range(date, periods=3600, freq='s')\n",
    "print (seconds)\n"
   ]
  },
  {
   "cell_type": "markdown",
   "metadata": {},
   "source": [
    "To learn more about the frequency strings, please see this [link](http://pandas.pydata.org/pandas-docs/stable/timeseries.html#offset-aliases)\n",
    "\n",
    "\n",
    "Timestamped data is the most basic type of time series data that associates values with points in time. For pandas objects it means using the points in time.\n",
    "\n",
    "functions like `pd.to_datetime` can be used, for instance, when reading information as string from a dataset"
   ]
  },
  {
   "cell_type": "code",
<<<<<<< HEAD
   "execution_count": 12,
   "metadata": {},
   "outputs": [
    {
     "name": "stdout",
     "output_type": "stream",
     "text": [
      "1000\n",
      "2010-11-12 00:00:00\n",
      "2010-11-12 00:00:00\n"
     ]
    }
   ],
=======
   "execution_count": null,
   "metadata": {},
   "outputs": [],
>>>>>>> upstream/master
   "source": [
    "tstamp = pd.Timestamp(dt.datetime(2018, 11, 19))\n",
    "\n",
    "# internally it counts the nanoseconds from January 1st 19\n",
<<<<<<< HEAD
    "tstamp = pd.Timestamp(dt.datetime(1970, 1, 1, 0, 0, 0, 1))\n",
=======
    "#tstamp = pd.Timestamp(dt.datetime(1970, 1, 1, 0, 0, 0, 1))\n",
>>>>>>> upstream/master
    "print(tstamp.value)\n",
    "\n",
    "# when creating a timestamp the format can be explicitly passed\n",
    "print (pd.to_datetime('2010/11/12', format='%Y/%m/%d'))\n",
    "print (pd.to_datetime('12-11-2010 00:00', format='%d-%m-%Y %H:%M'))\n"
   ]
  },
  {
   "cell_type": "markdown",
   "metadata": {},
   "source": [
    "A standard series can be created and (range of) elements can be used as indexes"
   ]
  },
  {
   "cell_type": "code",
<<<<<<< HEAD
   "execution_count": 14,
   "metadata": {
    "scrolled": true
   },
   "outputs": [
    {
     "name": "stdout",
     "output_type": "stream",
     "text": [
      "2018-11-19 14:45:00    11.536963\n",
      "2018-11-20 14:45:00     7.667014\n",
      "2018-11-21 14:45:00     9.431656\n",
      "2018-11-22 14:45:00     9.913220\n",
      "Freq: D, dtype: float64 \n",
      "\n",
      "2018-11-19 14:45:00    11.536963\n",
      "2018-11-20 14:45:00     7.667014\n",
      "2018-11-21 14:45:00     9.431656\n",
      "Freq: D, dtype: float64 \n",
      "\n"
     ]
    }
   ],
   "source": [
    "tseries = pd.Series(np.random.normal(10, 1, len(days)), index=days)\n",
=======
   "execution_count": null,
   "metadata": {
    "scrolled": true
   },
   "outputs": [],
   "source": [
    "tseries = Series(np.random.normal(10, 1, len(days)), index=days)\n",
>>>>>>> upstream/master
    "# Extracting elements\n",
    "print (tseries[0:4], '\\n')\n",
    "print (tseries['2018-11-19':'2018-11-21'], '\\n') # Note - includes end time\n"
   ]
  },
  {
   "cell_type": "markdown",
   "metadata": {},
   "source": [
    "`pd.to_datetime` can also be used to create a `DatetimeIndex`:"
   ]
  },
  {
   "cell_type": "code",
<<<<<<< HEAD
   "execution_count": 15,
   "metadata": {},
   "outputs": [
    {
     "data": {
      "text/plain": [
       "DatetimeIndex(['1980-02-04', '1980-02-05', '1980-02-06'], dtype='datetime64[ns]', freq=None)"
      ]
     },
     "execution_count": 15,
     "metadata": {},
     "output_type": "execute_result"
    }
   ],
=======
   "execution_count": null,
   "metadata": {},
   "outputs": [],
>>>>>>> upstream/master
   "source": [
    "pd.to_datetime([1, 2, 3], unit='D', origin=pd.Timestamp('1980-02-03'))"
   ]
  },
  {
   "cell_type": "markdown",
   "metadata": {},
   "source": [
    "## DataFrame\n",
    "\n",
    "A pandas DataFrame is like a simple tabular spreadsheet. For future reference (or for people already familiar with R), a pandas DataFrame is very similar to the R DataFrame.\n",
    "\n",
    "Each column in a DataFrame is a Series object.\n",
    "\n",
    "The element can be whatever, missing data are dealt with too (as NaN)"
   ]
  },
  {
   "cell_type": "markdown",
   "metadata": {},
   "source": [
    "### DataFrame creation\n",
    "\n",
    "A DataFrame can be created implicitly, with, e.g., a DatatimeIndex object as index:"
   ]
  },
  {
   "cell_type": "code",
<<<<<<< HEAD
   "execution_count": 16,
   "metadata": {},
   "outputs": [
    {
     "data": {
      "text/html": [
       "<div>\n",
       "<style>\n",
       "    .dataframe thead tr:only-child th {\n",
       "        text-align: right;\n",
       "    }\n",
       "\n",
       "    .dataframe thead th {\n",
       "        text-align: left;\n",
       "    }\n",
       "\n",
       "    .dataframe tbody tr th {\n",
       "        vertical-align: top;\n",
       "    }\n",
       "</style>\n",
       "<table border=\"1\" class=\"dataframe\">\n",
       "  <thead>\n",
       "    <tr style=\"text-align: right;\">\n",
       "      <th></th>\n",
       "      <th>A</th>\n",
       "      <th>B</th>\n",
       "      <th>C</th>\n",
       "      <th>D</th>\n",
       "    </tr>\n",
       "  </thead>\n",
       "  <tbody>\n",
       "    <tr>\n",
       "      <th>2018-11-19 14:45:00</th>\n",
       "      <td>-0.009212</td>\n",
       "      <td>-0.734764</td>\n",
       "      <td>0.575896</td>\n",
       "      <td>0.247430</td>\n",
       "    </tr>\n",
       "    <tr>\n",
       "      <th>2018-11-19 15:45:00</th>\n",
       "      <td>-0.582321</td>\n",
       "      <td>-0.392299</td>\n",
       "      <td>-0.302587</td>\n",
       "      <td>0.678388</td>\n",
       "    </tr>\n",
       "    <tr>\n",
       "      <th>2018-11-19 16:45:00</th>\n",
       "      <td>0.331763</td>\n",
       "      <td>0.799624</td>\n",
       "      <td>1.209747</td>\n",
       "      <td>-0.135006</td>\n",
       "    </tr>\n",
       "    <tr>\n",
       "      <th>2018-11-19 17:45:00</th>\n",
       "      <td>-0.645840</td>\n",
       "      <td>1.156996</td>\n",
       "      <td>-1.530460</td>\n",
       "      <td>-0.747516</td>\n",
       "    </tr>\n",
       "    <tr>\n",
       "      <th>2018-11-19 18:45:00</th>\n",
       "      <td>1.512944</td>\n",
       "      <td>1.886236</td>\n",
       "      <td>1.056722</td>\n",
       "      <td>-0.251783</td>\n",
       "    </tr>\n",
       "    <tr>\n",
       "      <th>2018-11-19 19:45:00</th>\n",
       "      <td>0.023600</td>\n",
       "      <td>0.744670</td>\n",
       "      <td>1.024183</td>\n",
       "      <td>-2.047109</td>\n",
       "    </tr>\n",
       "    <tr>\n",
       "      <th>2018-11-19 20:45:00</th>\n",
       "      <td>-0.915842</td>\n",
       "      <td>-1.273394</td>\n",
       "      <td>0.850732</td>\n",
       "      <td>-0.424016</td>\n",
       "    </tr>\n",
       "    <tr>\n",
       "      <th>2018-11-19 21:45:00</th>\n",
       "      <td>-1.382011</td>\n",
       "      <td>-1.086917</td>\n",
       "      <td>-0.594822</td>\n",
       "      <td>-2.026177</td>\n",
       "    </tr>\n",
       "    <tr>\n",
       "      <th>2018-11-19 22:45:00</th>\n",
       "      <td>-0.694070</td>\n",
       "      <td>1.675643</td>\n",
       "      <td>-0.084991</td>\n",
       "      <td>0.022273</td>\n",
       "    </tr>\n",
       "    <tr>\n",
       "      <th>2018-11-19 23:45:00</th>\n",
       "      <td>-1.745516</td>\n",
       "      <td>1.085031</td>\n",
       "      <td>-0.146756</td>\n",
       "      <td>0.412577</td>\n",
       "    </tr>\n",
       "  </tbody>\n",
       "</table>\n",
       "</div>"
      ],
      "text/plain": [
       "                            A         B         C         D\n",
       "2018-11-19 14:45:00 -0.009212 -0.734764  0.575896  0.247430\n",
       "2018-11-19 15:45:00 -0.582321 -0.392299 -0.302587  0.678388\n",
       "2018-11-19 16:45:00  0.331763  0.799624  1.209747 -0.135006\n",
       "2018-11-19 17:45:00 -0.645840  1.156996 -1.530460 -0.747516\n",
       "2018-11-19 18:45:00  1.512944  1.886236  1.056722 -0.251783\n",
       "2018-11-19 19:45:00  0.023600  0.744670  1.024183 -2.047109\n",
       "2018-11-19 20:45:00 -0.915842 -1.273394  0.850732 -0.424016\n",
       "2018-11-19 21:45:00 -1.382011 -1.086917 -0.594822 -2.026177\n",
       "2018-11-19 22:45:00 -0.694070  1.675643 -0.084991  0.022273\n",
       "2018-11-19 23:45:00 -1.745516  1.085031 -0.146756  0.412577"
      ]
     },
     "execution_count": 16,
     "metadata": {},
     "output_type": "execute_result"
    }
   ],
=======
   "execution_count": null,
   "metadata": {},
   "outputs": [],
>>>>>>> upstream/master
   "source": [
    "entries=10\n",
    "dates=pd.date_range('19/11/2018 14:45:00',freq='h', periods=entries)\n",
    "df = pd.DataFrame(np.random.randn(entries,4), index=dates, columns=['A','B','C','D'])\n",
    "df\n"
   ]
  },
  {
   "cell_type": "markdown",
   "metadata": {},
   "source": [
    "or by means of a dictionary:\n"
   ]
  },
  {
   "cell_type": "code",
<<<<<<< HEAD
   "execution_count": 17,
   "metadata": {
    "collapsed": true
   },
=======
   "execution_count": null,
   "metadata": {},
>>>>>>> upstream/master
   "outputs": [],
   "source": [
    "df2 = pd.DataFrame(\n",
    "    { 'A' : 1.,\n",
    "      'B' : pd.Timestamp('20130102'),\n",
    "      'C' : pd.Series(1,index=range(4),dtype='float32'),\n",
    "      'D' : np.arange(7,11),\n",
    "      'E' : pd.Categorical([\"test\",\"train\",\"test\",\"train\"]),\n",
    "    }\n",
    "    )\n",
    "   "
   ]
  },
  {
   "cell_type": "code",
<<<<<<< HEAD
   "execution_count": 18,
   "metadata": {},
   "outputs": [
    {
     "data": {
      "text/html": [
       "<div>\n",
       "<style>\n",
       "    .dataframe thead tr:only-child th {\n",
       "        text-align: right;\n",
       "    }\n",
       "\n",
       "    .dataframe thead th {\n",
       "        text-align: left;\n",
       "    }\n",
       "\n",
       "    .dataframe tbody tr th {\n",
       "        vertical-align: top;\n",
       "    }\n",
       "</style>\n",
       "<table border=\"1\" class=\"dataframe\">\n",
       "  <thead>\n",
       "    <tr style=\"text-align: right;\">\n",
       "      <th></th>\n",
       "      <th>A</th>\n",
       "      <th>B</th>\n",
       "      <th>C</th>\n",
       "      <th>D</th>\n",
       "      <th>E</th>\n",
       "    </tr>\n",
       "  </thead>\n",
       "  <tbody>\n",
       "    <tr>\n",
       "      <th>0</th>\n",
       "      <td>1.0</td>\n",
       "      <td>2013-01-02</td>\n",
       "      <td>1.0</td>\n",
       "      <td>7</td>\n",
       "      <td>test</td>\n",
       "    </tr>\n",
       "    <tr>\n",
       "      <th>1</th>\n",
       "      <td>1.0</td>\n",
       "      <td>2013-01-02</td>\n",
       "      <td>1.0</td>\n",
       "      <td>8</td>\n",
       "      <td>train</td>\n",
       "    </tr>\n",
       "    <tr>\n",
       "      <th>2</th>\n",
       "      <td>1.0</td>\n",
       "      <td>2013-01-02</td>\n",
       "      <td>1.0</td>\n",
       "      <td>9</td>\n",
       "      <td>test</td>\n",
       "    </tr>\n",
       "    <tr>\n",
       "      <th>3</th>\n",
       "      <td>1.0</td>\n",
       "      <td>2013-01-02</td>\n",
       "      <td>1.0</td>\n",
       "      <td>10</td>\n",
       "      <td>train</td>\n",
       "    </tr>\n",
       "  </tbody>\n",
       "</table>\n",
       "</div>"
      ],
      "text/plain": [
       "     A          B    C   D      E\n",
       "0  1.0 2013-01-02  1.0   7   test\n",
       "1  1.0 2013-01-02  1.0   8  train\n",
       "2  1.0 2013-01-02  1.0   9   test\n",
       "3  1.0 2013-01-02  1.0  10  train"
      ]
     },
     "execution_count": 18,
     "metadata": {},
     "output_type": "execute_result"
    }
   ],
=======
   "execution_count": null,
   "metadata": {},
   "outputs": [],
>>>>>>> upstream/master
   "source": [
    "df2"
   ]
  },
  {
   "cell_type": "markdown",
   "metadata": {},
   "source": [
    "### Viewing Data"
   ]
  },
  {
   "cell_type": "code",
<<<<<<< HEAD
   "execution_count": 20,
   "metadata": {},
   "outputs": [
    {
     "data": {
      "text/html": [
       "<div>\n",
       "<style>\n",
       "    .dataframe thead tr:only-child th {\n",
       "        text-align: right;\n",
       "    }\n",
       "\n",
       "    .dataframe thead th {\n",
       "        text-align: left;\n",
       "    }\n",
       "\n",
       "    .dataframe tbody tr th {\n",
       "        vertical-align: top;\n",
       "    }\n",
       "</style>\n",
       "<table border=\"1\" class=\"dataframe\">\n",
       "  <thead>\n",
       "    <tr style=\"text-align: right;\">\n",
       "      <th></th>\n",
       "      <th>A</th>\n",
       "      <th>B</th>\n",
       "      <th>C</th>\n",
       "      <th>D</th>\n",
       "    </tr>\n",
       "  </thead>\n",
       "  <tbody>\n",
       "    <tr>\n",
       "      <th>2018-11-19 14:45:00</th>\n",
       "      <td>-0.009212</td>\n",
       "      <td>-0.734764</td>\n",
       "      <td>0.575896</td>\n",
       "      <td>0.247430</td>\n",
       "    </tr>\n",
       "    <tr>\n",
       "      <th>2018-11-19 15:45:00</th>\n",
       "      <td>-0.582321</td>\n",
       "      <td>-0.392299</td>\n",
       "      <td>-0.302587</td>\n",
       "      <td>0.678388</td>\n",
       "    </tr>\n",
       "    <tr>\n",
       "      <th>2018-11-19 16:45:00</th>\n",
       "      <td>0.331763</td>\n",
       "      <td>0.799624</td>\n",
       "      <td>1.209747</td>\n",
       "      <td>-0.135006</td>\n",
       "    </tr>\n",
       "  </tbody>\n",
       "</table>\n",
       "</div>"
      ],
      "text/plain": [
       "                            A         B         C         D\n",
       "2018-11-19 14:45:00 -0.009212 -0.734764  0.575896  0.247430\n",
       "2018-11-19 15:45:00 -0.582321 -0.392299 -0.302587  0.678388\n",
       "2018-11-19 16:45:00  0.331763  0.799624  1.209747 -0.135006"
      ]
     },
     "execution_count": 20,
     "metadata": {},
     "output_type": "execute_result"
    }
   ],
   "source": [
    "df.head(3)"
=======
   "execution_count": null,
   "metadata": {},
   "outputs": [],
   "source": [
    "df.head()"
>>>>>>> upstream/master
   ]
  },
  {
   "cell_type": "code",
<<<<<<< HEAD
   "execution_count": 21,
   "metadata": {},
   "outputs": [
    {
     "data": {
      "text/html": [
       "<div>\n",
       "<style>\n",
       "    .dataframe thead tr:only-child th {\n",
       "        text-align: right;\n",
       "    }\n",
       "\n",
       "    .dataframe thead th {\n",
       "        text-align: left;\n",
       "    }\n",
       "\n",
       "    .dataframe tbody tr th {\n",
       "        vertical-align: top;\n",
       "    }\n",
       "</style>\n",
       "<table border=\"1\" class=\"dataframe\">\n",
       "  <thead>\n",
       "    <tr style=\"text-align: right;\">\n",
       "      <th></th>\n",
       "      <th>A</th>\n",
       "      <th>B</th>\n",
       "      <th>C</th>\n",
       "      <th>D</th>\n",
       "    </tr>\n",
       "  </thead>\n",
       "  <tbody>\n",
       "    <tr>\n",
       "      <th>2018-11-19 20:45:00</th>\n",
       "      <td>-0.915842</td>\n",
       "      <td>-1.273394</td>\n",
       "      <td>0.850732</td>\n",
       "      <td>-0.424016</td>\n",
       "    </tr>\n",
       "    <tr>\n",
       "      <th>2018-11-19 21:45:00</th>\n",
       "      <td>-1.382011</td>\n",
       "      <td>-1.086917</td>\n",
       "      <td>-0.594822</td>\n",
       "      <td>-2.026177</td>\n",
       "    </tr>\n",
       "    <tr>\n",
       "      <th>2018-11-19 22:45:00</th>\n",
       "      <td>-0.694070</td>\n",
       "      <td>1.675643</td>\n",
       "      <td>-0.084991</td>\n",
       "      <td>0.022273</td>\n",
       "    </tr>\n",
       "    <tr>\n",
       "      <th>2018-11-19 23:45:00</th>\n",
       "      <td>-1.745516</td>\n",
       "      <td>1.085031</td>\n",
       "      <td>-0.146756</td>\n",
       "      <td>0.412577</td>\n",
       "    </tr>\n",
       "  </tbody>\n",
       "</table>\n",
       "</div>"
      ],
      "text/plain": [
       "                            A         B         C         D\n",
       "2018-11-19 20:45:00 -0.915842 -1.273394  0.850732 -0.424016\n",
       "2018-11-19 21:45:00 -1.382011 -1.086917 -0.594822 -2.026177\n",
       "2018-11-19 22:45:00 -0.694070  1.675643 -0.084991  0.022273\n",
       "2018-11-19 23:45:00 -1.745516  1.085031 -0.146756  0.412577"
      ]
     },
     "execution_count": 21,
     "metadata": {},
     "output_type": "execute_result"
    }
   ],
=======
   "execution_count": null,
   "metadata": {},
   "outputs": [],
>>>>>>> upstream/master
   "source": [
    "df.tail(4)"
   ]
  },
  {
   "cell_type": "code",
<<<<<<< HEAD
   "execution_count": 22,
   "metadata": {},
   "outputs": [
    {
     "data": {
      "text/plain": [
       "DatetimeIndex(['2018-11-19 14:45:00', '2018-11-19 15:45:00',\n",
       "               '2018-11-19 16:45:00', '2018-11-19 17:45:00',\n",
       "               '2018-11-19 18:45:00', '2018-11-19 19:45:00',\n",
       "               '2018-11-19 20:45:00', '2018-11-19 21:45:00',\n",
       "               '2018-11-19 22:45:00', '2018-11-19 23:45:00'],\n",
       "              dtype='datetime64[ns]', freq='H')"
      ]
     },
     "execution_count": 22,
     "metadata": {},
     "output_type": "execute_result"
    }
   ],
=======
   "execution_count": null,
   "metadata": {},
   "outputs": [],
>>>>>>> upstream/master
   "source": [
    "df.index"
   ]
  },
  {
   "cell_type": "code",
<<<<<<< HEAD
   "execution_count": 23,
   "metadata": {},
   "outputs": [
    {
     "data": {
      "text/plain": [
       "Index(['A', 'B', 'C', 'D'], dtype='object')"
      ]
     },
     "execution_count": 23,
     "metadata": {},
     "output_type": "execute_result"
    }
   ],
=======
   "execution_count": null,
   "metadata": {},
   "outputs": [],
>>>>>>> upstream/master
   "source": [
    "df.columns"
   ]
  },
  {
   "cell_type": "code",
<<<<<<< HEAD
   "execution_count": 24,
   "metadata": {},
   "outputs": [
    {
     "data": {
      "text/plain": [
       "array([[-0.00921224, -0.73476415,  0.57589571,  0.24743028],\n",
       "       [-0.58232092, -0.39229944, -0.30258711,  0.67838793],\n",
       "       [ 0.33176329,  0.79962361,  1.2097473 , -0.1350057 ],\n",
       "       [-0.64583979,  1.1569962 , -1.5304597 , -0.74751572],\n",
       "       [ 1.5129444 ,  1.88623584,  1.05672249, -0.25178329],\n",
       "       [ 0.02360022,  0.74466962,  1.0241831 , -2.04710923],\n",
       "       [-0.91584153, -1.27339404,  0.85073242, -0.42401599],\n",
       "       [-1.38201086, -1.0869166 , -0.59482169, -2.02617719],\n",
       "       [-0.69407044,  1.67564278, -0.08499113,  0.02227287],\n",
       "       [-1.74551594,  1.08503113, -0.14675575,  0.41257735]])"
      ]
     },
     "execution_count": 24,
     "metadata": {},
     "output_type": "execute_result"
    }
   ],
=======
   "execution_count": null,
   "metadata": {},
   "outputs": [],
>>>>>>> upstream/master
   "source": [
    "df.values"
   ]
  },
  {
   "cell_type": "code",
<<<<<<< HEAD
   "execution_count": 25,
   "metadata": {},
   "outputs": [
    {
     "data": {
      "text/html": [
       "<div>\n",
       "<style>\n",
       "    .dataframe thead tr:only-child th {\n",
       "        text-align: right;\n",
       "    }\n",
       "\n",
       "    .dataframe thead th {\n",
       "        text-align: left;\n",
       "    }\n",
       "\n",
       "    .dataframe tbody tr th {\n",
       "        vertical-align: top;\n",
       "    }\n",
       "</style>\n",
       "<table border=\"1\" class=\"dataframe\">\n",
       "  <thead>\n",
       "    <tr style=\"text-align: right;\">\n",
       "      <th></th>\n",
       "      <th>A</th>\n",
       "      <th>B</th>\n",
       "      <th>C</th>\n",
       "      <th>D</th>\n",
       "    </tr>\n",
       "  </thead>\n",
       "  <tbody>\n",
       "    <tr>\n",
       "      <th>count</th>\n",
       "      <td>10.000000</td>\n",
       "      <td>10.000000</td>\n",
       "      <td>10.000000</td>\n",
       "      <td>10.000000</td>\n",
       "    </tr>\n",
       "    <tr>\n",
       "      <th>mean</th>\n",
       "      <td>-0.410650</td>\n",
       "      <td>0.386082</td>\n",
       "      <td>0.205767</td>\n",
       "      <td>-0.427094</td>\n",
       "    </tr>\n",
       "    <tr>\n",
       "      <th>std</th>\n",
       "      <td>0.927773</td>\n",
       "      <td>1.158621</td>\n",
       "      <td>0.886788</td>\n",
       "      <td>0.941883</td>\n",
       "    </tr>\n",
       "    <tr>\n",
       "      <th>min</th>\n",
       "      <td>-1.745516</td>\n",
       "      <td>-1.273394</td>\n",
       "      <td>-1.530460</td>\n",
       "      <td>-2.047109</td>\n",
       "    </tr>\n",
       "    <tr>\n",
       "      <th>25%</th>\n",
       "      <td>-0.860399</td>\n",
       "      <td>-0.649148</td>\n",
       "      <td>-0.263629</td>\n",
       "      <td>-0.666641</td>\n",
       "    </tr>\n",
       "    <tr>\n",
       "      <th>50%</th>\n",
       "      <td>-0.614080</td>\n",
       "      <td>0.772147</td>\n",
       "      <td>0.245452</td>\n",
       "      <td>-0.193394</td>\n",
       "    </tr>\n",
       "    <tr>\n",
       "      <th>75%</th>\n",
       "      <td>0.015397</td>\n",
       "      <td>1.139005</td>\n",
       "      <td>0.980820</td>\n",
       "      <td>0.191141</td>\n",
       "    </tr>\n",
       "    <tr>\n",
       "      <th>max</th>\n",
       "      <td>1.512944</td>\n",
       "      <td>1.886236</td>\n",
       "      <td>1.209747</td>\n",
       "      <td>0.678388</td>\n",
       "    </tr>\n",
       "  </tbody>\n",
       "</table>\n",
       "</div>"
      ],
      "text/plain": [
       "               A          B          C          D\n",
       "count  10.000000  10.000000  10.000000  10.000000\n",
       "mean   -0.410650   0.386082   0.205767  -0.427094\n",
       "std     0.927773   1.158621   0.886788   0.941883\n",
       "min    -1.745516  -1.273394  -1.530460  -2.047109\n",
       "25%    -0.860399  -0.649148  -0.263629  -0.666641\n",
       "50%    -0.614080   0.772147   0.245452  -0.193394\n",
       "75%     0.015397   1.139005   0.980820   0.191141\n",
       "max     1.512944   1.886236   1.209747   0.678388"
      ]
     },
     "execution_count": 25,
     "metadata": {},
     "output_type": "execute_result"
    }
   ],
=======
   "execution_count": null,
   "metadata": {},
   "outputs": [],
>>>>>>> upstream/master
   "source": [
    "df.describe()"
   ]
  },
  {
   "cell_type": "code",
<<<<<<< HEAD
   "execution_count": 26,
   "metadata": {},
   "outputs": [
    {
     "data": {
      "text/html": [
       "<div>\n",
       "<style>\n",
       "    .dataframe thead tr:only-child th {\n",
       "        text-align: right;\n",
       "    }\n",
       "\n",
       "    .dataframe thead th {\n",
       "        text-align: left;\n",
       "    }\n",
       "\n",
       "    .dataframe tbody tr th {\n",
       "        vertical-align: top;\n",
       "    }\n",
       "</style>\n",
       "<table border=\"1\" class=\"dataframe\">\n",
       "  <thead>\n",
       "    <tr style=\"text-align: right;\">\n",
       "      <th></th>\n",
       "      <th>2018-11-19 14:45:00</th>\n",
       "      <th>2018-11-19 15:45:00</th>\n",
       "      <th>2018-11-19 16:45:00</th>\n",
       "      <th>2018-11-19 17:45:00</th>\n",
       "      <th>2018-11-19 18:45:00</th>\n",
       "      <th>2018-11-19 19:45:00</th>\n",
       "      <th>2018-11-19 20:45:00</th>\n",
       "      <th>2018-11-19 21:45:00</th>\n",
       "      <th>2018-11-19 22:45:00</th>\n",
       "      <th>2018-11-19 23:45:00</th>\n",
       "    </tr>\n",
       "  </thead>\n",
       "  <tbody>\n",
       "    <tr>\n",
       "      <th>A</th>\n",
       "      <td>-0.009212</td>\n",
       "      <td>-0.582321</td>\n",
       "      <td>0.331763</td>\n",
       "      <td>-0.645840</td>\n",
       "      <td>1.512944</td>\n",
       "      <td>0.023600</td>\n",
       "      <td>-0.915842</td>\n",
       "      <td>-1.382011</td>\n",
       "      <td>-0.694070</td>\n",
       "      <td>-1.745516</td>\n",
       "    </tr>\n",
       "    <tr>\n",
       "      <th>B</th>\n",
       "      <td>-0.734764</td>\n",
       "      <td>-0.392299</td>\n",
       "      <td>0.799624</td>\n",
       "      <td>1.156996</td>\n",
       "      <td>1.886236</td>\n",
       "      <td>0.744670</td>\n",
       "      <td>-1.273394</td>\n",
       "      <td>-1.086917</td>\n",
       "      <td>1.675643</td>\n",
       "      <td>1.085031</td>\n",
       "    </tr>\n",
       "    <tr>\n",
       "      <th>C</th>\n",
       "      <td>0.575896</td>\n",
       "      <td>-0.302587</td>\n",
       "      <td>1.209747</td>\n",
       "      <td>-1.530460</td>\n",
       "      <td>1.056722</td>\n",
       "      <td>1.024183</td>\n",
       "      <td>0.850732</td>\n",
       "      <td>-0.594822</td>\n",
       "      <td>-0.084991</td>\n",
       "      <td>-0.146756</td>\n",
       "    </tr>\n",
       "    <tr>\n",
       "      <th>D</th>\n",
       "      <td>0.247430</td>\n",
       "      <td>0.678388</td>\n",
       "      <td>-0.135006</td>\n",
       "      <td>-0.747516</td>\n",
       "      <td>-0.251783</td>\n",
       "      <td>-2.047109</td>\n",
       "      <td>-0.424016</td>\n",
       "      <td>-2.026177</td>\n",
       "      <td>0.022273</td>\n",
       "      <td>0.412577</td>\n",
       "    </tr>\n",
       "  </tbody>\n",
       "</table>\n",
       "</div>"
      ],
      "text/plain": [
       "   2018-11-19 14:45:00  2018-11-19 15:45:00  2018-11-19 16:45:00  \\\n",
       "A            -0.009212            -0.582321             0.331763   \n",
       "B            -0.734764            -0.392299             0.799624   \n",
       "C             0.575896            -0.302587             1.209747   \n",
       "D             0.247430             0.678388            -0.135006   \n",
       "\n",
       "   2018-11-19 17:45:00  2018-11-19 18:45:00  2018-11-19 19:45:00  \\\n",
       "A            -0.645840             1.512944             0.023600   \n",
       "B             1.156996             1.886236             0.744670   \n",
       "C            -1.530460             1.056722             1.024183   \n",
       "D            -0.747516            -0.251783            -2.047109   \n",
       "\n",
       "   2018-11-19 20:45:00  2018-11-19 21:45:00  2018-11-19 22:45:00  \\\n",
       "A            -0.915842            -1.382011            -0.694070   \n",
       "B            -1.273394            -1.086917             1.675643   \n",
       "C             0.850732            -0.594822            -0.084991   \n",
       "D            -0.424016            -2.026177             0.022273   \n",
       "\n",
       "   2018-11-19 23:45:00  \n",
       "A            -1.745516  \n",
       "B             1.085031  \n",
       "C            -0.146756  \n",
       "D             0.412577  "
      ]
     },
     "execution_count": 26,
     "metadata": {},
     "output_type": "execute_result"
    }
   ],
=======
   "execution_count": null,
   "metadata": {},
   "outputs": [],
>>>>>>> upstream/master
   "source": [
    "df.T"
   ]
  },
  {
   "cell_type": "code",
<<<<<<< HEAD
   "execution_count": 30,
   "metadata": {},
   "outputs": [
    {
     "data": {
      "text/html": [
       "<div>\n",
       "<style>\n",
       "    .dataframe thead tr:only-child th {\n",
       "        text-align: right;\n",
       "    }\n",
       "\n",
       "    .dataframe thead th {\n",
       "        text-align: left;\n",
       "    }\n",
       "\n",
       "    .dataframe tbody tr th {\n",
       "        vertical-align: top;\n",
       "    }\n",
       "</style>\n",
       "<table border=\"1\" class=\"dataframe\">\n",
       "  <thead>\n",
       "    <tr style=\"text-align: right;\">\n",
       "      <th></th>\n",
       "      <th>A</th>\n",
       "      <th>B</th>\n",
       "      <th>C</th>\n",
       "      <th>D</th>\n",
       "    </tr>\n",
       "  </thead>\n",
       "  <tbody>\n",
       "    <tr>\n",
       "      <th>2018-11-19 14:45:00</th>\n",
       "      <td>-0.009212</td>\n",
       "      <td>-0.734764</td>\n",
       "      <td>0.575896</td>\n",
       "      <td>0.247430</td>\n",
       "    </tr>\n",
       "    <tr>\n",
       "      <th>2018-11-19 15:45:00</th>\n",
       "      <td>-0.582321</td>\n",
       "      <td>-0.392299</td>\n",
       "      <td>-0.302587</td>\n",
       "      <td>0.678388</td>\n",
       "    </tr>\n",
       "    <tr>\n",
       "      <th>2018-11-19 16:45:00</th>\n",
       "      <td>0.331763</td>\n",
       "      <td>0.799624</td>\n",
       "      <td>1.209747</td>\n",
       "      <td>-0.135006</td>\n",
       "    </tr>\n",
       "    <tr>\n",
       "      <th>2018-11-19 17:45:00</th>\n",
       "      <td>-0.645840</td>\n",
       "      <td>1.156996</td>\n",
       "      <td>-1.530460</td>\n",
       "      <td>-0.747516</td>\n",
       "    </tr>\n",
       "    <tr>\n",
       "      <th>2018-11-19 18:45:00</th>\n",
       "      <td>1.512944</td>\n",
       "      <td>1.886236</td>\n",
       "      <td>1.056722</td>\n",
       "      <td>-0.251783</td>\n",
       "    </tr>\n",
       "    <tr>\n",
       "      <th>2018-11-19 19:45:00</th>\n",
       "      <td>0.023600</td>\n",
       "      <td>0.744670</td>\n",
       "      <td>1.024183</td>\n",
       "      <td>-2.047109</td>\n",
       "    </tr>\n",
       "    <tr>\n",
       "      <th>2018-11-19 20:45:00</th>\n",
       "      <td>-0.915842</td>\n",
       "      <td>-1.273394</td>\n",
       "      <td>0.850732</td>\n",
       "      <td>-0.424016</td>\n",
       "    </tr>\n",
       "    <tr>\n",
       "      <th>2018-11-19 21:45:00</th>\n",
       "      <td>-1.382011</td>\n",
       "      <td>-1.086917</td>\n",
       "      <td>-0.594822</td>\n",
       "      <td>-2.026177</td>\n",
       "    </tr>\n",
       "    <tr>\n",
       "      <th>2018-11-19 22:45:00</th>\n",
       "      <td>-0.694070</td>\n",
       "      <td>1.675643</td>\n",
       "      <td>-0.084991</td>\n",
       "      <td>0.022273</td>\n",
       "    </tr>\n",
       "    <tr>\n",
       "      <th>2018-11-19 23:45:00</th>\n",
       "      <td>-1.745516</td>\n",
       "      <td>1.085031</td>\n",
       "      <td>-0.146756</td>\n",
       "      <td>0.412577</td>\n",
       "    </tr>\n",
       "  </tbody>\n",
       "</table>\n",
       "</div>"
      ],
      "text/plain": [
       "                            A         B         C         D\n",
       "2018-11-19 14:45:00 -0.009212 -0.734764  0.575896  0.247430\n",
       "2018-11-19 15:45:00 -0.582321 -0.392299 -0.302587  0.678388\n",
       "2018-11-19 16:45:00  0.331763  0.799624  1.209747 -0.135006\n",
       "2018-11-19 17:45:00 -0.645840  1.156996 -1.530460 -0.747516\n",
       "2018-11-19 18:45:00  1.512944  1.886236  1.056722 -0.251783\n",
       "2018-11-19 19:45:00  0.023600  0.744670  1.024183 -2.047109\n",
       "2018-11-19 20:45:00 -0.915842 -1.273394  0.850732 -0.424016\n",
       "2018-11-19 21:45:00 -1.382011 -1.086917 -0.594822 -2.026177\n",
       "2018-11-19 22:45:00 -0.694070  1.675643 -0.084991  0.022273\n",
       "2018-11-19 23:45:00 -1.745516  1.085031 -0.146756  0.412577"
      ]
     },
     "execution_count": 30,
     "metadata": {},
     "output_type": "execute_result"
    }
   ],
   "source": [
    "df.sort_index(axis=0,ascending=True)"
=======
   "execution_count": null,
   "metadata": {},
   "outputs": [],
   "source": [
    "df.sort_index(axis=1,ascending=False)"
>>>>>>> upstream/master
   ]
  },
  {
   "cell_type": "code",
<<<<<<< HEAD
   "execution_count": 31,
   "metadata": {},
   "outputs": [
    {
     "data": {
      "text/html": [
       "<div>\n",
       "<style>\n",
       "    .dataframe thead tr:only-child th {\n",
       "        text-align: right;\n",
       "    }\n",
       "\n",
       "    .dataframe thead th {\n",
       "        text-align: left;\n",
       "    }\n",
       "\n",
       "    .dataframe tbody tr th {\n",
       "        vertical-align: top;\n",
       "    }\n",
       "</style>\n",
       "<table border=\"1\" class=\"dataframe\">\n",
       "  <thead>\n",
       "    <tr style=\"text-align: right;\">\n",
       "      <th></th>\n",
       "      <th>A</th>\n",
       "      <th>B</th>\n",
       "      <th>C</th>\n",
       "      <th>D</th>\n",
       "    </tr>\n",
       "  </thead>\n",
       "  <tbody>\n",
       "    <tr>\n",
       "      <th>2018-11-19 23:45:00</th>\n",
       "      <td>-1.745516</td>\n",
       "      <td>1.085031</td>\n",
       "      <td>-0.146756</td>\n",
       "      <td>0.412577</td>\n",
       "    </tr>\n",
       "    <tr>\n",
       "      <th>2018-11-19 21:45:00</th>\n",
       "      <td>-1.382011</td>\n",
       "      <td>-1.086917</td>\n",
       "      <td>-0.594822</td>\n",
       "      <td>-2.026177</td>\n",
       "    </tr>\n",
       "    <tr>\n",
       "      <th>2018-11-19 20:45:00</th>\n",
       "      <td>-0.915842</td>\n",
       "      <td>-1.273394</td>\n",
       "      <td>0.850732</td>\n",
       "      <td>-0.424016</td>\n",
       "    </tr>\n",
       "    <tr>\n",
       "      <th>2018-11-19 22:45:00</th>\n",
       "      <td>-0.694070</td>\n",
       "      <td>1.675643</td>\n",
       "      <td>-0.084991</td>\n",
       "      <td>0.022273</td>\n",
       "    </tr>\n",
       "    <tr>\n",
       "      <th>2018-11-19 17:45:00</th>\n",
       "      <td>-0.645840</td>\n",
       "      <td>1.156996</td>\n",
       "      <td>-1.530460</td>\n",
       "      <td>-0.747516</td>\n",
       "    </tr>\n",
       "    <tr>\n",
       "      <th>2018-11-19 15:45:00</th>\n",
       "      <td>-0.582321</td>\n",
       "      <td>-0.392299</td>\n",
       "      <td>-0.302587</td>\n",
       "      <td>0.678388</td>\n",
       "    </tr>\n",
       "    <tr>\n",
       "      <th>2018-11-19 14:45:00</th>\n",
       "      <td>-0.009212</td>\n",
       "      <td>-0.734764</td>\n",
       "      <td>0.575896</td>\n",
       "      <td>0.247430</td>\n",
       "    </tr>\n",
       "    <tr>\n",
       "      <th>2018-11-19 19:45:00</th>\n",
       "      <td>0.023600</td>\n",
       "      <td>0.744670</td>\n",
       "      <td>1.024183</td>\n",
       "      <td>-2.047109</td>\n",
       "    </tr>\n",
       "    <tr>\n",
       "      <th>2018-11-19 16:45:00</th>\n",
       "      <td>0.331763</td>\n",
       "      <td>0.799624</td>\n",
       "      <td>1.209747</td>\n",
       "      <td>-0.135006</td>\n",
       "    </tr>\n",
       "    <tr>\n",
       "      <th>2018-11-19 18:45:00</th>\n",
       "      <td>1.512944</td>\n",
       "      <td>1.886236</td>\n",
       "      <td>1.056722</td>\n",
       "      <td>-0.251783</td>\n",
       "    </tr>\n",
       "  </tbody>\n",
       "</table>\n",
       "</div>"
      ],
      "text/plain": [
       "                            A         B         C         D\n",
       "2018-11-19 23:45:00 -1.745516  1.085031 -0.146756  0.412577\n",
       "2018-11-19 21:45:00 -1.382011 -1.086917 -0.594822 -2.026177\n",
       "2018-11-19 20:45:00 -0.915842 -1.273394  0.850732 -0.424016\n",
       "2018-11-19 22:45:00 -0.694070  1.675643 -0.084991  0.022273\n",
       "2018-11-19 17:45:00 -0.645840  1.156996 -1.530460 -0.747516\n",
       "2018-11-19 15:45:00 -0.582321 -0.392299 -0.302587  0.678388\n",
       "2018-11-19 14:45:00 -0.009212 -0.734764  0.575896  0.247430\n",
       "2018-11-19 19:45:00  0.023600  0.744670  1.024183 -2.047109\n",
       "2018-11-19 16:45:00  0.331763  0.799624  1.209747 -0.135006\n",
       "2018-11-19 18:45:00  1.512944  1.886236  1.056722 -0.251783"
      ]
     },
     "execution_count": 31,
     "metadata": {},
     "output_type": "execute_result"
    }
   ],
   "source": [
    "df.sort_values(by=\"A\")"
=======
   "execution_count": null,
   "metadata": {},
   "outputs": [],
   "source": [
    "df.sort_values(by=\"C\")"
>>>>>>> upstream/master
   ]
  },
  {
   "cell_type": "markdown",
   "metadata": {},
   "source": [
    "## Selection\n",
    "\n",
    "### Getting slices\n",
    "\n",
    "The following show how to get part of the DataFrame (i.e. not just the elements)"
   ]
  },
  {
   "cell_type": "code",
<<<<<<< HEAD
   "execution_count": 32,
   "metadata": {},
   "outputs": [
    {
     "name": "stdout",
     "output_type": "stream",
     "text": [
      "2018-11-19 14:45:00   -0.009212\n",
      "2018-11-19 15:45:00   -0.582321\n",
      "2018-11-19 16:45:00    0.331763\n",
      "2018-11-19 17:45:00   -0.645840\n",
      "2018-11-19 18:45:00    1.512944\n",
      "2018-11-19 19:45:00    0.023600\n",
      "2018-11-19 20:45:00   -0.915842\n",
      "2018-11-19 21:45:00   -1.382011\n",
      "2018-11-19 22:45:00   -0.694070\n",
      "2018-11-19 23:45:00   -1.745516\n",
      "Freq: H, Name: A, dtype: float64 \n",
      "\n",
      "2018-11-19 14:45:00   -0.009212\n",
      "2018-11-19 15:45:00   -0.582321\n",
      "2018-11-19 16:45:00    0.331763\n",
      "2018-11-19 17:45:00   -0.645840\n",
      "2018-11-19 18:45:00    1.512944\n",
      "2018-11-19 19:45:00    0.023600\n",
      "2018-11-19 20:45:00   -0.915842\n",
      "2018-11-19 21:45:00   -1.382011\n",
      "2018-11-19 22:45:00   -0.694070\n",
      "2018-11-19 23:45:00   -1.745516\n",
      "Freq: H, Name: A, dtype: float64\n"
     ]
    }
   ],
=======
   "execution_count": null,
   "metadata": {},
   "outputs": [],
>>>>>>> upstream/master
   "source": [
    "## standard and safe\n",
    "print (df['A'],'\\n')\n",
    "\n",
    "## equivalent but dangerous (imagine blank spaces in the name of the column..)\n",
    "print (df.A)"
   ]
  },
  {
   "cell_type": "code",
<<<<<<< HEAD
   "execution_count": 33,
   "metadata": {},
   "outputs": [
    {
     "name": "stdout",
     "output_type": "stream",
     "text": [
      "                            A         B         C         D\n",
      "2018-11-19 14:45:00 -0.009212 -0.734764  0.575896  0.247430\n",
      "2018-11-19 15:45:00 -0.582321 -0.392299 -0.302587  0.678388\n",
      "2018-11-19 16:45:00  0.331763  0.799624  1.209747 -0.135006\n",
      "                            A         B         C         D\n",
      "2018-11-19 14:45:00 -0.009212 -0.734764  0.575896  0.247430\n",
      "2018-11-19 15:45:00 -0.582321 -0.392299 -0.302587  0.678388\n",
      "2018-11-19 16:45:00  0.331763  0.799624  1.209747 -0.135006\n"
     ]
    }
   ],
=======
   "execution_count": null,
   "metadata": {},
   "outputs": [],
>>>>>>> upstream/master
   "source": [
    "# selecting rows by counting\n",
    "print (df[0:3])\n",
    "\n",
    "# or by index\n",
    "print (df[\"2018-11-19 14:45:00\":\"2018-11-19 16:45:00\"])"
   ]
  },
  {
   "cell_type": "markdown",
   "metadata": {},
   "source": [
    "### Selection by label"
   ]
  },
  {
   "cell_type": "code",
<<<<<<< HEAD
   "execution_count": 36,
   "metadata": {},
   "outputs": [
    {
     "data": {
      "text/plain": [
       "A   -0.009212\n",
       "B   -0.734764\n",
       "C    0.575896\n",
       "D    0.247430\n",
       "Name: 2018-11-19 14:45:00, dtype: float64"
      ]
     },
     "execution_count": 36,
     "metadata": {},
     "output_type": "execute_result"
    }
   ],
   "source": [
    "# getting a cross section (part of the DataFrame) using a label\n",
    "df.loc[dates[0]]"
=======
   "execution_count": null,
   "metadata": {},
   "outputs": [],
   "source": [
    "# getting a cross section (part of the DataFrame) using a label\n",
    "df.loc[dates[0])"
>>>>>>> upstream/master
   ]
  },
  {
   "cell_type": "code",
<<<<<<< HEAD
   "execution_count": 37,
   "metadata": {},
   "outputs": [
    {
     "data": {
      "text/html": [
       "<div>\n",
       "<style>\n",
       "    .dataframe thead tr:only-child th {\n",
       "        text-align: right;\n",
       "    }\n",
       "\n",
       "    .dataframe thead th {\n",
       "        text-align: left;\n",
       "    }\n",
       "\n",
       "    .dataframe tbody tr th {\n",
       "        vertical-align: top;\n",
       "    }\n",
       "</style>\n",
       "<table border=\"1\" class=\"dataframe\">\n",
       "  <thead>\n",
       "    <tr style=\"text-align: right;\">\n",
       "      <th></th>\n",
       "      <th>A</th>\n",
       "      <th>B</th>\n",
       "    </tr>\n",
       "  </thead>\n",
       "  <tbody>\n",
       "    <tr>\n",
       "      <th>2018-11-19 14:45:00</th>\n",
       "      <td>-0.009212</td>\n",
       "      <td>-0.734764</td>\n",
       "    </tr>\n",
       "    <tr>\n",
       "      <th>2018-11-19 15:45:00</th>\n",
       "      <td>-0.582321</td>\n",
       "      <td>-0.392299</td>\n",
       "    </tr>\n",
       "    <tr>\n",
       "      <th>2018-11-19 16:45:00</th>\n",
       "      <td>0.331763</td>\n",
       "      <td>0.799624</td>\n",
       "    </tr>\n",
       "    <tr>\n",
       "      <th>2018-11-19 17:45:00</th>\n",
       "      <td>-0.645840</td>\n",
       "      <td>1.156996</td>\n",
       "    </tr>\n",
       "    <tr>\n",
       "      <th>2018-11-19 18:45:00</th>\n",
       "      <td>1.512944</td>\n",
       "      <td>1.886236</td>\n",
       "    </tr>\n",
       "    <tr>\n",
       "      <th>2018-11-19 19:45:00</th>\n",
       "      <td>0.023600</td>\n",
       "      <td>0.744670</td>\n",
       "    </tr>\n",
       "    <tr>\n",
       "      <th>2018-11-19 20:45:00</th>\n",
       "      <td>-0.915842</td>\n",
       "      <td>-1.273394</td>\n",
       "    </tr>\n",
       "    <tr>\n",
       "      <th>2018-11-19 21:45:00</th>\n",
       "      <td>-1.382011</td>\n",
       "      <td>-1.086917</td>\n",
       "    </tr>\n",
       "    <tr>\n",
       "      <th>2018-11-19 22:45:00</th>\n",
       "      <td>-0.694070</td>\n",
       "      <td>1.675643</td>\n",
       "    </tr>\n",
       "    <tr>\n",
       "      <th>2018-11-19 23:45:00</th>\n",
       "      <td>-1.745516</td>\n",
       "      <td>1.085031</td>\n",
       "    </tr>\n",
       "  </tbody>\n",
       "</table>\n",
       "</div>"
      ],
      "text/plain": [
       "                            A         B\n",
       "2018-11-19 14:45:00 -0.009212 -0.734764\n",
       "2018-11-19 15:45:00 -0.582321 -0.392299\n",
       "2018-11-19 16:45:00  0.331763  0.799624\n",
       "2018-11-19 17:45:00 -0.645840  1.156996\n",
       "2018-11-19 18:45:00  1.512944  1.886236\n",
       "2018-11-19 19:45:00  0.023600  0.744670\n",
       "2018-11-19 20:45:00 -0.915842 -1.273394\n",
       "2018-11-19 21:45:00 -1.382011 -1.086917\n",
       "2018-11-19 22:45:00 -0.694070  1.675643\n",
       "2018-11-19 23:45:00 -1.745516  1.085031"
      ]
     },
     "execution_count": 37,
     "metadata": {},
     "output_type": "execute_result"
    }
   ],
=======
   "execution_count": null,
   "metadata": {},
   "outputs": [],
>>>>>>> upstream/master
   "source": [
    "# selecting on a multi-axis by label:\n",
    "df.loc[:,['A','B']]"
   ]
  },
  {
   "cell_type": "code",
<<<<<<< HEAD
   "execution_count": 40,
   "metadata": {},
   "outputs": [
    {
     "data": {
      "text/html": [
       "<div>\n",
       "<style>\n",
       "    .dataframe thead tr:only-child th {\n",
       "        text-align: right;\n",
       "    }\n",
       "\n",
       "    .dataframe thead th {\n",
       "        text-align: left;\n",
       "    }\n",
       "\n",
       "    .dataframe tbody tr th {\n",
       "        vertical-align: top;\n",
       "    }\n",
       "</style>\n",
       "<table border=\"1\" class=\"dataframe\">\n",
       "  <thead>\n",
       "    <tr style=\"text-align: right;\">\n",
       "      <th></th>\n",
       "      <th>A</th>\n",
       "      <th>B</th>\n",
       "    </tr>\n",
       "  </thead>\n",
       "  <tbody>\n",
       "    <tr>\n",
       "      <th>2018-11-19 18:45:00</th>\n",
       "      <td>1.512944</td>\n",
       "      <td>1.886236</td>\n",
       "    </tr>\n",
       "    <tr>\n",
       "      <th>2018-11-19 19:45:00</th>\n",
       "      <td>0.023600</td>\n",
       "      <td>0.744670</td>\n",
       "    </tr>\n",
       "    <tr>\n",
       "      <th>2018-11-19 20:45:00</th>\n",
       "      <td>-0.915842</td>\n",
       "      <td>-1.273394</td>\n",
       "    </tr>\n",
       "  </tbody>\n",
       "</table>\n",
       "</div>"
      ],
      "text/plain": [
       "                            A         B\n",
       "2018-11-19 18:45:00  1.512944  1.886236\n",
       "2018-11-19 19:45:00  0.023600  0.744670\n",
       "2018-11-19 20:45:00 -0.915842 -1.273394"
      ]
     },
     "execution_count": 40,
     "metadata": {},
     "output_type": "execute_result"
    }
   ],
=======
   "execution_count": null,
   "metadata": {},
   "outputs": [],
>>>>>>> upstream/master
   "source": [
    "# showing label slicing, both endpoints are included:\n",
    "df.loc['2018-11-19 18:45:00':'2018-11-19 20:45:00',['A','B']]"
   ]
  },
  {
   "cell_type": "code",
<<<<<<< HEAD
   "execution_count": 39,
   "metadata": {},
   "outputs": [
    {
     "name": "stdout",
     "output_type": "stream",
     "text": [
      "-0.582320916709\n",
      "-0.582320916709\n"
     ]
    }
   ],
=======
   "execution_count": null,
   "metadata": {},
   "outputs": [],
>>>>>>> upstream/master
   "source": [
    "# getting an individual element\n",
    "print (df.loc[dates[1],'A'])\n",
    "\n",
    "# equivalently\n",
    "print (df.at[dates[1],'A'])"
   ]
  },
  {
   "cell_type": "markdown",
   "metadata": {},
   "source": [
    "### Selecting by position"
   ]
  },
  {
   "cell_type": "code",
<<<<<<< HEAD
   "execution_count": 41,
   "metadata": {},
   "outputs": [
    {
     "name": "stdout",
     "output_type": "stream",
     "text": [
      "A   -0.645840\n",
      "B    1.156996\n",
      "C   -1.530460\n",
      "D   -0.747516\n",
      "Name: 2018-11-19 17:45:00, dtype: float64 \n",
      "\n",
      "                            A         B\n",
      "2018-11-19 17:45:00 -0.645840  1.156996\n",
      "2018-11-19 18:45:00  1.512944  1.886236\n"
     ]
    }
   ],
=======
   "execution_count": null,
   "metadata": {},
   "outputs": [],
>>>>>>> upstream/master
   "source": [
    "# select via the position of the passed integers:\n",
    "print (df.iloc[3],'\\n')\n",
    "\n",
    "# notation similar to numpy/python\n",
    "print (df.iloc[3:5,0:2])"
   ]
  },
  {
   "cell_type": "code",
   "execution_count": null,
<<<<<<< HEAD
   "metadata": {
    "collapsed": true
   },
=======
   "metadata": {},
>>>>>>> upstream/master
   "outputs": [],
   "source": [
    "# selecting raws 1,2 and 4 for columns 0 and 2\n",
    "df.iloc[[1,2,4],[0,2]]"
   ]
  },
  {
   "cell_type": "code",
   "execution_count": null,
<<<<<<< HEAD
   "metadata": {
    "collapsed": true
   },
=======
   "metadata": {},
>>>>>>> upstream/master
   "outputs": [],
   "source": [
    "# slicing rows explicitly\n",
    "print (df.iloc[1:3,:],'\\n')\n",
    "\n",
    "# slicing columns explicitly\n",
    "print (df.iloc[:,1:3])\n"
   ]
  },
  {
   "cell_type": "code",
   "execution_count": null,
<<<<<<< HEAD
   "metadata": {
    "collapsed": true
   },
=======
   "metadata": {},
>>>>>>> upstream/master
   "outputs": [],
   "source": [
    "# selecting an individual element by position\n",
    "df.iloc[1,1]\n",
    "df.iat[1,1]\n"
   ]
  },
  {
   "cell_type": "markdown",
   "metadata": {},
   "source": [
    "### Boolean index\n",
    "\n",
    "Very powerful way of filtering out data with certain features. Notation is very similar to numpy arrays."
   ]
  },
  {
   "cell_type": "code",
   "execution_count": null,
<<<<<<< HEAD
   "metadata": {
    "collapsed": true
   },
=======
   "metadata": {},
>>>>>>> upstream/master
   "outputs": [],
   "source": [
    "# Filter by a boolean condition on the values of a single column\n",
    "df[df['B'] > 0]"
   ]
  },
  {
   "cell_type": "code",
<<<<<<< HEAD
   "execution_count": 42,
   "metadata": {},
   "outputs": [
    {
     "data": {
      "text/html": [
       "<div>\n",
       "<style>\n",
       "    .dataframe thead tr:only-child th {\n",
       "        text-align: right;\n",
       "    }\n",
       "\n",
       "    .dataframe thead th {\n",
       "        text-align: left;\n",
       "    }\n",
       "\n",
       "    .dataframe tbody tr th {\n",
       "        vertical-align: top;\n",
       "    }\n",
       "</style>\n",
       "<table border=\"1\" class=\"dataframe\">\n",
       "  <thead>\n",
       "    <tr style=\"text-align: right;\">\n",
       "      <th></th>\n",
       "      <th>A</th>\n",
       "      <th>B</th>\n",
       "      <th>C</th>\n",
       "      <th>D</th>\n",
       "    </tr>\n",
       "  </thead>\n",
       "  <tbody>\n",
       "    <tr>\n",
       "      <th>2018-11-19 14:45:00</th>\n",
       "      <td>NaN</td>\n",
       "      <td>NaN</td>\n",
       "      <td>0.575896</td>\n",
       "      <td>0.247430</td>\n",
       "    </tr>\n",
       "    <tr>\n",
       "      <th>2018-11-19 15:45:00</th>\n",
       "      <td>NaN</td>\n",
       "      <td>NaN</td>\n",
       "      <td>NaN</td>\n",
       "      <td>0.678388</td>\n",
       "    </tr>\n",
       "    <tr>\n",
       "      <th>2018-11-19 16:45:00</th>\n",
       "      <td>0.331763</td>\n",
       "      <td>0.799624</td>\n",
       "      <td>1.209747</td>\n",
       "      <td>NaN</td>\n",
       "    </tr>\n",
       "    <tr>\n",
       "      <th>2018-11-19 17:45:00</th>\n",
       "      <td>NaN</td>\n",
       "      <td>1.156996</td>\n",
       "      <td>NaN</td>\n",
       "      <td>NaN</td>\n",
       "    </tr>\n",
       "    <tr>\n",
       "      <th>2018-11-19 18:45:00</th>\n",
       "      <td>1.512944</td>\n",
       "      <td>1.886236</td>\n",
       "      <td>1.056722</td>\n",
       "      <td>NaN</td>\n",
       "    </tr>\n",
       "    <tr>\n",
       "      <th>2018-11-19 19:45:00</th>\n",
       "      <td>0.023600</td>\n",
       "      <td>0.744670</td>\n",
       "      <td>1.024183</td>\n",
       "      <td>NaN</td>\n",
       "    </tr>\n",
       "    <tr>\n",
       "      <th>2018-11-19 20:45:00</th>\n",
       "      <td>NaN</td>\n",
       "      <td>NaN</td>\n",
       "      <td>0.850732</td>\n",
       "      <td>NaN</td>\n",
       "    </tr>\n",
       "    <tr>\n",
       "      <th>2018-11-19 21:45:00</th>\n",
       "      <td>NaN</td>\n",
       "      <td>NaN</td>\n",
       "      <td>NaN</td>\n",
       "      <td>NaN</td>\n",
       "    </tr>\n",
       "    <tr>\n",
       "      <th>2018-11-19 22:45:00</th>\n",
       "      <td>NaN</td>\n",
       "      <td>1.675643</td>\n",
       "      <td>NaN</td>\n",
       "      <td>0.022273</td>\n",
       "    </tr>\n",
       "    <tr>\n",
       "      <th>2018-11-19 23:45:00</th>\n",
       "      <td>NaN</td>\n",
       "      <td>1.085031</td>\n",
       "      <td>NaN</td>\n",
       "      <td>0.412577</td>\n",
       "    </tr>\n",
       "  </tbody>\n",
       "</table>\n",
       "</div>"
      ],
      "text/plain": [
       "                            A         B         C         D\n",
       "2018-11-19 14:45:00       NaN       NaN  0.575896  0.247430\n",
       "2018-11-19 15:45:00       NaN       NaN       NaN  0.678388\n",
       "2018-11-19 16:45:00  0.331763  0.799624  1.209747       NaN\n",
       "2018-11-19 17:45:00       NaN  1.156996       NaN       NaN\n",
       "2018-11-19 18:45:00  1.512944  1.886236  1.056722       NaN\n",
       "2018-11-19 19:45:00  0.023600  0.744670  1.024183       NaN\n",
       "2018-11-19 20:45:00       NaN       NaN  0.850732       NaN\n",
       "2018-11-19 21:45:00       NaN       NaN       NaN       NaN\n",
       "2018-11-19 22:45:00       NaN  1.675643       NaN  0.022273\n",
       "2018-11-19 23:45:00       NaN  1.085031       NaN  0.412577"
      ]
     },
     "execution_count": 42,
     "metadata": {},
     "output_type": "execute_result"
    }
   ],
=======
   "execution_count": null,
   "metadata": {},
   "outputs": [],
>>>>>>> upstream/master
   "source": [
    "# Selecting on the basis of boolean conditions applied to the whole DataFrame\n",
    "df[df>0]\n",
    "\n",
    "# a DataFrame with the same shape is returned, with NaN's where condition is not met"
   ]
  },
  {
   "cell_type": "markdown",
   "metadata": {},
   "source": [
    "### Setting\n",
    "\n",
    "Combination of selection and setting of values"
   ]
  },
  {
   "cell_type": "code",
<<<<<<< HEAD
   "execution_count": 43,
   "metadata": {
    "collapsed": true
   },
=======
   "execution_count": null,
   "metadata": {},
>>>>>>> upstream/master
   "outputs": [],
   "source": [
    "# setting values by label (same as by position)\n",
    "df.at[dates[0],'A'] = 0\n",
    "\n",
    "# setting and assigning a numpy array\n",
    "df.loc[:,'D'] = np.array([5] * len(df))\n",
    "\n",
    "# defining a brend new column\n",
    "df['E'] = np.arange(len(df))*0.5\n",
    "\n",
    "# defining a brend new column by means of a pd.Series: indexes must be the same!\n",
    "df['E prime'] = pd.Series(np.arange(len(df))*2, index=df.index)\n"
   ]
  },
  {
   "cell_type": "code",
<<<<<<< HEAD
   "execution_count": 44,
   "metadata": {},
   "outputs": [
    {
     "data": {
      "text/html": [
       "<div>\n",
       "<style>\n",
       "    .dataframe thead tr:only-child th {\n",
       "        text-align: right;\n",
       "    }\n",
       "\n",
       "    .dataframe thead th {\n",
       "        text-align: left;\n",
       "    }\n",
       "\n",
       "    .dataframe tbody tr th {\n",
       "        vertical-align: top;\n",
       "    }\n",
       "</style>\n",
       "<table border=\"1\" class=\"dataframe\">\n",
       "  <thead>\n",
       "    <tr style=\"text-align: right;\">\n",
       "      <th></th>\n",
       "      <th>A</th>\n",
       "      <th>B</th>\n",
       "      <th>C</th>\n",
       "      <th>D</th>\n",
       "      <th>E</th>\n",
       "      <th>E prime</th>\n",
       "      <th>cosine</th>\n",
       "    </tr>\n",
       "  </thead>\n",
       "  <tbody>\n",
       "    <tr>\n",
       "      <th>2018-11-19 14:45:00</th>\n",
       "      <td>0.000000</td>\n",
       "      <td>-0.734764</td>\n",
       "      <td>0.575896</td>\n",
       "      <td>5</td>\n",
       "      <td>0.0</td>\n",
       "      <td>0</td>\n",
       "      <td>1.000000</td>\n",
       "    </tr>\n",
       "    <tr>\n",
       "      <th>2018-11-19 15:45:00</th>\n",
       "      <td>-0.582321</td>\n",
       "      <td>-0.392299</td>\n",
       "      <td>-0.302587</td>\n",
       "      <td>5</td>\n",
       "      <td>0.5</td>\n",
       "      <td>2</td>\n",
       "      <td>0.999962</td>\n",
       "    </tr>\n",
       "    <tr>\n",
       "      <th>2018-11-19 16:45:00</th>\n",
       "      <td>0.331763</td>\n",
       "      <td>0.799624</td>\n",
       "      <td>1.209747</td>\n",
       "      <td>5</td>\n",
       "      <td>1.0</td>\n",
       "      <td>4</td>\n",
       "      <td>0.999848</td>\n",
       "    </tr>\n",
       "    <tr>\n",
       "      <th>2018-11-19 17:45:00</th>\n",
       "      <td>-0.645840</td>\n",
       "      <td>1.156996</td>\n",
       "      <td>-1.530460</td>\n",
       "      <td>5</td>\n",
       "      <td>1.5</td>\n",
       "      <td>6</td>\n",
       "      <td>0.999657</td>\n",
       "    </tr>\n",
       "    <tr>\n",
       "      <th>2018-11-19 18:45:00</th>\n",
       "      <td>1.512944</td>\n",
       "      <td>1.886236</td>\n",
       "      <td>1.056722</td>\n",
       "      <td>5</td>\n",
       "      <td>2.0</td>\n",
       "      <td>8</td>\n",
       "      <td>0.999391</td>\n",
       "    </tr>\n",
       "    <tr>\n",
       "      <th>2018-11-19 19:45:00</th>\n",
       "      <td>0.023600</td>\n",
       "      <td>0.744670</td>\n",
       "      <td>1.024183</td>\n",
       "      <td>5</td>\n",
       "      <td>2.5</td>\n",
       "      <td>10</td>\n",
       "      <td>0.999048</td>\n",
       "    </tr>\n",
       "    <tr>\n",
       "      <th>2018-11-19 20:45:00</th>\n",
       "      <td>-0.915842</td>\n",
       "      <td>-1.273394</td>\n",
       "      <td>0.850732</td>\n",
       "      <td>5</td>\n",
       "      <td>3.0</td>\n",
       "      <td>12</td>\n",
       "      <td>0.998630</td>\n",
       "    </tr>\n",
       "    <tr>\n",
       "      <th>2018-11-19 21:45:00</th>\n",
       "      <td>-1.382011</td>\n",
       "      <td>-1.086917</td>\n",
       "      <td>-0.594822</td>\n",
       "      <td>5</td>\n",
       "      <td>3.5</td>\n",
       "      <td>14</td>\n",
       "      <td>0.998135</td>\n",
       "    </tr>\n",
       "    <tr>\n",
       "      <th>2018-11-19 22:45:00</th>\n",
       "      <td>-0.694070</td>\n",
       "      <td>1.675643</td>\n",
       "      <td>-0.084991</td>\n",
       "      <td>5</td>\n",
       "      <td>4.0</td>\n",
       "      <td>16</td>\n",
       "      <td>0.997564</td>\n",
       "    </tr>\n",
       "    <tr>\n",
       "      <th>2018-11-19 23:45:00</th>\n",
       "      <td>-1.745516</td>\n",
       "      <td>1.085031</td>\n",
       "      <td>-0.146756</td>\n",
       "      <td>5</td>\n",
       "      <td>4.5</td>\n",
       "      <td>18</td>\n",
       "      <td>0.996917</td>\n",
       "    </tr>\n",
       "  </tbody>\n",
       "</table>\n",
       "</div>"
      ],
      "text/plain": [
       "                            A         B         C  D    E  E prime    cosine\n",
       "2018-11-19 14:45:00  0.000000 -0.734764  0.575896  5  0.0        0  1.000000\n",
       "2018-11-19 15:45:00 -0.582321 -0.392299 -0.302587  5  0.5        2  0.999962\n",
       "2018-11-19 16:45:00  0.331763  0.799624  1.209747  5  1.0        4  0.999848\n",
       "2018-11-19 17:45:00 -0.645840  1.156996 -1.530460  5  1.5        6  0.999657\n",
       "2018-11-19 18:45:00  1.512944  1.886236  1.056722  5  2.0        8  0.999391\n",
       "2018-11-19 19:45:00  0.023600  0.744670  1.024183  5  2.5       10  0.999048\n",
       "2018-11-19 20:45:00 -0.915842 -1.273394  0.850732  5  3.0       12  0.998630\n",
       "2018-11-19 21:45:00 -1.382011 -1.086917 -0.594822  5  3.5       14  0.998135\n",
       "2018-11-19 22:45:00 -0.694070  1.675643 -0.084991  5  4.0       16  0.997564\n",
       "2018-11-19 23:45:00 -1.745516  1.085031 -0.146756  5  4.5       18  0.996917"
      ]
     },
     "execution_count": 44,
     "metadata": {},
     "output_type": "execute_result"
    }
   ],
=======
   "execution_count": null,
   "metadata": {},
   "outputs": [],
>>>>>>> upstream/master
   "source": [
    "def dcos(theta):\n",
    "    theta = theta*(np.pi/180)\n",
    "    return np.cos(theta)\n",
    " \n",
    "df['cosine'] = pd.Series(df[\"E\"].apply(dcos), index=df.index)\n",
    "df"
   ]
  },
  {
   "cell_type": "code",
<<<<<<< HEAD
   "execution_count": 46,
   "metadata": {},
   "outputs": [
    {
     "data": {
      "text/html": [
       "<div>\n",
       "<style>\n",
       "    .dataframe thead tr:only-child th {\n",
       "        text-align: right;\n",
       "    }\n",
       "\n",
       "    .dataframe thead th {\n",
       "        text-align: left;\n",
       "    }\n",
       "\n",
       "    .dataframe tbody tr th {\n",
       "        vertical-align: top;\n",
       "    }\n",
       "</style>\n",
       "<table border=\"1\" class=\"dataframe\">\n",
       "  <thead>\n",
       "    <tr style=\"text-align: right;\">\n",
       "      <th></th>\n",
       "      <th>A</th>\n",
       "      <th>B</th>\n",
       "      <th>C</th>\n",
       "      <th>D</th>\n",
       "      <th>E</th>\n",
       "      <th>E prime</th>\n",
       "      <th>cosine</th>\n",
       "    </tr>\n",
       "  </thead>\n",
       "  <tbody>\n",
       "    <tr>\n",
       "      <th>2018-11-19 14:45:00</th>\n",
       "      <td>0.000000</td>\n",
       "      <td>-0.734764</td>\n",
       "      <td>-0.575896</td>\n",
       "      <td>-5</td>\n",
       "      <td>0.0</td>\n",
       "      <td>0</td>\n",
       "      <td>-1.000000</td>\n",
       "    </tr>\n",
       "    <tr>\n",
       "      <th>2018-11-19 15:45:00</th>\n",
       "      <td>-0.582321</td>\n",
       "      <td>-0.392299</td>\n",
       "      <td>-0.302587</td>\n",
       "      <td>-5</td>\n",
       "      <td>-0.5</td>\n",
       "      <td>-2</td>\n",
       "      <td>-0.999962</td>\n",
       "    </tr>\n",
       "    <tr>\n",
       "      <th>2018-11-19 16:45:00</th>\n",
       "      <td>-0.331763</td>\n",
       "      <td>-0.799624</td>\n",
       "      <td>-1.209747</td>\n",
       "      <td>-5</td>\n",
       "      <td>-1.0</td>\n",
       "      <td>-4</td>\n",
       "      <td>-0.999848</td>\n",
       "    </tr>\n",
       "    <tr>\n",
       "      <th>2018-11-19 17:45:00</th>\n",
       "      <td>-0.645840</td>\n",
       "      <td>-1.156996</td>\n",
       "      <td>-1.530460</td>\n",
       "      <td>-5</td>\n",
       "      <td>-1.5</td>\n",
       "      <td>-6</td>\n",
       "      <td>-0.999657</td>\n",
       "    </tr>\n",
       "    <tr>\n",
       "      <th>2018-11-19 18:45:00</th>\n",
       "      <td>-1.512944</td>\n",
       "      <td>-1.886236</td>\n",
       "      <td>-1.056722</td>\n",
       "      <td>-5</td>\n",
       "      <td>-2.0</td>\n",
       "      <td>-8</td>\n",
       "      <td>-0.999391</td>\n",
       "    </tr>\n",
       "    <tr>\n",
       "      <th>2018-11-19 19:45:00</th>\n",
       "      <td>-0.023600</td>\n",
       "      <td>-0.744670</td>\n",
       "      <td>-1.024183</td>\n",
       "      <td>-5</td>\n",
       "      <td>-2.5</td>\n",
       "      <td>-10</td>\n",
       "      <td>-0.999048</td>\n",
       "    </tr>\n",
       "    <tr>\n",
       "      <th>2018-11-19 20:45:00</th>\n",
       "      <td>-0.915842</td>\n",
       "      <td>-1.273394</td>\n",
       "      <td>-0.850732</td>\n",
       "      <td>-5</td>\n",
       "      <td>-3.0</td>\n",
       "      <td>-12</td>\n",
       "      <td>-0.998630</td>\n",
       "    </tr>\n",
       "    <tr>\n",
       "      <th>2018-11-19 21:45:00</th>\n",
       "      <td>-1.382011</td>\n",
       "      <td>-1.086917</td>\n",
       "      <td>-0.594822</td>\n",
       "      <td>-5</td>\n",
       "      <td>-3.5</td>\n",
       "      <td>-14</td>\n",
       "      <td>-0.998135</td>\n",
       "    </tr>\n",
       "    <tr>\n",
       "      <th>2018-11-19 22:45:00</th>\n",
       "      <td>-0.694070</td>\n",
       "      <td>-1.675643</td>\n",
       "      <td>-0.084991</td>\n",
       "      <td>-5</td>\n",
       "      <td>-4.0</td>\n",
       "      <td>-16</td>\n",
       "      <td>-0.997564</td>\n",
       "    </tr>\n",
       "    <tr>\n",
       "      <th>2018-11-19 23:45:00</th>\n",
       "      <td>-1.745516</td>\n",
       "      <td>-1.085031</td>\n",
       "      <td>-0.146756</td>\n",
       "      <td>-5</td>\n",
       "      <td>-4.5</td>\n",
       "      <td>-18</td>\n",
       "      <td>-0.996917</td>\n",
       "    </tr>\n",
       "  </tbody>\n",
       "</table>\n",
       "</div>"
      ],
      "text/plain": [
       "                            A         B         C  D    E  E prime    cosine\n",
       "2018-11-19 14:45:00  0.000000 -0.734764 -0.575896 -5  0.0        0 -1.000000\n",
       "2018-11-19 15:45:00 -0.582321 -0.392299 -0.302587 -5 -0.5       -2 -0.999962\n",
       "2018-11-19 16:45:00 -0.331763 -0.799624 -1.209747 -5 -1.0       -4 -0.999848\n",
       "2018-11-19 17:45:00 -0.645840 -1.156996 -1.530460 -5 -1.5       -6 -0.999657\n",
       "2018-11-19 18:45:00 -1.512944 -1.886236 -1.056722 -5 -2.0       -8 -0.999391\n",
       "2018-11-19 19:45:00 -0.023600 -0.744670 -1.024183 -5 -2.5      -10 -0.999048\n",
       "2018-11-19 20:45:00 -0.915842 -1.273394 -0.850732 -5 -3.0      -12 -0.998630\n",
       "2018-11-19 21:45:00 -1.382011 -1.086917 -0.594822 -5 -3.5      -14 -0.998135\n",
       "2018-11-19 22:45:00 -0.694070 -1.675643 -0.084991 -5 -4.0      -16 -0.997564\n",
       "2018-11-19 23:45:00 -1.745516 -1.085031 -0.146756 -5 -4.5      -18 -0.996917"
      ]
     },
     "execution_count": 46,
     "metadata": {},
     "output_type": "execute_result"
    }
   ],
=======
   "execution_count": null,
   "metadata": {},
   "outputs": [],
>>>>>>> upstream/master
   "source": [
    "# another example of global setting\n",
    "df2=df.copy()\n",
    "df2[df2>0] = -df2\n",
    "df2"
   ]
  },
  {
   "cell_type": "markdown",
   "metadata": {},
   "source": [
    "### Dropping\n",
    "\n",
    "N.B.: dropping doesn't act permanently on the DataFrame, i.e. to get that do :\n",
    "```python\n",
    "df = df.drop(....)\n",
    "```"
   ]
  },
  {
   "cell_type": "code",
<<<<<<< HEAD
   "execution_count": 47,
   "metadata": {},
   "outputs": [
    {
     "ename": "TypeError",
     "evalue": "drop() got an unexpected keyword argument 'columns'",
     "output_type": "error",
     "traceback": [
      "\u001b[0;31m---------------------------------------------------------------------------\u001b[0m",
      "\u001b[0;31mTypeError\u001b[0m                                 Traceback (most recent call last)",
      "\u001b[0;32m<ipython-input-47-466fa7ae0f8a>\u001b[0m in \u001b[0;36m<module>\u001b[0;34m()\u001b[0m\n\u001b[1;32m      3\u001b[0m \u001b[0;34m\u001b[0m\u001b[0m\n\u001b[1;32m      4\u001b[0m \u001b[0;31m#which is equivalent to\u001b[0m\u001b[0;34m\u001b[0m\u001b[0;34m\u001b[0m\u001b[0m\n\u001b[0;32m----> 5\u001b[0;31m \u001b[0mdf\u001b[0m\u001b[0;34m.\u001b[0m\u001b[0mdrop\u001b[0m\u001b[0;34m(\u001b[0m\u001b[0mcolumns\u001b[0m\u001b[0;34m=\u001b[0m\u001b[0;34m[\u001b[0m\u001b[0;34m'E prime'\u001b[0m\u001b[0;34m]\u001b[0m\u001b[0;34m)\u001b[0m\u001b[0;34m\u001b[0m\u001b[0m\n\u001b[0m",
      "\u001b[0;31mTypeError\u001b[0m: drop() got an unexpected keyword argument 'columns'"
     ]
    }
   ],
=======
   "execution_count": null,
   "metadata": {},
   "outputs": [],
>>>>>>> upstream/master
   "source": [
    "# Dropping by column\n",
    "df.drop(['E prime'], axis=1)\n",
    "\n",
    "#which is equivalent to\n",
    "df.drop(columns=['E prime'])"
   ]
  },
  {
   "cell_type": "code",
<<<<<<< HEAD
   "execution_count": 48,
   "metadata": {},
   "outputs": [
    {
     "data": {
      "text/html": [
       "<div>\n",
       "<style>\n",
       "    .dataframe thead tr:only-child th {\n",
       "        text-align: right;\n",
       "    }\n",
       "\n",
       "    .dataframe thead th {\n",
       "        text-align: left;\n",
       "    }\n",
       "\n",
       "    .dataframe tbody tr th {\n",
       "        vertical-align: top;\n",
       "    }\n",
       "</style>\n",
       "<table border=\"1\" class=\"dataframe\">\n",
       "  <thead>\n",
       "    <tr style=\"text-align: right;\">\n",
       "      <th></th>\n",
       "      <th>A</th>\n",
       "      <th>B</th>\n",
       "      <th>C</th>\n",
       "      <th>D</th>\n",
       "      <th>E</th>\n",
       "      <th>E prime</th>\n",
       "      <th>cosine</th>\n",
       "    </tr>\n",
       "  </thead>\n",
       "  <tbody>\n",
       "    <tr>\n",
       "      <th>2018-11-19 14:45:00</th>\n",
       "      <td>0.000000</td>\n",
       "      <td>-0.734764</td>\n",
       "      <td>0.575896</td>\n",
       "      <td>5</td>\n",
       "      <td>0.0</td>\n",
       "      <td>0</td>\n",
       "      <td>1.000000</td>\n",
       "    </tr>\n",
       "    <tr>\n",
       "      <th>2018-11-19 19:45:00</th>\n",
       "      <td>0.023600</td>\n",
       "      <td>0.744670</td>\n",
       "      <td>1.024183</td>\n",
       "      <td>5</td>\n",
       "      <td>2.5</td>\n",
       "      <td>10</td>\n",
       "      <td>0.999048</td>\n",
       "    </tr>\n",
       "    <tr>\n",
       "      <th>2018-11-19 20:45:00</th>\n",
       "      <td>-0.915842</td>\n",
       "      <td>-1.273394</td>\n",
       "      <td>0.850732</td>\n",
       "      <td>5</td>\n",
       "      <td>3.0</td>\n",
       "      <td>12</td>\n",
       "      <td>0.998630</td>\n",
       "    </tr>\n",
       "    <tr>\n",
       "      <th>2018-11-19 21:45:00</th>\n",
       "      <td>-1.382011</td>\n",
       "      <td>-1.086917</td>\n",
       "      <td>-0.594822</td>\n",
       "      <td>5</td>\n",
       "      <td>3.5</td>\n",
       "      <td>14</td>\n",
       "      <td>0.998135</td>\n",
       "    </tr>\n",
       "    <tr>\n",
       "      <th>2018-11-19 22:45:00</th>\n",
       "      <td>-0.694070</td>\n",
       "      <td>1.675643</td>\n",
       "      <td>-0.084991</td>\n",
       "      <td>5</td>\n",
       "      <td>4.0</td>\n",
       "      <td>16</td>\n",
       "      <td>0.997564</td>\n",
       "    </tr>\n",
       "    <tr>\n",
       "      <th>2018-11-19 23:45:00</th>\n",
       "      <td>-1.745516</td>\n",
       "      <td>1.085031</td>\n",
       "      <td>-0.146756</td>\n",
       "      <td>5</td>\n",
       "      <td>4.5</td>\n",
       "      <td>18</td>\n",
       "      <td>0.996917</td>\n",
       "    </tr>\n",
       "  </tbody>\n",
       "</table>\n",
       "</div>"
      ],
      "text/plain": [
       "                            A         B         C  D    E  E prime    cosine\n",
       "2018-11-19 14:45:00  0.000000 -0.734764  0.575896  5  0.0        0  1.000000\n",
       "2018-11-19 19:45:00  0.023600  0.744670  1.024183  5  2.5       10  0.999048\n",
       "2018-11-19 20:45:00 -0.915842 -1.273394  0.850732  5  3.0       12  0.998630\n",
       "2018-11-19 21:45:00 -1.382011 -1.086917 -0.594822  5  3.5       14  0.998135\n",
       "2018-11-19 22:45:00 -0.694070  1.675643 -0.084991  5  4.0       16  0.997564\n",
       "2018-11-19 23:45:00 -1.745516  1.085031 -0.146756  5  4.5       18  0.996917"
      ]
     },
     "execution_count": 48,
     "metadata": {},
     "output_type": "execute_result"
    }
   ],
=======
   "execution_count": null,
   "metadata": {},
   "outputs": [],
>>>>>>> upstream/master
   "source": [
    "# Dropping by raws\n",
    "# save and always working\n",
    "df.drop(df.index[[1,2,3,4]])"
   ]
  },
  {
   "cell_type": "code",
<<<<<<< HEAD
   "execution_count": 49,
   "metadata": {},
   "outputs": [
    {
     "data": {
      "text/html": [
       "<div>\n",
       "<style>\n",
       "    .dataframe thead tr:only-child th {\n",
       "        text-align: right;\n",
       "    }\n",
       "\n",
       "    .dataframe thead th {\n",
       "        text-align: left;\n",
       "    }\n",
       "\n",
       "    .dataframe tbody tr th {\n",
       "        vertical-align: top;\n",
       "    }\n",
       "</style>\n",
       "<table border=\"1\" class=\"dataframe\">\n",
       "  <thead>\n",
       "    <tr style=\"text-align: right;\">\n",
       "      <th></th>\n",
       "      <th>A</th>\n",
       "      <th>B</th>\n",
       "      <th>C</th>\n",
       "      <th>D</th>\n",
       "      <th>E</th>\n",
       "      <th>E prime</th>\n",
       "      <th>cosine</th>\n",
       "    </tr>\n",
       "  </thead>\n",
       "  <tbody>\n",
       "    <tr>\n",
       "      <th>2018-11-19 14:45:00</th>\n",
       "      <td>0.000000</td>\n",
       "      <td>-0.734764</td>\n",
       "      <td>0.575896</td>\n",
       "      <td>5</td>\n",
       "      <td>0.0</td>\n",
       "      <td>0</td>\n",
       "      <td>1.000000</td>\n",
       "    </tr>\n",
       "    <tr>\n",
       "      <th>2018-11-19 15:45:00</th>\n",
       "      <td>-0.582321</td>\n",
       "      <td>-0.392299</td>\n",
       "      <td>-0.302587</td>\n",
       "      <td>5</td>\n",
       "      <td>0.5</td>\n",
       "      <td>2</td>\n",
       "      <td>0.999962</td>\n",
       "    </tr>\n",
       "    <tr>\n",
       "      <th>2018-11-19 16:45:00</th>\n",
       "      <td>0.331763</td>\n",
       "      <td>0.799624</td>\n",
       "      <td>1.209747</td>\n",
       "      <td>5</td>\n",
       "      <td>1.0</td>\n",
       "      <td>4</td>\n",
       "      <td>0.999848</td>\n",
       "    </tr>\n",
       "    <tr>\n",
       "      <th>2018-11-19 17:45:00</th>\n",
       "      <td>-0.645840</td>\n",
       "      <td>1.156996</td>\n",
       "      <td>-1.530460</td>\n",
       "      <td>5</td>\n",
       "      <td>1.5</td>\n",
       "      <td>6</td>\n",
       "      <td>0.999657</td>\n",
       "    </tr>\n",
       "    <tr>\n",
       "      <th>2018-11-19 18:45:00</th>\n",
       "      <td>1.512944</td>\n",
       "      <td>1.886236</td>\n",
       "      <td>1.056722</td>\n",
       "      <td>5</td>\n",
       "      <td>2.0</td>\n",
       "      <td>8</td>\n",
       "      <td>0.999391</td>\n",
       "    </tr>\n",
       "    <tr>\n",
       "      <th>2018-11-19 19:45:00</th>\n",
       "      <td>0.023600</td>\n",
       "      <td>0.744670</td>\n",
       "      <td>1.024183</td>\n",
       "      <td>5</td>\n",
       "      <td>2.5</td>\n",
       "      <td>10</td>\n",
       "      <td>0.999048</td>\n",
       "    </tr>\n",
       "    <tr>\n",
       "      <th>2018-11-19 20:45:00</th>\n",
       "      <td>-0.915842</td>\n",
       "      <td>-1.273394</td>\n",
       "      <td>0.850732</td>\n",
       "      <td>5</td>\n",
       "      <td>3.0</td>\n",
       "      <td>12</td>\n",
       "      <td>0.998630</td>\n",
       "    </tr>\n",
       "    <tr>\n",
       "      <th>2018-11-19 21:45:00</th>\n",
       "      <td>-1.382011</td>\n",
       "      <td>-1.086917</td>\n",
       "      <td>-0.594822</td>\n",
       "      <td>5</td>\n",
       "      <td>3.5</td>\n",
       "      <td>14</td>\n",
       "      <td>0.998135</td>\n",
       "    </tr>\n",
       "    <tr>\n",
       "      <th>2018-11-19 23:45:00</th>\n",
       "      <td>-1.745516</td>\n",
       "      <td>1.085031</td>\n",
       "      <td>-0.146756</td>\n",
       "      <td>5</td>\n",
       "      <td>4.5</td>\n",
       "      <td>18</td>\n",
       "      <td>0.996917</td>\n",
       "    </tr>\n",
       "  </tbody>\n",
       "</table>\n",
       "</div>"
      ],
      "text/plain": [
       "                            A         B         C  D    E  E prime    cosine\n",
       "2018-11-19 14:45:00  0.000000 -0.734764  0.575896  5  0.0        0  1.000000\n",
       "2018-11-19 15:45:00 -0.582321 -0.392299 -0.302587  5  0.5        2  0.999962\n",
       "2018-11-19 16:45:00  0.331763  0.799624  1.209747  5  1.0        4  0.999848\n",
       "2018-11-19 17:45:00 -0.645840  1.156996 -1.530460  5  1.5        6  0.999657\n",
       "2018-11-19 18:45:00  1.512944  1.886236  1.056722  5  2.0        8  0.999391\n",
       "2018-11-19 19:45:00  0.023600  0.744670  1.024183  5  2.5       10  0.999048\n",
       "2018-11-19 20:45:00 -0.915842 -1.273394  0.850732  5  3.0       12  0.998630\n",
       "2018-11-19 21:45:00 -1.382011 -1.086917 -0.594822  5  3.5       14  0.998135\n",
       "2018-11-19 23:45:00 -1.745516  1.085031 -0.146756  5  4.5       18  0.996917"
      ]
     },
     "execution_count": 49,
     "metadata": {},
     "output_type": "execute_result"
    }
   ],
=======
   "execution_count": null,
   "metadata": {},
   "outputs": [],
>>>>>>> upstream/master
   "source": [
    "# something like df.drop('index_name') \n",
    "# would work but the type of index must be specificed, \n",
    "# in particular with DatetimeIndex\n",
    "df.drop(pd.to_datetime(\"2018-11-19 22:45:00\"))"
   ]
  },
  {
   "cell_type": "markdown",
   "metadata": {},
   "source": [
    "## Missing data\n",
    "\n",
    "pandas primarily uses the value np.nan to represent missing data. It is by default not included in computations."
   ]
  },
  {
   "cell_type": "code",
<<<<<<< HEAD
   "execution_count": 50,
   "metadata": {},
   "outputs": [
    {
     "data": {
      "text/html": [
       "<div>\n",
       "<style>\n",
       "    .dataframe thead tr:only-child th {\n",
       "        text-align: right;\n",
       "    }\n",
       "\n",
       "    .dataframe thead th {\n",
       "        text-align: left;\n",
       "    }\n",
       "\n",
       "    .dataframe tbody tr th {\n",
       "        vertical-align: top;\n",
       "    }\n",
       "</style>\n",
       "<table border=\"1\" class=\"dataframe\">\n",
       "  <thead>\n",
       "    <tr style=\"text-align: right;\">\n",
       "      <th></th>\n",
       "      <th>A</th>\n",
       "      <th>B</th>\n",
       "      <th>C</th>\n",
       "      <th>D</th>\n",
       "      <th>E</th>\n",
       "      <th>E prime</th>\n",
       "      <th>cosine</th>\n",
       "    </tr>\n",
       "  </thead>\n",
       "  <tbody>\n",
       "    <tr>\n",
       "      <th>2018-11-19 14:45:00</th>\n",
       "      <td>NaN</td>\n",
       "      <td>NaN</td>\n",
       "      <td>0.575896</td>\n",
       "      <td>5</td>\n",
       "      <td>NaN</td>\n",
       "      <td>NaN</td>\n",
       "      <td>1.000000</td>\n",
       "    </tr>\n",
       "    <tr>\n",
       "      <th>2018-11-19 15:45:00</th>\n",
       "      <td>NaN</td>\n",
       "      <td>NaN</td>\n",
       "      <td>NaN</td>\n",
       "      <td>5</td>\n",
       "      <td>0.5</td>\n",
       "      <td>2.0</td>\n",
       "      <td>0.999962</td>\n",
       "    </tr>\n",
       "    <tr>\n",
       "      <th>2018-11-19 16:45:00</th>\n",
       "      <td>0.331763</td>\n",
       "      <td>0.799624</td>\n",
       "      <td>1.209747</td>\n",
       "      <td>5</td>\n",
       "      <td>1.0</td>\n",
       "      <td>4.0</td>\n",
       "      <td>0.999848</td>\n",
       "    </tr>\n",
       "    <tr>\n",
       "      <th>2018-11-19 17:45:00</th>\n",
       "      <td>NaN</td>\n",
       "      <td>1.156996</td>\n",
       "      <td>NaN</td>\n",
       "      <td>5</td>\n",
       "      <td>1.5</td>\n",
       "      <td>6.0</td>\n",
       "      <td>0.999657</td>\n",
       "    </tr>\n",
       "    <tr>\n",
       "      <th>2018-11-19 18:45:00</th>\n",
       "      <td>1.512944</td>\n",
       "      <td>1.886236</td>\n",
       "      <td>1.056722</td>\n",
       "      <td>5</td>\n",
       "      <td>2.0</td>\n",
       "      <td>8.0</td>\n",
       "      <td>0.999391</td>\n",
       "    </tr>\n",
       "    <tr>\n",
       "      <th>2018-11-19 19:45:00</th>\n",
       "      <td>0.023600</td>\n",
       "      <td>0.744670</td>\n",
       "      <td>1.024183</td>\n",
       "      <td>5</td>\n",
       "      <td>2.5</td>\n",
       "      <td>10.0</td>\n",
       "      <td>0.999048</td>\n",
       "    </tr>\n",
       "    <tr>\n",
       "      <th>2018-11-19 20:45:00</th>\n",
       "      <td>NaN</td>\n",
       "      <td>NaN</td>\n",
       "      <td>0.850732</td>\n",
       "      <td>5</td>\n",
       "      <td>3.0</td>\n",
       "      <td>12.0</td>\n",
       "      <td>0.998630</td>\n",
       "    </tr>\n",
       "    <tr>\n",
       "      <th>2018-11-19 21:45:00</th>\n",
       "      <td>NaN</td>\n",
       "      <td>NaN</td>\n",
       "      <td>NaN</td>\n",
       "      <td>5</td>\n",
       "      <td>3.5</td>\n",
       "      <td>14.0</td>\n",
       "      <td>0.998135</td>\n",
       "    </tr>\n",
       "    <tr>\n",
       "      <th>2018-11-19 22:45:00</th>\n",
       "      <td>NaN</td>\n",
       "      <td>1.675643</td>\n",
       "      <td>NaN</td>\n",
       "      <td>5</td>\n",
       "      <td>4.0</td>\n",
       "      <td>16.0</td>\n",
       "      <td>0.997564</td>\n",
       "    </tr>\n",
       "    <tr>\n",
       "      <th>2018-11-19 23:45:00</th>\n",
       "      <td>NaN</td>\n",
       "      <td>1.085031</td>\n",
       "      <td>NaN</td>\n",
       "      <td>5</td>\n",
       "      <td>4.5</td>\n",
       "      <td>18.0</td>\n",
       "      <td>0.996917</td>\n",
       "    </tr>\n",
       "  </tbody>\n",
       "</table>\n",
       "</div>"
      ],
      "text/plain": [
       "                            A         B         C  D    E  E prime    cosine\n",
       "2018-11-19 14:45:00       NaN       NaN  0.575896  5  NaN      NaN  1.000000\n",
       "2018-11-19 15:45:00       NaN       NaN       NaN  5  0.5      2.0  0.999962\n",
       "2018-11-19 16:45:00  0.331763  0.799624  1.209747  5  1.0      4.0  0.999848\n",
       "2018-11-19 17:45:00       NaN  1.156996       NaN  5  1.5      6.0  0.999657\n",
       "2018-11-19 18:45:00  1.512944  1.886236  1.056722  5  2.0      8.0  0.999391\n",
       "2018-11-19 19:45:00  0.023600  0.744670  1.024183  5  2.5     10.0  0.999048\n",
       "2018-11-19 20:45:00       NaN       NaN  0.850732  5  3.0     12.0  0.998630\n",
       "2018-11-19 21:45:00       NaN       NaN       NaN  5  3.5     14.0  0.998135\n",
       "2018-11-19 22:45:00       NaN  1.675643       NaN  5  4.0     16.0  0.997564\n",
       "2018-11-19 23:45:00       NaN  1.085031       NaN  5  4.5     18.0  0.996917"
      ]
     },
     "execution_count": 50,
     "metadata": {},
     "output_type": "execute_result"
    }
   ],
=======
   "execution_count": null,
   "metadata": {},
   "outputs": [],
>>>>>>> upstream/master
   "source": [
    "df_wNan = df[df>0]\n",
    "df_wNan"
   ]
  },
  {
   "cell_type": "code",
<<<<<<< HEAD
   "execution_count": 55,
   "metadata": {},
   "outputs": [
    {
     "data": {
      "text/html": [
       "<div>\n",
       "<style>\n",
       "    .dataframe thead tr:only-child th {\n",
       "        text-align: right;\n",
       "    }\n",
       "\n",
       "    .dataframe thead th {\n",
       "        text-align: left;\n",
       "    }\n",
       "\n",
       "    .dataframe tbody tr th {\n",
       "        vertical-align: top;\n",
       "    }\n",
       "</style>\n",
       "<table border=\"1\" class=\"dataframe\">\n",
       "  <thead>\n",
       "    <tr style=\"text-align: right;\">\n",
       "      <th></th>\n",
       "      <th>A</th>\n",
       "      <th>B</th>\n",
       "      <th>C</th>\n",
       "      <th>D</th>\n",
       "      <th>E</th>\n",
       "      <th>E prime</th>\n",
       "      <th>cosine</th>\n",
       "    </tr>\n",
       "  </thead>\n",
       "  <tbody>\n",
       "    <tr>\n",
       "      <th>2018-11-19 16:45:00</th>\n",
       "      <td>0.331763</td>\n",
       "      <td>0.799624</td>\n",
       "      <td>1.209747</td>\n",
       "      <td>5</td>\n",
       "      <td>1.0</td>\n",
       "      <td>4.0</td>\n",
       "      <td>0.999848</td>\n",
       "    </tr>\n",
       "    <tr>\n",
       "      <th>2018-11-19 18:45:00</th>\n",
       "      <td>1.512944</td>\n",
       "      <td>1.886236</td>\n",
       "      <td>1.056722</td>\n",
       "      <td>5</td>\n",
       "      <td>2.0</td>\n",
       "      <td>8.0</td>\n",
       "      <td>0.999391</td>\n",
       "    </tr>\n",
       "    <tr>\n",
       "      <th>2018-11-19 19:45:00</th>\n",
       "      <td>0.023600</td>\n",
       "      <td>0.744670</td>\n",
       "      <td>1.024183</td>\n",
       "      <td>5</td>\n",
       "      <td>2.5</td>\n",
       "      <td>10.0</td>\n",
       "      <td>0.999048</td>\n",
       "    </tr>\n",
       "  </tbody>\n",
       "</table>\n",
       "</div>"
      ],
      "text/plain": [
       "                            A         B         C  D    E  E prime    cosine\n",
       "2018-11-19 16:45:00  0.331763  0.799624  1.209747  5  1.0      4.0  0.999848\n",
       "2018-11-19 18:45:00  1.512944  1.886236  1.056722  5  2.0      8.0  0.999391\n",
       "2018-11-19 19:45:00  0.023600  0.744670  1.024183  5  2.5     10.0  0.999048"
      ]
     },
     "execution_count": 55,
     "metadata": {},
     "output_type": "execute_result"
    }
   ],
=======
   "execution_count": null,
   "metadata": {},
   "outputs": [],
>>>>>>> upstream/master
   "source": [
    "# dropping raws with at least a Nan\n",
    "df_wNan.dropna(how='any')"
   ]
  },
  {
   "cell_type": "code",
<<<<<<< HEAD
   "execution_count": 56,
   "metadata": {},
   "outputs": [
    {
     "ename": "AttributeError",
     "evalue": "'DataFrame' object has no attribute 'isna'",
     "output_type": "error",
     "traceback": [
      "\u001b[0;31m---------------------------------------------------------------------------\u001b[0m",
      "\u001b[0;31mAttributeError\u001b[0m                            Traceback (most recent call last)",
      "\u001b[0;32m<ipython-input-56-1e9cab47c73c>\u001b[0m in \u001b[0;36m<module>\u001b[0;34m()\u001b[0m\n\u001b[1;32m      1\u001b[0m \u001b[0;31m# getting a mask\u001b[0m\u001b[0;34m\u001b[0m\u001b[0;34m\u001b[0m\u001b[0m\n\u001b[0;32m----> 2\u001b[0;31m \u001b[0mdf_wNan\u001b[0m\u001b[0;34m.\u001b[0m\u001b[0misna\u001b[0m\u001b[0;34m(\u001b[0m\u001b[0;34m)\u001b[0m\u001b[0;34m\u001b[0m\u001b[0m\n\u001b[0m\u001b[1;32m      3\u001b[0m \u001b[0;31m#df_wNan.notna()\u001b[0m\u001b[0;34m\u001b[0m\u001b[0;34m\u001b[0m\u001b[0m\n",
      "\u001b[0;32m/opt/ubuntu-16.04/conda/lib/python3.6/site-packages/pandas/core/generic.py\u001b[0m in \u001b[0;36m__getattr__\u001b[0;34m(self, name)\u001b[0m\n\u001b[1;32m   3079\u001b[0m             \u001b[0;32mif\u001b[0m \u001b[0mname\u001b[0m \u001b[0;32min\u001b[0m \u001b[0mself\u001b[0m\u001b[0;34m.\u001b[0m\u001b[0m_info_axis\u001b[0m\u001b[0;34m:\u001b[0m\u001b[0;34m\u001b[0m\u001b[0m\n\u001b[1;32m   3080\u001b[0m                 \u001b[0;32mreturn\u001b[0m \u001b[0mself\u001b[0m\u001b[0;34m[\u001b[0m\u001b[0mname\u001b[0m\u001b[0;34m]\u001b[0m\u001b[0;34m\u001b[0m\u001b[0m\n\u001b[0;32m-> 3081\u001b[0;31m             \u001b[0;32mreturn\u001b[0m \u001b[0mobject\u001b[0m\u001b[0;34m.\u001b[0m\u001b[0m__getattribute__\u001b[0m\u001b[0;34m(\u001b[0m\u001b[0mself\u001b[0m\u001b[0;34m,\u001b[0m \u001b[0mname\u001b[0m\u001b[0;34m)\u001b[0m\u001b[0;34m\u001b[0m\u001b[0m\n\u001b[0m\u001b[1;32m   3082\u001b[0m \u001b[0;34m\u001b[0m\u001b[0m\n\u001b[1;32m   3083\u001b[0m     \u001b[0;32mdef\u001b[0m \u001b[0m__setattr__\u001b[0m\u001b[0;34m(\u001b[0m\u001b[0mself\u001b[0m\u001b[0;34m,\u001b[0m \u001b[0mname\u001b[0m\u001b[0;34m,\u001b[0m \u001b[0mvalue\u001b[0m\u001b[0;34m)\u001b[0m\u001b[0;34m:\u001b[0m\u001b[0;34m\u001b[0m\u001b[0m\n",
      "\u001b[0;31mAttributeError\u001b[0m: 'DataFrame' object has no attribute 'isna'"
     ]
    }
   ],
=======
   "execution_count": null,
   "metadata": {},
   "outputs": [],
>>>>>>> upstream/master
   "source": [
    "# getting a mask\n",
    "df_wNan.isna()\n",
    "#df_wNan.notna()"
   ]
  },
  {
   "cell_type": "code",
<<<<<<< HEAD
   "execution_count": 57,
   "metadata": {},
   "outputs": [
    {
     "data": {
      "text/html": [
       "<div>\n",
       "<style>\n",
       "    .dataframe thead tr:only-child th {\n",
       "        text-align: right;\n",
       "    }\n",
       "\n",
       "    .dataframe thead th {\n",
       "        text-align: left;\n",
       "    }\n",
       "\n",
       "    .dataframe tbody tr th {\n",
       "        vertical-align: top;\n",
       "    }\n",
       "</style>\n",
       "<table border=\"1\" class=\"dataframe\">\n",
       "  <thead>\n",
       "    <tr style=\"text-align: right;\">\n",
       "      <th></th>\n",
       "      <th>A</th>\n",
       "      <th>B</th>\n",
       "      <th>C</th>\n",
       "      <th>D</th>\n",
       "      <th>E</th>\n",
       "      <th>E prime</th>\n",
       "      <th>cosine</th>\n",
       "    </tr>\n",
       "  </thead>\n",
       "  <tbody>\n",
       "    <tr>\n",
       "      <th>2018-11-19 14:45:00</th>\n",
       "      <td>0.000000</td>\n",
       "      <td>0.000000</td>\n",
       "      <td>0.575896</td>\n",
       "      <td>5</td>\n",
       "      <td>0.0</td>\n",
       "      <td>0.0</td>\n",
       "      <td>1.000000</td>\n",
       "    </tr>\n",
       "    <tr>\n",
       "      <th>2018-11-19 15:45:00</th>\n",
       "      <td>0.000000</td>\n",
       "      <td>0.000000</td>\n",
       "      <td>0.000000</td>\n",
       "      <td>5</td>\n",
       "      <td>0.5</td>\n",
       "      <td>2.0</td>\n",
       "      <td>0.999962</td>\n",
       "    </tr>\n",
       "    <tr>\n",
       "      <th>2018-11-19 16:45:00</th>\n",
       "      <td>0.331763</td>\n",
       "      <td>0.799624</td>\n",
       "      <td>1.209747</td>\n",
       "      <td>5</td>\n",
       "      <td>1.0</td>\n",
       "      <td>4.0</td>\n",
       "      <td>0.999848</td>\n",
       "    </tr>\n",
       "    <tr>\n",
       "      <th>2018-11-19 17:45:00</th>\n",
       "      <td>0.000000</td>\n",
       "      <td>1.156996</td>\n",
       "      <td>0.000000</td>\n",
       "      <td>5</td>\n",
       "      <td>1.5</td>\n",
       "      <td>6.0</td>\n",
       "      <td>0.999657</td>\n",
       "    </tr>\n",
       "    <tr>\n",
       "      <th>2018-11-19 18:45:00</th>\n",
       "      <td>1.512944</td>\n",
       "      <td>1.886236</td>\n",
       "      <td>1.056722</td>\n",
       "      <td>5</td>\n",
       "      <td>2.0</td>\n",
       "      <td>8.0</td>\n",
       "      <td>0.999391</td>\n",
       "    </tr>\n",
       "    <tr>\n",
       "      <th>2018-11-19 19:45:00</th>\n",
       "      <td>0.023600</td>\n",
       "      <td>0.744670</td>\n",
       "      <td>1.024183</td>\n",
       "      <td>5</td>\n",
       "      <td>2.5</td>\n",
       "      <td>10.0</td>\n",
       "      <td>0.999048</td>\n",
       "    </tr>\n",
       "    <tr>\n",
       "      <th>2018-11-19 20:45:00</th>\n",
       "      <td>0.000000</td>\n",
       "      <td>0.000000</td>\n",
       "      <td>0.850732</td>\n",
       "      <td>5</td>\n",
       "      <td>3.0</td>\n",
       "      <td>12.0</td>\n",
       "      <td>0.998630</td>\n",
       "    </tr>\n",
       "    <tr>\n",
       "      <th>2018-11-19 21:45:00</th>\n",
       "      <td>0.000000</td>\n",
       "      <td>0.000000</td>\n",
       "      <td>0.000000</td>\n",
       "      <td>5</td>\n",
       "      <td>3.5</td>\n",
       "      <td>14.0</td>\n",
       "      <td>0.998135</td>\n",
       "    </tr>\n",
       "    <tr>\n",
       "      <th>2018-11-19 22:45:00</th>\n",
       "      <td>0.000000</td>\n",
       "      <td>1.675643</td>\n",
       "      <td>0.000000</td>\n",
       "      <td>5</td>\n",
       "      <td>4.0</td>\n",
       "      <td>16.0</td>\n",
       "      <td>0.997564</td>\n",
       "    </tr>\n",
       "    <tr>\n",
       "      <th>2018-11-19 23:45:00</th>\n",
       "      <td>0.000000</td>\n",
       "      <td>1.085031</td>\n",
       "      <td>0.000000</td>\n",
       "      <td>5</td>\n",
       "      <td>4.5</td>\n",
       "      <td>18.0</td>\n",
       "      <td>0.996917</td>\n",
       "    </tr>\n",
       "  </tbody>\n",
       "</table>\n",
       "</div>"
      ],
      "text/plain": [
       "                            A         B         C  D    E  E prime    cosine\n",
       "2018-11-19 14:45:00  0.000000  0.000000  0.575896  5  0.0      0.0  1.000000\n",
       "2018-11-19 15:45:00  0.000000  0.000000  0.000000  5  0.5      2.0  0.999962\n",
       "2018-11-19 16:45:00  0.331763  0.799624  1.209747  5  1.0      4.0  0.999848\n",
       "2018-11-19 17:45:00  0.000000  1.156996  0.000000  5  1.5      6.0  0.999657\n",
       "2018-11-19 18:45:00  1.512944  1.886236  1.056722  5  2.0      8.0  0.999391\n",
       "2018-11-19 19:45:00  0.023600  0.744670  1.024183  5  2.5     10.0  0.999048\n",
       "2018-11-19 20:45:00  0.000000  0.000000  0.850732  5  3.0     12.0  0.998630\n",
       "2018-11-19 21:45:00  0.000000  0.000000  0.000000  5  3.5     14.0  0.998135\n",
       "2018-11-19 22:45:00  0.000000  1.675643  0.000000  5  4.0     16.0  0.997564\n",
       "2018-11-19 23:45:00  0.000000  1.085031  0.000000  5  4.5     18.0  0.996917"
      ]
     },
     "execution_count": 57,
     "metadata": {},
     "output_type": "execute_result"
    }
   ],
=======
   "execution_count": null,
   "metadata": {},
   "outputs": [],
>>>>>>> upstream/master
   "source": [
    "# filling missing data\n",
    "df_wNan.fillna(value=0)"
   ]
  },
  {
   "cell_type": "markdown",
   "metadata": {},
   "source": [
    "Fill gaps forward or backward by propagating non-NA values forward or backward:"
   ]
  },
  {
   "cell_type": "code",
<<<<<<< HEAD
   "execution_count": 58,
   "metadata": {},
   "outputs": [
    {
     "data": {
      "text/html": [
       "<div>\n",
       "<style>\n",
       "    .dataframe thead tr:only-child th {\n",
       "        text-align: right;\n",
       "    }\n",
       "\n",
       "    .dataframe thead th {\n",
       "        text-align: left;\n",
       "    }\n",
       "\n",
       "    .dataframe tbody tr th {\n",
       "        vertical-align: top;\n",
       "    }\n",
       "</style>\n",
       "<table border=\"1\" class=\"dataframe\">\n",
       "  <thead>\n",
       "    <tr style=\"text-align: right;\">\n",
       "      <th></th>\n",
       "      <th>A</th>\n",
       "      <th>B</th>\n",
       "      <th>C</th>\n",
       "      <th>D</th>\n",
       "      <th>E</th>\n",
       "      <th>E prime</th>\n",
       "      <th>cosine</th>\n",
       "    </tr>\n",
       "  </thead>\n",
       "  <tbody>\n",
       "    <tr>\n",
       "      <th>2018-11-19 14:45:00</th>\n",
       "      <td>NaN</td>\n",
       "      <td>NaN</td>\n",
       "      <td>0.575896</td>\n",
       "      <td>5</td>\n",
       "      <td>NaN</td>\n",
       "      <td>NaN</td>\n",
       "      <td>1.000000</td>\n",
       "    </tr>\n",
       "    <tr>\n",
       "      <th>2018-11-19 15:45:00</th>\n",
       "      <td>NaN</td>\n",
       "      <td>NaN</td>\n",
       "      <td>0.575896</td>\n",
       "      <td>5</td>\n",
       "      <td>0.5</td>\n",
       "      <td>2.0</td>\n",
       "      <td>0.999962</td>\n",
       "    </tr>\n",
       "    <tr>\n",
       "      <th>2018-11-19 16:45:00</th>\n",
       "      <td>0.331763</td>\n",
       "      <td>0.799624</td>\n",
       "      <td>1.209747</td>\n",
       "      <td>5</td>\n",
       "      <td>1.0</td>\n",
       "      <td>4.0</td>\n",
       "      <td>0.999848</td>\n",
       "    </tr>\n",
       "    <tr>\n",
       "      <th>2018-11-19 17:45:00</th>\n",
       "      <td>0.331763</td>\n",
       "      <td>1.156996</td>\n",
       "      <td>1.209747</td>\n",
       "      <td>5</td>\n",
       "      <td>1.5</td>\n",
       "      <td>6.0</td>\n",
       "      <td>0.999657</td>\n",
       "    </tr>\n",
       "    <tr>\n",
       "      <th>2018-11-19 18:45:00</th>\n",
       "      <td>1.512944</td>\n",
       "      <td>1.886236</td>\n",
       "      <td>1.056722</td>\n",
       "      <td>5</td>\n",
       "      <td>2.0</td>\n",
       "      <td>8.0</td>\n",
       "      <td>0.999391</td>\n",
       "    </tr>\n",
       "    <tr>\n",
       "      <th>2018-11-19 19:45:00</th>\n",
       "      <td>0.023600</td>\n",
       "      <td>0.744670</td>\n",
       "      <td>1.024183</td>\n",
       "      <td>5</td>\n",
       "      <td>2.5</td>\n",
       "      <td>10.0</td>\n",
       "      <td>0.999048</td>\n",
       "    </tr>\n",
       "    <tr>\n",
       "      <th>2018-11-19 20:45:00</th>\n",
       "      <td>0.023600</td>\n",
       "      <td>0.744670</td>\n",
       "      <td>0.850732</td>\n",
       "      <td>5</td>\n",
       "      <td>3.0</td>\n",
       "      <td>12.0</td>\n",
       "      <td>0.998630</td>\n",
       "    </tr>\n",
       "    <tr>\n",
       "      <th>2018-11-19 21:45:00</th>\n",
       "      <td>0.023600</td>\n",
       "      <td>0.744670</td>\n",
       "      <td>0.850732</td>\n",
       "      <td>5</td>\n",
       "      <td>3.5</td>\n",
       "      <td>14.0</td>\n",
       "      <td>0.998135</td>\n",
       "    </tr>\n",
       "    <tr>\n",
       "      <th>2018-11-19 22:45:00</th>\n",
       "      <td>0.023600</td>\n",
       "      <td>1.675643</td>\n",
       "      <td>0.850732</td>\n",
       "      <td>5</td>\n",
       "      <td>4.0</td>\n",
       "      <td>16.0</td>\n",
       "      <td>0.997564</td>\n",
       "    </tr>\n",
       "    <tr>\n",
       "      <th>2018-11-19 23:45:00</th>\n",
       "      <td>0.023600</td>\n",
       "      <td>1.085031</td>\n",
       "      <td>0.850732</td>\n",
       "      <td>5</td>\n",
       "      <td>4.5</td>\n",
       "      <td>18.0</td>\n",
       "      <td>0.996917</td>\n",
       "    </tr>\n",
       "  </tbody>\n",
       "</table>\n",
       "</div>"
      ],
      "text/plain": [
       "                            A         B         C  D    E  E prime    cosine\n",
       "2018-11-19 14:45:00       NaN       NaN  0.575896  5  NaN      NaN  1.000000\n",
       "2018-11-19 15:45:00       NaN       NaN  0.575896  5  0.5      2.0  0.999962\n",
       "2018-11-19 16:45:00  0.331763  0.799624  1.209747  5  1.0      4.0  0.999848\n",
       "2018-11-19 17:45:00  0.331763  1.156996  1.209747  5  1.5      6.0  0.999657\n",
       "2018-11-19 18:45:00  1.512944  1.886236  1.056722  5  2.0      8.0  0.999391\n",
       "2018-11-19 19:45:00  0.023600  0.744670  1.024183  5  2.5     10.0  0.999048\n",
       "2018-11-19 20:45:00  0.023600  0.744670  0.850732  5  3.0     12.0  0.998630\n",
       "2018-11-19 21:45:00  0.023600  0.744670  0.850732  5  3.5     14.0  0.998135\n",
       "2018-11-19 22:45:00  0.023600  1.675643  0.850732  5  4.0     16.0  0.997564\n",
       "2018-11-19 23:45:00  0.023600  1.085031  0.850732  5  4.5     18.0  0.996917"
      ]
     },
     "execution_count": 58,
     "metadata": {},
     "output_type": "execute_result"
    }
   ],
=======
   "execution_count": null,
   "metadata": {},
   "outputs": [],
>>>>>>> upstream/master
   "source": [
    "df_wNan.fillna(method='pad')"
   ]
  },
  {
   "cell_type": "markdown",
   "metadata": {},
   "source": [
    "## Operations\n",
    "\n",
    "Here comes the most relevant advantage of DataFrame. Operations on columns are extremly fast, almost as fast as the actual operation between elements in a raw"
   ]
  },
  {
   "cell_type": "code",
<<<<<<< HEAD
   "execution_count": 59,
   "metadata": {},
   "outputs": [
    {
     "name": "stdout",
     "output_type": "stream",
     "text": [
      "A         -0.409729\n",
      "B          0.386082\n",
      "C          0.205767\n",
      "D          5.000000\n",
      "E          2.250000\n",
      "E prime    9.000000\n",
      "cosine     0.998915\n",
      "dtype: float64 \n",
      "\n",
      "2018-11-19 14:45:00    0.834447\n",
      "2018-11-19 15:45:00    1.031822\n",
      "2018-11-19 16:45:00    1.905855\n",
      "2018-11-19 17:45:00    1.782908\n",
      "2018-11-19 18:45:00    2.922185\n",
      "2018-11-19 19:45:00    2.898786\n",
      "2018-11-19 20:45:00    2.808589\n",
      "2018-11-19 21:45:00    2.919198\n",
      "2018-11-19 22:45:00    3.842021\n",
      "2018-11-19 23:45:00    3.955668\n",
      "Freq: H, dtype: float64 \n",
      "\n"
     ]
    }
   ],
=======
   "execution_count": null,
   "metadata": {},
   "outputs": [],
>>>>>>> upstream/master
   "source": [
    "# Some statistics (mean() just as an example)\n",
    "# raws\n",
    "print (df.mean(axis=0),'\\n')\n",
    "# columns\n",
    "print (df.mean(axis=1),'\\n')"
   ]
  },
  {
   "cell_type": "code",
<<<<<<< HEAD
   "execution_count": 60,
   "metadata": {},
   "outputs": [
    {
     "data": {
      "text/html": [
       "<div>\n",
       "<style>\n",
       "    .dataframe thead tr:only-child th {\n",
       "        text-align: right;\n",
       "    }\n",
       "\n",
       "    .dataframe thead th {\n",
       "        text-align: left;\n",
       "    }\n",
       "\n",
       "    .dataframe tbody tr th {\n",
       "        vertical-align: top;\n",
       "    }\n",
       "</style>\n",
       "<table border=\"1\" class=\"dataframe\">\n",
       "  <thead>\n",
       "    <tr style=\"text-align: right;\">\n",
       "      <th></th>\n",
       "      <th>A</th>\n",
       "      <th>B</th>\n",
       "      <th>C</th>\n",
       "      <th>D</th>\n",
       "      <th>E</th>\n",
       "      <th>E prime</th>\n",
       "      <th>cosine</th>\n",
       "    </tr>\n",
       "  </thead>\n",
       "  <tbody>\n",
       "    <tr>\n",
       "      <th>2018-11-19 14:45:00</th>\n",
       "      <td>0.000000</td>\n",
       "      <td>-0.734764</td>\n",
       "      <td>0.575896</td>\n",
       "      <td>5</td>\n",
       "      <td>0.0</td>\n",
       "      <td>0</td>\n",
       "      <td>1.000000</td>\n",
       "    </tr>\n",
       "    <tr>\n",
       "      <th>2018-11-19 15:45:00</th>\n",
       "      <td>-0.582321</td>\n",
       "      <td>-1.127064</td>\n",
       "      <td>0.273309</td>\n",
       "      <td>10</td>\n",
       "      <td>0.5</td>\n",
       "      <td>2</td>\n",
       "      <td>1.999962</td>\n",
       "    </tr>\n",
       "    <tr>\n",
       "      <th>2018-11-19 16:45:00</th>\n",
       "      <td>-0.250558</td>\n",
       "      <td>-0.327440</td>\n",
       "      <td>1.483056</td>\n",
       "      <td>15</td>\n",
       "      <td>1.5</td>\n",
       "      <td>6</td>\n",
       "      <td>2.999810</td>\n",
       "    </tr>\n",
       "    <tr>\n",
       "      <th>2018-11-19 17:45:00</th>\n",
       "      <td>-0.896397</td>\n",
       "      <td>0.829556</td>\n",
       "      <td>-0.047404</td>\n",
       "      <td>20</td>\n",
       "      <td>3.0</td>\n",
       "      <td>12</td>\n",
       "      <td>3.999467</td>\n",
       "    </tr>\n",
       "    <tr>\n",
       "      <th>2018-11-19 18:45:00</th>\n",
       "      <td>0.616547</td>\n",
       "      <td>2.715792</td>\n",
       "      <td>1.009319</td>\n",
       "      <td>25</td>\n",
       "      <td>5.0</td>\n",
       "      <td>20</td>\n",
       "      <td>4.998858</td>\n",
       "    </tr>\n",
       "    <tr>\n",
       "      <th>2018-11-19 19:45:00</th>\n",
       "      <td>0.640147</td>\n",
       "      <td>3.460462</td>\n",
       "      <td>2.033502</td>\n",
       "      <td>30</td>\n",
       "      <td>7.5</td>\n",
       "      <td>30</td>\n",
       "      <td>5.997906</td>\n",
       "    </tr>\n",
       "    <tr>\n",
       "      <th>2018-11-19 20:45:00</th>\n",
       "      <td>-0.275694</td>\n",
       "      <td>2.187068</td>\n",
       "      <td>2.884234</td>\n",
       "      <td>35</td>\n",
       "      <td>10.5</td>\n",
       "      <td>42</td>\n",
       "      <td>6.996536</td>\n",
       "    </tr>\n",
       "    <tr>\n",
       "      <th>2018-11-19 21:45:00</th>\n",
       "      <td>-1.657705</td>\n",
       "      <td>1.100151</td>\n",
       "      <td>2.289413</td>\n",
       "      <td>40</td>\n",
       "      <td>14.0</td>\n",
       "      <td>56</td>\n",
       "      <td>7.994670</td>\n",
       "    </tr>\n",
       "    <tr>\n",
       "      <th>2018-11-19 22:45:00</th>\n",
       "      <td>-2.351776</td>\n",
       "      <td>2.775794</td>\n",
       "      <td>2.204421</td>\n",
       "      <td>45</td>\n",
       "      <td>18.0</td>\n",
       "      <td>72</td>\n",
       "      <td>8.992234</td>\n",
       "    </tr>\n",
       "    <tr>\n",
       "      <th>2018-11-19 23:45:00</th>\n",
       "      <td>-4.097292</td>\n",
       "      <td>3.860825</td>\n",
       "      <td>2.057666</td>\n",
       "      <td>50</td>\n",
       "      <td>22.5</td>\n",
       "      <td>90</td>\n",
       "      <td>9.989152</td>\n",
       "    </tr>\n",
       "  </tbody>\n",
       "</table>\n",
       "</div>"
      ],
      "text/plain": [
       "                            A         B         C   D     E  E prime    cosine\n",
       "2018-11-19 14:45:00  0.000000 -0.734764  0.575896   5   0.0        0  1.000000\n",
       "2018-11-19 15:45:00 -0.582321 -1.127064  0.273309  10   0.5        2  1.999962\n",
       "2018-11-19 16:45:00 -0.250558 -0.327440  1.483056  15   1.5        6  2.999810\n",
       "2018-11-19 17:45:00 -0.896397  0.829556 -0.047404  20   3.0       12  3.999467\n",
       "2018-11-19 18:45:00  0.616547  2.715792  1.009319  25   5.0       20  4.998858\n",
       "2018-11-19 19:45:00  0.640147  3.460462  2.033502  30   7.5       30  5.997906\n",
       "2018-11-19 20:45:00 -0.275694  2.187068  2.884234  35  10.5       42  6.996536\n",
       "2018-11-19 21:45:00 -1.657705  1.100151  2.289413  40  14.0       56  7.994670\n",
       "2018-11-19 22:45:00 -2.351776  2.775794  2.204421  45  18.0       72  8.992234\n",
       "2018-11-19 23:45:00 -4.097292  3.860825  2.057666  50  22.5       90  9.989152"
      ]
     },
     "execution_count": 60,
     "metadata": {},
     "output_type": "execute_result"
    }
   ],
=======
   "execution_count": null,
   "metadata": {},
   "outputs": [],
>>>>>>> upstream/master
   "source": [
    "# global operations on columns\n",
    "df.apply(np.cumsum)"
   ]
  },
  {
   "cell_type": "code",
<<<<<<< HEAD
   "execution_count": 61,
   "metadata": {},
   "outputs": [
    {
     "data": {
      "text/plain": [
       "A           3.258460\n",
       "B           3.159630\n",
       "C           2.740207\n",
       "D           0.000000\n",
       "E           4.500000\n",
       "E prime    18.000000\n",
       "cosine      0.003083\n",
       "dtype: float64"
      ]
     },
     "execution_count": 61,
     "metadata": {},
     "output_type": "execute_result"
    }
   ],
=======
   "execution_count": null,
   "metadata": {},
   "outputs": [],
>>>>>>> upstream/master
   "source": [
    "df.apply(lambda x: x.max() - x.min())"
   ]
  },
  {
   "cell_type": "code",
   "execution_count": null,
<<<<<<< HEAD
   "metadata": {
    "collapsed": true
   },
=======
   "metadata": {},
>>>>>>> upstream/master
   "outputs": [],
   "source": [
    "# syntax is as usual similar to that of numpy arrays\n",
    "df['A']+df['B']"
   ]
  },
  {
   "cell_type": "markdown",
   "metadata": {},
   "source": [
    "Let's play it hard and load (in memory) a (relatively) large dataset"
   ]
  },
  {
   "cell_type": "code",
   "execution_count": null,
<<<<<<< HEAD
   "metadata": {
    "collapsed": true
   },
=======
   "metadata": {},
>>>>>>> upstream/master
   "outputs": [],
   "source": [
    "file_name=\"/Users/mzanetti/data/LEMMA2018/DT/raw/data_000636.txt\"\n",
    "data=pd.read_csv(file_name)\n",
    "data"
   ]
  },
  {
   "cell_type": "markdown",
   "metadata": {},
   "source": [
    "Let's know do some operations among (elements of) columns"
   ]
  },
  {
   "cell_type": "code",
<<<<<<< HEAD
   "execution_count": 62,
   "metadata": {},
   "outputs": [
    {
     "ename": "NameError",
     "evalue": "name 'data' is not defined",
     "output_type": "error",
     "traceback": [
      "\u001b[0;31m---------------------------------------------------------------------------\u001b[0m",
      "\u001b[0;31mNameError\u001b[0m                                 Traceback (most recent call last)",
      "\u001b[0;32m<ipython-input-62-c253bc222335>\u001b[0m in \u001b[0;36m<module>\u001b[0;34m()\u001b[0m\n\u001b[1;32m      1\u001b[0m \u001b[0;31m# the one-liner killing it all\u001b[0m\u001b[0;34m\u001b[0m\u001b[0;34m\u001b[0m\u001b[0m\n\u001b[0;32m----> 2\u001b[0;31m \u001b[0mdata\u001b[0m\u001b[0;34m[\u001b[0m\u001b[0;34m'timens'\u001b[0m\u001b[0;34m]\u001b[0m\u001b[0;34m=\u001b[0m\u001b[0mdata\u001b[0m\u001b[0;34m[\u001b[0m\u001b[0;34m'TDC_MEAS'\u001b[0m\u001b[0;34m]\u001b[0m\u001b[0;34m*\u001b[0m\u001b[0;36m25\u001b[0m\u001b[0;34m/\u001b[0m\u001b[0;36m30\u001b[0m\u001b[0;34m+\u001b[0m\u001b[0mdata\u001b[0m\u001b[0;34m[\u001b[0m\u001b[0;34m'BX_COUNTER'\u001b[0m\u001b[0;34m]\u001b[0m\u001b[0;34m*\u001b[0m\u001b[0;36m25\u001b[0m\u001b[0;34m\u001b[0m\u001b[0m\n\u001b[0m",
      "\u001b[0;31mNameError\u001b[0m: name 'data' is not defined"
     ]
    }
   ],
=======
   "execution_count": null,
   "metadata": {},
   "outputs": [],
>>>>>>> upstream/master
   "source": [
    "# the one-liner killing it all\n",
    "data['timens']=data['TDC_MEAS']*25/30+data['BX_COUNTER']*25"
   ]
  },
  {
   "cell_type": "code",
   "execution_count": null,
<<<<<<< HEAD
   "metadata": {
    "collapsed": true
   },
=======
   "metadata": {},
>>>>>>> upstream/master
   "outputs": [],
   "source": [
    "# the old slooow way\n",
    "def conversion(data):\n",
    "    result=[]\n",
    "    for i in range(len(data)): \n",
    "        result.append(data.loc[data.index[i],'TDC_MEAS']*25/30.+data.loc[data.index[i],'BX_COUNTER']*25)\n",
    "    return result\n",
    "\n",
    "data['timens']=conversion(data)"
   ]
  },
  {
<<<<<<< HEAD
   "cell_type": "code",
   "execution_count": null,
   "metadata": {
    "collapsed": true
   },
   "outputs": [],
   "source": [
    "data"
   ]
  },
  {
=======
>>>>>>> upstream/master
   "cell_type": "markdown",
   "metadata": {},
   "source": [
    "## Merge\n",
    "\n",
    "pandas provides various facilities for easily combining together Series, DataFrame, and Panel objects with various kinds of set logic for the indexes and relational algebra functionality in the case of join / merge-type operations.\n",
    "\n",
    "### Concat\n",
    "\n",
    "concatenation (adding raws) is straightforward\n"
   ]
  },
  {
   "cell_type": "code",
<<<<<<< HEAD
   "execution_count": 64,
   "metadata": {},
   "outputs": [
    {
     "data": {
      "text/html": [
       "<div>\n",
       "<style>\n",
       "    .dataframe thead tr:only-child th {\n",
       "        text-align: right;\n",
       "    }\n",
       "\n",
       "    .dataframe thead th {\n",
       "        text-align: left;\n",
       "    }\n",
       "\n",
       "    .dataframe tbody tr th {\n",
       "        vertical-align: top;\n",
       "    }\n",
       "</style>\n",
       "<table border=\"1\" class=\"dataframe\">\n",
       "  <thead>\n",
       "    <tr style=\"text-align: right;\">\n",
       "      <th></th>\n",
       "      <th>0</th>\n",
       "      <th>1</th>\n",
       "      <th>2</th>\n",
       "      <th>3</th>\n",
       "    </tr>\n",
       "  </thead>\n",
       "  <tbody>\n",
       "    <tr>\n",
       "      <th>0</th>\n",
       "      <td>-1.049414</td>\n",
       "      <td>0.820128</td>\n",
       "      <td>0.128645</td>\n",
       "      <td>-1.162330</td>\n",
       "    </tr>\n",
       "    <tr>\n",
       "      <th>1</th>\n",
       "      <td>0.173314</td>\n",
       "      <td>-0.976420</td>\n",
       "      <td>0.641359</td>\n",
       "      <td>-0.902169</td>\n",
       "    </tr>\n",
       "    <tr>\n",
       "      <th>2</th>\n",
       "      <td>-0.221305</td>\n",
       "      <td>-1.063162</td>\n",
       "      <td>2.510060</td>\n",
       "      <td>0.660396</td>\n",
       "    </tr>\n",
       "    <tr>\n",
       "      <th>3</th>\n",
       "      <td>-0.939623</td>\n",
       "      <td>-0.276786</td>\n",
       "      <td>-0.412475</td>\n",
       "      <td>0.339542</td>\n",
       "    </tr>\n",
       "    <tr>\n",
       "      <th>4</th>\n",
       "      <td>1.232887</td>\n",
       "      <td>1.208508</td>\n",
       "      <td>-0.752231</td>\n",
       "      <td>-1.451036</td>\n",
       "    </tr>\n",
       "    <tr>\n",
       "      <th>5</th>\n",
       "      <td>0.705880</td>\n",
       "      <td>2.456383</td>\n",
       "      <td>0.914220</td>\n",
       "      <td>0.511768</td>\n",
       "    </tr>\n",
       "    <tr>\n",
       "      <th>6</th>\n",
       "      <td>0.846069</td>\n",
       "      <td>0.981555</td>\n",
       "      <td>0.147665</td>\n",
       "      <td>0.139328</td>\n",
       "    </tr>\n",
       "    <tr>\n",
       "      <th>7</th>\n",
       "      <td>-1.223995</td>\n",
       "      <td>0.068636</td>\n",
       "      <td>-0.060324</td>\n",
       "      <td>1.240783</td>\n",
       "    </tr>\n",
       "    <tr>\n",
       "      <th>8</th>\n",
       "      <td>-1.238236</td>\n",
       "      <td>-0.948466</td>\n",
       "      <td>-0.506761</td>\n",
       "      <td>0.372885</td>\n",
       "    </tr>\n",
       "    <tr>\n",
       "      <th>9</th>\n",
       "      <td>2.942162</td>\n",
       "      <td>0.267705</td>\n",
       "      <td>-1.792429</td>\n",
       "      <td>0.357642</td>\n",
       "    </tr>\n",
       "  </tbody>\n",
       "</table>\n",
       "</div>"
      ],
      "text/plain": [
       "          0         1         2         3\n",
       "0 -1.049414  0.820128  0.128645 -1.162330\n",
       "1  0.173314 -0.976420  0.641359 -0.902169\n",
       "2 -0.221305 -1.063162  2.510060  0.660396\n",
       "3 -0.939623 -0.276786 -0.412475  0.339542\n",
       "4  1.232887  1.208508 -0.752231 -1.451036\n",
       "5  0.705880  2.456383  0.914220  0.511768\n",
       "6  0.846069  0.981555  0.147665  0.139328\n",
       "7 -1.223995  0.068636 -0.060324  1.240783\n",
       "8 -1.238236 -0.948466 -0.506761  0.372885\n",
       "9  2.942162  0.267705 -1.792429  0.357642"
      ]
     },
     "execution_count": 64,
     "metadata": {},
     "output_type": "execute_result"
    }
   ],
=======
   "execution_count": null,
   "metadata": {},
   "outputs": [],
>>>>>>> upstream/master
   "source": [
    "rdf = pd.DataFrame(np.random.randn(10, 4))\n",
    "rdf"
   ]
  },
  {
   "cell_type": "code",
<<<<<<< HEAD
   "execution_count": 65,
   "metadata": {},
   "outputs": [
    {
     "data": {
      "text/plain": [
       "[          0         1         2         3\n",
       " 0 -1.049414  0.820128  0.128645 -1.162330\n",
       " 1  0.173314 -0.976420  0.641359 -0.902169\n",
       " 2 -0.221305 -1.063162  2.510060  0.660396,\n",
       "           0         1         2         3\n",
       " 3 -0.939623 -0.276786 -0.412475  0.339542\n",
       " 4  1.232887  1.208508 -0.752231 -1.451036\n",
       " 5  0.705880  2.456383  0.914220  0.511768\n",
       " 6  0.846069  0.981555  0.147665  0.139328,\n",
       "           0         1         2         3\n",
       " 7 -1.223995  0.068636 -0.060324  1.240783\n",
       " 8 -1.238236 -0.948466 -0.506761  0.372885\n",
       " 9  2.942162  0.267705 -1.792429  0.357642]"
      ]
     },
     "execution_count": 65,
     "metadata": {},
     "output_type": "execute_result"
    }
   ],
=======
   "execution_count": null,
   "metadata": {},
   "outputs": [],
>>>>>>> upstream/master
   "source": [
    "# divide it into pieaces raw-wise\n",
    "pieces = [rdf[:3], rdf[3:7], rdf[7:]]\n",
    "pieces"
   ]
  },
  {
   "cell_type": "code",
<<<<<<< HEAD
   "execution_count": 66,
   "metadata": {},
   "outputs": [
    {
     "data": {
      "text/html": [
       "<div>\n",
       "<style>\n",
       "    .dataframe thead tr:only-child th {\n",
       "        text-align: right;\n",
       "    }\n",
       "\n",
       "    .dataframe thead th {\n",
       "        text-align: left;\n",
       "    }\n",
       "\n",
       "    .dataframe tbody tr th {\n",
       "        vertical-align: top;\n",
       "    }\n",
       "</style>\n",
       "<table border=\"1\" class=\"dataframe\">\n",
       "  <thead>\n",
       "    <tr style=\"text-align: right;\">\n",
       "      <th></th>\n",
       "      <th>0</th>\n",
       "      <th>1</th>\n",
       "      <th>2</th>\n",
       "      <th>3</th>\n",
       "    </tr>\n",
       "  </thead>\n",
       "  <tbody>\n",
       "    <tr>\n",
       "      <th>0</th>\n",
       "      <td>-1.049414</td>\n",
       "      <td>0.820128</td>\n",
       "      <td>0.128645</td>\n",
       "      <td>-1.162330</td>\n",
       "    </tr>\n",
       "    <tr>\n",
       "      <th>1</th>\n",
       "      <td>0.173314</td>\n",
       "      <td>-0.976420</td>\n",
       "      <td>0.641359</td>\n",
       "      <td>-0.902169</td>\n",
       "    </tr>\n",
       "    <tr>\n",
       "      <th>2</th>\n",
       "      <td>-0.221305</td>\n",
       "      <td>-1.063162</td>\n",
       "      <td>2.510060</td>\n",
       "      <td>0.660396</td>\n",
       "    </tr>\n",
       "    <tr>\n",
       "      <th>3</th>\n",
       "      <td>-0.939623</td>\n",
       "      <td>-0.276786</td>\n",
       "      <td>-0.412475</td>\n",
       "      <td>0.339542</td>\n",
       "    </tr>\n",
       "    <tr>\n",
       "      <th>4</th>\n",
       "      <td>1.232887</td>\n",
       "      <td>1.208508</td>\n",
       "      <td>-0.752231</td>\n",
       "      <td>-1.451036</td>\n",
       "    </tr>\n",
       "    <tr>\n",
       "      <th>5</th>\n",
       "      <td>0.705880</td>\n",
       "      <td>2.456383</td>\n",
       "      <td>0.914220</td>\n",
       "      <td>0.511768</td>\n",
       "    </tr>\n",
       "    <tr>\n",
       "      <th>6</th>\n",
       "      <td>0.846069</td>\n",
       "      <td>0.981555</td>\n",
       "      <td>0.147665</td>\n",
       "      <td>0.139328</td>\n",
       "    </tr>\n",
       "    <tr>\n",
       "      <th>7</th>\n",
       "      <td>-1.223995</td>\n",
       "      <td>0.068636</td>\n",
       "      <td>-0.060324</td>\n",
       "      <td>1.240783</td>\n",
       "    </tr>\n",
       "    <tr>\n",
       "      <th>8</th>\n",
       "      <td>-1.238236</td>\n",
       "      <td>-0.948466</td>\n",
       "      <td>-0.506761</td>\n",
       "      <td>0.372885</td>\n",
       "    </tr>\n",
       "    <tr>\n",
       "      <th>9</th>\n",
       "      <td>2.942162</td>\n",
       "      <td>0.267705</td>\n",
       "      <td>-1.792429</td>\n",
       "      <td>0.357642</td>\n",
       "    </tr>\n",
       "  </tbody>\n",
       "</table>\n",
       "</div>"
      ],
      "text/plain": [
       "          0         1         2         3\n",
       "0 -1.049414  0.820128  0.128645 -1.162330\n",
       "1  0.173314 -0.976420  0.641359 -0.902169\n",
       "2 -0.221305 -1.063162  2.510060  0.660396\n",
       "3 -0.939623 -0.276786 -0.412475  0.339542\n",
       "4  1.232887  1.208508 -0.752231 -1.451036\n",
       "5  0.705880  2.456383  0.914220  0.511768\n",
       "6  0.846069  0.981555  0.147665  0.139328\n",
       "7 -1.223995  0.068636 -0.060324  1.240783\n",
       "8 -1.238236 -0.948466 -0.506761  0.372885\n",
       "9  2.942162  0.267705 -1.792429  0.357642"
      ]
     },
     "execution_count": 66,
     "metadata": {},
     "output_type": "execute_result"
    }
   ],
=======
   "execution_count": null,
   "metadata": {},
   "outputs": [],
>>>>>>> upstream/master
   "source": [
    "# put it back together\n",
    "pd.concat(pieces)\n",
    "\n",
    "# indexes can be ignored\n",
    "#pd.concat(pieces, ignore_index=True)\n",
    "\n",
    "# in case of dimension mismatch, Nan are added where needed"
   ]
  },
  {
   "cell_type": "code",
<<<<<<< HEAD
   "execution_count": 67,
   "metadata": {},
   "outputs": [
    {
     "data": {
      "text/html": [
       "<div>\n",
       "<style>\n",
       "    .dataframe thead tr:only-child th {\n",
       "        text-align: right;\n",
       "    }\n",
       "\n",
       "    .dataframe thead th {\n",
       "        text-align: left;\n",
       "    }\n",
       "\n",
       "    .dataframe tbody tr th {\n",
       "        vertical-align: top;\n",
       "    }\n",
       "</style>\n",
       "<table border=\"1\" class=\"dataframe\">\n",
       "  <thead>\n",
       "    <tr style=\"text-align: right;\">\n",
       "      <th></th>\n",
       "      <th>0</th>\n",
       "      <th>1</th>\n",
       "      <th>2</th>\n",
       "      <th>3</th>\n",
       "    </tr>\n",
       "  </thead>\n",
       "  <tbody>\n",
       "    <tr>\n",
       "      <th>0</th>\n",
       "      <td>-1.049414</td>\n",
       "      <td>0.820128</td>\n",
       "      <td>0.128645</td>\n",
       "      <td>-1.162330</td>\n",
       "    </tr>\n",
       "    <tr>\n",
       "      <th>1</th>\n",
       "      <td>0.173314</td>\n",
       "      <td>-0.976420</td>\n",
       "      <td>0.641359</td>\n",
       "      <td>-0.902169</td>\n",
       "    </tr>\n",
       "    <tr>\n",
       "      <th>2</th>\n",
       "      <td>-0.221305</td>\n",
       "      <td>-1.063162</td>\n",
       "      <td>2.510060</td>\n",
       "      <td>0.660396</td>\n",
       "    </tr>\n",
       "    <tr>\n",
       "      <th>3</th>\n",
       "      <td>-0.939623</td>\n",
       "      <td>-0.276786</td>\n",
       "      <td>-0.412475</td>\n",
       "      <td>0.339542</td>\n",
       "    </tr>\n",
       "    <tr>\n",
       "      <th>4</th>\n",
       "      <td>1.232887</td>\n",
       "      <td>1.208508</td>\n",
       "      <td>-0.752231</td>\n",
       "      <td>-1.451036</td>\n",
       "    </tr>\n",
       "    <tr>\n",
       "      <th>5</th>\n",
       "      <td>0.705880</td>\n",
       "      <td>2.456383</td>\n",
       "      <td>0.914220</td>\n",
       "      <td>0.511768</td>\n",
       "    </tr>\n",
       "    <tr>\n",
       "      <th>6</th>\n",
       "      <td>0.846069</td>\n",
       "      <td>0.981555</td>\n",
       "      <td>0.147665</td>\n",
       "      <td>0.139328</td>\n",
       "    </tr>\n",
       "    <tr>\n",
       "      <th>7</th>\n",
       "      <td>-1.223995</td>\n",
       "      <td>0.068636</td>\n",
       "      <td>-0.060324</td>\n",
       "      <td>1.240783</td>\n",
       "    </tr>\n",
       "    <tr>\n",
       "      <th>8</th>\n",
       "      <td>-1.238236</td>\n",
       "      <td>-0.948466</td>\n",
       "      <td>-0.506761</td>\n",
       "      <td>0.372885</td>\n",
       "    </tr>\n",
       "    <tr>\n",
       "      <th>9</th>\n",
       "      <td>2.942162</td>\n",
       "      <td>0.267705</td>\n",
       "      <td>-1.792429</td>\n",
       "      <td>0.357642</td>\n",
       "    </tr>\n",
       "    <tr>\n",
       "      <th>10</th>\n",
       "      <td>-0.939623</td>\n",
       "      <td>-0.276786</td>\n",
       "      <td>-0.412475</td>\n",
       "      <td>0.339542</td>\n",
       "    </tr>\n",
       "  </tbody>\n",
       "</table>\n",
       "</div>"
      ],
      "text/plain": [
       "           0         1         2         3\n",
       "0  -1.049414  0.820128  0.128645 -1.162330\n",
       "1   0.173314 -0.976420  0.641359 -0.902169\n",
       "2  -0.221305 -1.063162  2.510060  0.660396\n",
       "3  -0.939623 -0.276786 -0.412475  0.339542\n",
       "4   1.232887  1.208508 -0.752231 -1.451036\n",
       "5   0.705880  2.456383  0.914220  0.511768\n",
       "6   0.846069  0.981555  0.147665  0.139328\n",
       "7  -1.223995  0.068636 -0.060324  1.240783\n",
       "8  -1.238236 -0.948466 -0.506761  0.372885\n",
       "9   2.942162  0.267705 -1.792429  0.357642\n",
       "10 -0.939623 -0.276786 -0.412475  0.339542"
      ]
     },
     "execution_count": 67,
     "metadata": {},
     "output_type": "execute_result"
    }
   ],
=======
   "execution_count": null,
   "metadata": {},
   "outputs": [],
>>>>>>> upstream/master
   "source": [
    "# appending a single raw (as a Series)\n",
    "s = rdf.iloc[3]\n",
    "rdf.append(s, ignore_index=True)\n"
   ]
  },
  {
   "cell_type": "markdown",
   "metadata": {},
   "source": [
    "### Merge/Join\n",
    "\n",
    "SQL like operations on table can be performed on DataFrames. This is all rather sophisticated, refer to the [doc](https://pandas.pydata.org/pandas-docs/stable/merging.html#merging) for more info/examples"
   ]
  },
  {
   "cell_type": "code",
<<<<<<< HEAD
   "execution_count": 68,
   "metadata": {},
   "outputs": [
    {
     "data": {
      "text/html": [
       "<div>\n",
       "<style>\n",
       "    .dataframe thead tr:only-child th {\n",
       "        text-align: right;\n",
       "    }\n",
       "\n",
       "    .dataframe thead th {\n",
       "        text-align: left;\n",
       "    }\n",
       "\n",
       "    .dataframe tbody tr th {\n",
       "        vertical-align: top;\n",
       "    }\n",
       "</style>\n",
       "<table border=\"1\" class=\"dataframe\">\n",
       "  <thead>\n",
       "    <tr style=\"text-align: right;\">\n",
       "      <th></th>\n",
       "      <th>key</th>\n",
       "      <th>lval</th>\n",
       "      <th>rval</th>\n",
       "    </tr>\n",
       "  </thead>\n",
       "  <tbody>\n",
       "    <tr>\n",
       "      <th>0</th>\n",
       "      <td>foo</td>\n",
       "      <td>1</td>\n",
       "      <td>4</td>\n",
       "    </tr>\n",
       "    <tr>\n",
       "      <th>1</th>\n",
       "      <td>bar</td>\n",
       "      <td>2</td>\n",
       "      <td>5</td>\n",
       "    </tr>\n",
       "  </tbody>\n",
       "</table>\n",
       "</div>"
      ],
      "text/plain": [
       "   key  lval  rval\n",
       "0  foo     1     4\n",
       "1  bar     2     5"
      ]
     },
     "execution_count": 68,
     "metadata": {},
     "output_type": "execute_result"
    }
   ],
=======
   "execution_count": null,
   "metadata": {},
   "outputs": [],
>>>>>>> upstream/master
   "source": [
    "left = pd.DataFrame({'key': ['foo', 'bar'], 'lval': [1, 2]})\n",
    "right = pd.DataFrame({'key': ['foo', 'bar'], 'rval': [4, 5]})\n",
    "\n",
    "pd.merge(left,right,on=\"key\")"
   ]
  },
  {
   "cell_type": "markdown",
   "metadata": {},
   "source": [
    "## Grouping\n",
    "\n",
    "By “group by” we are referring to a process involving one or more of the following steps:\n",
    "\n",
    "* Splitting the data into groups based on some criteria\n",
    "* Applying a function to each group independently\n",
    "* Combining the results into a data structure\n"
   ]
  },
  {
   "cell_type": "code",
<<<<<<< HEAD
   "execution_count": 69,
   "metadata": {},
   "outputs": [
    {
     "data": {
      "text/html": [
       "<div>\n",
       "<style>\n",
       "    .dataframe thead tr:only-child th {\n",
       "        text-align: right;\n",
       "    }\n",
       "\n",
       "    .dataframe thead th {\n",
       "        text-align: left;\n",
       "    }\n",
       "\n",
       "    .dataframe tbody tr th {\n",
       "        vertical-align: top;\n",
       "    }\n",
       "</style>\n",
       "<table border=\"1\" class=\"dataframe\">\n",
       "  <thead>\n",
       "    <tr style=\"text-align: right;\">\n",
       "      <th></th>\n",
       "      <th>A</th>\n",
       "      <th>B</th>\n",
       "      <th>C</th>\n",
       "      <th>D</th>\n",
       "    </tr>\n",
       "  </thead>\n",
       "  <tbody>\n",
       "    <tr>\n",
       "      <th>0</th>\n",
       "      <td>foo</td>\n",
       "      <td>one</td>\n",
       "      <td>0.255512</td>\n",
       "      <td>-0.506791</td>\n",
       "    </tr>\n",
       "    <tr>\n",
       "      <th>1</th>\n",
       "      <td>bar</td>\n",
       "      <td>one</td>\n",
       "      <td>-1.750307</td>\n",
       "      <td>0.955421</td>\n",
       "    </tr>\n",
       "    <tr>\n",
       "      <th>2</th>\n",
       "      <td>foo</td>\n",
       "      <td>two</td>\n",
       "      <td>-0.430761</td>\n",
       "      <td>0.439180</td>\n",
       "    </tr>\n",
       "    <tr>\n",
       "      <th>3</th>\n",
       "      <td>bar</td>\n",
       "      <td>three</td>\n",
       "      <td>0.194861</td>\n",
       "      <td>0.271279</td>\n",
       "    </tr>\n",
       "    <tr>\n",
       "      <th>4</th>\n",
       "      <td>foo</td>\n",
       "      <td>two</td>\n",
       "      <td>-0.470551</td>\n",
       "      <td>-1.628558</td>\n",
       "    </tr>\n",
       "    <tr>\n",
       "      <th>5</th>\n",
       "      <td>bar</td>\n",
       "      <td>two</td>\n",
       "      <td>1.648853</td>\n",
       "      <td>-0.658251</td>\n",
       "    </tr>\n",
       "    <tr>\n",
       "      <th>6</th>\n",
       "      <td>foo</td>\n",
       "      <td>one</td>\n",
       "      <td>1.346090</td>\n",
       "      <td>0.372234</td>\n",
       "    </tr>\n",
       "    <tr>\n",
       "      <th>7</th>\n",
       "      <td>foo</td>\n",
       "      <td>three</td>\n",
       "      <td>-0.340547</td>\n",
       "      <td>-1.512627</td>\n",
       "    </tr>\n",
       "  </tbody>\n",
       "</table>\n",
       "</div>"
      ],
      "text/plain": [
       "     A      B         C         D\n",
       "0  foo    one  0.255512 -0.506791\n",
       "1  bar    one -1.750307  0.955421\n",
       "2  foo    two -0.430761  0.439180\n",
       "3  bar  three  0.194861  0.271279\n",
       "4  foo    two -0.470551 -1.628558\n",
       "5  bar    two  1.648853 -0.658251\n",
       "6  foo    one  1.346090  0.372234\n",
       "7  foo  three -0.340547 -1.512627"
      ]
     },
     "execution_count": 69,
     "metadata": {},
     "output_type": "execute_result"
    }
   ],
=======
   "execution_count": null,
   "metadata": {},
   "outputs": [],
>>>>>>> upstream/master
   "source": [
    "gdf = pd.DataFrame({'A' : ['foo', 'bar', 'foo', 'bar',\n",
    "                          'foo', 'bar', 'foo', 'foo'],\n",
    "                    'B' : ['one', 'one', 'two', 'three',\n",
    "                           'two', 'two', 'one', 'three'],\n",
    "                    'C' : np.random.randn(8),\n",
    "                    'D' : np.random.randn(8)})\n",
    "gdf"
   ]
  },
  {
   "cell_type": "code",
<<<<<<< HEAD
   "execution_count": 70,
   "metadata": {},
   "outputs": [
    {
     "data": {
      "text/html": [
       "<div>\n",
       "<style>\n",
       "    .dataframe thead tr:only-child th {\n",
       "        text-align: right;\n",
       "    }\n",
       "\n",
       "    .dataframe thead th {\n",
       "        text-align: left;\n",
       "    }\n",
       "\n",
       "    .dataframe tbody tr th {\n",
       "        vertical-align: top;\n",
       "    }\n",
       "</style>\n",
       "<table border=\"1\" class=\"dataframe\">\n",
       "  <thead>\n",
       "    <tr style=\"text-align: right;\">\n",
       "      <th></th>\n",
       "      <th>C</th>\n",
       "      <th>D</th>\n",
       "    </tr>\n",
       "    <tr>\n",
       "      <th>A</th>\n",
       "      <th></th>\n",
       "      <th></th>\n",
       "    </tr>\n",
       "  </thead>\n",
       "  <tbody>\n",
       "    <tr>\n",
       "      <th>bar</th>\n",
       "      <td>0.093407</td>\n",
       "      <td>0.568448</td>\n",
       "    </tr>\n",
       "    <tr>\n",
       "      <th>foo</th>\n",
       "      <td>0.359743</td>\n",
       "      <td>-2.836561</td>\n",
       "    </tr>\n",
       "  </tbody>\n",
       "</table>\n",
       "</div>"
      ],
      "text/plain": [
       "            C         D\n",
       "A                      \n",
       "bar  0.093407  0.568448\n",
       "foo  0.359743 -2.836561"
      ]
     },
     "execution_count": 70,
     "metadata": {},
     "output_type": "execute_result"
    }
   ],
=======
   "execution_count": null,
   "metadata": {},
   "outputs": [],
>>>>>>> upstream/master
   "source": [
    "# Grouping and then applying the sum() \n",
    "# function to the resulting groups (effective only where number are there).\n",
    "gdf.groupby('A').sum()"
   ]
  },
  {
   "cell_type": "markdown",
   "metadata": {},
   "source": [
    "## Multi-indexing\n",
    "\n",
    "\n",
    "Hierarchical / Multi-level indexing allows sophisticated data analysis on higher dimensional data. In essence, it enables you to store and manipulate data with an arbitrary number of dimensions in lower dimensional data structures like Series (1d) and DataFrame (2d)."
   ]
  },
  {
   "cell_type": "code",
<<<<<<< HEAD
   "execution_count": 72,
   "metadata": {},
   "outputs": [
    {
     "name": "stdout",
     "output_type": "stream",
     "text": [
      "MultiIndex(levels=[['bar', 'baz', 'foo', 'qux'], ['one', 'two']],\n",
      "           labels=[[0, 0, 1, 1, 2, 2, 3, 3], [0, 1, 0, 1, 0, 1, 0, 1]],\n",
      "           names=['first', 'second']) \n",
      "\n",
      "first  second\n",
      "bar    one      -0.844276\n",
      "       two       1.466100\n",
      "baz    one       0.976216\n",
      "       two       1.073677\n",
      "foo    one       0.375283\n",
      "       two       1.259811\n",
      "qux    one      -0.963096\n",
      "       two       0.234469\n",
      "dtype: float64\n"
     ]
    }
   ],
=======
   "execution_count": null,
   "metadata": {},
   "outputs": [],
>>>>>>> upstream/master
   "source": [
    "tuples = list(zip(['bar', 'bar', 'baz', 'baz', 'foo', 'foo', 'qux', 'qux'],\n",
    "          ['one', 'two', 'one', 'two', 'one', 'two', 'one', 'two']))\n",
    "multi_index = pd.MultiIndex.from_tuples(tuples, names=['first', 'second'])\n",
<<<<<<< HEAD
    "print (multi_index,'\\n')\n",
=======
    "print (index,'\\n')\n",
>>>>>>> upstream/master
    "\n",
    "s = pd.Series(np.random.randn(8), index=multi_index)\n",
    "print (s)\n"
   ]
  },
  {
   "cell_type": "code",
<<<<<<< HEAD
   "execution_count": 73,
   "metadata": {},
   "outputs": [
    {
     "data": {
      "text/html": [
       "<div>\n",
       "<style>\n",
       "    .dataframe thead tr:only-child th {\n",
       "        text-align: right;\n",
       "    }\n",
       "\n",
       "    .dataframe thead th {\n",
       "        text-align: left;\n",
       "    }\n",
       "\n",
       "    .dataframe tbody tr th {\n",
       "        vertical-align: top;\n",
       "    }\n",
       "</style>\n",
       "<table border=\"1\" class=\"dataframe\">\n",
       "  <thead>\n",
       "    <tr style=\"text-align: right;\">\n",
       "      <th></th>\n",
       "      <th></th>\n",
       "      <th>C</th>\n",
       "      <th>D</th>\n",
       "    </tr>\n",
       "    <tr>\n",
       "      <th>A</th>\n",
       "      <th>B</th>\n",
       "      <th></th>\n",
       "      <th></th>\n",
       "    </tr>\n",
       "  </thead>\n",
       "  <tbody>\n",
       "    <tr>\n",
       "      <th rowspan=\"3\" valign=\"top\">bar</th>\n",
       "      <th>one</th>\n",
       "      <td>-1.750307</td>\n",
       "      <td>0.955421</td>\n",
       "    </tr>\n",
       "    <tr>\n",
       "      <th>three</th>\n",
       "      <td>0.194861</td>\n",
       "      <td>0.271279</td>\n",
       "    </tr>\n",
       "    <tr>\n",
       "      <th>two</th>\n",
       "      <td>1.648853</td>\n",
       "      <td>-0.658251</td>\n",
       "    </tr>\n",
       "    <tr>\n",
       "      <th rowspan=\"3\" valign=\"top\">foo</th>\n",
       "      <th>one</th>\n",
       "      <td>1.601601</td>\n",
       "      <td>-0.134556</td>\n",
       "    </tr>\n",
       "    <tr>\n",
       "      <th>three</th>\n",
       "      <td>-0.340547</td>\n",
       "      <td>-1.512627</td>\n",
       "    </tr>\n",
       "    <tr>\n",
       "      <th>two</th>\n",
       "      <td>-0.901312</td>\n",
       "      <td>-1.189378</td>\n",
       "    </tr>\n",
       "  </tbody>\n",
       "</table>\n",
       "</div>"
      ],
      "text/plain": [
       "                  C         D\n",
       "A   B                        \n",
       "bar one   -1.750307  0.955421\n",
       "    three  0.194861  0.271279\n",
       "    two    1.648853 -0.658251\n",
       "foo one    1.601601 -0.134556\n",
       "    three -0.340547 -1.512627\n",
       "    two   -0.901312 -1.189378"
      ]
     },
     "execution_count": 73,
     "metadata": {},
     "output_type": "execute_result"
    }
   ],
=======
   "execution_count": null,
   "metadata": {},
   "outputs": [],
>>>>>>> upstream/master
   "source": [
    "# it enables further features of the groupby method,\n",
    "# e.g. when group-by by multiple columns\n",
    "gdf.groupby(['A','B']).sum()"
   ]
  },
  {
   "cell_type": "code",
<<<<<<< HEAD
   "execution_count": 74,
   "metadata": {},
   "outputs": [
    {
     "data": {
      "text/plain": [
       "A    B       \n",
       "bar  one    C   -1.750307\n",
       "            D    0.955421\n",
       "     three  C    0.194861\n",
       "            D    0.271279\n",
       "     two    C    1.648853\n",
       "            D   -0.658251\n",
       "foo  one    C    1.601601\n",
       "            D   -0.134556\n",
       "     three  C   -0.340547\n",
       "            D   -1.512627\n",
       "     two    C   -0.901312\n",
       "            D   -1.189378\n",
       "dtype: float64"
      ]
     },
     "execution_count": 74,
     "metadata": {},
     "output_type": "execute_result"
    }
   ],
=======
   "execution_count": null,
   "metadata": {},
   "outputs": [],
>>>>>>> upstream/master
   "source": [
    "# stack() method “compresses” a level in the DataFrame’s columns\n",
    "gdf.groupby(['A','B']).sum().stack()"
   ]
  },
  {
   "cell_type": "markdown",
   "metadata": {},
   "source": [
    "## Plotting\n",
    "\n",
    "Just a preview, more on the next lab class!"
   ]
  },
  {
   "cell_type": "code",
<<<<<<< HEAD
   "execution_count": 77,
   "metadata": {},
   "outputs": [
    {
     "data": {
      "text/plain": [
       "<matplotlib.axes._subplots.AxesSubplot at 0x7f175f0389b0>"
      ]
     },
     "execution_count": 77,
     "metadata": {},
     "output_type": "execute_result"
    },
    {
     "data": {
      "image/png": "iVBORw0KGgoAAAANSUhEUgAAAXwAAAEHCAYAAACtAv3IAAAABHNCSVQICAgIfAhkiAAAAAlwSFlz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\nQkQJCfhCCBElJOALIUSUkIAvhBBR4v8DbphIrtgdoxIAAAAASUVORK5CYII=\n",
      "text/plain": [
       "<matplotlib.figure.Figure at 0x7f175f0380b8>"
      ]
     },
     "metadata": {},
     "output_type": "display_data"
    }
   ],
   "source": [
    "%matplotlib inline\n",
=======
   "execution_count": null,
   "metadata": {},
   "outputs": [],
   "source": [
>>>>>>> upstream/master
    "ts = pd.Series(np.random.randn(1000), index=pd.date_range('1/1/2000', periods=1000))\n",
    "ts.cumsum().plot()"
   ]
  },
  {
   "cell_type": "code",
<<<<<<< HEAD
   "execution_count": 78,
   "metadata": {},
   "outputs": [
    {
     "ename": "NameError",
     "evalue": "name 'plt' is not defined",
     "output_type": "error",
     "traceback": [
      "\u001b[0;31m---------------------------------------------------------------------------\u001b[0m",
      "\u001b[0;31mNameError\u001b[0m                                 Traceback (most recent call last)",
      "\u001b[0;32m<ipython-input-78-9f90efad77e5>\u001b[0m in \u001b[0;36m<module>\u001b[0;34m()\u001b[0m\n\u001b[1;32m      2\u001b[0m \u001b[0mdf\u001b[0m \u001b[0;34m=\u001b[0m \u001b[0mdf\u001b[0m\u001b[0;34m.\u001b[0m\u001b[0mcumsum\u001b[0m\u001b[0;34m(\u001b[0m\u001b[0;34m)\u001b[0m\u001b[0;34m\u001b[0m\u001b[0m\n\u001b[1;32m      3\u001b[0m \u001b[0;34m\u001b[0m\u001b[0m\n\u001b[0;32m----> 4\u001b[0;31m \u001b[0mplt\u001b[0m\u001b[0;34m.\u001b[0m\u001b[0mfigure\u001b[0m\u001b[0;34m(\u001b[0m\u001b[0;34m)\u001b[0m\u001b[0;34m;\u001b[0m \u001b[0mdf\u001b[0m\u001b[0;34m.\u001b[0m\u001b[0mplot\u001b[0m\u001b[0;34m(\u001b[0m\u001b[0;34m)\u001b[0m\u001b[0;34m;\u001b[0m \u001b[0mplt\u001b[0m\u001b[0;34m.\u001b[0m\u001b[0mlegend\u001b[0m\u001b[0;34m(\u001b[0m\u001b[0mloc\u001b[0m\u001b[0;34m=\u001b[0m\u001b[0;34m'best'\u001b[0m\u001b[0;34m)\u001b[0m\u001b[0;34m\u001b[0m\u001b[0m\n\u001b[0m",
      "\u001b[0;31mNameError\u001b[0m: name 'plt' is not defined"
     ]
    }
   ],
   "source": [
    "impo\n",
    "pdf=pd.DataFrame(np.random.randn(1000, 4), index=ts.index,columns=['A', 'B', 'C', 'D'])\n",
    "df = df.cumsum()\n",
    "\n",
=======
   "execution_count": null,
   "metadata": {},
   "outputs": [],
   "source": [
    "pdf=pd.DataFrame(np.random.randn(1000, 4), index=ts.index,columns=['A', 'B', 'C', 'D'])\n",
    "df = df.cumsum()\n",
>>>>>>> upstream/master
    "plt.figure(); df.plot(); plt.legend(loc='best')"
   ]
  },
  {
   "cell_type": "code",
   "execution_count": null,
<<<<<<< HEAD
   "metadata": {
    "collapsed": true
   },
=======
   "metadata": {},
>>>>>>> upstream/master
   "outputs": [],
   "source": []
  }
 ],
 "metadata": {
  "kernelspec": {
   "display_name": "Python 3",
   "language": "python",
   "name": "python3"
  },
  "language_info": {
   "codemirror_mode": {
    "name": "ipython",
    "version": 3
   },
   "file_extension": ".py",
   "mimetype": "text/x-python",
   "name": "python",
   "nbconvert_exporter": "python",
   "pygments_lexer": "ipython3",
<<<<<<< HEAD
   "version": "3.6.3"
=======
   "version": "3.5.4"
>>>>>>> upstream/master
  }
 },
 "nbformat": 4,
 "nbformat_minor": 2
}
