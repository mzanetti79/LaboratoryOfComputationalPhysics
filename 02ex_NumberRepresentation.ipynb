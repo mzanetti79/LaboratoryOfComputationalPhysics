{
 "cells": [
  {
   "cell_type": "markdown",
   "metadata": {},
   "source": [
    "1\\. Write a function that converts number representation (bin<->dec<->hex)"
   ]
  },
  {
   "cell_type": "code",
   "execution_count": 1,
   "metadata": {},
   "outputs": [
    {
     "name": "stdout",
     "output_type": "stream",
     "text": [
      "Type the decimal or string binary or hexadecimal number you want to convert \n",
      " (insert 0b-- for binary and 0x-- for hexadecimal in front of the number)\n",
      "39488575769\n",
      "Type: \n",
      " 'dec' for decimal conversion \n",
      " '2' for binary conversion \n",
      " '16' for hexadecimal conversion \n",
      "16\n",
      "dec --> hex\n",
      "39488575769  -->  0x931b3d919\n"
     ]
    }
   ],
   "source": [
    "def bin_dec_hex(number,base):\n",
    "    \n",
    "    #DICTIONARIES FOR HEX<-->DEC TRANSLATION\n",
    "    hex_dec={'a':10, 'b':11, 'c':12, 'd':13, 'e':14, 'f':15,'1':1,'2':2, '3':3,'4':4,'5':5,'6':6,'7':7,'8':8,'9':9,'0':0}\n",
    "    dec_hex={p:q for q,p in hex_dec.items()}\n",
    "    \n",
    "    a=[x for x in number]\n",
    "    #CONVERSION TO DECIMAL\n",
    "    if base=='dec':\n",
    "        out=0\n",
    "        \n",
    "        #Binary case\n",
    "        if a[1]=='b':\n",
    "            print('bin --> dec')\n",
    "            for i in range(2,len(a)):\n",
    "                out += int(a[i])*(2**(len(a)-(i+1)))\n",
    "            return out\n",
    "        \n",
    "        #Hexadecimal case\n",
    "        elif a[1]=='x':\n",
    "            print('hex --> dec')\n",
    "            for i in range(2,len(a)):\n",
    "                out += (int(hex_dec[a[i]])*(16**(len(a)-(i+1)))) \n",
    "            return out\n",
    "            \n",
    "    #CONVERSION TO BINARY            \n",
    "    elif base=='2':\n",
    "        out=[0,'b']\n",
    "        \n",
    "        if len(a)>=3 and a[1]=='x':\n",
    "            print('hex --> bin')\n",
    "            \n",
    "            ##Converts hex --> dec\n",
    "            temp=0\n",
    "            for i in range(2,len(a)):\n",
    "                temp += (int(hex_dec[a[i]])*(16**(len(a)-(i+1))))\n",
    "            a=temp\n",
    "            \n",
    "        else:\n",
    "            a=int(number)\n",
    "            print('dec --> bin')\n",
    "            \n",
    "        ##Converts dec --> bin   \n",
    "        i=64\n",
    "        j='none'\n",
    "        while i>=0:\n",
    "            if a>=(2**i):\n",
    "                j=i\n",
    "                out.append(1)\n",
    "                a=a-(2**i)\n",
    "            elif j!='none':\n",
    "                out.append(0)\n",
    "            i-=1\n",
    "        out=''.join(map(str, out))\n",
    "        return out\n",
    "\n",
    "    #CONVERSION TO HEXADECIMAL\n",
    "    elif base=='16':\n",
    "        out=[0,'x']\n",
    "        \n",
    "        if len(a)>=3 and a[1]=='b':\n",
    "            print('bin --> hex')\n",
    "            \n",
    "            ##Converts bin --> dec\n",
    "            temp=0\n",
    "            for i in range(2,len(a)):\n",
    "                temp += int(a[i])*(2**(len(a)-(i+1)))\n",
    "            a=temp\n",
    "            \n",
    "        else:\n",
    "            a=int(number)\n",
    "            print('dec --> hex')\n",
    "            \n",
    "        ##Converts dec --> hex\n",
    "        i=64\n",
    "        j='none'\n",
    "        while i>=0:\n",
    "            count=0\n",
    "            if a>=(16**i):\n",
    "                j=i\n",
    "                while a>=16**i:\n",
    "                    count+=1\n",
    "                    a=a-(16**i)\n",
    "                out.append(dec_hex[count])\n",
    "            elif j!='none':\n",
    "                out.append(0)\n",
    "            i-=1\n",
    "        out=''.join(map(str, out))\n",
    "        return out\n",
    "    \n",
    "    else:\n",
    "        print('INPUT ERROR')\n",
    "        return 0\n",
    " \n",
    "\n",
    "number=input(\"Type the decimal or string binary or hexadecimal number you want to convert \\n (insert 0b-- for binary and 0x-- for hexadecimal in front of the number)\\n\")\n",
    "base=input(\"Type: \\n 'dec' for decimal conversion \\n '2' for binary conversion \\n '16' for hexadecimal conversion \\n\")\n",
    "\n",
    "print(number,' --> ', bin_dec_hex(number, base))"
   ]
  },
  {
   "cell_type": "markdown",
   "metadata": {},
   "source": [
    "2\\. Write a function that converts a 32 bit word into a single precision floating point (i.e. interprets the various bits as sign, mantissa and exponent)"
   ]
  },
  {
   "cell_type": "code",
   "execution_count": 2,
   "metadata": {},
   "outputs": [
    {
     "name": "stdout",
     "output_type": "stream",
     "text": [
      "INPUT IS NOT decimal -->\n",
      "bin --> dec\n",
      "1.6806566804916656e-08 \n",
      "\n",
      "INPUT IS decimal -->\n",
      "1.6806566804916656e-08 \n",
      "\n",
      "INPUT IS decimal -->\n",
      "-22352.666015625 \n",
      "\n"
     ]
    }
   ],
   "source": [
    "def floating_point(string):\n",
    "    #Masks\n",
    "    mantissa_mask=8388607           #0b11111111111111111111111\n",
    "    exp_mask=2139095040     #0b1111111100000000000000000000000\n",
    "    sign_mask=2147483648   #0b10000000000000000000000000000000\n",
    "    one=8388608                    #0b100000000000000000000000\n",
    "    bias=127\n",
    "    \n",
    "    string=str(string)\n",
    "    string_test=[x for x in string]\n",
    "    integer=False\n",
    "    \n",
    "    #Checking input format (decimal or binary)\n",
    "    for i in range(len(string_test)):\n",
    "        if string_test[i]!='0' and string_test[i]!='1' and string_test[i]!='b':\n",
    "            print('INPUT IS decimal -->')\n",
    "            string_int=int(string)\n",
    "            integer=True\n",
    "            break\n",
    "    if integer==False:\n",
    "        print('INPUT IS NOT decimal -->')\n",
    "        if string_test[1]=='b':\n",
    "            string_int=bin_dec_hex(string,'dec')\n",
    "        else: #Change input to fit function request\n",
    "            string_bin=[0,'b']\n",
    "            for x in string:\n",
    "                string_bin.append(x)\n",
    "            string_bin=''.join(map(str, string_bin))\n",
    "            string_int=bin_dec_hex(string_bin,'dec')\n",
    "    \n",
    "    #Mantissa\n",
    "    mant=(((string_int&mantissa_mask)|one)/(2**23))\n",
    "    \n",
    "    #Exponent\n",
    "    exp=(string_int & exp_mask)>>23\n",
    "    \n",
    "    #Sign\n",
    "    sign=(-1)**((string_int & sign_mask)>>31)\n",
    "    \n",
    "    #EXCEPTIONS\n",
    "    if exp==255:\n",
    "        if (string_int&mantissa_mask)>0:\n",
    "            print('NaN')\n",
    "            return 0\n",
    "        elif (string_int&mantissa_mask)==0:\n",
    "            if ((string_int & sign_mask)>>31)==0:\n",
    "                print('+INF')\n",
    "                return 0\n",
    "            elif ((string_int & sign_mask)>>31)==1:\n",
    "                print('-INF')\n",
    "                return 0\n",
    "    else:\n",
    "        floating_point_number=sign*mant*(2**(exp - bias))\n",
    "        return floating_point_number\n",
    "\n",
    "print(floating_point('0b100110010100100000101111000001000'),'\\n')\n",
    "print(floating_point(5143289352),'\\n')\n",
    "print(floating_point(3333333333),'\\n')"
   ]
  },
  {
   "cell_type": "markdown",
   "metadata": {},
   "source": [
    "3\\. Write a program to determine the underflow and overflow limits (within a factor of 2) for python on your computer. \n",
    "\n",
    "**Tips**: define two variables inizialized to 1 and halve/double them enough time to exceed the under/over-flow limits  "
   ]
  },
  {
   "cell_type": "code",
   "execution_count": 3,
   "metadata": {},
   "outputs": [
    {
     "name": "stdout",
     "output_type": "stream",
     "text": [
      "5e-324\n",
      "8.98846567431158e+307\n"
     ]
    }
   ],
   "source": [
    "underflow=1\n",
    "overflow=float(1)\n",
    "\n",
    "while underflow!=0:\n",
    "    r_underflow=underflow\n",
    "    underflow/=2\n",
    "print(r_underflow)\n",
    "\n",
    "while overflow<overflow*2:\n",
    "    r_overflow=overflow\n",
    "    overflow*=2\n",
    "print(r_overflow)"
   ]
  },
  {
   "cell_type": "markdown",
   "metadata": {},
   "source": [
    "4\\. Write a program to determine the machine precision\n",
    "\n",
    "**Tips**: define a new variable by adding a smaller and smaller value (proceeding similarly to prob. 2) to an original variable and check the point where the two are the same "
   ]
  },
  {
   "cell_type": "code",
   "execution_count": 4,
   "metadata": {},
   "outputs": [
    {
     "name": "stdout",
     "output_type": "stream",
     "text": [
      "2.220446049250313e-16\n"
     ]
    }
   ],
   "source": [
    "a=1\n",
    "b=1\n",
    "while a!=a+b:\n",
    "    precision=b\n",
    "    b/=2\n",
    "print(precision)"
   ]
  },
  {
   "cell_type": "markdown",
   "metadata": {},
   "source": [
    "5\\. Write a function that takes in input three parameters $a$, $b$ and $c$ and prints out the two solutions to the quadratic equation $ax^2+bx+c=0$ using the standard formula:\n",
    "$$\n",
    "x=\\frac{-b\\pm\\sqrt{b^2-4ac}}{2a}\n",
    "$$\n",
    "\n",
    "(a) use the program to compute the solution for $a=0.001$, $b=1000$ and $c=0.001$\n",
    "\n",
    "(b) re-express the standard solution formula by multiplying top and bottom by $-b\\mp\\sqrt{b^2-4ac}$ and again find the solution for $a=0.001$, $b=1000$ and $c=0.001$. How does it compare with what previously obtained? Why?\n",
    "\n",
    "(c) write a function that compute the roots of a quadratic equation accurately in all cases"
   ]
  },
  {
   "cell_type": "markdown",
   "metadata": {},
   "source": [
    "$\\textbf{(b) Explanation}$:\n",
    "\n",
    "The difference between the first and the second method is that they swap the \"subtraction problem\" between the smaller and the bigger root. \"Subtraction problem\" expression stands for the fact that the final result comes from a subtraction between a value and an other one which is too little to compute correctly the difference (due to the presicion of the machine in storing the number).\n",
    "\n",
    "This way, the third function avoids this problem by using only \"summing\" expressions."
   ]
  },
  {
   "cell_type": "code",
   "execution_count": 5,
   "metadata": {},
   "outputs": [
    {
     "name": "stdout",
     "output_type": "stream",
     "text": [
      "(a) --> (-9.999894245993346e-07, -999999.999999)\n",
      "(b) --> (-1.000000000001e-06, -1000010.5755125057)\n",
      "(c) --> (-1.000000000001e-06, -999999.999999)\n"
     ]
    }
   ],
   "source": [
    "#(a)\n",
    "def roots(a,b,c):\n",
    "    x_plus=(-b + (b**2 - 4*a*c)**0.5)/(2*a)\n",
    "    x_minus=(-b - (b**2 - 4*a*c)**0.5)/(2*a)\n",
    "    return x_plus, x_minus\n",
    "\n",
    "#(b)\n",
    "def roots_mod(a,b,c):\n",
    "    x_plus_mod=(2*c)/(-b - (b**2 - 4*a*c)**0.5)\n",
    "    x_minus_mod=(2*c)/(-b + (b**2 - 4*a*c)**0.5)\n",
    "    return x_plus_mod, x_minus_mod\n",
    "\n",
    "#(c)\n",
    "def roots_good(a,b,c):\n",
    "    if b>0:\n",
    "        return (2*c)/(-b - (b**2 - 4*a*c)**0.5), (-b - (b**2 - 4*a*c)**0.5)/(2*a)\n",
    "    else:\n",
    "        return (-b + (b**2 - 4*a*c)**0.5)/(2*a), (2*c)/(-b + (b**2 - 4*a*c)**0.5)\n",
    "\n",
    "\n",
    "a,b,c=0.001,1000,0.001\n",
    "\n",
    "print('(a) -->', roots(a,b,c))\n",
    "print('(b) -->', roots_mod(a,b,c))\n",
    "print('(c) -->', roots_good(a,b,c))\n"
   ]
  },
  {
   "cell_type": "markdown",
   "metadata": {},
   "source": [
    "6\\. Write a program that implements the function $f(x)=x(x−1)$\n",
    "\n",
    "(a) Calculate the derivative of the function at the point $x = 1$ using the derivative definition:\n",
    "\n",
    "$$\n",
    "\\frac{{\\rm d}f}{{\\rm d}x} = \\lim_{\\delta\\to0} \\frac{f(x+\\delta)-f(x)}{\\delta}\n",
    "$$\n",
    "\n",
    "with $\\delta = 10^{−2}$. Calculate the true value of the same derivative analytically and compare with the answer your program gives. The two will not agree perfectly. Why not?\n",
    "\n",
    "(b) Repeat the calculation for $\\delta = 10^{−4}, 10^{−6}, 10^{−8}, 10^{−10}, 10^{−12}$ and $10^{−14}$. How does the accuracy scales with $\\delta$?"
   ]
  },
  {
   "cell_type": "code",
   "execution_count": 6,
   "metadata": {},
   "outputs": [
    {
     "name": "stdout",
     "output_type": "stream",
     "text": [
      "Increment: 0.01\n",
      "Definition: 1.010000000000001\n",
      "Analitically: 1\n"
     ]
    }
   ],
   "source": [
    "#(a)\n",
    "def f(x):\n",
    "    return x*(x-1)\n",
    "\n",
    "def defi(x,h):\n",
    "    return (f(x+h)-f(x))/h\n",
    "\n",
    "def anly(x):\n",
    "    return (2*x-1)\n",
    "\n",
    "delta=10**(-2)\n",
    "print('Increment:',delta)\n",
    "print('Definition:',defi(1,delta))\n",
    "print('Analitically:',anly(1))"
   ]
  },
  {
   "cell_type": "markdown",
   "metadata": {},
   "source": [
    "$\\textbf{(a) Explanation:}$\n",
    "\n",
    "The reason why the two results are not the same is because the limit operation cannot be performed properly on a machine.\n",
    "In this particular case the value of f(x+h) and the value of f(x) are stored in memory with finite precision which yelds to obtaining non zero digits in the fractional part."
   ]
  },
  {
   "cell_type": "code",
   "execution_count": 7,
   "metadata": {},
   "outputs": [
    {
     "name": "stdout",
     "output_type": "stream",
     "text": [
      "Increment: 0.0001\n",
      "Definition: 1.0000999999998899\n",
      "Analitically: 1 \n",
      "\n",
      "Increment: 1e-06\n",
      "Definition: 1.0000009999177333\n",
      "Analitically: 1 \n",
      "\n",
      "Increment: 1e-08\n",
      "Definition: 1.0000000039225287\n",
      "Analitically: 1 \n",
      "\n",
      "Increment: 1e-10\n",
      "Definition: 1.000000082840371\n",
      "Analitically: 1 \n",
      "\n",
      "Increment: 1e-12\n",
      "Definition: 1.0000889005833413\n",
      "Analitically: 1 \n",
      "\n",
      "Increment: 1e-14\n",
      "Definition: 0.9992007221626509\n",
      "Analitically: 1 \n",
      "\n",
      "Increment: 1e-16\n",
      "Definition: 0.0\n",
      "Analitically: 1 \n",
      "\n"
     ]
    }
   ],
   "source": [
    "#(b)\n",
    "for i in range(4,18,2):\n",
    "    delta=10**(-i)\n",
    "    print('Increment:',delta)\n",
    "    print('Definition:',defi(1,delta))\n",
    "    print('Analitically:',anly(1),'\\n')"
   ]
  },
  {
   "cell_type": "markdown",
   "metadata": {},
   "source": [
    "$\\textbf{(b) Explanation:}$\n",
    "\n",
    "As we can see from the results, the estimation of the exact value gives better results not over a certain increment value. This behaviour is due to the impossibility of the machine to identify properly the difference between numbers which are too close to each other."
   ]
  },
  {
   "cell_type": "markdown",
   "metadata": {},
   "source": [
    "7\\. Consider the integral of the semicircle of radius 1:\n",
    "$$\n",
    "I=\\int_{-1}^{1} \\sqrt(1-x^2) {\\rm d}x\n",
    "$$\n",
    "which it's known to be $I=\\frac{\\pi}{2}=1.57079632679...$.\n",
    "Alternatively we can use the Riemann definition of the integral:\n",
    "$$\n",
    "I=\\lim_{N\\to\\infty} \\sum_{k=1}^{N} h y_k \n",
    "$$\n",
    "\n",
    "with $h=2/N$ the width of each of the $N$ slices the domain is divided into and where\n",
    "$y_k$ is the value of the function at the $k-$th slice.\n",
    "\n",
    "(a) Write a programe to compute the integral with $N=100$. How does the result compares to the true value?\n",
    "\n",
    "(b) How much can $N$ be increased if the computation needs to be run in less than a second? What is the gain in running it for 1 minute? \n"
   ]
  },
  {
   "cell_type": "code",
   "execution_count": 8,
   "metadata": {},
   "outputs": [
    {
     "name": "stdout",
     "output_type": "stream",
     "text": [
      "1.5691342555492505\n",
      "Discrepancy = 0.0016620712456461018\n"
     ]
    }
   ],
   "source": [
    "import math\n",
    "def f(x):\n",
    "    return (1-x**2)**0.5\n",
    "\n",
    "def integral(f,a,b,N):\n",
    "    integral=0\n",
    "    h=(b-a)/N\n",
    "    for i in range(1,N+1):\n",
    "        integral+=h*f(a+i*h)\n",
    "    return integral\n",
    "\n",
    "#(a)\n",
    "sol_0=integral(f,-1,1,100)\n",
    "print(sol_0)\n",
    "print('Discrepancy =', math.pi/2 - sol_0 )"
   ]
  },
  {
   "cell_type": "code",
   "execution_count": 10,
   "metadata": {
    "scrolled": true
   },
   "outputs": [
    {
     "name": "stdout",
     "output_type": "stream",
     "text": [
      "1.57079632633328\n",
      "Discrepancy = 4.616165227844249e-10\n"
     ]
    }
   ],
   "source": [
    "#(b)\n",
    "%timeit integral(f,-1,1,2350000)\n",
    "sol_1=integral(f,-1,1,2350000)\n",
    "print(sol_1)\n",
    "print('Discrepancy =', math.pi/2 - sol_1)"
   ]
  },
  {
   "cell_type": "markdown",
   "metadata": {},
   "source": [
    "$\\textbf{TIMEIT TAKES A WHILE}$"
   ]
  },
  {
   "cell_type": "code",
   "execution_count": 11,
   "metadata": {},
   "outputs": [
    {
     "name": "stdout",
     "output_type": "stream",
     "text": [
      "1min 4s ± 2.11 s per loop (mean ± std. dev. of 7 runs, 1 loop each)\n",
      "1.5707963267940561\n",
      "Discrepancy = 8.404388296412435e-13\n"
     ]
    }
   ],
   "source": [
    "%timeit integral(f,-1,1,60*2350000)\n",
    "sol_new=integral(f,-1,1,60*2350000)\n",
    "print(sol_new)\n",
    "print('Discrepancy =', math.pi/2 - sol_new)"
   ]
  }
 ],
 "metadata": {
  "kernelspec": {
   "display_name": "Python 3",
   "language": "python",
   "name": "python3"
  },
  "language_info": {
   "codemirror_mode": {
    "name": "ipython",
    "version": 3
   },
   "file_extension": ".py",
   "mimetype": "text/x-python",
   "name": "python",
   "nbconvert_exporter": "python",
   "pygments_lexer": "ipython3",
   "version": "3.7.1"
  }
 },
 "nbformat": 4,
 "nbformat_minor": 2
}
