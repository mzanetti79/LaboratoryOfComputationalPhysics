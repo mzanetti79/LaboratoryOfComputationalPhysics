{
 "cells": [
  {
   "cell_type": "markdown",
   "metadata": {},
   "source": [
    "1\\. Write a function that converts number representation (bin<->dec<->hex)"
   ]
  },
  {
   "cell_type": "code",
   "execution_count": 87,
   "metadata": {},
   "outputs": [
    {
     "data": {
      "text/plain": [
       "15"
      ]
     },
     "execution_count": 87,
     "metadata": {},
     "output_type": "execute_result"
    }
   ],
   "source": [
    "def decimalToBinary(n): \n",
    "    binary = [0] * n; \n",
    "    i = 0;\n",
    "    result= '';\n",
    "    while (n > 0):  \n",
    "        binary[i] = n % 2; \n",
    "        n = int(n / 2); \n",
    "        i += 1;\n",
    "    binary.reverse()\n",
    "    return ''.join(str(y) for y in binary)\n",
    "\n",
    "def decimalTohex(n): \n",
    "    hexa = [0] * n; \n",
    "    i = 0;\n",
    "    result= '';\n",
    "    while (n > 0):  \n",
    "        hexa[i] = n % 16; \n",
    "        n = int(n / 16); \n",
    "        i += 1;\n",
    "    hexa.reverse()\n",
    "    return ''.join(str(y) for y in hexa)\n",
    "\n",
    "def binaryToDecimal(n):\n",
    "    decimal = 0;\n",
    "    for i in range(len(list(n))-1, -1, -1):\n",
    "        decimal = decimal + 2 ** int(i) \n",
    "    return decimal\n",
    "#return ''.join(str(y) for y in binary)\n",
    "\n",
    "\n",
    "\n",
    "binaryToDecimal('1010')\n"
   ]
  },
  {
   "cell_type": "markdown",
   "metadata": {},
   "source": [
    "2\\. Write a function that converts a 32 bit word into a single precision floating point (i.e. interprets the various bits as sign, mantissa and exponent)"
   ]
  },
  {
   "cell_type": "code",
   "execution_count": 1,
   "metadata": {},
   "outputs": [
    {
     "name": "stdout",
     "output_type": "stream",
     "text": [
      "decimal 0 7405312 127\n",
      "single_precision (1, 1.882781982421875, 1)\n"
     ]
    }
   ],
   "source": [
    "def single_precision_floating_point(w):\n",
    "    s = w >> 31\n",
    "    e = (w >> 23) & 0x7F\n",
    "    f = w & 0x7FFFFF\n",
    "    print('decimal', s, f, e)\n",
    "    rf = 0\n",
    "    i = 0\n",
    "    #mantissa calculation\n",
    "    for c in bin(f)[2:]:\n",
    "        i = i + 1\n",
    "        rf = rf + int(c)*2**-i\n",
    "        \n",
    "    return  (-1)**s, (1+rf), 2**(e-127)\n",
    "\n",
    "#word = 'F000000F'\n",
    "word = '3FF0FF00'\n",
    "print('single_precision', single_precision_floating_point(int(word, 16) ))"
   ]
  },
  {
   "cell_type": "markdown",
   "metadata": {},
   "source": [
    "3\\. Write a program to determine the underflow and overflow limits (within a factor of 2) for python on your computer. \n",
    "\n",
    "**Tips**: define two variables inizialized to 1 and halve/double them enough time to exceed the under/over-flow limits  "
   ]
  },
  {
   "cell_type": "code",
   "execution_count": 2,
   "metadata": {},
   "outputs": [
    {
     "name": "stdout",
     "output_type": "stream",
     "text": [
      "underflow limit 5e-324\n",
      "overflow limit 8.98846567431158e+307\n"
     ]
    }
   ],
   "source": [
    "import math\n",
    "prev_temp = 1\n",
    "# do ... while ... would be the perfect choice but python doesn't have it\n",
    "temp = 1\n",
    "while temp != 0:\n",
    "    temp = prev_temp/2\n",
    "    if temp == 0:\n",
    "        break\n",
    "    prev_temp = temp\n",
    "\n",
    "print('underflow limit', prev_temp)\n",
    "\n",
    "prev_temp = 1.\n",
    "while not math.isinf(temp):\n",
    "    temp = prev_temp*2\n",
    "    if math.isinf(temp):\n",
    "        break\n",
    "    prev_temp = temp\n",
    "\n",
    "print('overflow limit', prev_temp)"
   ]
  },
  {
   "cell_type": "markdown",
   "metadata": {},
   "source": [
    "4\\. Write a program to determine the machine precision\n",
    "\n",
    "**Tips**: define a new variable by adding a smaller and smaller value (proceeding similarly to prob. 2) to an original variable and check the point where the two are the same "
   ]
  },
  {
   "cell_type": "code",
   "execution_count": 3,
   "metadata": {},
   "outputs": [
    {
     "name": "stdout",
     "output_type": "stream",
     "text": [
      "point such that esp == one after adding small values 2.220446049250313e-16\n"
     ]
    }
   ],
   "source": [
    "step = 2\n",
    "one = 0\n",
    "\n",
    "while(1 != one):\n",
    "    step = step / 2\n",
    "    one = 1 + step\n",
    "#     print(1, one)\n",
    "print('point such that esp == one after adding small values', step*2)"
   ]
  },
  {
   "cell_type": "markdown",
   "metadata": {},
   "source": [
    "5\\. Write a function that takes in input three parameters $a$, $b$ and $c$ and prints out the two solutions to the quadratic equation $ax^2+bx+c=0$ using the standard formula:\n",
    "$$\n",
    "x=\\frac{-b\\pm\\sqrt{b^2-4ac}}{2a}\n",
    "$$\n",
    "\n",
    "(a) use the program to compute the solution for $a=0.001$, $b=1000$ and $c=0.001$\n",
    "\n",
    "(b) re-express the standard solution formula by multiplying top and bottom by $-b\\mp\\sqrt{b^2-4ac}$ and again find the solution for $a=0.001$, $b=1000$ and $c=0.001$. How does it compare with what previously obtained? Why?\n",
    "\n",
    "(c) write a function that compute the roots of a quadratic equation accurately in all cases"
   ]
  },
  {
   "cell_type": "code",
   "execution_count": 4,
   "metadata": {},
   "outputs": [
    {
     "name": "stdout",
     "output_type": "stream",
     "text": [
      "(-9.999894245993346e-07, -999999.999999)\n",
      "(-1.000000000001e-06, -1000010.5755125057)\n",
      "(-1.000000000001e-06, -999999.999999)\n",
      "[-1.e+06 -1.e-06]\n"
     ]
    }
   ],
   "source": [
    "import math\n",
    "import numpy as np\n",
    "# standard\n",
    "def find_x(a, b, c):\n",
    "    x1 = (-b+math.sqrt(b**2-4*a*c))/(2*a)\n",
    "    x2 = (-b-math.sqrt(b**2-4*a*c))/(2*a)\n",
    "    return x1, x2\n",
    "\n",
    "# Muller's method\n",
    "def find_y(a, b, c):\n",
    "    y1 = -2*c/(b+math.sqrt(b**2-4*a*c))\n",
    "    y2 = -2*c/(b-math.sqrt(b**2-4*a*c))\n",
    "    return y1, y2\n",
    "\n",
    "# to obtain a more accurate estimate we should implement one method of the following:\n",
    "# https://en.wikipedia.org/wiki/Root-finding_algorithm\n",
    "def accurate_roots(a, b, c):\n",
    "    return find_y(a, b, c)[0], find_x(a, b, c)[1]\n",
    "\n",
    "a = 0.001\n",
    "b = 1000\n",
    "c = a\n",
    "\n",
    "print(find_x(a, b, c))\n",
    "print(find_y(a, b, c))\n",
    "print(accurate_roots(a, b, c))\n",
    "print(np.roots([a,b,c]))"
   ]
  },
  {
   "cell_type": "markdown",
   "metadata": {},
   "source": [
    "6\\. Write a program that implements the function $f(x)=x(x−1)$\n",
    "\n",
    "(a) Calculate the derivative of the function at the point $x = 1$ using the derivative definition:\n",
    "\n",
    "$$\n",
    "\\frac{{\\rm d}f}{{\\rm d}x} = \\lim_{\\delta\\to0} \\frac{f(x+\\delta)-f(x)}{\\delta}\n",
    "$$\n",
    "\n",
    "with $\\delta = 10^{−2}$. Calculate the true value of the same derivative analytically and compare with the answer your program gives. The two will not agree perfectly. Why not?\n",
    "\n",
    "(b) Repeat the calculation for $\\delta = 10^{−4}, 10^{−6}, 10^{−8}, 10^{−10}, 10^{−12}$ and $10^{−14}$. How does the accuracy scales with $\\delta$?"
   ]
  },
  {
   "cell_type": "code",
   "execution_count": 5,
   "metadata": {},
   "outputs": [
    {
     "name": "stdout",
     "output_type": "stream",
     "text": [
      "19.010000000000105\n",
      "19.00009999999952\n",
      "19.000000989422006\n",
      "19.000002282609785\n",
      "19.00005486277223\n",
      "18.99991275422508\n",
      "19.895196601282805\n",
      "19\n"
     ]
    }
   ],
   "source": [
    "def f(x):\n",
    "    return x*(x-1)\n",
    "\n",
    "def derivate_f(x, delta):\n",
    "    return (f(x+delta)-f(x))/delta\n",
    "\n",
    "def derivate_analitically(x):\n",
    "    return 2*x-1\n",
    "\n",
    "#worst-1 value\n",
    "print(derivate_f(10, 10**-2))\n",
    "print(derivate_f(10, 10**-4))\n",
    "#best value\n",
    "print(derivate_f(10, 10**-6))\n",
    "print(derivate_f(10, 10**-8))\n",
    "print(derivate_f(10, 10**-10))\n",
    "print(derivate_f(10, 10**-12))\n",
    "#worst value\n",
    "print(derivate_f(10, 10**-14))\n",
    "print(derivate_analitically(10))\n",
    "#the values don't agree because the division can be stored up to 64 bit"
   ]
  },
  {
   "cell_type": "markdown",
   "metadata": {},
   "source": [
    "7\\. Consider the integral of the semicircle of radius 1:\n",
    "$$\n",
    "I=\\int_{-1}^{1} \\sqrt(1-x^2) {\\rm d}x\n",
    "$$\n",
    "which it's known to be $I=\\frac{\\pi}{2}=1.57079632679...$.\n",
    "Alternatively we can use the Riemann definition of the integral:\n",
    "$$\n",
    "I=\\lim_{N\\to\\infty} \\sum_{k=1}^{N} h y_k \n",
    "$$\n",
    "\n",
    "with $h=2/N$ the width of each of the $N$ slices the domain is divided into and where\n",
    "$y_k$ is the value of the function at the $k-$th slice.\n",
    "\n",
    "(a) Write a programe to compute the integral with $N=100$. How does the result compares to the true value?\n",
    "\n",
    "(b) How much can $N$ be increased if the computation needs to be run in less than a second? What is the gain in running it for 1 minute? \n"
   ]
  },
  {
   "cell_type": "code",
   "execution_count": 6,
   "metadata": {},
   "outputs": [
    {
     "name": "stdout",
     "output_type": "stream",
     "text": [
      "1.5707963267948966\n",
      "1.5707881848448806\n",
      "8.141950015971844e-06\n"
     ]
    }
   ],
   "source": [
    "\n",
    "from math import sqrt\n",
    "from time import time\n",
    "trueI = math.pi/2\n",
    "print(trueI)\n",
    "\n",
    "def I(N):\n",
    "    s = 0\n",
    "    h = 2/N\n",
    "    k = -1\n",
    "    for r in range(1,N):\n",
    "        yk = sqrt(abs(1-k**2))\n",
    "        k = k + h\n",
    "        s += h*yk\n",
    "    return s\n",
    "\n",
    "def IinAsec(sec):\n",
    "    before = time()\n",
    "    after = before\n",
    "    N = 100\n",
    "    s = 0\n",
    "    h = 2/N\n",
    "    k = -1\n",
    "    while after - before < sec:\n",
    "        yk = sqrt(abs(1-k**2))\n",
    "        k = k + h\n",
    "        s += h*yk\n",
    "        after = time()\n",
    "        N = N + 1\n",
    "        print(after-before)\n",
    "    return s, N\n",
    "\n",
    "#start point\n",
    "#I = I(100)\n",
    "#one sec N = 7850 -> this result is much better in terms of difference between trueI and I\n",
    "I = I(7850)\n",
    "#one min not computed\n",
    "print(I)\n",
    "print(trueI-I)\n",
    "\n",
    "#used to test time\n",
    "#I = IinAsec(1)\n",
    "#I = IinAsec(60)\n",
    "#print(I)\n",
    "#print(trueI-I[0])"
   ]
  },
  {
   "cell_type": "code",
   "execution_count": null,
   "metadata": {},
   "outputs": [],
   "source": []
  }
 ],
 "metadata": {
  "kernelspec": {
   "display_name": "Python 3",
   "language": "python",
   "name": "python3"
  },
  "language_info": {
   "codemirror_mode": {
    "name": "ipython",
    "version": 3
   },
   "file_extension": ".py",
   "mimetype": "text/x-python",
   "name": "python",
   "nbconvert_exporter": "python",
   "pygments_lexer": "ipython3",
   "version": "3.7.0"
  }
 },
 "nbformat": 4,
 "nbformat_minor": 2
}
