{
 "cells": [
  {
   "cell_type": "markdown",
   "metadata": {},
   "source": [
    "1\\. Write a function that converts number representation (bin<->dec<->hex)"
   ]
  },
  {
   "cell_type": "code",
   "execution_count": 2,
   "metadata": {
    "scrolled": true
   },
   "outputs": [],
   "source": [
    "def int_to_bin(x):\n",
    "    if type(x) != int: print(\"Sorry, %f is not a number, i can't convert it into it's binary representation\" %x)\n",
    "    else:\n",
    "        x_bin=[]\n",
    "        while x != 0:\n",
    "            x_bin.append(x%2)\n",
    "            x = int(x/2)\n",
    "        x_bin.reverse()\n",
    "        str_x_bin = ''.join(str(e) for e in x_bin) \n",
    "    return str_x_bin\n"
   ]
  },
  {
   "cell_type": "code",
   "execution_count": 3,
   "metadata": {},
   "outputs": [],
   "source": [
    "def bin_to_int(x):\n",
    "    if type(x) != str: print(\"Sorry, %s is not a string, i can't convert it into it's decimal representation\" %x)\n",
    "    else:\n",
    "        x_dec = 0\n",
    "        for j in range(len(x)):\n",
    "            x_dec += int(x[j]) * 2**(len(x) - (j + 1))\n",
    "    return x_dec"
   ]
  },
  {
   "cell_type": "code",
   "execution_count": 4,
   "metadata": {},
   "outputs": [],
   "source": [
    "def hex_to_int(x):\n",
    "    conversioni = {\"0\":0,\"1\":1,\"2\":2,\"3\":3,\"4\":4,\"5\":5,\"6\":6,\"7\":7,\"8\":8,\"9\":9,\"a\":10,\"b\":11,\"c\":12,\"d\":13,\"e\":14,\"f\":15}\n",
    "    if type(x) != str: print(\"Sorry, %s is not a string, i can't convert it into it's decimal representation\" %x)\n",
    "    else:\n",
    "        x_dec = 0\n",
    "        for j in range(len(x)):\n",
    "            x_dec +=conversioni[x[j]] * 16**(len(x) - (j + 1))\n",
    "    return x_dec        \n"
   ]
  },
  {
   "cell_type": "code",
   "execution_count": 5,
   "metadata": {},
   "outputs": [],
   "source": [
    "def int_to_hex(x):\n",
    "    conversioni = {0: '0', 1: '1', 2: '2', 3: '3', 4: '4', 5: '5', 6: '6', 7: '7', 8: '8', 9: '9', 10: 'a', 11: 'b', 12: 'c', 13: 'd', 14: 'e', 15: 'f'}\n",
    "    if type(x) != int: print(\"Sorry, %f is not a number, i can't convert it into it's hexadecimal representation\" %x)\n",
    "    else:\n",
    "        x_bin=[]\n",
    "        while x != 0:\n",
    "            x_bin.append(conversioni[x%16])\n",
    "            x = int(x/16)\n",
    "        x_bin.reverse()\n",
    "        str_x_bin = ''.join(str(e) for e in x_bin) \n",
    "    return str_x_bin\n"
   ]
  },
  {
   "cell_type": "code",
   "execution_count": 6,
   "metadata": {},
   "outputs": [],
   "source": [
    "def bin_to_hex(x):\n",
    "    x_hex = []\n",
    "    if type(x) != str: print(\"Sorry, %s is not a string, i can't convert it into it's hexadecimal representation\" %x)\n",
    "    else:\n",
    "        temp_list=list(x)\n",
    "        temp_list.reverse()\n",
    "        x = ''.join(str(e) for e in temp_list)\n",
    "        a = 0\n",
    "        b = 0\n",
    "        while len(x) > b:\n",
    "            b = b + min(len(x) - b, 4)\n",
    "            temp = x[a:b]\n",
    "            temp_list=list(temp)\n",
    "            temp_list.reverse()\n",
    "            temp = ''.join(str(e) for e in temp_list)\n",
    "            x_hex.append((int_to_hex(bin_to_int(temp))))\n",
    "            a +=4\n",
    "        x_hex.reverse()\n",
    "        str_x_hex = ''.join(str(e) for e in x_hex)   \n",
    "    return str_x_hex   \n"
   ]
  },
  {
   "cell_type": "code",
   "execution_count": 7,
   "metadata": {},
   "outputs": [],
   "source": [
    "def hex_to_bin(x):\n",
    "    if type(x) != str: print(\"Sorry, %s is not a string, i can't convert it into it's binary representation\" %x)\n",
    "    else: \n",
    "        return(int_to_bin(hex_to_int(x)))"
   ]
  },
  {
   "cell_type": "code",
   "execution_count": 8,
   "metadata": {},
   "outputs": [],
   "source": [
    "def conversions(x, reps1, reps2):\n",
    "    if reps1 == \"int\":\n",
    "        if reps2 == \"bin\": return int_to_bin(x)\n",
    "        elif reps2 == \"hex\": return int_to_hex(x)\n",
    "        else: print(\"Sorry, not a valid request\")\n",
    "    elif reps1 == \"bin\":\n",
    "        if reps2 == \"int\": return bin_to_int(x)\n",
    "        elif reps2 == \"hex\": return bin_to_hex(x)\n",
    "        else: print(\"Sorry, not a valid request\")\n",
    "    elif reps1 == \"hex\":\n",
    "        if reps2 == \"int\": return hex_to_int(x)\n",
    "        elif reps2 == \"bin\": return hex_to_bin(x)\n",
    "        else: print(\"Sorry, not a valid request\")\n",
    "    else: print(\"Sorry, not a valid request\")\n",
    "        "
   ]
  },
  {
   "cell_type": "markdown",
   "metadata": {},
   "source": [
    "2\\. Write a function that converts a 32 bit word into a single precision floating point (i.e. interprets the various bits as sign, mantissa and exponent)"
   ]
  },
  {
   "cell_type": "code",
   "execution_count": 9,
   "metadata": {},
   "outputs": [
    {
     "name": "stdout",
     "output_type": "stream",
     "text": [
      "Your number is positive\n",
      "Exponent: -120\n",
      "Manitissa: 1.75\n",
      "Here's your float! ---> 1.316553672920962e-36\n"
     ]
    }
   ],
   "source": [
    "def to_float(x):\n",
    "    number = 1.\n",
    "    exp_bin = \"0\"\n",
    "    exp_int = 0\n",
    "    mantissa = 1.\n",
    "    #cerco il segno\n",
    "    if x & 2**31 == 2**31: \n",
    "        number *= -1\n",
    "        print(\"Your number is negative\")\n",
    "    else: \n",
    "        number *= 1\n",
    "        print(\"Your number is positive\")\n",
    "    #calcolo l'esponente exp\n",
    "    for i in range(0,8):\n",
    "        if x & 2**(30-i) == 2**(30-i): exp_bin += \"1\"\n",
    "        else: exp_bin += \"0\"\n",
    "    exp = bin_to_int(exp_bin) - 127\n",
    "    number *= 2**(exp)\n",
    "    print(\"Exponent:\",exp)\n",
    "    #calcolo la mantissa\n",
    "    for i in range(0,23):\n",
    "        if x & 2**(22-i) == 2**(22-i): mantissa += 1*2**(-(i+1)) #1* perché il coeff m-esimo è 1 o 0\n",
    "        else: mantissa += 0\n",
    "    number *= mantissa\n",
    "    print(\"Manitissa:\", mantissa)\n",
    "    return number\n",
    "print(\"Here's your float! --->\", to_float(2**25 + 2**24 + 2**23 + 2**21 + 2**22))"
   ]
  },
  {
   "cell_type": "markdown",
   "metadata": {},
   "source": [
    "3\\.Write a program to determine the underflow and overflow limits (within a factor of 2) for python on your computer. \n",
    "\n",
    "**Tips**: define two variables inizialized to 1 and halve/double them enough time to exceed the under/over-flow limits  "
   ]
  },
  {
   "cell_type": "code",
   "execution_count": 19,
   "metadata": {},
   "outputs": [
    {
     "name": "stdout",
     "output_type": "stream",
     "text": [
      "Minimum representable float: 5e-324\n",
      "Miximum representable float: 8.98846567431158e+307\n"
     ]
    }
   ],
   "source": [
    "#underflow\n",
    "x = 1.\n",
    "while x != 0. :\n",
    "    minimum = x\n",
    "    x /= 2.\n",
    "#overflow\n",
    "z = 1\n",
    "while z/z == 1.:\n",
    "    maximum = z\n",
    "    z *= 2.\n",
    "print(\"Minimum representable float:\", minimum)\n",
    "print(\"Miximum representable float:\", maximum)"
   ]
  },
  {
   "cell_type": "markdown",
   "metadata": {},
   "source": [
    "4\\. Write a program to determine the machine precision\n",
    "\n",
    "**Tips**: define a new variable by adding a smaller and smaller value (proceeding similarly to prob. 2) to an original variable and check the point where the two are the same "
   ]
  },
  {
   "cell_type": "code",
   "execution_count": 11,
   "metadata": {},
   "outputs": [
    {
     "name": "stdout",
     "output_type": "stream",
     "text": [
      "1.000000000000001\n"
     ]
    }
   ],
   "source": [
    "x = 1.\n",
    "y = x + 0.1\n",
    "k = 1\n",
    "precision = 0.\n",
    "while ( y - x ) > 0.:\n",
    "    k = k + 1\n",
    "    precision = y\n",
    "    y = x\n",
    "    y = y + (10**(-k))\n",
    "    \n",
    "print(precision)"
   ]
  },
  {
   "cell_type": "markdown",
   "metadata": {},
   "source": [
    "5\\. Write a function that takes in input three parameters $a$, $b$ and $c$ and prints out the two solutions to the quadratic equation $ax^2+bx+c=0$ using the standard formula:\n",
    "$$\n",
    "x=\\frac{-b\\pm\\sqrt{b^2-4ac}}{2a}\n",
    "$$\n",
    "\n",
    "(a) use the program to compute the solution for $a=0.001$, $b=1000$ and $c=0.001$\n",
    "\n",
    "(b) re-express the standard solution formula by multiplying top and bottom by $-b\\mp\\sqrt{b^2-4ac}$ and again find the solution for $a=0.001$, $b=1000$ and $c=0.001$. How does it compare with what previously obtained? Why?\n",
    "\n",
    "(c) write a function that compute the roots of a quadratic equation accurately in all cases"
   ]
  },
  {
   "cell_type": "code",
   "execution_count": 15,
   "metadata": {},
   "outputs": [
    {
     "name": "stdout",
     "output_type": "stream",
     "text": [
      "Simple quadratic equation solution: -9.999894245993346e-07 -999999.999999\n",
      " 'BAD' quadratic equation solution: -9.999894245993346e-07 -999999.9999990001\n",
      "Optimize quadratic equation solution: -9.999894245993335e-07 -999999.9999989994\n"
     ]
    }
   ],
   "source": [
    "import math as m\n",
    "a = 0.001\n",
    "b= 1000\n",
    "c= 0.001\n",
    "\n",
    "#4.a\n",
    "def quad1(a,b,c):\n",
    "    return ((-b + m.sqrt(b*b - 4*a*c))/(2*a)),((-b - m.sqrt(b*b - 4*a*c))/(2*a))\n",
    "\n",
    "x1,y1 = quad1(a,b,c)\n",
    "\n",
    "\n",
    "#4.b\n",
    "def quad2(a,b,c):\n",
    "    return ((-b + m.sqrt(b*b - 4*a*c))*(-b - m.sqrt(b*b - 4*a*c)))/((2*a)*(-b - m.sqrt(b*b - 4*a*c))),((-b - m.sqrt(b*b - 4*a*c))*(-b + m.sqrt(b*b -4*a*c)))/((2*a)*(-b + m.sqrt(b*b -4*a*c)))\n",
    "\n",
    "x2,y2 = quad2(a,b,c)\n",
    "\n",
    "\n",
    "#4.c\n",
    "import numpy as np\n",
    "\n",
    "def quad3(a,b,c):\n",
    "    x_num = m.log(abs((-b + m.sqrt(b*b - 4*a*c))))\n",
    "    y_num = m.log(abs((-b - m.sqrt(b*b - 4*a*c))))\n",
    "    den = m.log(2) + m.log(abs(a))\n",
    "    x = np.sign((-b + m.sqrt(b*b - 4*a*c))) * np.sign(a) * m.exp(x_num - den)\n",
    "    y = np.sign((-b - m.sqrt(b*b - 4*a*c))) * np.sign(a) * m.exp(y_num - den)\n",
    "    return (x,y)\n",
    "\n",
    "x3,y3 = quad3(a,b,c)   \n",
    "print(\"Simple quadratic equation solution:\", x1,y1)\n",
    "print(\" 'BAD' quadratic equation solution:\", x2,y2)\n",
    "print(\"Optimize quadratic equation solution:\", x3,y3)"
   ]
  },
  {
   "cell_type": "markdown",
   "metadata": {},
   "source": [
    "6\\. Write a program that implements the function $f(x)=x(x−1)$\n",
    "\n",
    "(a) Calculate the derivative of the function at the point $x = 1$ using the derivative definition:\n",
    "\n",
    "$$\n",
    "\\frac{{\\rm d}f}{{\\rm d}x} = \\lim_{\\delta\\to0} \\frac{f(x+\\delta)-f(x)}{\\delta}\n",
    "$$\n",
    "\n",
    "with $\\delta = 10^{−2}$. Calculate the true value of the same derivative analytically and compare with the answer your program gives. The two will not agree perfectly. Why not?\n",
    "\n",
    "(b) Repeat the calculation for $\\delta = 10^{−4}, 10^{−6}, 10^{−8}, 10^{−10}, 10^{−12}$ and $10^{−14}$. How does the accuracy scales with $\\delta$?"
   ]
  },
  {
   "cell_type": "code",
   "execution_count": 13,
   "metadata": {},
   "outputs": [
    {
     "name": "stdout",
     "output_type": "stream",
     "text": [
      "increment: 1.000000e-02, result: 1.0100000000\n",
      "increment: 1.000000e-04, result: 1.0001000000\n",
      "increment: 1.000000e-06, result: 1.0000009999\n",
      "increment: 1.000000e-08, result: 1.0000000039\n",
      "increment: 1.000000e-10, result: 1.0000000828\n",
      "increment: 1.000000e-12, result: 1.0000889006\n"
     ]
    }
   ],
   "source": [
    "def f(x):\n",
    "    return x*(x -1)\n",
    "\n",
    "def d(g,x,d):\n",
    "    return (g(x+d)-g(x))/d\n",
    "\n",
    "deltas = [10**(-2*i) for i in range(1,7)]\n",
    "for delta in deltas: \n",
    "    result = d(f,1,delta)\n",
    "    print(\"increment: %e, result: %.10f\" %(delta,result))"
   ]
  },
  {
   "cell_type": "markdown",
   "metadata": {},
   "source": [
    "7\\. OK Consider the integral of the semicircle of radius 1:\n",
    "$$\n",
    "I=\\int_{-1}^{1} \\sqrt(1-x^2) {\\rm d}x\n",
    "$$\n",
    "which it's known to be $I=\\frac{\\pi}{2}=1.57079632679...$.\n",
    "Alternatively we can use the Riemann definition of the integral:\n",
    "$$\n",
    "I=\\lim_{N\\to\\infty} \\sum_{k=1}^{N} h y_k \n",
    "$$\n",
    "\n",
    "with $h=2/N$ the width of each of the $N$ slices the domain is divided into and where\n",
    "$y_k$ is the value of the function at the $k-$th slice.\n",
    "\n",
    "(a) Write a programe to compute the integral with $N=100$. How does the result compares to the true value?\n",
    "\n",
    "(b) How much can $N$ be increased if the computation needs to be run in less than a second? What is the gain in running it for 1 minute? \n"
   ]
  },
  {
   "cell_type": "code",
   "execution_count": 28,
   "metadata": {},
   "outputs": [
    {
     "name": "stdout",
     "output_type": "stream",
     "text": [
      "Integral after 100 iterations is: 1.5691342555492493.\n"
     ]
    }
   ],
   "source": [
    "from math import sqrt\n",
    "import time\n",
    "\n",
    "N = 100\n",
    "def semicircle(N):\n",
    "    I = 0\n",
    "    x = -1\n",
    "    for i in range(1,N+1):\n",
    "        I += (2/N)*sqrt(1-x*x)\n",
    "        x += 2/N\n",
    "    return I\n",
    "A = semicircle(N)\n",
    "print(\"Integral after %d iterations is: %.16f.\" %(N,A))"
   ]
  },
  {
   "cell_type": "code",
   "execution_count": 29,
   "metadata": {},
   "outputs": [
    {
     "name": "stdout",
     "output_type": "stream",
     "text": [
      "If the loops runs 1000000 times time taken is 0.639699 seconds\n",
      "Integral after 1000000 iterations is 1.570796\n"
     ]
    }
   ],
   "source": [
    "#meno di un secondo\n",
    "\n",
    "t = 0.\n",
    "N = 100\n",
    "A = 0.\n",
    "while t < 1.:\n",
    "    N = int(N*10)\n",
    "    t_temp = t\n",
    "    A_temp = A\n",
    "    t = 0.\n",
    "    start = time.time()\n",
    "    A = semicircle(N)\n",
    "    t = time.time() - start\n",
    "N /= 10\n",
    "print(\"If the loops runs %d times time taken is %f seconds\" %(N,t_temp))\n",
    "print(\"Integral after %d iterations is %f\" %(N, A))"
   ]
  },
  {
   "cell_type": "code",
   "execution_count": 31,
   "metadata": {},
   "outputs": [
    {
     "name": "stdout",
     "output_type": "stream",
     "text": [
      "If the loops runs 10485760 times time taken is 33.448546 seconds\n",
      "Integral after 10485760 iterations is 1.570796\n"
     ]
    }
   ],
   "source": [
    "#meno di un minuto \n",
    "t = 0.\n",
    "N = 100\n",
    "while t < 60.:\n",
    "    N *= 2\n",
    "    t_temp = t\n",
    "    A_temp = A\n",
    "    t = 0.\n",
    "    start = time.time()\n",
    "    A = semicircle(N)\n",
    "    t = time.time() - start\n",
    "N /= 10    \n",
    "print(\"If the loops runs %d times time taken is %f seconds\" %(N,t_temp))\n",
    "print(\"Integral after %d iterations is %f\" %(N, A))"
   ]
  }
 ],
 "metadata": {
  "kernelspec": {
   "display_name": "Python 3",
   "language": "python",
   "name": "python3"
  },
  "language_info": {
   "codemirror_mode": {
    "name": "ipython",
    "version": 3
   },
   "file_extension": ".py",
   "mimetype": "text/x-python",
   "name": "python",
   "nbconvert_exporter": "python",
   "pygments_lexer": "ipython3",
   "version": "3.7.3"
  },
  "toc": {
   "base_numbering": 1,
   "nav_menu": {},
   "number_sections": true,
   "sideBar": true,
   "skip_h1_title": false,
   "title_cell": "Table of Contents",
   "title_sidebar": "Contents",
   "toc_cell": false,
   "toc_position": {},
   "toc_section_display": true,
   "toc_window_display": false
  }
 },
 "nbformat": 4,
 "nbformat_minor": 2
}
