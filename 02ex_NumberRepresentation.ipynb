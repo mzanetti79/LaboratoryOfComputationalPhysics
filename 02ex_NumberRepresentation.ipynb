{
 "cells": [
  {
   "cell_type": "code",
   "execution_count": 16,
   "metadata": {},
   "outputs": [],
   "source": [
    "from math import sqrt"
   ]
  },
  {
   "cell_type": "markdown",
   "metadata": {},
   "source": [
    "1\\. Write a function that converts number representation (bin<->dec<->hex)"
   ]
  },
  {
   "cell_type": "code",
   "execution_count": 44,
   "metadata": {},
   "outputs": [
    {
     "name": "stdout",
     "output_type": "stream",
     "text": [
      "0x37\n",
      "0b110111\n",
      "0b10010\n"
     ]
    }
   ],
   "source": [
    "def changeType(num, newType):\n",
    "    if newType == 'hex': return hex(num)\n",
    "    elif newType == 'bin': return bin(num)\n",
    "    else: return num\n",
    "\n",
    "def converter(num, newType):\n",
    "    if isinstance(num, int): return changeType(num, newType)\n",
    "    if num.startswith('0x'): #if hexa\n",
    "        return changeType(int(num, 16), newType)\n",
    "    elif num.startswith('0b'): #if binary\n",
    "        return changeType(int(num, 2), newType)\n",
    "\n",
    "print(converter(55, 'hex'))\n",
    "print(converter(55, 'bin'))\n",
    "print(converter('0x12', 'bin'))"
   ]
  },
  {
   "cell_type": "markdown",
   "metadata": {},
   "source": [
    "2\\. Write a function that converts a 32 bit word into a single precision floating point (i.e. interprets the various bits as sign, mantissa and exponent)"
   ]
  },
  {
   "cell_type": "code",
   "execution_count": 77,
   "metadata": {},
   "outputs": [
    {
     "name": "stdout",
     "output_type": "stream",
     "text": [
      "0b100101100\n",
      "9\n",
      "010010110\n"
     ]
    }
   ],
   "source": [
    "def toFloating(num):\n",
    "    bNum = bin(num)\n",
    "    print(bNum)\n",
    "    length = len(bNum) - 2\n",
    "    print(length)\n",
    "    sign = bNum[2]\n",
    "    result = '0';\n",
    "    if num < 0: result = '1' # check sign\n",
    "    if length <= 8: result += bNum[2:] # if less than 8 bits then no need to cast\n",
    "    else: result += bin(num & (255 << (length - 8)))[2:10] # cast it to 8 bits only\n",
    "    return result\n",
    "    \n",
    "\n",
    "print(toFloating(300))"
   ]
  },
  {
   "cell_type": "markdown",
   "metadata": {},
   "source": [
    "3\\. Write a program to determine the underflow and overflow limits (within a factor of 2) for python on your computer. \n",
    "\n",
    "**Tips**: define two variables inizialized to 1 and halve/double them enough time to exceed the under/over-flow limits  "
   ]
  },
  {
   "cell_type": "code",
   "execution_count": 7,
   "metadata": {},
   "outputs": [
    {
     "name": "stdout",
     "output_type": "stream",
     "text": [
      "overflow value: 8.98846567431158e+307\n",
      "Underflow value: 5e-324\n"
     ]
    }
   ],
   "source": [
    "overF = 1.0\n",
    "underF = 1.0\n",
    "temp = underF\n",
    "while(abs(temp) != 0):\n",
    "    underF = temp\n",
    "    temp /= 2\n",
    "temp = overF\n",
    "while(abs(temp) != float('inf')):\n",
    "    overF = temp\n",
    "    temp *= 2\n",
    "\n",
    "print(\"overflow value: {}\".format(overF))\n",
    "print(\"Underflow value: {}\".format(underF))\n"
   ]
  },
  {
   "cell_type": "markdown",
   "metadata": {},
   "source": [
    "4\\. Write a program to determine the machine precision\n",
    "\n",
    "**Tips**: define a new variable by adding a smaller and smaller value (proceeding similarly to prob. 2) to an original variable and check the point where the two are the same "
   ]
  },
  {
   "cell_type": "code",
   "execution_count": 1,
   "metadata": {},
   "outputs": [
    {
     "name": "stdout",
     "output_type": "stream",
     "text": [
      "1.1102230246251565e-16\n"
     ]
    }
   ],
   "source": [
    "num = 1\n",
    "while(1+num != 1):\n",
    "    num /= 2\n",
    "print(num)"
   ]
  },
  {
   "cell_type": "markdown",
   "metadata": {},
   "source": [
    "5\\. Write a function that takes in input three parameters $a$, $b$ and $c$ and prints out the two solutions to the quadratic equation $ax^2+bx+c=0$ using the standard formula:\n",
    "$$\n",
    "x=\\frac{-b\\pm\\sqrt{b^2-4ac}}{2a}\n",
    "$$\n",
    "\n",
    "(a) use the program to compute the solution for $a=0.001$, $b=1000$ and $c=0.001$\n",
    "\n",
    "(b) re-express the standard solution formula by multiplying top and bottom by $-b\\mp\\sqrt{b^2-4ac}$ and again find the solution for $a=0.001$, $b=1000$ and $c=0.001$. How does it compare with what previously obtained? Why?\n",
    "\n",
    "(c) write a function that compute the roots of a quadratic equation accurately in all cases"
   ]
  },
  {
   "cell_type": "code",
   "execution_count": 8,
   "metadata": {},
   "outputs": [
    {
     "name": "stdout",
     "output_type": "stream",
     "text": [
      "(-9.999894245993346e-07, -999999.999999)\n",
      "(-9.999894245993346e-07, -999999.9999989999)\n"
     ]
    }
   ],
   "source": [
    "def f1(a, b, c):\n",
    "    res1 = ((-b+sqrt(b**2 - 4*a*c))/(2*a))\n",
    "    res2 = ((-b-sqrt(b**2 - 4*a*c))/(2*a))\n",
    "    return res1, res2\n",
    "\n",
    "print(f1(0.001, 1000, 0.001))\n",
    "\n",
    "def f2(a, b, c):\n",
    "    res1 = ((-b+sqrt(b**2 - 4*a*c))/(2*a)*(-b-sqrt(b**2 - 4*a*c)))/(-b-sqrt(b**2 - 4*a*c))\n",
    "    res2 = ((-b-sqrt(b**2 - 4*a*c))/(2*a)*(-b+sqrt(b**2 - 4*a*c)))/(-b+sqrt(b**2 - 4*a*c))\n",
    "    return res1, res2\n",
    "\n",
    "print(f2(0.001, 1000, 0.001))"
   ]
  },
  {
   "cell_type": "markdown",
   "metadata": {},
   "source": [
    "6\\. Write a program that implements the function $f(x)=x(x−1)$\n",
    "\n",
    "(a) Calculate the derivative of the function at the point $x = 1$ using the derivative definition:\n",
    "\n",
    "$$\n",
    "\\frac{{\\rm d}f}{{\\rm d}x} = \\lim_{\\delta\\to0} \\frac{f(x+\\delta)-f(x)}{\\delta}\n",
    "$$\n",
    "\n",
    "with $\\delta = 10^{−2}$. Calculate the true value of the same derivative analytically and compare with the answer your program gives. The two will not agree perfectly. Why not?\n",
    "\n",
    "(b) Repeat the calculation for $\\delta = 10^{−4}, 10^{−6}, 10^{−8}, 10^{−10}, 10^{−12}$ and $10^{−14}$. How does the accuracy scales with $\\delta$?"
   ]
  },
  {
   "cell_type": "code",
   "execution_count": 15,
   "metadata": {},
   "outputs": [
    {
     "name": "stdout",
     "output_type": "stream",
     "text": [
      "delta= 4, ans=1.000099999999890, abs(diff)=9.999999988985486e-05\n",
      "delta= 6, ans=1.000000999917733, abs(diff)=9.99917733279787e-07\n",
      "delta= 8, ans=1.000000003922529, abs(diff)=3.922528746258536e-09\n",
      "delta=10, ans=1.000000082840371, abs(diff)=8.284037100736441e-08\n",
      "delta=12, ans=1.000088900583341, abs(diff)=8.890058334132256e-05\n",
      "delta=14, ans=0.999200722162651, abs(diff)=0.0007992778373491216\n"
     ]
    }
   ],
   "source": [
    "def f(x): \n",
    "    return x*(x-1)\n",
    "def der(point, delta):\n",
    "    return (f(point+delta) - f(point)) / delta\n",
    "\n",
    "for d in range(4,16,2):\n",
    "    res = der(1.0, 10**(-d))\n",
    "    print(\"delta={:2}, ans={:.15f}, abs(diff)={}\".format(d, res, abs(res-1)))"
   ]
  },
  {
   "cell_type": "markdown",
   "metadata": {},
   "source": [
    "7\\. Consider the integral of the semicircle of radius 1:\n",
    "$$\n",
    "I=\\int_{-1}^{1} \\sqrt(1-x^2) {\\rm d}x\n",
    "$$\n",
    "which it's known to be $I=\\frac{\\pi}{2}=1.57079632679...$.\n",
    "Alternatively we can use the Riemann definition of the integral:\n",
    "$$\n",
    "I=\\lim_{N\\to\\infty} \\sum_{k=1}^{N} h y_k \n",
    "$$\n",
    "\n",
    "with $h=2/N$ the width of each of the $N$ slices the domain is divided into and where\n",
    "$y_k$ is the value of the function at the $k-$th slice.\n",
    "\n",
    "(a) Write a programe to compute the integral with $N=100$. How does the result compares to the true value?\n",
    "\n",
    "(b) How much can $N$ be increased if the computation needs to be run in less than a second? What is the gain in running it for 1 minute? \n"
   ]
  },
  {
   "cell_type": "code",
   "execution_count": 21,
   "metadata": {},
   "outputs": [
    {
     "name": "stdout",
     "output_type": "stream",
     "text": [
      "41.4 µs ± 831 ns per loop (mean ± std. dev. of 7 runs, 10000 loops each)\n",
      "error:  0.0016620712407506844\n"
     ]
    }
   ],
   "source": [
    "N = 100\n",
    "\n",
    "def f(x):\n",
    "    return sqrt(1-x**2)\n",
    "\n",
    "def I(N):\n",
    "    k = -1\n",
    "    y = 0\n",
    "    h = 2/N\n",
    "    while(k <= 1):\n",
    "        y += h*f(k)\n",
    "        k += h\n",
    "    return y\n",
    "    \n",
    "%timeit y = I(N)\n",
    "print(\"error: \", abs(1.57079632679 - y))\n"
   ]
  },
  {
   "cell_type": "code",
   "execution_count": null,
   "metadata": {},
   "outputs": [],
   "source": []
  }
 ],
 "metadata": {
  "kernelspec": {
   "display_name": "Python 3",
   "language": "python",
   "name": "python3"
  },
  "language_info": {
   "codemirror_mode": {
    "name": "ipython",
    "version": 3
   },
   "file_extension": ".py",
   "mimetype": "text/x-python",
   "name": "python",
   "nbconvert_exporter": "python",
   "pygments_lexer": "ipython3",
   "version": "3.7.3"
  }
 },
 "nbformat": 4,
 "nbformat_minor": 2
}
