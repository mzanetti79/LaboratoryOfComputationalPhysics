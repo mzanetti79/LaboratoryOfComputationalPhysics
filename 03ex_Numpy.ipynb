{
 "cells": [
  {
   "cell_type": "markdown",
   "metadata": {},
   "source": [
    "### Numpy basics"
   ]
  },
  {
   "cell_type": "markdown",
   "metadata": {},
   "source": [
    "1\\. Find the row, column and overall means for the following matrix:\n",
    "\n",
    "```python\n",
    "m = np.arange(12).reshape((3,4))\n",
    "```"
   ]
  },
  {
   "cell_type": "code",
   "execution_count": 2,
   "metadata": {},
   "outputs": [
    {
     "name": "stdout",
     "output_type": "stream",
     "text": [
      "[[ 0  1  2  3]\n",
      " [ 4  5  6  7]\n",
      " [ 8  9 10 11]]\n",
      "overall mean:  5.5\n",
      "row mean:  [1.5 5.5 9.5]\n",
      "coulmn mean:  [4. 5. 6. 7.]\n"
     ]
    }
   ],
   "source": [
    "import numpy as np\n",
    "m = np.arange(12).reshape((3,4))\n",
    "print(m)\n",
    "print('overall mean: ', m.mean())\n",
    "#row mean\n",
    "rm = m.mean(axis = 1)\n",
    "print('row mean: ', rm)\n",
    "#coulmn mean\n",
    "cm = m.mean(axis = 0)\n",
    "print('coulmn mean: ', cm)"
   ]
  },
  {
   "cell_type": "markdown",
   "metadata": {},
   "source": [
    "2\\. Find the outer product of the following two vecotrs\n",
    "\n",
    "```python\n",
    "u = np.array([1,3,5,7])\n",
    "v = np.array([2,4,6,8])\n",
    "```\n",
    "\n",
    "Do this in the following ways:\n",
    "\n",
    "   * Using the function outer in numpy\n",
    "   * Using a nested for loop or list comprehension\n",
    "   * Using numpy broadcasting operatoins\n"
   ]
  },
  {
   "cell_type": "code",
   "execution_count": 27,
   "metadata": {},
   "outputs": [
    {
     "name": "stdout",
     "output_type": "stream",
     "text": [
      "# using outer in numpy \n",
      " [[ 2  4  6  8]\n",
      " [ 6 12 18 24]\n",
      " [10 20 30 40]\n",
      " [14 28 42 56]]\n",
      "# using list comperhension \n",
      " [array([2, 4, 6, 8]), array([ 6, 12, 18, 24]), array([10, 20, 30, 40]), array([14, 28, 42, 56])]\n",
      "# using broadcasting \n",
      " [[ 2  4  6  8]\n",
      " [ 6 12 18 24]\n",
      " [10 20 30 40]\n",
      " [14 28 42 56]]\n"
     ]
    }
   ],
   "source": [
    "u = np.array([1,3,5,7])\n",
    "v = np.array([2,4,6,8])\n",
    "print('# using outer in numpy \\n', np.outer(u, v))\n",
    "print('# using list comperhension \\n', [i*v for i in u])\n",
    "print('# using broadcasting \\n', u[:,np.newaxis] * v)"
   ]
  },
  {
   "cell_type": "markdown",
   "metadata": {},
   "source": [
    "3\\. Create a 10 by 6 matrix of random uniform numbers. Set all rows with any entry less than 0.1 to be zero\n",
    "\n",
    "Hint: Use the following numpy functions - np.random.random, np.any as well as Boolean indexing and the axis argument."
   ]
  },
  {
   "cell_type": "code",
   "execution_count": 32,
   "metadata": {},
   "outputs": [
    {
     "name": "stdout",
     "output_type": "stream",
     "text": [
      "[[0.69646919 0.28613933 0.22685145 0.55131477 0.71946897 0.42310646]\n",
      " [0.9807642  0.68482974 0.4809319  0.39211752 0.34317802 0.72904971]\n",
      " [0.43857224 0.         0.39804426 0.73799541 0.18249173 0.17545176]\n",
      " [0.53155137 0.53182759 0.63440096 0.84943179 0.72445532 0.61102351]\n",
      " [0.72244338 0.32295891 0.36178866 0.22826323 0.29371405 0.63097612]\n",
      " [0.         0.43370117 0.43086276 0.4936851  0.42583029 0.31226122]\n",
      " [0.42635131 0.89338916 0.94416002 0.50183668 0.62395295 0.1156184 ]\n",
      " [0.31728548 0.41482621 0.86630916 0.25045537 0.48303426 0.98555979]\n",
      " [0.51948512 0.61289453 0.12062867 0.8263408  0.60306013 0.54506801]\n",
      " [0.34276383 0.30412079 0.41702221 0.68130077 0.87545684 0.51042234]]\n"
     ]
    }
   ],
   "source": [
    "np.random.seed(123)        \n",
    "\n",
    "uniform = np.random.rand(10,6) \n",
    "uniform[uniform < 0.1] = 0\n",
    "print(uniform)"
   ]
  },
  {
   "cell_type": "markdown",
   "metadata": {},
   "source": [
    "4\\. Use np.linspace to create an array of 100 numbers between 0 and 2π (includsive).\n",
    "\n",
    "  * Extract every 10th element using slice notation\n",
    "  * Reverse the array using slice notation\n",
    "  * Extract elements where the absolute difference between the sine and cosine functions evaluated at that element is less than 0.1\n",
    "  * Make a plot showing the sin and cos functions and indicate where they are close"
   ]
  },
  {
   "cell_type": "code",
   "execution_count": 23,
   "metadata": {},
   "outputs": [
    {
     "name": "stdout",
     "output_type": "stream",
     "text": [
      "# original \n",
      " [0.         0.06346652 0.12693304 0.19039955 0.25386607 0.31733259\n",
      " 0.38079911 0.44426563 0.50773215 0.57119866 0.63466518 0.6981317\n",
      " 0.76159822 0.82506474 0.88853126 0.95199777 1.01546429 1.07893081\n",
      " 1.14239733 1.20586385 1.26933037 1.33279688 1.3962634  1.45972992\n",
      " 1.52319644 1.58666296 1.65012947 1.71359599 1.77706251 1.84052903\n",
      " 1.90399555 1.96746207 2.03092858 2.0943951  2.15786162 2.22132814\n",
      " 2.28479466 2.34826118 2.41172769 2.47519421 2.53866073 2.60212725\n",
      " 2.66559377 2.72906028 2.7925268  2.85599332 2.91945984 2.98292636\n",
      " 3.04639288 3.10985939 3.17332591 3.23679243 3.30025895 3.36372547\n",
      " 3.42719199 3.4906585  3.55412502 3.61759154 3.68105806 3.74452458\n",
      " 3.8079911  3.87145761 3.93492413 3.99839065 4.06185717 4.12532369\n",
      " 4.1887902  4.25225672 4.31572324 4.37918976 4.44265628 4.5061228\n",
      " 4.56958931 4.63305583 4.69652235 4.75998887 4.82345539 4.88692191\n",
      " 4.95038842 5.01385494 5.07732146 5.14078798 5.2042545  5.26772102\n",
      " 5.33118753 5.39465405 5.45812057 5.52158709 5.58505361 5.64852012\n",
      " 5.71198664 5.77545316 5.83891968 5.9023862  5.96585272 6.02931923\n",
      " 6.09278575 6.15625227 6.21971879 6.28318531]\n",
      "# tenth elements \n",
      " [0.         0.63466518 1.26933037 1.90399555 2.53866073 3.17332591\n",
      " 3.8079911  4.44265628 5.07732146 5.71198664]\n",
      "# reversed \n",
      " [6.28318531 6.21971879 6.15625227 6.09278575 6.02931923 5.96585272\n",
      " 5.9023862  5.83891968 5.77545316 5.71198664 5.64852012 5.58505361\n",
      " 5.52158709 5.45812057 5.39465405 5.33118753 5.26772102 5.2042545\n",
      " 5.14078798 5.07732146 5.01385494 4.95038842 4.88692191 4.82345539\n",
      " 4.75998887 4.69652235 4.63305583 4.56958931 4.5061228  4.44265628\n",
      " 4.37918976 4.31572324 4.25225672 4.1887902  4.12532369 4.06185717\n",
      " 3.99839065 3.93492413 3.87145761 3.8079911  3.74452458 3.68105806\n",
      " 3.61759154 3.55412502 3.4906585  3.42719199 3.36372547 3.30025895\n",
      " 3.23679243 3.17332591 3.10985939 3.04639288 2.98292636 2.91945984\n",
      " 2.85599332 2.7925268  2.72906028 2.66559377 2.60212725 2.53866073\n",
      " 2.47519421 2.41172769 2.34826118 2.28479466 2.22132814 2.15786162\n",
      " 2.0943951  2.03092858 1.96746207 1.90399555 1.84052903 1.77706251\n",
      " 1.71359599 1.65012947 1.58666296 1.52319644 1.45972992 1.3962634\n",
      " 1.33279688 1.26933037 1.20586385 1.14239733 1.07893081 1.01546429\n",
      " 0.95199777 0.88853126 0.82506474 0.76159822 0.6981317  0.63466518\n",
      " 0.57119866 0.50773215 0.44426563 0.38079911 0.31733259 0.25386607\n",
      " 0.19039955 0.12693304 0.06346652 0.        ]\n",
      "# Extract elements where the absolute difference between the sine and cosine functions \n",
      " evaluated at that element is less than 0.1 \n",
      " [0.76159822 0.82506474 3.87145761 3.93492413]\n",
      "[0.76159822 0.82506474 3.87145761 3.93492413]\n",
      "# plot \n",
      " [<matplotlib.lines.Line2D object at 0x000001C3F8390B38>, <matplotlib.lines.Line2D object at 0x000001C3F8390C88>]\n"
     ]
    },
    {
     "data": {
      "text/plain": [
       "[<matplotlib.lines.Line2D at 0x1c3f77a6630>]"
      ]
     },
     "execution_count": 23,
     "metadata": {},
     "output_type": "execute_result"
    }
   ],
   "source": [
    "import matplotlib.pyplot as plt\n",
    "a = np.linspace(0,2*np.pi, 100)\n",
    "print('# original \\n', a)\n",
    "print('# tenth elements \\n' , a[::10])\n",
    "print('# reversed \\n' , a[::-1])\n",
    "print('# Extract elements where the absolute difference between the sine and cosine functions \\n evaluated at that element is less than 0.1 \\n' , a[np.absolute(np.sin(a) - np.cos(a)) < 0.1])\n",
    "xa = a[np.absolute(np.sin(a) - np.cos(a)) < 0.1]\n",
    "print(xa)\n",
    "print('# plot \\n', plt.plot(a, np.sin(a), a, np.cos(a)))\n",
    "plt.plot(xa, np.sin(xa), 'ro')"
   ]
  },
  {
   "cell_type": "markdown",
   "metadata": {},
   "source": [
    "5\\. Create a matrix that shows the 10 by 10 multiplication table.\n",
    "\n",
    " * Find the trace of the matrix\n",
    " * Extract the anto-diagonal (this should be ```array([10, 18, 24, 28, 30, 30, 28, 24, 18, 10])```)\n",
    " * Extract the diagnoal offset by 1 upwards (this should be ```array([ 2,  6, 12, 20, 30, 42, 56, 72, 90])```)"
   ]
  },
  {
   "cell_type": "code",
   "execution_count": 83,
   "metadata": {},
   "outputs": [
    {
     "name": "stdout",
     "output_type": "stream",
     "text": [
      "# Original \n",
      " [[  1   2   3   4   5   6   7   8   9  10]\n",
      " [  2   4   6   8  10  12  14  16  18  20]\n",
      " [  3   6   9  12  15  18  21  24  27  30]\n",
      " [  4   8  12  16  20  24  28  32  36  40]\n",
      " [  5  10  15  20  25  30  35  40  45  50]\n",
      " [  6  12  18  24  30  36  42  48  54  60]\n",
      " [  7  14  21  28  35  42  49  56  63  70]\n",
      " [  8  16  24  32  40  48  56  64  72  80]\n",
      " [  9  18  27  36  45  54  63  72  81  90]\n",
      " [ 10  20  30  40  50  60  70  80  90 100]]\n",
      "# anti-diagonal \n",
      " [10 18 24 28 30 30 28 24 18 10]\n",
      "# anti-diagonal \n",
      " [ 2  6 12 20 30 42 56 72 90]\n"
     ]
    }
   ],
   "source": [
    "m = np.arange(1,11)\n",
    "m = m[:,np.newaxis] * m.T\n",
    "print('# Original \\n', m)\n",
    "print('# anti-diagonal \\n', np.diag(m[::-1]))\n",
    "print('# anti-diagonal \\n', np.diag(m,1))"
   ]
  },
  {
   "cell_type": "markdown",
   "metadata": {},
   "source": [
    "6\\. Use broadcasting to create a grid of distances\n",
    "\n",
    "Route 66 crosses the following cities in the US: Chicago, Springfield, Saint-Louis, Tulsa, Oklahoma City, Amarillo, Santa Fe, Albuquerque, Flagstaff, Los Angeles\n",
    "The corresponding positions in miles are: 0, 198, 303, 736, 871, 1175, 1475, 1544, 1913, 2448\n",
    "\n",
    "  * Construct a 2D grid of distances among each city along Route 66\n",
    "  * Convert that in km (those savages...)"
   ]
  },
  {
   "cell_type": "code",
   "execution_count": 15,
   "metadata": {},
   "outputs": [
    {
     "name": "stdout",
     "output_type": "stream",
     "text": [
      "* Construct a 2D grid of distances among each city along Route 66 \n",
      "\n",
      "[[   0  198  303  736  871 1175 1475 1544 1913 2448]\n",
      " [ 198    0  105  538  673  977 1277 1346 1715 2250]\n",
      " [ 303  105    0  433  568  872 1172 1241 1610 2145]\n",
      " [ 736  538  433    0  135  439  739  808 1177 1712]\n",
      " [ 871  673  568  135    0  304  604  673 1042 1577]\n",
      " [1175  977  872  439  304    0  300  369  738 1273]\n",
      " [1475 1277 1172  739  604  300    0   69  438  973]\n",
      " [1544 1346 1241  808  673  369   69    0  369  904]\n",
      " [1913 1715 1610 1177 1042  738  438  369    0  535]\n",
      " [2448 2250 2145 1712 1577 1273  973  904  535    0]]\n",
      "\n",
      "* Convert that in km (those savages...)\n",
      "\n",
      "[[   0.   316.8  484.8 1177.6 1393.6 1880.  2360.  2470.4 3060.8 3916.8]\n",
      " [ 316.8    0.   168.   860.8 1076.8 1563.2 2043.2 2153.6 2744.  3600. ]\n",
      " [ 484.8  168.     0.   692.8  908.8 1395.2 1875.2 1985.6 2576.  3432. ]\n",
      " [1177.6  860.8  692.8    0.   216.   702.4 1182.4 1292.8 1883.2 2739.2]\n",
      " [1393.6 1076.8  908.8  216.     0.   486.4  966.4 1076.8 1667.2 2523.2]\n",
      " [1880.  1563.2 1395.2  702.4  486.4    0.   480.   590.4 1180.8 2036.8]\n",
      " [2360.  2043.2 1875.2 1182.4  966.4  480.     0.   110.4  700.8 1556.8]\n",
      " [2470.4 2153.6 1985.6 1292.8 1076.8  590.4  110.4    0.   590.4 1446.4]\n",
      " [3060.8 2744.  2576.  1883.2 1667.2 1180.8  700.8  590.4    0.   856. ]\n",
      " [3916.8 3600.  3432.  2739.2 2523.2 2036.8 1556.8 1446.4  856.     0. ]]\n"
     ]
    }
   ],
   "source": [
    "d = np.array([0, 198, 303, 736, 871, 1175, 1475, 1544, 1913, 2448])\n",
    "print('* Construct a 2D grid of distances among each city along Route 66 \\n')\n",
    "dMatrix = np.absolute(d[:, np.newaxis]-d)\n",
    "print(dMatrix)\n",
    "print('\\n* Convert that in km (those savages...)\\n')\n",
    "print(dMatrix*1.6)"
   ]
  },
  {
   "cell_type": "markdown",
   "metadata": {},
   "source": [
    "7\\. Prime numbers sieve: compute the prime numbers in the 0-N (N=99 to start with) range with a sieve (mask).\n",
    "  * Constract a shape (100,) boolean array, the mask\n",
    "  * Identify the multiples of each number starting from 2 and set accordingly the corresponding mask element\n",
    "  * Apply the mask to obtain an array of ordered prime numbers\n",
    "  * Check the performances (timeit); how does it scale with N?\n",
    "  * Implement the optimization suggested in the [sieve of Eratosthenes](https://en.wikipedia.org/wiki/Sieve_of_Eratosthenes)"
   ]
  },
  {
   "cell_type": "code",
   "execution_count": 102,
   "metadata": {},
   "outputs": [
    {
     "name": "stdout",
     "output_type": "stream",
     "text": [
      "[ 1  2  3  5  7 11 13 17 19 23 29 31 37 41 43 47 53 59 61 67 71 73 79 83\n",
      " 89 97]\n"
     ]
    }
   ],
   "source": [
    "def f (j):\n",
    "    temp = np.arange(3,j)\n",
    "    temp = temp[temp*temp<=j]\n",
    "    return len(temp[j%temp == 0]) == 0\n",
    "\n",
    "def getPrimes(N):\n",
    "    if N == 0: return\n",
    "    if N == 1: return [1]\n",
    "    if N == 2: return [1,2]\n",
    "    if N>2:\n",
    "        res = [1,2,3]\n",
    "        nums = np.arange(4,N);\n",
    "        nums = nums[nums%2 != 0] # remove even numbers\n",
    "        nums = list(filter(f,nums))\n",
    "        nums= np.array(res+nums)\n",
    "        return nums\n",
    "print(getPrimes(100))"
   ]
  },
  {
   "cell_type": "markdown",
   "metadata": {},
   "source": [
    "8\\. Diffusion using random walk\n",
    "\n",
    "Consider a simple random walk process: at each step in time, a walker jumps right or left (+1 or -1) with equal probability. The goal is to find the typical distance from the origin of a random walker after a given amount of time. \n",
    "To do that, let's simulate many walkers and create a 2D array with each walker as a raw and the actual time evolution as columns\n",
    "\n",
    "  * Take 1000 walkers and let them walk for 200 steps\n",
    "  * Use randint to create a 2D array of size walkers x steps with values -1 or 1\n",
    "  * Build the actual walking distances for each walker (i.e. another 2D array \"summing on each raw\")\n",
    "  * Take the square of that 2D array (elementwise)\n",
    "  * Compute the mean of the squared distances at each step (i.e. the mean along the columns)\n",
    "  * Plot the average distances (sqrt(distance\\*\\*2)) as a function of time (step)\n",
    "  \n",
    "Did you get what you expected?"
   ]
  },
  {
   "cell_type": "code",
   "execution_count": 119,
   "metadata": {},
   "outputs": [
    {
     "name": "stdout",
     "output_type": "stream",
     "text": [
      "## distances \n",
      " [[ 1.  2.  1. ... 12. 13. 14.]\n",
      " [ 1.  0.  1. ...  2.  3.  2.]\n",
      " [ 1.  2.  3. ...  2.  3.  4.]\n",
      " ...\n",
      " [ 1.  0.  1. ...  4.  5.  4.]\n",
      " [ 1.  2.  3. ...  8.  7.  8.]\n",
      " [ 1.  2.  3. ... 16. 17. 18.]]\n",
      "means: \n",
      " [  1.      2.14    3.2     4.228   5.168   6.2     7.056   8.156   9.\n",
      "  10.008  10.896  11.736  12.744  13.804  14.944  16.192  17.192  17.996\n",
      "  18.456  19.428  20.736  21.7    22.712  22.784  23.656  24.648  25.536\n",
      "  26.616  27.368  28.484  29.112  30.64   31.92   33.072  33.712  34.556\n",
      "  36.24   37.152  37.944  38.82   39.976  40.288  40.544  41.388  41.872\n",
      "  43.032  44.712  45.724  46.88   48.02   48.552  50.072  51.352  51.896\n",
      "  52.656  53.52   53.808  55.096  56.848  58.156  58.8    59.872  61.248\n",
      "  61.616  63.104  63.924  64.208  64.62   65.648  67.248  68.688  69.532\n",
      "  70.616  72.024  73.528  74.708  75.192  76.852  77.88   77.476  78.128\n",
      "  79.66   80.088  81.32   82.392  83.68   84.696  85.768  87.328  88.228\n",
      "  88.768  90.432  91.888  91.856  92.112  93.672  95.16   96.208  97.72\n",
      "  98.428  99.288 100.196 103.256 105.128 105.528 106.24  107.128 107.32\n",
      " 108.656 111.236 111.976 113.24  113.928 114.18  115.384 117.42  119.08\n",
      " 120.256 120.92  122.36  122.912 123.108 124.04  125.636 126.032 127.328\n",
      " 128.424 128.776 129.24  130.072 131.608 132.66  132.464 132.668 133.472\n",
      " 133.748 134.664 134.76  135.352 136.552 137.888 139.196 140.072 142.012\n",
      " 142.08  143.076 144.824 145.368 148.44  148.812 150.056 151.48  152.352\n",
      " 152.452 153.272 154.268 156.104 156.872 156.016 157.372 157.64  157.684\n",
      " 159.272 159.216 159.72  161.792 164.44  165.148 166.192 168.444 170.448\n",
      " 171.252 172.632 171.592 174.344 174.896 175.672 177.108 178.6   179.704\n",
      " 180.952 183.784 184.016 185.232 185.552 185.752 187.024 189.348 190.44\n",
      " 190.744 190.64  190.744 190.176 191.7   193.032 193.056 195.448 197.588\n",
      " 198.576 198.116]\n"
     ]
    },
    {
     "data": {
      "text/plain": [
       "Text(0.5,0,'time(step)')"
      ]
     },
     "execution_count": 119,
     "metadata": {},
     "output_type": "execute_result"
    },
    {
     "data": {
      "image/png": "[encoded data removed]",
      "text/plain": [
       "<Figure size 432x288 with 1 Axes>"
      ]
     },
     "metadata": {
      "needs_background": "light"
     },
     "output_type": "display_data"
    }
   ],
   "source": [
    "np.random.seed(1235)        \n",
    "# filling a matrix with random numers\n",
    "randoms = np.random.rand(1000,200)\n",
    "for i,randRow in enumerate(randoms):\n",
    "    steps = 0\n",
    "    for j,rand in enumerate(randRow):\n",
    "        step = 1 if rand>=0.5 else -1\n",
    "        steps += step\n",
    "        randoms[i,j] = abs(steps)\n",
    "print('## distances \\n',randoms)\n",
    "means = np.mean(randoms**2,axis=0)\n",
    "print('means: \\n', means)\n",
    "plt.plot(range(200), means)\n",
    "plt.ylabel('mean')\n",
    "plt.xlabel('time(step)')"
   ]
  },
  {
   "cell_type": "markdown",
   "metadata": {},
   "source": [
    "plt.ylabel('some numbers')9\\. Analyze a data file \n",
    "  * Download the population of hares, lynxes and carrots at the beginning of the last century.\n",
    "    ```python\n",
    "    ! wget https://www.dropbox.com/s/3vigxoqayo389uc/populations.txt\n",
    "    ```\n",
    "\n",
    "  * Check the content by looking within the file\n",
    "  * Load the data (use an appropriate numpy method) into a 2D array\n",
    "  * Create arrays out of the columns, the arrays being (in order): *year*, *hares*, *lynxes*, *carrots* \n",
    "  * Plot the 3 populations over the years\n",
    "  * Compute the main statistical properties of the dataset (mean, std, correlations, etc.)\n",
    "  * Which species has the highest population each year?\n",
    "\n",
    "Do you feel there is some evident correlation here? [Studies](https://www.enr.gov.nt.ca/en/services/lynx/lynx-snowshoe-hare-cycle) tend to believe so."
   ]
  },
  {
   "cell_type": "code",
   "execution_count": 120,
   "metadata": {},
   "outputs": [
    {
     "data": {
      "image/png": "[encoded data removed]",
      "text/plain": [
       "<Figure size 432x288 with 1 Axes>"
      ]
     },
     "metadata": {
      "needs_background": "light"
     },
     "output_type": "display_data"
    },
    {
     "name": "stdout",
     "output_type": "stream",
     "text": [
      "\n",
      "## Hares statistical properties\n",
      "   sum 715700.0\n",
      "   min 7600.0\n",
      "   argmin 17\n",
      "   mean 34080.95238095238\n",
      "   median 25400.0\n",
      "   std 20897.906458089667\n",
      "\n",
      "## Lynxes statistical properties\n",
      "   sum 423500.0\n",
      "   min 4000.0\n",
      "   argmin 0\n",
      "   mean 20166.666666666668\n",
      "   median 12300.0\n",
      "   std 16254.591536908763\n",
      "\n",
      "## Carrots statistical properties\n",
      "   sum 890400.0\n",
      "   min 36700.0\n",
      "   argmin 16\n",
      "   mean 42400.0\n",
      "   median 41800.0\n",
      "   std 3322.5062255844787\n",
      "\n",
      "# Max populations over years\n",
      "1900 : Carrots\n",
      "1901 : Carrots\n",
      "1902 : Hares\n",
      "1903 : Hares\n",
      "1904 : Lynxes\n",
      "1905 : Lynxes\n",
      "1906 : Carrots\n",
      "1907 : Carrots\n",
      "1908 : Carrots\n",
      "1909 : Carrots\n",
      "1910 : Carrots\n",
      "1911 : Carrots\n",
      "1912 : Hares\n",
      "1913 : Hares\n",
      "1914 : Hares\n",
      "1915 : Lynxes\n",
      "1916 : Carrots\n",
      "1917 : Carrots\n",
      "1918 : Carrots\n",
      "1919 : Carrots\n",
      "1920 : Carrots\n"
     ]
    }
   ],
   "source": [
    "data=np.loadtxt('../data/populations.txt') # Load the data into a 2D array\n",
    "years = data[:,0]\n",
    "titles=['Hares','Lynxes','Carrots']\n",
    "hares = {'title': 'Hares', 'value': data[:,1]}\n",
    "lynxes = {'title': 'Lynxes', 'value': data[:,2]}\n",
    "carrots = {'title': 'Carrots' , 'value': data[:,3]}\n",
    "plt.plot(years,hares['value'],years,lynxes['value'],years,carrots['value'])\n",
    "plt.show()\n",
    "for i in [hares,lynxes,carrots]:\n",
    "    print('\\n## '+i['title']+' statistical properties')\n",
    "    for func in ['sum','min','argmin','mean','median','std']:\n",
    "       print ('  ',func, getattr(np, func)(i['value']))\n",
    "# Which species has the highest population each year?\n",
    "print('\\n# Max populations over years')\n",
    "for i in data:\n",
    "    print(int(i[0]),':', titles[np.argmax(i[1:])])"
   ]
  },
  {
   "cell_type": "code",
   "execution_count": null,
   "metadata": {},
   "outputs": [],
   "source": []
  }
 ],
 "metadata": {
  "kernelspec": {
   "display_name": "Python 3",
   "language": "python",
   "name": "python3"
  },
  "language_info": {
   "codemirror_mode": {
    "name": "ipython",
    "version": 3
   },
   "file_extension": ".py",
   "mimetype": "text/x-python",
   "name": "python",
   "nbconvert_exporter": "python",
   "pygments_lexer": "ipython3",
   "version": "3.7.3"
  }
 },
 "nbformat": 4,
 "nbformat_minor": 2
}
