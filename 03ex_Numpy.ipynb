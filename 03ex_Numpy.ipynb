{
 "cells": [
  {
   "cell_type": "markdown",
   "metadata": {},
   "source": [
    "### Numpy basics"
   ]
  },
  {
   "cell_type": "code",
   "execution_count": 1,
   "metadata": {},
   "outputs": [],
   "source": [
    "import numpy as np\n",
    "import math as mt"
   ]
  },
  {
   "cell_type": "markdown",
   "metadata": {},
   "source": [
    "1\\. Find the row, column and overall means for the following matrix:\n",
    "\n",
    "```python\n",
    "m = np.arange(12).reshape((3,4))\n",
    "```"
   ]
  },
  {
   "cell_type": "code",
   "execution_count": 2,
   "metadata": {},
   "outputs": [
    {
     "name": "stdout",
     "output_type": "stream",
     "text": [
      "Vector of row means:\n",
      " [[1.5]\n",
      " [5.5]\n",
      " [9.5]]\n",
      "Vector of column means:\n",
      " [[4.]\n",
      " [5.]\n",
      " [6.]\n",
      " [7.]]\n",
      "Overall mean: 5.5\n"
     ]
    }
   ],
   "source": [
    "#1 senza usare le funzioni\n",
    "\n",
    "m = np.arange(12).reshape((3,4))\n",
    "shape = m.shape\n",
    "\n",
    "row_m = np.zeros((shape[0],1))\n",
    "col_m = np.zeros((shape[1],1))\n",
    "overall_m = 0.\n",
    "\n",
    "#media dei valori in ogni riga\n",
    "for i in range(shape[0]):\n",
    "    for j in range(shape[1]):\n",
    "        row_m[i] += m[i,j]\n",
    "row_m /= shape[1]\n",
    "print(\"Vector of row means:\\n\", row_m)\n",
    "\n",
    "#media dei valori in ogni colonna\n",
    "for i in range(shape[1]):\n",
    "    for j in range(shape[0]):\n",
    "        col_m[i] += m[j,i]\n",
    "col_m /= shape[0]\n",
    "print(\"Vector of column means:\\n\", col_m)\n",
    "\n",
    "#media complessiva\n",
    "for i in range(shape[0]):\n",
    "    for j in range(shape[1]):\n",
    "        overall_m += m[i,j]\n",
    "overall_m /= (shape[0]*shape[1])\n",
    "print(\"Overall mean:\", overall_m)"
   ]
  },
  {
   "cell_type": "code",
   "execution_count": 3,
   "metadata": {},
   "outputs": [
    {
     "name": "stdout",
     "output_type": "stream",
     "text": [
      "Row means:\n",
      " [1.5 5.5 9.5]\n",
      "Column means:\n",
      " [4. 5. 6. 7.]\n",
      "Overall mean: 5.5\n"
     ]
    }
   ],
   "source": [
    "#1 usando le funzioni di numpy\n",
    "\n",
    "print(\"Row means:\\n\", m.mean(axis=1))\n",
    "print(\"Column means:\\n\", m.mean(axis=0))\n",
    "print(\"Overall mean:\", m.mean())\n"
   ]
  },
  {
   "cell_type": "markdown",
   "metadata": {},
   "source": [
    "2\\. Find the outer product of the following two vecotrs\n",
    "\n",
    "```python\n",
    "u = np.array([1,3,5,7])\n",
    "v = np.array([2,4,6,8])\n",
    "```\n",
    "\n",
    "Do this in the following ways:\n",
    "\n",
    "   * Using the function outer in numpy\n",
    "   * Using a nested for loop or list comprehension\n",
    "   * Using numpy broadcasting operatoins\n"
   ]
  },
  {
   "cell_type": "code",
   "execution_count": 4,
   "metadata": {},
   "outputs": [
    {
     "name": "stdout",
     "output_type": "stream",
     "text": [
      "[[ 2  4  6  8]\n",
      " [ 6 12 18 24]\n",
      " [10 20 30 40]\n",
      " [14 28 42 56]]\n"
     ]
    }
   ],
   "source": [
    "#2.a\n",
    "u = np.array([1,3,5,7])\n",
    "v = np.array([2,4,6,8])\n",
    "\n",
    "w = np.outer(u,v)\n",
    "print(w)"
   ]
  },
  {
   "cell_type": "code",
   "execution_count": 5,
   "metadata": {},
   "outputs": [
    {
     "name": "stdout",
     "output_type": "stream",
     "text": [
      "[[ 2.  4.  6.  8.]\n",
      " [ 6. 12. 18. 24.]\n",
      " [10. 20. 30. 40.]\n",
      " [14. 28. 42. 56.]]\n",
      "[[ 2  4  6  8]\n",
      " [ 6 12 18 24]\n",
      " [10 20 30 40]\n",
      " [14 28 42 56]]\n"
     ]
    }
   ],
   "source": [
    "#2.b.con il for\n",
    "shape_u = u.shape\n",
    "shape_v = v.shape\n",
    "w = np.zeros((shape_u[0],shape_v[0]))\n",
    "\n",
    "for i in range(shape_u[0]):\n",
    "    for j in range(shape_v[0]):\n",
    "        w[i,j] = u[i]*v[j]\n",
    "print(w)\n",
    "\n",
    "#2.b con una lista \n",
    "z = np.array([u[i]*v[j] for i in range(shape_u[0]) for j in range(shape_v[0])]).reshape((shape_u[0],shape_v[0]))\n",
    "print(z)"
   ]
  },
  {
   "cell_type": "code",
   "execution_count": 6,
   "metadata": {},
   "outputs": [
    {
     "name": "stdout",
     "output_type": "stream",
     "text": [
      "Matrix created by broadcasting:\n",
      " [[ 2  4  6  8]\n",
      " [ 6 12 18 24]\n",
      " [10 20 30 40]\n",
      " [14 28 42 56]]\n"
     ]
    }
   ],
   "source": [
    "#2.c\n",
    "u_t = np.array([u]).T #traspone il primo vettore\n",
    "\n",
    "print(\"Matrix created by broadcasting:\\n\", u_t*v)\n"
   ]
  },
  {
   "cell_type": "markdown",
   "metadata": {},
   "source": [
    "3\\. Create a 10 by 6 matrix of random uniform numbers. Set all rows with any entry less than 0.1 to be zero\n",
    "\n",
    "Hint: Use the following numpy functions - np.random.random, np.any as well as Boolean indexing and the axis argument."
   ]
  },
  {
   "cell_type": "code",
   "execution_count": 7,
   "metadata": {},
   "outputs": [
    {
     "name": "stdout",
     "output_type": "stream",
     "text": [
      "[[0.43409974 0.80682744 0.13597568 0.4876276  0.36436486 0.780214  ]\n",
      " [0.5401686  0.42267159 0.37320088 0.13503416 0.60937206 0.26644925]\n",
      " [0.         0.         0.         0.         0.         0.        ]\n",
      " [0.         0.         0.         0.         0.         0.        ]\n",
      " [0.         0.         0.         0.         0.         0.        ]\n",
      " [0.99039127 0.52537349 0.46570385 0.29643069 0.16108967 0.38229575]\n",
      " [0.         0.         0.         0.         0.         0.        ]\n",
      " [0.3885951  0.41970534 0.62370028 0.75200481 0.91114672 0.12512607]\n",
      " [0.         0.         0.         0.         0.         0.        ]\n",
      " [0.9959585  0.83367901 0.79288213 0.58102256 0.89094645 0.48824269]]\n"
     ]
    }
   ],
   "source": [
    "#3\n",
    "import numpy as np\n",
    "\n",
    "#array di numeri random\n",
    "m = np.random.random((10,6))\n",
    "\n",
    "#maschera con le righe che soddisfano la condizione \"almeno un elmento della riga è < 0.1\"\n",
    "mask = np.any(m < 0.1, axis=1)\n",
    "\n",
    "#array modificato\n",
    "m[mask] = 0\n",
    "print(m)"
   ]
  },
  {
   "cell_type": "markdown",
   "metadata": {},
   "source": [
    "4\\. Use np.linspace to create an array of 100 numbers between 0 and 2π (includsive).\n",
    "\n",
    "  * Extract every 10th element using slice notation\n",
    "  * Reverse the array using slice notation\n",
    "  * Extract elements where the absolute difference between the sine and cosine functions evaluated at that element is less than 0.1\n",
    "  * Make a plot showing the sin and cos functions and indicate where they are close"
   ]
  },
  {
   "cell_type": "code",
   "execution_count": 8,
   "metadata": {},
   "outputs": [
    {
     "data": {
      "text/plain": [
       "[<matplotlib.lines.Line2D at 0x1eb4e03bb00>]"
      ]
     },
     "execution_count": 8,
     "metadata": {},
     "output_type": "execute_result"
    },
    {
     "data": {
      "image/png": "[encoded data removed]",
      "text/plain": [
       "<Figure size 432x288 with 1 Axes>"
      ]
     },
     "metadata": {
      "needs_background": "light"
     },
     "output_type": "display_data"
    }
   ],
   "source": [
    "#4\n",
    "\n",
    "import matplotlib.pyplot as plt \n",
    "\n",
    "#Create the array\n",
    "a = np.linspace(0,2*mt.pi,100)\n",
    "#Extract every 10th element using slice notation\n",
    "b = a[::10]\n",
    "\n",
    "#Reverse the array using slice notation\n",
    "c = a[::-1]\n",
    "#print(c)\n",
    "mask = np.array([abs(np.sin(c) - np.cos(c)) < 0.1],dtype = bool)\n",
    "points = c[mask[0]]\n",
    "#print(points)\n",
    "\n",
    "\n",
    "%matplotlib inline \n",
    "\n",
    "plt.plot(c,np.sin(c))\n",
    "plt.plot(c,np.cos(c))\n",
    "plt.plot(points,np.sin(points), 'bo')\n",
    "plt.plot(points,np.cos(points), 'ro')"
   ]
  },
  {
   "cell_type": "markdown",
   "metadata": {},
   "source": [
    "5\\. Create a matrix that shows the 10 by 10 multiplication table.\n",
    "\n",
    " * Find the trace of the matrix\n",
    " * Extract the anto-diagonal (this should be ```array([10, 18, 24, 28, 30, 30, 28, 24, 18, 10])```)\n",
    " * Extract the diagnoal offset by 1 upwards (this should be ```array([ 2,  6, 12, 20, 30, 42, 56, 72, 90])```)"
   ]
  },
  {
   "cell_type": "code",
   "execution_count": 9,
   "metadata": {
    "scrolled": false
   },
   "outputs": [
    {
     "name": "stdout",
     "output_type": "stream",
     "text": [
      "Trace of the multiplication table matrix: 385.0\n",
      "The anti diagonal is: [10. 18. 24. 28. 30. 30. 28. 24. 18. 10.]\n",
      "The diagonal offset array is: [ 2.  6. 12. 20. 30. 42. 56. 72. 90.]\n"
     ]
    }
   ],
   "source": [
    "mult_tab = np.fromfunction(lambda i, j: (i+1)*(j+1), (10,10))\n",
    "#print(mult_tab)\n",
    "\n",
    "#Find the trace of the matrix\n",
    "trace = np.trace(mult_tab)\n",
    "print(\"Trace of the multiplication table matrix:\", trace)\n",
    "\n",
    "#Extract the anti-diagonal\n",
    "anti_mult_tab = mult_tab[::-1,]\n",
    "anti_diag = anti_mult_tab.diagonal()\n",
    "print(\"The anti diagonal is:\",anti_diag)\n",
    "\n",
    "#Extract the diagonal offset by 1 upwards\n",
    "offset = mult_tab[([i for i in range(0,9)]),([j for j in range(1,10)])]\n",
    "print(\"The diagonal offset array is:\",offset)\n"
   ]
  },
  {
   "cell_type": "markdown",
   "metadata": {},
   "source": [
    "6\\. Use broadcasting to create a grid of distances\n",
    "\n",
    "Route 66 crosses the following cities in the US: Chicago, Springfield, Saint-Louis, Tulsa, Oklahoma City, Amarillo, Santa Fe, Albuquerque, Flagstaff, Los Angeles\n",
    "The corresponding positions in miles are: 0, 198, 303, 736, 871, 1175, 1475, 1544, 1913, 2448\n",
    "\n",
    "  * Construct a 2D grid of distances among each city along Route 66\n",
    "  * Convert that in km (those savages...)"
   ]
  },
  {
   "cell_type": "code",
   "execution_count": 10,
   "metadata": {},
   "outputs": [
    {
     "name": "stdout",
     "output_type": "stream",
     "text": [
      "Matrix of the distances in miles:\n",
      " [[   0  198  303  736  871 1175 1475 1544 1913  448]\n",
      " [ 198    0  105  538  673  977 1277 1346 1715  250]\n",
      " [ 303  105    0  433  568  872 1172 1241 1610  145]\n",
      " [ 736  538  433    0  135  439  739  808 1177  288]\n",
      " [ 871  673  568  135    0  304  604  673 1042  423]\n",
      " [1175  977  872  439  304    0  300  369  738  727]\n",
      " [1475 1277 1172  739  604  300    0   69  438 1027]\n",
      " [1544 1346 1241  808  673  369   69    0  369 1096]\n",
      " [1913 1715 1610 1177 1042  738  438  369    0 1465]\n",
      " [ 448  250  145  288  423  727 1027 1096 1465    0]]\n",
      "Matrix of the distances in km:\n",
      " [[   0.        318.650112  487.631232 1184.477184 1401.738624 1890.9792\n",
      "  2373.7824   2484.827136 3078.675072  720.986112]\n",
      " [ 318.650112    0.        168.98112   865.827072 1083.088512 1572.329088\n",
      "  2055.132288 2166.177024 2760.02496   402.336   ]\n",
      " [ 487.631232  168.98112     0.        696.845952  914.107392 1403.347968\n",
      "  1886.151168 1997.195904 2591.04384   233.35488 ]\n",
      " [1184.477184  865.827072  696.845952    0.        217.26144   706.502016\n",
      "  1189.305216 1300.349952 1894.197888  463.491072]\n",
      " [1401.738624 1083.088512  914.107392  217.26144     0.        489.240576\n",
      "   972.043776 1083.088512 1676.936448  680.752512]\n",
      " [1890.9792   1572.329088 1403.347968  706.502016  489.240576    0.\n",
      "   482.8032    593.847936 1187.695872 1169.993088]\n",
      " [2373.7824   2055.132288 1886.151168 1189.305216  972.043776  482.8032\n",
      "     0.        111.044736  704.892672 1652.796288]\n",
      " [2484.827136 2166.177024 1997.195904 1300.349952 1083.088512  593.847936\n",
      "   111.044736    0.        593.847936 1763.841024]\n",
      " [3078.675072 2760.02496  2591.04384  1894.197888 1676.936448 1187.695872\n",
      "   704.892672  593.847936    0.       2357.68896 ]\n",
      " [ 720.986112  402.336     233.35488   463.491072  680.752512 1169.993088\n",
      "  1652.796288 1763.841024 2357.68896     0.      ]]\n"
     ]
    }
   ],
   "source": [
    "distances = np.array([0,198,303,736,871,1175,1475,1544,1913,448])\n",
    "grid = np.array(abs(distances-np.array([distances]).T))\n",
    "print(\"Matrix of the distances in miles:\\n\", grid)\n",
    "grid_km = (grid * 1.609344)\n",
    "print(\"Matrix of the distances in km:\\n\", grid_km)\n"
   ]
  },
  {
   "cell_type": "markdown",
   "metadata": {},
   "source": [
    "7\\. Prime numbers sieve: compute the prime numbers in the 0-N (N=99 to start with) range with a sieve (mask).\n",
    "  * Constract a shape (100,) boolean array, the mask\n",
    "  * Identify the multiples of each number starting from 2 and set accordingly the corresponding mask element\n",
    "  * Apply the mask to obtain an array of ordered prime numbers\n",
    "  * Check the performances (timeit); how does it scale with N?\n",
    "  * Implement the optimization suggested in the [sieve of Eratosthenes](https://en.wikipedia.org/wiki/Sieve_of_Eratosthenes)"
   ]
  },
  {
   "cell_type": "code",
   "execution_count": 11,
   "metadata": {},
   "outputs": [
    {
     "name": "stdout",
     "output_type": "stream",
     "text": [
      "[ 1  2  3  5  7 11 13 17 19 23 29 31 37 41 43 47 53 59 61 67 71 73 79 83\n",
      " 89 97]\n",
      "603 µs ± 37.2 µs per loop (mean ± std. dev. of 7 runs, 1000 loops each)\n"
     ]
    }
   ],
   "source": [
    "#7 primo tentativo (dcisamente ottimizzabile, prova tutti i divisori anziché uno solo)\n",
    "mask = np.ones((100,),dtype = bool)\n",
    "\n",
    "def prime_numbers(N):\n",
    "    mask = np.ones((N,),dtype = bool)\n",
    "    for i in range (1,N +1):\n",
    "        for j in range(2,i):\n",
    "            if i % j == 0:\n",
    "                mask[i-1] = False\n",
    "    primes = np.arange(1,101)[mask]\n",
    "    return primes\n",
    "\n",
    "primes = prime_numbers(100)\n",
    "print(primes)\n",
    "%timeit(prime_numbers(100))"
   ]
  },
  {
   "cell_type": "code",
   "execution_count": 12,
   "metadata": {},
   "outputs": [
    {
     "name": "stdout",
     "output_type": "stream",
     "text": [
      "[ 1  2  3  5  7 11 13 17 19 23 29 31 37 41 43 47 53 59 61 67 71 73 79 83\n",
      " 89 97]\n",
      "95 µs ± 3.99 µs per loop (mean ± std. dev. of 7 runs, 10000 loops each)\n"
     ]
    }
   ],
   "source": [
    "def primes_eratosthenes(N):\n",
    "    primes = np.arange(1,N+1)\n",
    "    for j in range (2,int(N / 2)):\n",
    "        times = int(N / j) - 1\n",
    "        num = j\n",
    "        if primes[j - 1] == 0: j+=1\n",
    "        else:\n",
    "            for i in range(times):\n",
    "                num += j\n",
    "                primes[num - 1] = 0\n",
    "    final_primes = primes[(primes != 0)]\n",
    "    return final_primes\n",
    "\n",
    "primes = primes_eratosthenes(100)\n",
    "print(primes)\n",
    "\n",
    "%timeit(primes_eratosthenes(100))"
   ]
  },
  {
   "cell_type": "markdown",
   "metadata": {},
   "source": [
    "8\\. Diffusion using random walk\n",
    "\n",
    "Consider a simple random walk process: at each step in time, a walker jumps right or left (+1 or -1) with equal probability. The goal is to find the typical distance from the origin of a random walker after a given amount of time. \n",
    "To do that, let's simulate many walkers and create a 2D array with each walker as a raw and the actual time evolution as columns\n",
    "\n",
    "  * Take 1000 walkers and let them walk for 200 steps\n",
    "  * Use randint to create a 2D array of size walkers x steps with values -1 or 1\n",
    "  * Build the actual walking distances for each walker (i.e. another 2D array \"summing on each raw\")\n",
    "  * Take the square of that 2D array (elementwise)\n",
    "  * Compute the mean of the squared distances at each step (i.e. the mean along the columns)\n",
    "  * Plot the average distances (sqrt(distance\\*\\*2)) as a function of time (step)\n",
    "  \n",
    "Did you get what you expected?"
   ]
  },
  {
   "cell_type": "code",
   "execution_count": 13,
   "metadata": {},
   "outputs": [
    {
     "data": {
      "text/plain": [
       "[<matplotlib.lines.Line2D at 0x1eb4e0e0278>]"
      ]
     },
     "execution_count": 13,
     "metadata": {},
     "output_type": "execute_result"
    },
    {
     "data": {
      "image/png": "[encoded data removed]",
      "text/plain": [
       "<Figure size 432x288 with 1 Axes>"
      ]
     },
     "metadata": {
      "needs_background": "light"
     },
     "output_type": "display_data"
    }
   ],
   "source": [
    "import numpy.random as npr\n",
    "npr.seed(123)\n",
    "\n",
    "walkers = 1000\n",
    "steps = 200\n",
    "walk = npr.randint(0,2,size=(walkers,steps))\n",
    "walk[walk == 0] = -1 #,mette a -1 gli zeri in modo da avere solo -1 e 1\n",
    "distances = np.zeros((walkers,steps))\n",
    "for i in range(walkers):\n",
    "    distances[i,0] = walk[i,0]\n",
    "    for j in range(1,steps):\n",
    "        distances[i,j] = distances[i,j-1] + walk[i,j]\n",
    "\n",
    "distances *= distances\n",
    "mean = np.sqrt(distances.mean(axis=0))\n",
    "\n",
    "plt.plot(np.arange(steps),mean)\n",
    "plt.plot(np.arange(steps),np.sqrt(np.arange(steps))) #just to prove the trend sqrt(t)-like"
   ]
  },
  {
   "cell_type": "markdown",
   "metadata": {},
   "source": [
    "9\\. Analyze a data file \n",
    "  * Download the population of hares, lynxes and carrots at the beginning of the last century.\n",
    "    ```python\n",
    "    ! wget https://www.dropbox.com/s/3vigxoqayo389uc/populations.txt\n",
    "    ```\n",
    "\n",
    "  * Check the content by looking within the file\n",
    "  * Load the data (use an appropriate numpy method) into a 2D array\n",
    "  * Create arrays out of the columns, the arrays being (in order): *year*, *hares*, *lynxes*, *carrots* \n",
    "  * Plot the 3 populations over the years\n",
    "  * Compute the main statistical properties of the dataset (mean, std, correlations, etc.)\n",
    "  * Which species has the highest population each year?\n",
    "\n",
    "Do you feel there is some evident correlation here? [Studies](https://www.enr.gov.nt.ca/en/services/lynx/lynx-snowshoe-hare-cycle) tend to believe so."
   ]
  },
  {
   "cell_type": "code",
   "execution_count": 14,
   "metadata": {},
   "outputs": [
    {
     "data": {
      "text/plain": [
       "<matplotlib.legend.Legend at 0x1eb4e311780>"
      ]
     },
     "execution_count": 14,
     "metadata": {},
     "output_type": "execute_result"
    },
    {
     "data": {
      "image/png": "[encoded data removed]",
      "text/plain": [
       "<Figure size 432x288 with 1 Axes>"
      ]
     },
     "metadata": {
      "needs_background": "light"
     },
     "output_type": "display_data"
    }
   ],
   "source": [
    "#dataset preparation and plot\n",
    "\n",
    "datas=np.genfromtxt(\"populations.txt\", unpack=True)\n",
    "\n",
    "years = datas[0,]\n",
    "hares = datas[1,]\n",
    "lynxes = datas[2,]\n",
    "carrots = datas[3,]\n",
    "\n",
    "plt.plot(years,hares, label = \"hares\")\n",
    "plt.plot(years,lynxes, label = \"lynxes\")\n",
    "plt.plot(years, carrots, label = \"carrots\")\n",
    "plt.xlabel(\"years\")\n",
    "plt.ylabel(\"population\")\n",
    "plt.legend()\n",
    "\n",
    "#end of exercise in the cell below"
   ]
  },
  {
   "cell_type": "code",
   "execution_count": 15,
   "metadata": {},
   "outputs": [
    {
     "name": "stdout",
     "output_type": "stream",
     "text": [
      "Hares\n",
      "mean 34080.95238095238\n",
      "median 25400.0\n",
      "std 20897.906458089667\n",
      "Lyxes\n",
      "mean 20166.666666666668\n",
      "median 12300.0\n",
      "std 16254.591536908763\n",
      "Carrots\n",
      "mean 42400.0\n",
      "median 41800.0\n",
      "std 3322.5062255844787\n"
     ]
    }
   ],
   "source": [
    "#statistical properties\n",
    "\n",
    "print(\"Hares\")\n",
    "for function in ['mean','median','std']:\n",
    "    print (function, getattr(np, function)(hares))\n",
    "print(\"Lyxes\")\n",
    "for function in ['mean','median','std']:\n",
    "    print (function, getattr(np, function)(lynxes))\n",
    "print(\"Carrots\")\n",
    "for function in ['mean','median','std']:\n",
    "    print (function, getattr(np, function)(carrots))"
   ]
  },
  {
   "cell_type": "code",
   "execution_count": 16,
   "metadata": {},
   "outputs": [
    {
     "name": "stdout",
     "output_type": "stream",
     "text": [
      "In 1900 the species with max population were carrots with 48300 elements\n",
      "In 1901 the species with max population were carrots with 48200 elements\n",
      "In 1902 the species with max population were hares with 70200 elements\n",
      "In 1903 the species with max population were hares with 77400 elements\n",
      "In 1904 the species with max population were lynxes with 59400 elements\n",
      "In 1905 the species with max population were lynxes with 41700 elements\n",
      "In 1906 the species with max population were carrots with 38600 elements\n",
      "In 1907 the species with max population were carrots with 42300 elements\n",
      "In 1908 the species with max population were carrots with 44500 elements\n",
      "In 1909 the species with max population were carrots with 42100 elements\n",
      "In 1910 the species with max population were carrots with 46000 elements\n",
      "In 1911 the species with max population were carrots with 46800 elements\n",
      "In 1912 the species with max population were hares with 57000 elements\n",
      "In 1913 the species with max population were hares with 76600 elements\n",
      "In 1914 the species with max population were hares with 52300 elements\n",
      "In 1915 the species with max population were lynxes with 51100 elements\n",
      "In 1916 the species with max population were carrots with 36700 elements\n",
      "In 1917 the species with max population were carrots with 41800 elements\n",
      "In 1918 the species with max population were carrots with 43300 elements\n",
      "In 1919 the species with max population were carrots with 41300 elements\n",
      "In 1920 the species with max population were carrots with 47300 elements\n"
     ]
    }
   ],
   "source": [
    "#highest population per year\n",
    "\n",
    "max_pop = datas.max(axis=0)\n",
    "arg_max = datas.argmax(axis=0)\n",
    "headers = [\"years\",\"hares\",\"lynxes\",\"carrots\"]\n",
    "\n",
    "for year in range(years.shape[0]):\n",
    "    pop = max_pop[year]\n",
    "    print(\"In %d the species with max population were %s with %d elements\" %(years[year],headers[arg_max[year]],pop))\n"
   ]
  },
  {
   "cell_type": "code",
   "execution_count": null,
   "metadata": {
    "collapsed": true
   },
   "outputs": [],
   "source": []
  }
 ],
 "metadata": {
  "kernelspec": {
   "display_name": "Python 3",
   "language": "python",
   "name": "python3"
  },
  "language_info": {
   "codemirror_mode": {
    "name": "ipython",
    "version": 3
   },
   "file_extension": ".py",
   "mimetype": "text/x-python",
   "name": "python",
   "nbconvert_exporter": "python",
   "pygments_lexer": "ipython3",
   "version": "3.6.3"
  }
 },
 "nbformat": 4,
 "nbformat_minor": 2
}
