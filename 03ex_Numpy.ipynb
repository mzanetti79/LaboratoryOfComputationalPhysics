{
 "cells": [
  {
   "cell_type": "markdown",
   "metadata": {},
   "source": [
    "### Numpy basics"
   ]
  },
  {
   "cell_type": "code",
   "execution_count": 1,
   "metadata": {},
   "outputs": [],
   "source": [
    "import numpy as np\n",
    "import numpy.random as npr\n",
    "import matplotlib.pyplot as plt\n",
    "%matplotlib inline"
   ]
  },
  {
   "cell_type": "markdown",
   "metadata": {},
   "source": [
    "1\\. Find the row, column and overall means for the following matrix:\n",
    "\n",
    "```python\n",
    "m = np.arange(12).reshape((3,4))\n",
    "```"
   ]
  },
  {
   "cell_type": "code",
   "execution_count": 3,
   "metadata": {},
   "outputs": [
    {
     "name": "stdout",
     "output_type": "stream",
     "text": [
      "[[ 0  1  2  3]\n",
      " [ 4  5  6  7]\n",
      " [ 8  9 10 11]]\n",
      "The matrix has 3 rows and 4 columns \n",
      "Means over columns \n",
      " [4. 5. 6. 7.]\n",
      "Means over rows \n",
      " [1.5 5.5 9.5]\n"
     ]
    }
   ],
   "source": [
    "m = np.arange(12).reshape((3,4))\n",
    "print(m)\n",
    "print('The matrix has %d rows and %d columns '% (m.shape[0], m.shape[1]))\n",
    "print('Means over columns \\n', m.mean(0))\n",
    "print('Means over rows \\n', m.mean(1))"
   ]
  },
  {
   "cell_type": "markdown",
   "metadata": {},
   "source": [
    "2\\. Find the outer product of the following two vecotrs\n",
    "\n",
    "```python\n",
    "u = np.array([1,3,5,7])\n",
    "v = np.array([2,4,6,8])\n",
    "```\n",
    "\n",
    "Do this in the following ways:\n",
    "\n",
    "   * Using the function outer in numpy\n",
    "   * Using a nested for loop or list comprehension\n",
    "   * Using numpy broadcasting operatoins\n"
   ]
  },
  {
   "cell_type": "code",
   "execution_count": 4,
   "metadata": {},
   "outputs": [
    {
     "name": "stdout",
     "output_type": "stream",
     "text": [
      "*The outer product u^v gives the vector: \n",
      " [[ 2  4  6  8]\n",
      " [ 6 12 18 24]\n",
      " [10 20 30 40]\n",
      " [14 28 42 56]]\n",
      "**The outer product u^v gives the vector: \n",
      " [[ 2.  4.  6.  8.]\n",
      " [ 6. 12. 18. 24.]\n",
      " [10. 20. 30. 40.]\n",
      " [14. 28. 42. 56.]]\n",
      "***The outer product u^v gives the vector: \n",
      " [[ 2  4  6  8]\n",
      " [ 6 12 18 24]\n",
      " [10 20 30 40]\n",
      " [14 28 42 56]]\n"
     ]
    }
   ],
   "source": [
    "u = np.array([1,3,5,7])\n",
    "v = np.array([2,4,6,8])\n",
    "\n",
    "#\n",
    "outer_prod1=np.outer(u,v)\n",
    "print('*The outer product u^v gives the vector: \\n %s'% outer_prod1)\n",
    "\n",
    "##\n",
    "outer_prod2=np.ones((len(u),len(v)))\n",
    "for i in np.arange(len(u)):\n",
    "    for j in np.arange(len(v)):\n",
    "        outer_prod2[i,j]=u[i]*v[j]\n",
    "print('**The outer product u^v gives the vector: \\n %s'% outer_prod2)\n",
    "\n",
    "###\n",
    "v = np.resize(v, (4,4))\n",
    "u = np.resize(u, (4,4)).transpose()\n",
    "print('***The outer product u^v gives the vector: \\n %s'% (u*v))"
   ]
  },
  {
   "cell_type": "markdown",
   "metadata": {},
   "source": [
    "3\\. Create a 10 by 6 matrix of random uniform numbers. Set all rows with any entry less than 0.1 to be zero\n",
    "\n",
    "Hint: Use the following numpy functions - np.random.random, np.any as well as Boolean indexing and the axis argument."
   ]
  },
  {
   "cell_type": "code",
   "execution_count": 10,
   "metadata": {},
   "outputs": [
    {
     "name": "stdout",
     "output_type": "stream",
     "text": [
      "[[0.47689886 0.14639937 0.96920991 0.85978968 0.24030201 0.        ]\n",
      " [0.25046052 0.62204462 0.17897733 0.         0.17272097 0.76154955]\n",
      " [0.36708399 0.99784479 0.37873217 0.72480137 0.4055048  0.65942022]\n",
      " [0.8838092  0.29198932 0.29711687 0.26856132 0.4566851  0.27447109]\n",
      " [0.         0.84704525 0.414308   0.45091923 0.65558333 0.61687956]\n",
      " [0.96426801 0.5534506  0.40476565 0.23210385 0.18759191 0.        ]\n",
      " [0.90727407 0.41252573 0.85895924 0.         0.34047278 0.54192283]\n",
      " [0.95749022 0.95142569 0.1585901  0.47008854 0.40105093 0.99370824]\n",
      " [0.52630054 0.7727407  0.13013334 0.76170015 0.37663916 0.        ]\n",
      " [0.52685377 0.4391484  0.11584428 0.72921969 0.53964822 0.66960758]]\n"
     ]
    }
   ],
   "source": [
    "matrix=npr.random((10,6))\n",
    "matrix[matrix<0.1]=0\n",
    "print(matrix)"
   ]
  },
  {
   "cell_type": "markdown",
   "metadata": {},
   "source": [
    "4\\. Use np.linspace to create an array of 100 numbers between 0 and 2π (includsive).\n",
    "\n",
    "  * Extract every 10th element using slice notation\n",
    "  * Reverse the array using slice notation\n",
    "  * Extract elements where the absolute difference between the sine and cosine functions evaluated at that element is less than 0.1\n",
    "  * Make a plot showing the sin and cos functions and indicate where they are close"
   ]
  },
  {
   "cell_type": "code",
   "execution_count": 24,
   "metadata": {},
   "outputs": [
    {
     "name": "stdout",
     "output_type": "stream",
     "text": [
      "This is the array: \n",
      " [0.         0.06346652 0.12693304 0.19039955 0.25386607 0.31733259\n",
      " 0.38079911 0.44426563 0.50773215 0.57119866 0.63466518 0.6981317\n",
      " 0.76159822 0.82506474 0.88853126 0.95199777 1.01546429 1.07893081\n",
      " 1.14239733 1.20586385 1.26933037 1.33279688 1.3962634  1.45972992\n",
      " 1.52319644 1.58666296 1.65012947 1.71359599 1.77706251 1.84052903\n",
      " 1.90399555 1.96746207 2.03092858 2.0943951  2.15786162 2.22132814\n",
      " 2.28479466 2.34826118 2.41172769 2.47519421 2.53866073 2.60212725\n",
      " 2.66559377 2.72906028 2.7925268  2.85599332 2.91945984 2.98292636\n",
      " 3.04639288 3.10985939 3.17332591 3.23679243 3.30025895 3.36372547\n",
      " 3.42719199 3.4906585  3.55412502 3.61759154 3.68105806 3.74452458\n",
      " 3.8079911  3.87145761 3.93492413 3.99839065 4.06185717 4.12532369\n",
      " 4.1887902  4.25225672 4.31572324 4.37918976 4.44265628 4.5061228\n",
      " 4.56958931 4.63305583 4.69652235 4.75998887 4.82345539 4.88692191\n",
      " 4.95038842 5.01385494 5.07732146 5.14078798 5.2042545  5.26772102\n",
      " 5.33118753 5.39465405 5.45812057 5.52158709 5.58505361 5.64852012\n",
      " 5.71198664 5.77545316 5.83891968 5.9023862  5.96585272 6.02931923\n",
      " 6.09278575 6.15625227 6.21971879 6.28318531] \n",
      "\n",
      "This is the extraction: \n",
      " [0.         0.63466518 1.26933037 1.90399555 2.53866073 3.17332591\n",
      " 3.8079911  4.44265628 5.07732146 5.71198664] \n",
      "\n",
      "This is the reverse array: \n",
      " [6.28318531 6.21971879 6.15625227 6.09278575 6.02931923 5.96585272\n",
      " 5.9023862  5.83891968 5.77545316 5.71198664 5.64852012 5.58505361\n",
      " 5.52158709 5.45812057 5.39465405 5.33118753 5.26772102 5.2042545\n",
      " 5.14078798 5.07732146 5.01385494 4.95038842 4.88692191 4.82345539\n",
      " 4.75998887 4.69652235 4.63305583 4.56958931 4.5061228  4.44265628\n",
      " 4.37918976 4.31572324 4.25225672 4.1887902  4.12532369 4.06185717\n",
      " 3.99839065 3.93492413 3.87145761 3.8079911  3.74452458 3.68105806\n",
      " 3.61759154 3.55412502 3.4906585  3.42719199 3.36372547 3.30025895\n",
      " 3.23679243 3.17332591 3.10985939 3.04639288 2.98292636 2.91945984\n",
      " 2.85599332 2.7925268  2.72906028 2.66559377 2.60212725 2.53866073\n",
      " 2.47519421 2.41172769 2.34826118 2.28479466 2.22132814 2.15786162\n",
      " 2.0943951  2.03092858 1.96746207 1.90399555 1.84052903 1.77706251\n",
      " 1.71359599 1.65012947 1.58666296 1.52319644 1.45972992 1.3962634\n",
      " 1.33279688 1.26933037 1.20586385 1.14239733 1.07893081 1.01546429\n",
      " 0.95199777 0.88853126 0.82506474 0.76159822 0.6981317  0.63466518\n",
      " 0.57119866 0.50773215 0.44426563 0.38079911 0.31733259 0.25386607\n",
      " 0.19039955 0.12693304 0.06346652 0.        ] \n",
      "\n",
      "This is the extraction for elemets for which |sin(a[i])-cos(a[i])|<0.1 : \n",
      " [0.7615982190520711, 0.8250647373064104, 3.8714576135146945, 3.934924131769034] \n",
      "\n"
     ]
    },
    {
     "data": {
      "image/png": "[encoded data removed]",
      "text/plain": [
       "<Figure size 432x288 with 1 Axes>"
      ]
     },
     "metadata": {
      "needs_background": "light"
     },
     "output_type": "display_data"
    }
   ],
   "source": [
    "a=np.linspace(0,(2*np.pi), 100, True)\n",
    "print('This is the array: \\n' , a, '\\n')\n",
    "\n",
    "#Extraction\n",
    "extraction=a[::10]\n",
    "print('This is the extraction: \\n',extraction, '\\n')\n",
    "\n",
    "#Reversal\n",
    "a_reverse=a[::-1]\n",
    "print('This is the reverse array: \\n' , a_reverse, '\\n')\n",
    "\n",
    "#Evaluation\n",
    "copy=a.copy()\n",
    "evaluation=[]\n",
    "for i in np.arange(0,int(len(a))):\n",
    "    if (np.sin(a[i])-np.cos(a[i])<0.1 and np.sin(a[i])-np.cos(a[i])>-0.1):\n",
    "        evaluation.append(a[i])\n",
    "        copy[i]=np.sin(a[i])\n",
    "    else:\n",
    "        copy[i]='NaN'\n",
    "print('This is the extraction for elemets for which |sin(a[i])-cos(a[i])|<0.1 : \\n' , evaluation, '\\n')\n",
    "\n",
    "#Plot\n",
    "\n",
    "plt.figure()\n",
    "plt.ylabel('f(x)')\n",
    "plt.xlabel('x')\n",
    "plt.plot(a, np.sin(a), label='sin(x)')\n",
    "plt.plot(a, np.cos(a),  label='cos(x)')\n",
    "plt.plot(a, copy, 'r.', label='|sin(a[x])-cos(a[x])|<0.1 True')\n",
    "plt.legend()\n",
    "plt.show()"
   ]
  },
  {
   "cell_type": "markdown",
   "metadata": {},
   "source": [
    "5\\. Create a matrix that shows the 10 by 10 multiplication table.\n",
    "\n",
    " * Find the trace of the matrix\n",
    " * Extract the anto-diagonal (this should be ```array([10, 18, 24, 28, 30, 30, 28, 24, 18, 10])```)\n",
    " * Extract the diagnoal offset by 1 upwards (this should be ```array([ 2,  6, 12, 20, 30, 42, 56, 72, 90])```)"
   ]
  },
  {
   "cell_type": "code",
   "execution_count": 8,
   "metadata": {},
   "outputs": [
    {
     "name": "stdout",
     "output_type": "stream",
     "text": [
      "[[  1.   2.   3.   4.   5.   6.   7.   8.   9.  10.]\n",
      " [  2.   4.   6.   8.  10.  12.  14.  16.  18.  20.]\n",
      " [  3.   6.   9.  12.  15.  18.  21.  24.  27.  30.]\n",
      " [  4.   8.  12.  16.  20.  24.  28.  32.  36.  40.]\n",
      " [  5.  10.  15.  20.  25.  30.  35.  40.  45.  50.]\n",
      " [  6.  12.  18.  24.  30.  36.  42.  48.  54.  60.]\n",
      " [  7.  14.  21.  28.  35.  42.  49.  56.  63.  70.]\n",
      " [  8.  16.  24.  32.  40.  48.  56.  64.  72.  80.]\n",
      " [  9.  18.  27.  36.  45.  54.  63.  72.  81.  90.]\n",
      " [ 10.  20.  30.  40.  50.  60.  70.  80.  90. 100.]] \n",
      "\n",
      "Trace: 385.0\n",
      "Anti-diagonal: [10. 18. 24. 28. 30. 30. 28. 24. 18. 10.]\n",
      "Extracted diagonal: [ 2.  6. 12. 20. 30. 42. 56. 72. 90.]\n"
     ]
    }
   ],
   "source": [
    "a=np.arange(1,11)\n",
    "a=np.vstack((a, np.zeros(len(a))))\n",
    "matrix=np.dot(a.T,a)\n",
    "print(matrix,'\\n')\n",
    "\n",
    "print('Trace:',matrix.trace())\n",
    "print('Anti-diagonal:',np.diag(np.fliplr(matrix)))\n",
    "print('Extracted diagonal:', np.diag(matrix[1:,0:len(matrix)-1]))"
   ]
  },
  {
   "cell_type": "markdown",
   "metadata": {},
   "source": [
    "6\\. Use broadcasting to create a grid of distances\n",
    "\n",
    "Route 66 crosses the following cities in the US: Chicago, Springfield, Saint-Louis, Tulsa, Oklahoma City, Amarillo, Santa Fe, Albuquerque, Flagstaff, Los Angeles\n",
    "The corresponding positions in miles are: 0, 198, 303, 736, 871, 1175, 1475, 1544, 1913, 2448\n",
    "\n",
    "  * Construct a 2D grid of distances among each city along Route 66\n",
    "  * Convert that in km (those savages...)"
   ]
  },
  {
   "cell_type": "code",
   "execution_count": 38,
   "metadata": {},
   "outputs": [
    {
     "name": "stdout",
     "output_type": "stream",
     "text": [
      "Distances: \n",
      " [[   0  198  303  736  871 1175 1475 1544 1913 2448]\n",
      " [ 198    0  105  538  673  977 1277 1346 1715 2250]\n",
      " [ 303  105    0  433  568  872 1172 1241 1610 2145]\n",
      " [ 736  538  433    0  135  439  739  808 1177 1712]\n",
      " [ 871  673  568  135    0  304  604  673 1042 1577]\n",
      " [1175  977  872  439  304    0  300  369  738 1273]\n",
      " [1475 1277 1172  739  604  300    0   69  438  973]\n",
      " [1544 1346 1241  808  673  369   69    0  369  904]\n",
      " [1913 1715 1610 1177 1042  738  438  369    0  535]\n",
      " [2448 2250 2145 1712 1577 1273  973  904  535    0]] \n",
      "\n",
      "Distances in km: \n",
      " [[   0.  319.  488. 1184. 1402. 1891. 2374. 2485. 3079. 3940.]\n",
      " [ 319.    0.  169.  866. 1083. 1572. 2055. 2166. 2760. 3621.]\n",
      " [ 488.  169.    0.  697.  914. 1403. 1886. 1997. 2591. 3452.]\n",
      " [1184.  866.  697.    0.  217.  707. 1189. 1300. 1894. 2755.]\n",
      " [1402. 1083.  914.  217.    0.  489.  972. 1083. 1677. 2538.]\n",
      " [1891. 1572. 1403.  707.  489.    0.  483.  594. 1188. 2049.]\n",
      " [2374. 2055. 1886. 1189.  972.  483.    0.  111.  705. 1566.]\n",
      " [2485. 2166. 1997. 1300. 1083.  594.  111.    0.  594. 1455.]\n",
      " [3079. 2760. 2591. 1894. 1677. 1188.  705.  594.    0.  861.]\n",
      " [3940. 3621. 3452. 2755. 2538. 2049. 1566. 1455.  861.    0.]]\n"
     ]
    }
   ],
   "source": [
    "positions=np.array([0, 198, 303, 736, 871, 1175, 1475, 1544, 1913, 2448])\n",
    "d_matrix=positions.reshape(10,1)-positions\n",
    "for i in range(10):\n",
    "    d_matrix[i,i:]*=-1\n",
    "print('Distances: \\n',d_matrix,'\\n')\n",
    "print('Distances in km: \\n', np.round(d_matrix*1.60934))"
   ]
  },
  {
   "cell_type": "markdown",
   "metadata": {},
   "source": [
    "7\\. Prime numbers sieve: compute the prime numbers in the 0-N (N=99 to start with) range with a sieve (mask).\n",
    "  * Constract a shape (100,) boolean array, the mask\n",
    "  * Identify the multiples of each number starting from 2 and set accordingly the corresponding mask element\n",
    "  * Apply the mask to obtain an array of ordered prime numbers\n",
    "  * Check the performances (timeit); how does it scale with N?\n",
    "  * Implement the optimization suggested in the [sieve of Eratosthenes](https://en.wikipedia.org/wiki/Sieve_of_Eratosthenes)"
   ]
  },
  {
   "cell_type": "code",
   "execution_count": 30,
   "metadata": {},
   "outputs": [
    {
     "name": "stdout",
     "output_type": "stream",
     "text": [
      "[ 0  1  2  3  5  7 11 13 17 19 23 29 31 37 41 43 47 53 59 61 67 71 73 79\n",
      " 83 89 97]\n",
      "[ 0  1  2  3  5  7 11 13 17 19 23 29 31 37 41 43 47 53 59 61 67 71 73 79\n",
      " 83 89 97]\n"
     ]
    }
   ],
   "source": [
    "import time\n",
    "#Prime numbers algorithm\n",
    "def prime_numbers(N):\n",
    "    #Mask initialization\n",
    "    mask=np.ones(N, dtype=bool) #original sieve\n",
    "    for i in range(2,N):\n",
    "        k=2\n",
    "        while i*k<N:\n",
    "            mask[i*k]=False\n",
    "            k+=1 \n",
    "\n",
    "    #Prime numbers computation\n",
    "    prime_n=np.arange(N)\n",
    "    prime_n=prime_n[mask==True]\n",
    "    return prime_n\n",
    "\n",
    "#Sieve of Eratosthenes\n",
    "def prime_numbers_era(N):\n",
    "    #Mask initialization\n",
    "    mask=np.ones(N, dtype=bool) #original sieve\n",
    "    for i in range(2,int(np.sqrt(N))):\n",
    "        if mask[i]==True:\n",
    "            k=i**2   \n",
    "        while k<N:\n",
    "            mask[k]=False\n",
    "            k+=i \n",
    "\n",
    "    #Prime numbers computation\n",
    "    prime_n=np.arange(N)\n",
    "    prime_n=prime_n[mask==True]\n",
    "    return prime_n\n",
    "\n",
    "print(prime_numbers(100))\n",
    "print(prime_numbers_era(100))\n",
    "\n",
    "#tries=np.arange(1000,2000,10)\n",
    "#timing=np.zeros(100)\n",
    "#j=0\n",
    "#for i in tries:\n",
    "#    start =time()\n",
    "#    prime_numbers(i)\n",
    "#    timing[j]=time() - start\n",
    "#    j+=1\n",
    "    \n",
    "#plt.plot(tries, timing, 'r*')\n",
    "#plt.xlabel('N')\n",
    "#plt.ylabel('Time (seconds)')\n",
    "#plt.title('My program')\n",
    "#plt.show()"
   ]
  },
  {
   "cell_type": "code",
   "execution_count": 17,
   "metadata": {},
   "outputs": [
    {
     "name": "stdout",
     "output_type": "stream",
     "text": [
      "[ 0  1  2  3  5  7 11 13 17 19 23 29 31 37 41 43 47 53 59 61 67 71 73 79\n",
      " 83 89 97]\n",
      "[ 0  1  2  3  5  7 11 13 17 19 23 29 31 37 41 43 47 53 59 61 67 71 73 79\n",
      " 83 89 97]\n",
      "133 ms ± 11.6 ms per loop (mean ± std. dev. of 7 runs, 10 loops each)\n",
      "16.8 ms ± 1.7 ms per loop (mean ± std. dev. of 7 runs, 100 loops each)\n"
     ]
    }
   ],
   "source": [
    "%timeit prime_numbers(30000)\n",
    "%timeit prime_numbers_era(30000)"
   ]
  },
  {
   "cell_type": "markdown",
   "metadata": {},
   "source": [
    "8\\. Diffusion using random walk\n",
    "\n",
    "Consider a simple random walk process: at each step in time, a walker jumps right or left (+1 or -1) with equal probability. The goal is to find the typical distance from the origin of a random walker after a given amount of time. \n",
    "To do that, let's simulate many walkers and create a 2D array with each walker as a raw and the actual time evolution as columns\n",
    "\n",
    "  * Take 1000 walkers and let them walk for 200 steps\n",
    "  * Use randint to create a 2D array of size walkers x steps with values -1 or 1\n",
    "  * Build the actual walking distances for each walker (i.e. another 2D array \"summing on each raw\")\n",
    "  * Take the square of that 2D array (elementwise)\n",
    "  * Compute the mean of the squared distances at each step (i.e. the mean along the columns)\n",
    "  * Plot the average distances (sqrt(distance\\*\\*2)) as a function of time (step)\n",
    "  \n",
    "Did you get what you expected?"
   ]
  },
  {
   "cell_type": "code",
   "execution_count": 42,
   "metadata": {},
   "outputs": [
    {
     "data": {
      "image/png": "[encoded data removed]",
      "text/plain": [
       "<Figure size 432x288 with 1 Axes>"
      ]
     },
     "metadata": {
      "needs_background": "light"
     },
     "output_type": "display_data"
    },
    {
     "data": {
      "image/png": "[encoded data removed]",
      "text/plain": [
       "<Figure size 432x288 with 1 Axes>"
      ]
     },
     "metadata": {
      "needs_background": "light"
     },
     "output_type": "display_data"
    }
   ],
   "source": [
    "def rand_wlk(walk, steps):\n",
    "    a_steps=np.array(npr.randint(2,size=(walk,steps)))\n",
    "    a_steps[a_steps==0]=-1\n",
    "    \n",
    "    #Walking distances\n",
    "    r_walk=np.cumsum(a_steps,axis=1)\n",
    "    \n",
    "    #Square of distances\n",
    "    s_walk=r_walk**2\n",
    "    \n",
    "    #Means columnwise\n",
    "    w_means=np.mean(s_walk,axis=0,dtype=int)\n",
    "    \n",
    "    return r_walk, w_means\n",
    "\n",
    "walkers=1000\n",
    "steps=2000\n",
    "r_walk, w_means=rand_wlk(walkers,steps)\n",
    "s=np.arange(steps)\n",
    "\n",
    "#fig3=plt.figure(figsize=(15,8))\n",
    "plt.xlabel('steps')\n",
    "plt.ylabel('Root mean square distance traveled')\n",
    "plt.plot(s, np.sqrt(w_means),'.', label='$\\sqrt{{<\\Delta x(s)}^2>}$')\n",
    "plt.plot(s, np.sqrt(s),label='$f(s)=\\sqrt{s}$')\n",
    "plt.legend()\n",
    "plt.show()\n",
    "\n",
    "#fig2=plt.figure(figsize=(15,8))\n",
    "plt.xlabel('steps')\n",
    "plt.ylabel('$<{\\Delta x}^2>$')\n",
    "plt.plot(s, w_means,'.',label='$<{\\Delta x(s)}^2>$')\n",
    "plt.plot(s, s,label='$f(s)=s$')\n",
    "plt.legend()\n",
    "plt.show()\n",
    "\n"
   ]
  },
  {
   "cell_type": "markdown",
   "metadata": {},
   "source": [
    "9\\. Analyze a data file \n",
    "  * Download the population of hares, lynxes and carrots at the beginning of the last century.\n",
    "    ```python\n",
    "    ! wget https://www.dropbox.com/s/3vigxoqayo389uc/populations.txt\n",
    "    ```\n",
    "\n",
    "  * Check the content by looking within the file\n",
    "  * Load the data (use an appropriate numpy method) into a 2D array\n",
    "  * Create arrays out of the columns, the arrays being (in order): *year*, *hares*, *lynxes*, *carrots* \n",
    "  * Plot the 3 populations over the years\n",
    "  * Compute the main statistical properties of the dataset (mean, std, correlations, etc.)\n",
    "  * Which species has the highest population each year?\n",
    "\n",
    "Do you feel there is some evident correlation here? [Studies](https://www.enr.gov.nt.ca/en/services/lynx/lynx-snowshoe-hare-cycle) tend to believe so."
   ]
  },
  {
   "cell_type": "code",
   "execution_count": 12,
   "metadata": {},
   "outputs": [
    {
     "data": {
      "image/png": "[encoded data removed]",
      "text/plain": [
       "<Figure size 432x288 with 1 Axes>"
      ]
     },
     "metadata": {
      "needs_background": "light"
     },
     "output_type": "display_data"
    },
    {
     "name": "stdout",
     "output_type": "stream",
     "text": [
      "\n",
      " hares\n",
      "mean 34080.95238095238\n",
      "std 20897.906458089667\n",
      "median 25400.0\n",
      "min 7600.0\n",
      "max 77400.0\n",
      "\n",
      " lynxes\n",
      "mean 20166.666666666668\n",
      "std 16254.591536908763\n",
      "median 12300.0\n",
      "min 4000.0\n",
      "max 59400.0\n",
      "\n",
      " carrots\n",
      "mean 42400.0\n",
      "std 3322.5062255844787\n",
      "median 41800.0\n",
      "min 36700.0\n",
      "max 48300.0\n",
      "\n",
      " Correlation coefficients:\n",
      "[[ 1.          0.07189206 -0.01660378]\n",
      " [ 0.07189206  1.         -0.68057717]\n",
      " [-0.01660378 -0.68057717  1.        ]]\n",
      "Maximum values per year\n",
      "\n",
      "years,  hares,  lynxes,  carrots\n",
      " [[ 1900.     0.     0. 48300.]\n",
      " [ 1901.     0.     0. 48200.]\n",
      " [ 1902. 70200.     0.     0.]\n",
      " [ 1903. 77400.     0.     0.]\n",
      " [ 1904.     0. 59400.     0.]\n",
      " [ 1905.     0. 41700.     0.]\n",
      " [ 1906.     0.     0. 38600.]\n",
      " [ 1907.     0.     0. 42300.]\n",
      " [ 1908.     0.     0. 44500.]\n",
      " [ 1909.     0.     0. 42100.]\n",
      " [ 1910.     0.     0. 46000.]\n",
      " [ 1911.     0.     0. 46800.]\n",
      " [ 1912. 57000.     0.     0.]\n",
      " [ 1913. 76600.     0.     0.]\n",
      " [ 1914. 52300.     0.     0.]\n",
      " [ 1915.     0. 51100.     0.]\n",
      " [ 1916.     0.     0. 36700.]\n",
      " [ 1917.     0.     0. 41800.]\n",
      " [ 1918.     0.     0. 43300.]\n",
      " [ 1919.     0.     0. 41300.]\n",
      " [ 1920.     0.     0. 47300.]]\n"
     ]
    }
   ],
   "source": [
    "#! wget https://www.dropbox.com/s/3vigxoqayo389uc/populations.txt\n",
    "from matplotlib.ticker import MaxNLocator\n",
    "\n",
    "file_name = \"populations.txt\"\n",
    "data=np.array(np.loadtxt(file_name))\n",
    "\n",
    "years=data[:,0]\n",
    "hares=data[:,1]\n",
    "lynxes=data[:,2]\n",
    "carrots=data[:,3]\n",
    "\n",
    "ax=plt.figure().gca()\n",
    "ax.xaxis.set_major_locator(MaxNLocator(integer=True))\n",
    "plt.grid()\n",
    "plt.plot(years, hares, 'r', label='hares')\n",
    "plt.plot(years, lynxes, 'g', label='lynxes')\n",
    "plt.plot(years, carrots, 'b', label='carrot')\n",
    "plt.xlabel('Year')\n",
    "plt.ylabel('Popoluation')\n",
    "plt.legend()\n",
    "plt.show()\n",
    "\n",
    "names=['hares','lynxes','carrots']\n",
    "k=0\n",
    "for i in [hares,lynxes,carrots]:\n",
    "    print('\\n',names[k])\n",
    "    for function in ['mean', 'std', 'median', 'min', 'max']:\n",
    "        print(function, getattr(np, function)(i))\n",
    "    k+=1\n",
    "    \n",
    "print('\\n Correlation coefficients:')\n",
    "print(np.corrcoef((hares,lynxes,carrots)))\n",
    "\n",
    "#Highest population\n",
    "for i in np.arange(data.shape[0]):\n",
    "    data[i,1:][data[i,1:]!=np.max(data[i,1:])]=0\n",
    "    \n",
    "print('Maximum values per year')\n",
    "print('\\nyears,  hares,  lynxes,  carrots\\n',data)\n"
   ]
  },
  {
   "cell_type": "code",
   "execution_count": null,
   "metadata": {},
   "outputs": [],
   "source": []
  }
 ],
 "metadata": {
  "kernelspec": {
   "display_name": "Python 3",
   "language": "python",
   "name": "python3"
  },
  "language_info": {
   "codemirror_mode": {
    "name": "ipython",
    "version": 3
   },
   "file_extension": ".py",
   "mimetype": "text/x-python",
   "name": "python",
   "nbconvert_exporter": "python",
   "pygments_lexer": "ipython3",
   "version": "3.7.1"
  }
 },
 "nbformat": 4,
 "nbformat_minor": 2
}
