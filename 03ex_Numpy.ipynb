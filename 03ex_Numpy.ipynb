{
 "cells": [
  {
   "cell_type": "markdown",
   "metadata": {},
   "source": [
    "### Numpy basics"
   ]
  },
  {
   "cell_type": "markdown",
   "metadata": {},
   "source": [
    "1\\. Find the row, column and overall means for the following matrix:\n",
    "\n",
    "```python\n",
    "m = np.arange(12).reshape((3,4))\n",
    "```"
   ]
  },
  {
   "cell_type": "code",
   "execution_count": 2,
   "metadata": {},
   "outputs": [
    {
     "name": "stdout",
     "output_type": "stream",
     "text": [
      "[[ 0  1  2  3]\n",
      " [ 4  5  6  7]\n",
      " [ 8  9 10 11]]\n",
      "[4. 5. 6. 7.]\n",
      "[1.5 5.5 9.5]\n",
      "5.5\n"
     ]
    }
   ],
   "source": [
    "import numpy as np\n",
    "m = np.arange(12).reshape((3,4))\n",
    "print(m)\n",
    "print(np.mean(m,axis=0)) #mean of rows for each column\n",
    "print(np.mean(m,axis=1)) #mean of columns for each row\n",
    "print(np.mean(m))"
   ]
  },
  {
   "cell_type": "markdown",
   "metadata": {},
   "source": [
    "2\\. Find the outer product of the following two vecotrs\n",
    "\n",
    "```python\n",
    "u = np.array([1,3,5,7])\n",
    "v = np.array([2,4,6,8])\n",
    "```\n",
    "\n",
    "Do this in the following ways:\n",
    "\n",
    "   * Using the function outer in numpy\n",
    "   * Using a nested for loop or list comprehension\n",
    "   * Using numpy broadcasting operatoins\n"
   ]
  },
  {
   "cell_type": "code",
   "execution_count": 13,
   "metadata": {},
   "outputs": [
    {
     "name": "stdout",
     "output_type": "stream",
     "text": [
      "[[ 2  4  6  8]\n",
      " [ 6 12 18 24]\n",
      " [10 20 30 40]\n",
      " [14 28 42 56]]\n",
      "[[ 2.  4.  6.  8.]\n",
      " [ 6. 12. 18. 24.]\n",
      " [10. 20. 30. 40.]\n",
      " [14. 28. 42. 56.]]\n",
      "[[ 2  4  6  8]\n",
      " [ 6 12 18 24]\n",
      " [10 20 30 40]\n",
      " [14 28 42 56]]\n"
     ]
    }
   ],
   "source": [
    "u = np.array([1,3,5,7])\n",
    "v = np.array([2,4,6,8])\n",
    "outProduct = np.outer(u,v)\n",
    "res = np.ones((4,4))\n",
    "print(outProduct)\n",
    "\n",
    "for i in range(len(u)) :\n",
    "    for j in range(len(v)) :\n",
    "        res[i,j]=u[i] * v[j]\n",
    "print(res)\n",
    "\n",
    "broadProduct =u[:, np.newaxis] * v;\n",
    "print(broadProduct)\n",
    "\n"
   ]
  },
  {
   "cell_type": "markdown",
   "metadata": {},
   "source": [
    "3\\. Create a 10 by 6 matrix of random uniform numbers. Set all rows with any entry less than 0.1 to be zero\n",
    "\n",
    "Hint: Use the following numpy functions - np.random.random, np.any as well as Boolean indexing and the axis argument."
   ]
  },
  {
   "cell_type": "code",
   "execution_count": 14,
   "metadata": {},
   "outputs": [
    {
     "name": "stdout",
     "output_type": "stream",
     "text": [
      "10 by 6 matrix: \n",
      " [[0.41887792 0.15145752 0.73683524 0.28178122 0.94077747 0.83506162]\n",
      " [0.29273423 0.59101055 0.25941407 0.         0.49736739 0.50886247]\n",
      " [0.60852132 0.64398773 0.12389934 0.12128053 0.23739532 0.7714275 ]\n",
      " [0.19747889 0.82406188 0.22773867 0.85089309 0.14786416 0.95801804]\n",
      " [0.30887347 0.79728236 0.30684082 0.30096139 0.20251171 0.45622945]\n",
      " [0.34949684 0.53932193 0.45163545 0.23681372 0.6396835  0.11373818]\n",
      " [0.27974089 0.58736963 0.93879952 0.82214698 0.52607625 0.55632704]\n",
      " [0.         0.         0.24100521 0.31853508 0.29248866 0.23791523]\n",
      " [0.62753532 0.99983404 0.46559006 0.79029102 0.         0.57307513]\n",
      " [0.50355652 0.4624777  0.22576651 0.76160806 0.18810938 0.93473897]] \n",
      "\n"
     ]
    }
   ],
   "source": [
    "import numpy.random as npr\n",
    "x = npr.rand(10,6);\n",
    "x[x<0.1] = 0\n",
    "print (\"10 by 6 matrix:\",'\\n',x,'\\n') # shape=(3,6)"
   ]
  },
  {
   "cell_type": "markdown",
   "metadata": {},
   "source": [
    "4\\. Use np.linspace to create an array of 100 numbers between 0 and 2π (includsive).\n",
    "\n",
    "  * Extract every 10th element using slice notation\n",
    "  * Reverse the array using slice notation\n",
    "  * Extract elements where the absolute difference between the sine and cosine functions evaluated at that element is less than 0.1\n",
    "  * Make a plot showing the sin and cos functions and indicate where they are close"
   ]
  },
  {
   "cell_type": "code",
   "execution_count": 9,
   "metadata": {},
   "outputs": [
    {
     "data": {
      "image/png": "[encoded data removed]",
      "text/plain": [
       "<Figure size 432x288 with 1 Axes>"
      ]
     },
     "metadata": {
      "needs_background": "light"
     },
     "output_type": "display_data"
    }
   ],
   "source": [
    "import math\n",
    "import matplotlib.pyplot as plt\n",
    "x1 = np.linspace(0, 2 * math.pi, 100)\n",
    "x2 = x1[::10]\n",
    "x3 = x2[::-1]\n",
    "%matplotlib inline\n",
    "absdiff = x1[np.absolute(np.sin(x1)-np.cos(x1))<0.1]\n",
    "\n",
    "x = np.sin(x1)\n",
    "y = np.cos(x1)\n",
    "intPoints = np.argwhere(np.diff(np.sign(x - y))).flatten()\n",
    "   \n",
    "plt.plot(x1,x,x1,y, x1[intPoints],x[intPoints],'ro');\n",
    "\n",
    "\n"
   ]
  },
  {
   "cell_type": "markdown",
   "metadata": {},
   "source": [
    "5\\. Create a matrix that shows the 10 by 10 multiplication table.\n",
    "\n",
    " * Find the trace of the matrix\n",
    " * Extract the anto-diagonal (this should be ```array([10, 18, 24, 28, 30, 30, 28, 24, 18, 10])```)\n",
    " * Extract the diagnoal offset by 1 upwards (this should be ```array([ 2,  6, 12, 20, 30, 42, 56, 72, 90])```)"
   ]
  },
  {
   "cell_type": "code",
   "execution_count": 136,
   "metadata": {},
   "outputs": [
    {
     "name": "stdout",
     "output_type": "stream",
     "text": [
      "[[  1.   2.   3.   4.   5.   6.   7.   8.   9.  10.]\n",
      " [  2.   4.   6.   8.  10.  12.  14.  16.  18.  20.]\n",
      " [  3.   6.   9.  12.  15.  18.  21.  24.  27.  30.]\n",
      " [  4.   8.  12.  16.  20.  24.  28.  32.  36.  40.]\n",
      " [  5.  10.  15.  20.  25.  30.  35.  40.  45.  50.]\n",
      " [  6.  12.  18.  24.  30.  36.  42.  48.  54.  60.]\n",
      " [  7.  14.  21.  28.  35.  42.  49.  56.  63.  70.]\n",
      " [  8.  16.  24.  32.  40.  48.  56.  64.  72.  80.]\n",
      " [  9.  18.  27.  36.  45.  54.  63.  72.  81.  90.]\n",
      " [ 10.  20.  30.  40.  50.  60.  70.  80.  90. 100.]]\n",
      "[10. 18. 24. 28. 30. 30. 28. 24. 18. 10.]\n",
      "[ 2.  6. 12. 20. 30. 42. 56. 72. 90.]\n"
     ]
    }
   ],
   "source": [
    "mult_table = np.ones((10,10))\n",
    "\n",
    "for i in range(len(mult_table)) :\n",
    "    for j in range(len(mult_table)) :\n",
    "        mult_table[j][i]=(j+1) * (i+1)\n",
    "print(mult_table)\n",
    "\n",
    "anto_diagonal = np.diag(np.rot90(mult_table))\n",
    "print(anto_diagonal)\n",
    "\n",
    "upward = np.diag(mult_table, k=1)\n",
    "print(upward)"
   ]
  },
  {
   "cell_type": "markdown",
   "metadata": {},
   "source": [
    "6\\. Use broadcasting to create a grid of distances\n",
    "\n",
    "Route 66 crosses the following cities in the US: Chicago, Springfield, Saint-Louis, Tulsa, Oklahoma City, Amarillo, Santa Fe, Albuquerque, Flagstaff, Los Angeles\n",
    "The corresponding positions in miles are: 0, 198, 303, 736, 871, 1175, 1475, 1544, 1913, 2448\n",
    "\n",
    "  * Construct a 2D grid of distances among each city along Route 66\n",
    "  * Convert that in km (those savages...)"
   ]
  },
  {
   "cell_type": "code",
   "execution_count": 6,
   "metadata": {},
   "outputs": [
    {
     "name": "stdout",
     "output_type": "stream",
     "text": [
      "Matrix of the distances in miles:\n",
      " [[   0  198  303  736  871 1175 1475 1544 1913  448]\n",
      " [ 198    0  105  538  673  977 1277 1346 1715  250]\n",
      " [ 303  105    0  433  568  872 1172 1241 1610  145]\n",
      " [ 736  538  433    0  135  439  739  808 1177  288]\n",
      " [ 871  673  568  135    0  304  604  673 1042  423]\n",
      " [1175  977  872  439  304    0  300  369  738  727]\n",
      " [1475 1277 1172  739  604  300    0   69  438 1027]\n",
      " [1544 1346 1241  808  673  369   69    0  369 1096]\n",
      " [1913 1715 1610 1177 1042  738  438  369    0 1465]\n",
      " [ 448  250  145  288  423  727 1027 1096 1465    0]]\n",
      "Matrix of the distances in km:\n",
      " [[   0.        318.650112  487.631232 1184.477184 1401.738624 1890.9792\n",
      "  2373.7824   2484.827136 3078.675072  720.986112]\n",
      " [ 318.650112    0.        168.98112   865.827072 1083.088512 1572.329088\n",
      "  2055.132288 2166.177024 2760.02496   402.336   ]\n",
      " [ 487.631232  168.98112     0.        696.845952  914.107392 1403.347968\n",
      "  1886.151168 1997.195904 2591.04384   233.35488 ]\n",
      " [1184.477184  865.827072  696.845952    0.        217.26144   706.502016\n",
      "  1189.305216 1300.349952 1894.197888  463.491072]\n",
      " [1401.738624 1083.088512  914.107392  217.26144     0.        489.240576\n",
      "   972.043776 1083.088512 1676.936448  680.752512]\n",
      " [1890.9792   1572.329088 1403.347968  706.502016  489.240576    0.\n",
      "   482.8032    593.847936 1187.695872 1169.993088]\n",
      " [2373.7824   2055.132288 1886.151168 1189.305216  972.043776  482.8032\n",
      "     0.        111.044736  704.892672 1652.796288]\n",
      " [2484.827136 2166.177024 1997.195904 1300.349952 1083.088512  593.847936\n",
      "   111.044736    0.        593.847936 1763.841024]\n",
      " [3078.675072 2760.02496  2591.04384  1894.197888 1676.936448 1187.695872\n",
      "   704.892672  593.847936    0.       2357.68896 ]\n",
      " [ 720.986112  402.336     233.35488   463.491072  680.752512 1169.993088\n",
      "  1652.796288 1763.841024 2357.68896     0.      ]]\n"
     ]
    }
   ],
   "source": [
    "distances = np.array([0,198,303,736,871,1175,1475,1544,1913,448])\n",
    "grid = np.array(abs(distances-np.array([distances]).T))\n",
    "print(\"Matrix of the distances in miles:\\n\", grid)\n",
    "grid_km = (grid * 1.609344)\n",
    "print(\"Matrix of the distances in km:\\n\", grid_km)"
   ]
  },
  {
   "cell_type": "markdown",
   "metadata": {},
   "source": [
    "7\\. Prime numbers sieve: compute the prime numbers in the 0-N (N=99 to start with) range with a sieve (mask).\n",
    "  * Constract a shape (100,) boolean array, the mask\n",
    "  * Identify the multiples of each number starting from 2 and set accordingly the corresponding mask element\n",
    "  * Apply the mask to obtain an array of ordered prime numbers\n",
    "  * Check the performances (timeit); how does it scale with N?\n",
    "  * Implement the optimization suggested in the [sieve of Eratosthenes](https://en.wikipedia.org/wiki/Sieve_of_Eratosthenes)"
   ]
  },
  {
   "cell_type": "code",
   "execution_count": 4,
   "metadata": {},
   "outputs": [
    {
     "name": "stdout",
     "output_type": "stream",
     "text": [
      "47.5 µs ± 3.53 µs per loop (mean ± std. dev. of 7 runs, 10000 loops each)\n",
      "[ 1  2  3  5  7 11 13 17 19 23 29 31 37 41 43 47 53 59 61 67 71 73 79 83\n",
      " 89 97]\n"
     ]
    }
   ],
   "source": [
    "def findPrimes(N):\n",
    "    numbers = np.arange(N)\n",
    "    mask = numbers != 0\n",
    "    \n",
    "    # optimization suggested\n",
    "    for i in range(2,int(np.sqrt(N))):\n",
    "        if mask[i] == True:\n",
    "            for j in range(i**2,N,i):\n",
    "                mask[j] = False\n",
    "                \n",
    "    return numbers[mask]\n",
    "\n",
    "%timeit findPrimes(100)\n",
    "print(findPrimes(100))"
   ]
  },
  {
   "cell_type": "markdown",
   "metadata": {},
   "source": [
    "8\\. Diffusion using random walk\n",
    "\n",
    "Consider a simple random walk process: at each step in time, a walker jumps right or left (+1 or -1) with equal probability. The goal is to find the typical distance from the origin of a random walker after a given amount of time. \n",
    "To do that, let's simulate many walkers and create a 2D array with each walker as a raw and the actual time evolution as columns\n",
    "\n",
    "  * Take 1000 walkers and let them walk for 200 steps\n",
    "  * Use randint to create a 2D array of size walkers x steps with values -1 or 1\n",
    "  * Build the actual walking distances for each walker (i.e. another 2D array \"summing on each raw\")\n",
    "  * Take the square of that 2D array (elementwise)\n",
    "  * Compute the mean of the squared distances at each step (i.e. the mean along the columns)\n",
    "  * Plot the average distances (sqrt(distance\\*\\*2)) as a function of time (step)\n",
    "  \n",
    "Did you get what you expected?"
   ]
  },
  {
   "cell_type": "code",
   "execution_count": 10,
   "metadata": {},
   "outputs": [
    {
     "data": {
      "text/plain": [
       "[<matplotlib.lines.Line2D at 0x277ba427e48>]"
      ]
     },
     "execution_count": 10,
     "metadata": {},
     "output_type": "execute_result"
    },
    {
     "data": {
      "image/png": "[encoded data removed]",
      "text/plain": [
       "<Figure size 432x288 with 1 Axes>"
      ]
     },
     "metadata": {
      "needs_background": "light"
     },
     "output_type": "display_data"
    }
   ],
   "source": [
    "import numpy.random as npr\n",
    "npr.seed(123)\n",
    "\n",
    "walkers = 1000\n",
    "steps = 200\n",
    "walk = npr.randint(0,2,size=(walkers,steps))\n",
    "walk[walk == 0] = -1 #,mette a -1 gli zeri in modo da avere solo -1 e 1\n",
    "distances = np.zeros((walkers,steps))\n",
    "for i in range(walkers):\n",
    "    distances[i,0] = walk[i,0]\n",
    "    for j in range(1,steps):\n",
    "        distances[i,j] = distances[i,j-1] + walk[i,j]\n",
    "\n",
    "distances *= distances\n",
    "mean = np.sqrt(distances.mean(axis=0))\n",
    "\n",
    "plt.plot(np.arange(steps),mean)\n",
    "plt.plot(np.arange(steps),np.sqrt(np.arange(steps))) #just to prove the trend sqrt(t)-like\n"
   ]
  },
  {
   "cell_type": "markdown",
   "metadata": {},
   "source": [
    "9\\. Analyze a data file \n",
    "  * Download the population of hares, lynxes and carrots at the beginning of the last century.\n",
    "    ```python\n",
    "    ! wget https://www.dropbox.com/s/3vigxoqayo389uc/populations.txt\n",
    "    ```\n",
    "\n",
    "  * Check the content by looking within the file\n",
    "  * Load the data (use an appropriate numpy method) into a 2D array\n",
    "  * Create arrays out of the columns, the arrays being (in order): *year*, *hares*, *lynxes*, *carrots* \n",
    "  * Plot the 3 populations over the years\n",
    "  * Compute the main statistical properties of the dataset (mean, std, correlations, etc.)\n",
    "  * Which species has the highest population each year?\n",
    "\n",
    "Do you feel there is some evident correlation here? [Studies](https://www.enr.gov.nt.ca/en/services/lynx/lynx-snowshoe-hare-cycle) tend to believe so."
   ]
  },
  {
   "cell_type": "code",
   "execution_count": 12,
   "metadata": {},
   "outputs": [
    {
     "name": "stdout",
     "output_type": "stream",
     "text": [
      "Statistical properties forharesdataset:\n",
      "sum 715700.0\n",
      "argmin 17\n",
      "mean 34080.95238095238\n",
      "median 25400.0\n",
      "std 20897.906458089667\n",
      "\n",
      "\n",
      "Statistical properties forlynxesdataset:\n",
      "sum 423500.0\n",
      "argmin 0\n",
      "mean 20166.666666666668\n",
      "median 12300.0\n",
      "std 16254.591536908763\n",
      "\n",
      "\n",
      "Statistical properties forcarrotsdataset:\n",
      "sum 890400.0\n",
      "argmin 16\n",
      "mean 42400.0\n",
      "median 41800.0\n",
      "std 3322.5062255844787\n",
      "\n",
      "\n",
      "\n",
      " correlation of hares and lynxes \n",
      " [[1.         0.07189206]\n",
      " [0.07189206 1.        ]] \n",
      "\n",
      "correlation of hares and carrots \n",
      " [[ 1.         -0.01660378]\n",
      " [-0.01660378  1.        ]] \n",
      "\n",
      "correlation of carrots and lynxes \n",
      " [[ 1.         -0.68057717]\n",
      " [-0.68057717  1.        ]] \n",
      "\n",
      "1900.0 carrots\n",
      "1901.0 carrots\n",
      "1902.0 hares\n",
      "1903.0 hares\n",
      "1904.0 lynxes\n",
      "1905.0 lynxes\n",
      "1906.0 carrots\n",
      "1907.0 carrots\n",
      "1908.0 carrots\n",
      "1909.0 carrots\n",
      "1910.0 carrots\n",
      "1911.0 carrots\n",
      "1912.0 hares\n",
      "1913.0 hares\n",
      "1914.0 hares\n",
      "1915.0 lynxes\n",
      "1916.0 carrots\n",
      "1917.0 carrots\n",
      "1918.0 carrots\n",
      "1919.0 carrots\n",
      "1920.0 carrots\n"
     ]
    },
    {
     "data": {
      "image/png": "[encoded data removed]",
      "text/plain": [
       "<Figure size 432x288 with 1 Axes>"
      ]
     },
     "metadata": {
      "needs_background": "light"
     },
     "output_type": "display_data"
    }
   ],
   "source": [
    "file_name ='populations.txt'\n",
    "data=np.loadtxt(file_name)\n",
    "years = data[:,0]\n",
    "hares = data[:,1]\n",
    "lynxes = data[:,2]\n",
    "carrots = data[:,3]\n",
    "\n",
    "dataset = ''\n",
    "plt.plot(years, hares, 'r', label='hares')\n",
    "plt.plot(years, lynxes , 'b', label='lynxes')\n",
    "plt.plot(years, carrots, 'g', label='carrots')\n",
    "\n",
    "dataNames = {\n",
    "    'hares':hares,\n",
    "    'lynxes':lynxes,\n",
    "    'carrots':carrots\n",
    "}\n",
    "for dataset in ['hares','lynxes','carrots']:\n",
    "    print('Statistical properties for'+dataset+'dataset:')\n",
    "    for function in ['sum','argmin','mean','median','std']:\n",
    "        print (function, getattr(np, function)(dataNames[dataset]))\n",
    "    print('\\n')\n",
    "    \n",
    "print('\\n','correlation of hares and lynxes', '\\n',  getattr(np, 'corrcoef')(hares,lynxes),'\\n')\n",
    "print('correlation of hares and carrots', '\\n',  getattr(np, 'corrcoef')(hares,carrots),'\\n')\n",
    "print('correlation of carrots and lynxes', '\\n',  getattr(np, 'corrcoef')(carrots,lynxes),'\\n',)\n",
    "\n",
    "titles=[\"hares\",\"lynxes\",\"carrots\"]\n",
    "maxVals = np.argmax(data, axis = 1)\n",
    "for index,row in enumerate(maxVals):\n",
    "    print(years[index],titles[row-1])\n"
   ]
  },
  {
   "cell_type": "code",
   "execution_count": null,
   "metadata": {},
   "outputs": [],
   "source": []
  },
  {
   "cell_type": "code",
   "execution_count": null,
   "metadata": {},
   "outputs": [],
   "source": []
  },
  {
   "cell_type": "code",
   "execution_count": null,
   "metadata": {},
   "outputs": [],
   "source": []
  }
 ],
 "metadata": {
  "kernelspec": {
   "display_name": "Python 3",
   "language": "python",
   "name": "python3"
  },
  "language_info": {
   "codemirror_mode": {
    "name": "ipython",
    "version": 3
   },
   "file_extension": ".py",
   "mimetype": "text/x-python",
   "name": "python",
   "nbconvert_exporter": "python",
   "pygments_lexer": "ipython3",
   "version": "3.7.0"
  }
 },
 "nbformat": 4,
 "nbformat_minor": 2
}
