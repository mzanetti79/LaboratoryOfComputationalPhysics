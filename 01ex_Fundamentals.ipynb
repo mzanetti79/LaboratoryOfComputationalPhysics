{
 "cells": [
  {
   "cell_type": "markdown",
   "metadata": {},
   "source": [
    "1\\. Write the following as a list comprehension"
   ]
  },
  {
   "cell_type": "code",
   "execution_count": 1,
   "metadata": {},
   "outputs": [
    {
     "name": "stdout",
     "output_type": "stream",
     "text": [
      "[(0, 0), (0, 1), (0, 2), (0, 3), (1, 0), (1, 1), (1, 2), (1, 3), (2, 0), (2, 1), (2, 2), (2, 3)]\n",
      "[0, 4, 16]\n"
     ]
    }
   ],
   "source": [
    "# 1\n",
    "ans = []\n",
    "for i in range(3):\n",
    "    for j in range(4):\n",
    "        ans.append((i, j))\n",
    "print (ans)\n",
    "\n",
    "# 2\n",
    "ans = map(lambda x: x*x, filter(lambda x: x%2 == 0, range(5)))\n",
    "print (list(ans))\n",
    "\n"
   ]
  },
  {
   "cell_type": "code",
   "execution_count": 2,
   "metadata": {},
   "outputs": [
    {
     "name": "stdout",
     "output_type": "stream",
     "text": [
      "[(0, 0), (0, 1), (0, 2), (0, 3), (1, 0), (1, 1), (1, 2), (1, 3), (2, 0), (2, 1), (2, 2), (2, 3)]\n",
      "[0, 4, 16]\n"
     ]
    }
   ],
   "source": [
    "\n",
    "#1\n",
    "ans=[(i,j) for i in range(3) for j in range(4)]\n",
    "print(ans)\n",
    "\n",
    "#2\n",
    "ans=[x*x for x in range(5) if x%2==0]\n",
    "print(list(ans))\n"
   ]
  },
  {
   "cell_type": "markdown",
   "metadata": {},
   "source": [
    "2\\. Convert the following function into a pure function with no global variables or side effects"
   ]
  },
  {
   "cell_type": "code",
   "execution_count": 3,
   "metadata": {},
   "outputs": [
    {
     "name": "stdout",
     "output_type": "stream",
     "text": [
      "[1, 2, 3, 0, 1, 2, 3, 4]\n",
      "[1, 2, 3, 0, 1, 2, 3, 4]\n"
     ]
    }
   ],
   "source": [
    "x = 5\n",
    "def f(alist):\n",
    "    for i in range(x):\n",
    "         alist.append(i)\n",
    "    return alist\n",
    "\n",
    "alist = [1,2,3]\n",
    "ans = f(alist)\n",
    "print (ans)\n",
    "print (alist) # alist has been changed!"
   ]
  },
  {
   "cell_type": "code",
   "execution_count": 14,
   "metadata": {},
   "outputs": [
    {
     "name": "stdout",
     "output_type": "stream",
     "text": [
      "how many elements u want to add: 5\n",
      "[1, 2, 3, 0, 1, 2, 3, 4]\n",
      "[1, 2, 3, 0, 1, 2, 3, 4]\n"
     ]
    }
   ],
   "source": [
    "\n",
    "def f(x, alist):\n",
    "    if x is None:\n",
    "        x=5\n",
    "    for i in range(x):\n",
    "        alist.append(i)\n",
    "    return alist\n",
    "\n",
    "alist = [1,2,3]\n",
    "x=int(input(\"how many elements u want to add: \"))\n",
    "ans = f(x, alist)\n",
    "print (ans)\n",
    "print (alist) # alist has NOT been changed!"
   ]
  },
  {
   "cell_type": "markdown",
   "metadata": {},
   "source": [
    "3\\. Write a `decorator` hello that makes every wrapped function print “Hello!”, i.e. something like:\n",
    "\n",
    "```python\n",
    "@hello\n",
    "def square(x):\n",
    "    return x*x\n",
    "```\n",
    "\n"
   ]
  },
  {
   "cell_type": "code",
   "execution_count": 15,
   "metadata": {},
   "outputs": [
    {
     "name": "stdout",
     "output_type": "stream",
     "text": [
      "Hello!\n"
     ]
    },
    {
     "data": {
      "text/plain": [
       "144"
      ]
     },
     "execution_count": 15,
     "metadata": {},
     "output_type": "execute_result"
    }
   ],
   "source": [
    "def hello(func):\n",
    "    def wrapper(*arg):\n",
    "        print(\"Hello!\")\n",
    "        return func(*arg)\n",
    "    return wrapper\n",
    "\n",
    "@hello\n",
    "def square(x):\n",
    "    return x*x\n",
    "\n",
    "square(12)"
   ]
  },
  {
   "cell_type": "markdown",
   "metadata": {},
   "source": [
    "4\\. Write the factorial function so that it a) does and b) does not use recursion."
   ]
  },
  {
   "cell_type": "code",
   "execution_count": 17,
   "metadata": {},
   "outputs": [
    {
     "name": "stdout",
     "output_type": "stream",
     "text": [
      "120\n",
      "120\n"
     ]
    }
   ],
   "source": [
    "## Recursive\n",
    "def recursive_factorial(n):\n",
    "    if n==0 or n==1:\n",
    "        return 1\n",
    "    else:\n",
    "        return recursive_factorial(n-1)*n\n",
    "\n",
    "print(recursive_factorial(5))\n",
    "\n",
    "## Non-Recursive\n",
    "def factorial(n):\n",
    "    N=n\n",
    "    for i in range(1,n):\n",
    "        N*=n-i\n",
    "    return N\n",
    "\n",
    "print(factorial(5))"
   ]
  },
  {
   "cell_type": "markdown",
   "metadata": {},
   "source": [
    "5\\. Use HOFs (zip in particular) to compute the weight of a circle, a disk and a sphere, assuming different radii and different densities:\n",
    "\n",
    "```python\n",
    "densities = {\"Al\":[0.5,1,2],\"Fe\":[3,4,5],\"Pb\": [15,20,30]}\n",
    "radii = [1,2,3]\n",
    "```\n",
    "\n",
    "where the entries of the dictionary's values are the linear, superficial and volumetric densities of the materials respectively.\n",
    "\n",
    "In particular define a list of three lambda functions using a comprehension that computes the circumference, the area and the volume for a given radius.\n"
   ]
  },
  {
   "cell_type": "code",
   "execution_count": 18,
   "metadata": {},
   "outputs": [
    {
     "name": "stdout",
     "output_type": "stream",
     "text": [
      "{'Al': [['r=', 1, 'linear', 3.141592653589793], ['r=', 1, 'superficial', 1.5707963267948966], ['r=', 1, 'volumetric', 2.0943951023931953], ['r=', 2, 'linear', 12.566370614359172], ['r=', 2, 'superficial', 12.566370614359172], ['r=', 2, 'volumetric', 33.510321638291124], ['r=', 3, 'linear', 37.69911184307752], ['r=', 3, 'superficial', 56.548667764616276], ['r=', 3, 'volumetric', 226.19467105846508]], 'Fe': [['r=', 1, 'linear', 18.84955592153876], ['r=', 1, 'superficial', 9.42477796076938], ['r=', 1, 'volumetric', 12.566370614359172], ['r=', 2, 'linear', 50.26548245743669], ['r=', 2, 'superficial', 50.26548245743669], ['r=', 2, 'volumetric', 134.0412865531645], ['r=', 3, 'linear', 94.24777960769379], ['r=', 3, 'superficial', 141.3716694115407], ['r=', 3, 'volumetric', 565.4866776461628]], 'Pb': [['r=', 1, 'linear', 94.24777960769379], ['r=', 1, 'superficial', 47.12388980384689], ['r=', 1, 'volumetric', 62.83185307179586], ['r=', 2, 'linear', 251.32741228718345], ['r=', 2, 'superficial', 251.32741228718345], ['r=', 2, 'volumetric', 670.2064327658226], ['r=', 3, 'linear', 565.4866776461627], ['r=', 3, 'superficial', 848.2300164692441], ['r=', 3, 'volumetric', 3392.9200658769764]]}\n"
     ]
    }
   ],
   "source": [
    "from math import pi\n",
    "densities = {\"Al\":[0.5,1,2],\"Fe\":[3,4,5],\"Pb\": [15,20,30]}\n",
    "radii = [1,2,3]\n",
    "\n",
    "weight = {\"Al\":[],\"Fe\":[],\"Pb\":[]}\n",
    "\n",
    "linear = lambda rho, r: rho*2*pi*r\n",
    "superficial = lambda rho, r: rho*pi*(r**2)\n",
    "volumetric = lambda rho, r: rho*4/3*pi*(r**3)\n",
    "\n",
    "for i in [\"Al\",\"Fe\",\"Pb\"]:    \n",
    "    for rho, r in zip(densities[i], radii):\n",
    "        weight[i].append([\"r=\",r,\"linear\",linear(rho,r)])\n",
    "        weight[i].append([\"r=\",r,\"superficial\",superficial(rho,r)])\n",
    "        weight[i].append([\"r=\",r,\"volumetric\",volumetric(rho,r)])\n",
    "       \n",
    "print(weight)"
   ]
  },
  {
   "cell_type": "markdown",
   "metadata": {},
   "source": [
    "6\\. Edit the class defintion to add an instance attribute of is_hungry = True to the Dog class. Then add a method called eat() which changes the value of is_hungry to False when called. Figure out the best way to feed each dog and then output “My dogs are hungry.” if all are hungry or “My dogs are not hungry.” if all are not hungry. The final output should look like this:\n",
    "\n",
    "`I have 3 dogs. \n",
    "Tom is 6. \n",
    "Fletcher is 7. \n",
    "Larry is 9. \n",
    "And they're all mammals, of course. \n",
    "My dogs are not hungry.\n",
    "`\n",
    "\n",
    "```python\n",
    "# Parent class\n",
    "class Dog:\n",
    "\n",
    "    # Class attribute\n",
    "    species = 'mammal'\n",
    "\n",
    "    # Initializer / Instance attributes\n",
    "    def __init__(self, name, age):\n",
    "        self.name = name\n",
    "        self.age = age\n",
    "\n",
    "    # instance method\n",
    "    def description(self):\n",
    "        return \"{} is {} years old\".format(self.name, self.age)\n",
    "\n",
    "    # instance method\n",
    "    def speak(self, sound):\n",
    "        return \"{} says {}\".format(self.name, sound)\n",
    "\n",
    "# Child class (inherits from Dog class)\n",
    "class RussellTerrier(Dog):\n",
    "    def run(self, speed):\n",
    "        return \"{} runs {}\".format(self.name, speed)\n",
    "\n",
    "# Child class (inherits from Dog class)\n",
    "class Bulldog(Dog):\n",
    "    def run(self, speed):\n",
    "        return \"{} runs {}\".format(self.name, speed)\n",
    "```"
   ]
  },
  {
   "cell_type": "code",
   "execution_count": 25,
   "metadata": {},
   "outputs": [
    {
     "name": "stdout",
     "output_type": "stream",
     "text": [
      "I have 3 dogs.\n",
      "Tom is 6 .\n",
      "Fletcher is 7 .\n",
      "Larry is 9 .\n",
      "And they're all mammal , of course. \n",
      "\n",
      "Do u want to feed Tom? Type yes or no. \n",
      "n\n",
      "Tom is still hungry! \n",
      "\n",
      "Do u want to feed Fletcher? Type yes or no. \n",
      "n\n",
      "Fletcher is still hungry! \n",
      "\n",
      "Do u want to feed Larry? Type yes or no. \n",
      "n\n",
      "Larry is still hungry! \n",
      "\n",
      "The dogs are hungry. \n",
      "\n"
     ]
    }
   ],
   "source": [
    "#from itertools import count\n",
    "# Parent class\n",
    "class Dog:\n",
    "\n",
    "    #_ids=count(0)\n",
    "    \n",
    "    # Class attribute\n",
    "    species = 'mammal'\n",
    "\n",
    "    # Initializer / Instance attributes\n",
    "    def __init__(self, name, age):\n",
    "        self.name = name\n",
    "        self.age = age\n",
    "        self.is_hungry=True\n",
    "        #self.id = next(self._ids)\n",
    "\n",
    "    # instance method\n",
    "    def description(self):\n",
    "        return \"{} is {} years old\".format(self.name, self.age)\n",
    "\n",
    "    # instance method\n",
    "    def speak(self, sound):\n",
    "        return \"{} says {}\".format(self.name, sound)\n",
    "    \n",
    "    def eat(self):\n",
    "        feeding_pointer=input(\"Do u want to feed {}? Type yes or no. \\n\".format(self.name))\n",
    "        if feeding_pointer=='yes' or feeding_pointer=='y':\n",
    "            self.is_hungry=False\n",
    "            print(\"{} is not hungry anymore. \\n\".format(self.name))\n",
    "        if feeding_pointer=='no' or feeding_pointer=='n':\n",
    "            self.is_hungry=True\n",
    "            print(\"{} is still hungry! \\n\".format(self.name))\n",
    "\n",
    "# Child class (inherits from Dog class)\n",
    "class RussellTerrier(Dog):\n",
    "    def run(self, speed):\n",
    "        return \"{} runs {}\".format(self.name, speed)\n",
    "\n",
    "# Child class (inherits from Dog class)\n",
    "class Bulldog(Dog):\n",
    "    def run(self, speed):\n",
    "        return \"{} runs {}\".format(self.name, speed)\n",
    "    \n",
    "\n",
    "Tom=Dog('Tom', 6)\n",
    "Fletcher=Dog('Fletcher', 7)\n",
    "Larry=Dog('Larry', 9)\n",
    "dogs=[Tom, Fletcher, Larry]\n",
    "\n",
    "#number=Dog._ids\n",
    "print('I have', len(dogs),'dogs.')\n",
    "spec=1\n",
    "hungry=0\n",
    "for i in range(len(dogs)):\n",
    "    if dogs[i].species!='mammal':\n",
    "        spec+=1\n",
    "    print(dogs[i].name,'is',dogs[i].age,'.')\n",
    "    if spec==1 and i==len(dogs)-1:\n",
    "        print(\"And they're all\", dogs[i].species,\", of course. \\n\")\n",
    "for i in range(len(dogs)):\n",
    "    dogs[i].eat()\n",
    "    \n",
    "#Printing whether or not all of the dogs are well fed or hungry\n",
    "a,m=0,0\n",
    "for i in range(len(dogs)):  \n",
    "    if dogs[i].is_hungry == True:\n",
    "        a=0\n",
    "        m=m+a\n",
    "    if dogs[i].is_hungry == False:\n",
    "        a=1\n",
    "        m=m+a\n",
    "if m== len(dogs):\n",
    "    print(\"The dogs are well fed. \\n\")   \n",
    "if m== 0:\n",
    "    print(\"The dogs are hungry. \\n\")\n",
    "    "
   ]
  }
 ],
 "metadata": {
  "kernelspec": {
   "display_name": "Python 3",
   "language": "python",
   "name": "python3"
  },
  "language_info": {
   "codemirror_mode": {
    "name": "ipython",
    "version": 3
   },
   "file_extension": ".py",
   "mimetype": "text/x-python",
   "name": "python",
   "nbconvert_exporter": "python",
   "pygments_lexer": "ipython3",
   "version": "3.7.1"
  }
 },
 "nbformat": 4,
 "nbformat_minor": 2
}
