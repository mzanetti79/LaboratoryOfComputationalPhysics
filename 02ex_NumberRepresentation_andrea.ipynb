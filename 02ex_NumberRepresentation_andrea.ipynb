{
 "cells": [
  {
   "cell_type": "code",
   "execution_count": 105,
   "metadata": {},
   "outputs": [
    {
     "name": "stdout",
     "output_type": "stream",
     "text": [
      "La rappresentazione decimale del numero inserito è 678\n",
      "La rappresentazione esadecimale del numero inserito è 0x2a6\n",
      "0b1010100110\n",
      "0x2a6\n",
      "La rappresentazione decimale del numero inserito è 678\n",
      "La rappresentazione binaria del numero inserito è 0b1010100110\n",
      "La rappresentazione binaria del numero inserito è 0b1010100110\n",
      "La rappresentazione esadecimale del numero inserito è 0x2a6\n"
     ]
    }
   ],
   "source": [
    "#1\n",
    "def convert(a):\n",
    "    hexa = {\"0\": 0, \"1\" : 1, \"2\" : 2, \"3\" : 3, \"4\" : 4, \"5\":5, \"6\":6, \"7\":7, \"8\":8, \"9\":9, \"a\":10, \"b\":11, \"c\":12, \"d\":13,\"e\":14,\"f\":15}\n",
    "    hexainv = {hexa[i]: i for i in hexa}\n",
    "    if type(a) != int:\n",
    "        alist = [i for i in a]\n",
    "        if alist[1] == \"b\": \n",
    "            adec = 0\n",
    "            atemp1 = 0\n",
    "            atemp2 = 0\n",
    "            ahex = \"\"\n",
    "            k = 0\n",
    "            e = 0\n",
    "            for j in range(2,len(alist)):\n",
    "                adec = adec + int(alist[len(alist)-j+1])*2**(j - 2)\n",
    "                k = k + 1\n",
    "                if k == 4 or j == (len(alist) - 1) :\n",
    "                    #print(adec)\n",
    "                    atemp1 = (adec - atemp2)\n",
    "                    #print(atemp1)\n",
    "                    ahex = hexainv[(atemp1/(16**e))] + ahex\n",
    "                    #print(ahex)\n",
    "                    atemp2 = atemp1+atemp2\n",
    "                    k = 0\n",
    "                    e = e + 1\n",
    "            print(\"La rappresentazione decimale del numero inserito è %d\" %adec)\n",
    "            print(\"La rappresentazione esadecimale del numero inserito è 0x%s\" %ahex)\n",
    "        elif alist[1] == \"x\":\n",
    "            adec = 0\n",
    "            abin = \"\"\n",
    "            for j in range(2,len(alist)):\n",
    "                adec = adec + hexa[alist[len(alist)-j+1]]*16**(j - 2)\n",
    "            print(\"La rappresentazione decimale del numero inserito è %d\" %adec)\n",
    "            while adec != 0:\n",
    "                abin = str(adec%2) + abin\n",
    "                adec = int(adec/2)\n",
    "            print(\"La rappresentazione binaria del numero inserito è 0b%s\" %abin)\n",
    "        #print(alist)\n",
    "    elif type(a) == int:\n",
    "        ahex = \"\"\n",
    "        abin = \"\"\n",
    "        adec = a\n",
    "        while adec != 0:\n",
    "                abin = str(adec%2) + abin\n",
    "                adec = int(adec/2)\n",
    "        print(\"La rappresentazione binaria del numero inserito è 0b%s\" %abin)\n",
    "        alist = [i for i in abin]\n",
    "        alist.reverse()\n",
    "        k = 0\n",
    "        e = 0\n",
    "        atemp = 0\n",
    "        atemp2 = 0\n",
    "        atemp1 = 0\n",
    "        for i in range(len(alist)):\n",
    "            atemp = atemp + int(alist[i])*2**i\n",
    "            k = k + 1\n",
    "            if k == 4 or i == (len(alist) - 1) :\n",
    "                    atemp1 = (atemp - atemp2)\n",
    "                    #print(atemp1)\n",
    "                    ahex = hexainv[(atemp1/(16**e))] + ahex\n",
    "                    #print(ahex)\n",
    "                    atemp2 = atemp1+atemp2\n",
    "                    k = 0\n",
    "                    e = e + 1\n",
    "        print(\"La rappresentazione esadecimale del numero inserito è 0x%s\" %ahex)   \n",
    "\n",
    "A = 678\n",
    "convert(bin(A))\n",
    "print(bin(A))\n",
    "print(hex(A))\n",
    "convert(hex(A))\n",
    "convert(A)"
   ]
  },
  {
   "cell_type": "markdown",
   "metadata": {},
   "source": [
    "1\\. Write a function that converts number representation (bin<->dec<->hex)"
   ]
  },
  {
   "cell_type": "raw",
   "metadata": {},
   "source": [
    "# 2\\. Write a function that converts a 32 bit word into a single precision floating point (i.e. interprets the various bits as sign, mantissa and exponent)"
   ]
  },
  {
   "cell_type": "code",
   "execution_count": 2,
   "metadata": {},
   "outputs": [
    {
     "name": "stdout",
     "output_type": "stream",
     "text": [
      "0b10000000110000000000000000000000\n",
      "-1.7632415262334313e-38\n",
      "-1.7632415262334313e-38\n"
     ]
    }
   ],
   "source": [
    "#2\n",
    "def singlefloat(a):\n",
    "    if a >= 2**32 or type(a) != int:\n",
    "        print(\"Spiacente, la funzione accetta solo interi entro i 32 bit!\")\n",
    "    afloat = 1.\n",
    "    e = 0\n",
    "    bias = 127\n",
    "    for i in range(0,23):\n",
    "        afloat = afloat + (a & 2**i)*2**(-23)\n",
    "    #print(afloat)\n",
    "    for i in range(23,31):\n",
    "        e = e + ((a & 2**i)/2**i)*2**(i-23)\n",
    "    e = e - 127\n",
    "    #print(e)\n",
    "    afloat = afloat*2**e\n",
    "    if a & 2**31 == 0:\n",
    "        afloat = afloat\n",
    "    elif a & 2**31 == 2**31: \n",
    "        afloat = -afloat \n",
    "    return(afloat)\n",
    "\n",
    "A = 2**31+2**23+2**22\n",
    "print(bin(A))\n",
    "print(singlefloat(A))\n",
    "#singlefloat(2**34)\n",
    "print(-1.5*2**-126)"
   ]
  },
  {
   "cell_type": "markdown",
   "metadata": {},
   "source": [
    "3\\. Write a program to determine the underflow and overflow limits (within a factor of 2) for python on your computer. \n",
    "\n",
    "**Tips**: define two variables inizialized to 1 and halve/double them enough time to exceed the under/over-flow limits  "
   ]
  },
  {
   "cell_type": "code",
   "execution_count": 133,
   "metadata": {},
   "outputs": [
    {
     "name": "stdout",
     "output_type": "stream",
     "text": [
      "5e-324 is the underflow limit within a factor of 2\n",
      "8.98846567431158e+307 is the overflow limit within a factor of 2\n"
     ]
    }
   ],
   "source": [
    "#3\n",
    "under = 1.\n",
    "over = 1.\n",
    "temp1 = 0.\n",
    "temp2 = 0.\n",
    "k = 1.\n",
    "while under > 0:\n",
    "        temp1 = under\n",
    "        under = under/2\n",
    "print(temp1, \"is the underflow limit within a factor of 2\")\n",
    "\n",
    "while (over*2./over) == 2. :\n",
    "        over = over*2\n",
    "        temp2 = over\n",
    "print(temp2, \"is the overflow limit within a factor of 2\")"
   ]
  },
  {
   "cell_type": "markdown",
   "metadata": {},
   "source": [
    "4\\. Write a program to determine the machine precision\n",
    "\n",
    "**Tips**: define a new variable by adding a smaller and smaller value (proceeding similarly to prob. 2) to an original variable and check the point where the two are the same "
   ]
  },
  {
   "cell_type": "code",
   "execution_count": 142,
   "metadata": {},
   "outputs": [
    {
     "name": "stdout",
     "output_type": "stream",
     "text": [
      "1.000000000000001 è la massima precisione raggiungibile dal sistema\n"
     ]
    }
   ],
   "source": [
    "#4\n",
    "aref = 1.\n",
    "a = aref + 0.1\n",
    "k = 1\n",
    "temp = 0.\n",
    "while (a-aref) > 0.:\n",
    "    k = k+1\n",
    "    temp = a\n",
    "    a = aref\n",
    "    a = a+10**(-k)\n",
    "print(temp, \"è la massima precisione raggiungibile dal sistema\")"
   ]
  },
  {
   "cell_type": "markdown",
   "metadata": {},
   "source": [
    "5\\. Write a function that takes in input three parameters $a$, $b$ and $c$ and prints out the two solutions to the quadratic equation $ax^2+bx+c=0$ using the standard formula:\n",
    "$$\n",
    "x=\\frac{-b\\pm\\sqrt{b^2-4ac}}{2a}\n",
    "$$\n",
    "\n",
    "(a) use the program to compute the solution for $a=0.001$, $b=1000$ and $c=0.001$\n",
    "\n",
    "(b) re-express the standard solution formula by multiplying top and bottom by $-b\\mp\\sqrt{b^2-4ac}$ and again find the solution for $a=0.001$, $b=1000$ and $c=0.001$. How does it compare with what previously obtained? Why?\n",
    "\n",
    "(c) write a function that compute the roots of a quadratic equation accurately in all cases"
   ]
  },
  {
   "cell_type": "code",
   "execution_count": 7,
   "metadata": {},
   "outputs": [
    {
     "name": "stdout",
     "output_type": "stream",
     "text": [
      "Le soluzioni dell'equazione quadratica sono x1 = -9.094947017729282e-09 e x2 = -100000000.0\n",
      "Le soluzioni dell'equazione quadratica sono x1 = -9.094947017729282e-09 e x2 = -100000000.0\n",
      "Le soluzioni dell'equazione quadratica sono x1 = -9.09494701772929e-09 e x2 = -99999999.99999982\n"
     ]
    }
   ],
   "source": [
    "#5.a\n",
    "import math as m\n",
    "import numpy as n\n",
    "\n",
    "A = 0.0001\n",
    "B = 10000\n",
    "C = 0.0001\n",
    "\n",
    "def quadroot(a,b,c):\n",
    "    xplus = (-b + m.sqrt(b*b - 4*a*c))/(2*a)\n",
    "    xminus = (-b - m.sqrt(b*b - 4*a*c))/(2*a)\n",
    "    print(\"Le soluzioni dell'equazione quadratica sono x1 = {} e x2 = {}\" .format(xplus,xminus))\n",
    "    \n",
    "quadroot(A,B,C)\n",
    "\n",
    "#5.b\n",
    "def requadroot(a,b,c):\n",
    "    x1 = ((-b + m.sqrt(b*b - 4*a*c))*(-b - m.sqrt(b*b - 4*a*c)))/((2*a)*(-b - m.sqrt(b*b - 4*a*c)))\n",
    "    x2 = ((-b - m.sqrt(b*b - 4*a*c))*(-b + m.sqrt(b*b - 4*a*c)))/((2*a)*(-b + m.sqrt(b*b - 4*a*c)))\n",
    "    print(\"Le soluzioni dell'equazione quadratica sono x1 = {} e x2 = {}\" .format(x1,x2))\n",
    "\n",
    "requadroot(A,B,C)\n",
    "\n",
    "#5.c\n",
    "\n",
    "def accquadroot(a,b,c):\n",
    "    #xp = (-m.exp(m.log(b)-m.log(2)-m.log(a)))+m.exp(0.5*m.log(b*b - 4*a*c)-m.log(2)-m.log(a))\n",
    "    xp = m.log(abs(-b+m.sqrt(b*b-4*a*c))) - m.log(2) - m.log(abs(a))\n",
    "    xp = n.sign(a)*n.sign(-b+m.sqrt(b*b-4*a*c))*m.exp(xp)\n",
    "    xm = m.log(abs(-b-m.sqrt(b*b-4*a*c))) - m.log(2) - m.log(abs(a))\n",
    "    xm = n.sign(a)*n.sign(-b-m.sqrt(b*b-4*a*c))*m.exp(xm)\n",
    "    print(\"Le soluzioni dell'equazione quadratica sono x1 = {} e x2 = {}\" .format(xp,xm))\n",
    "    \n",
    "accquadroot(A,B,C)"
   ]
  },
  {
   "cell_type": "markdown",
   "metadata": {},
   "source": [
    "6\\. Write a program that implements the function $f(x)=x(x−1)$\n",
    "\n",
    "(a) Calculate the derivative of the function at the point $x = 1$ using the derivative definition:\n",
    "\n",
    "$$\n",
    "\\frac{{\\rm d}f}{{\\rm d}x} = \\lim_{\\delta\\to0} \\frac{f(x+\\delta)-f(x)}{\\delta}\n",
    "$$\n",
    "\n",
    "with $\\delta = 10^{−2}$. Calculate the true value of the same derivative analytically and compare with the answer your program gives. The two will not agree perfectly. Why not?\n",
    "\n",
    "(b) Repeat the calculation for $\\delta = 10^{−4}, 10^{−6}, 10^{−8}, 10^{−10}, 10^{−12}$ and $10^{−14}$. How does the accuracy scales with $\\delta$?"
   ]
  },
  {
   "cell_type": "code",
   "execution_count": 165,
   "metadata": {},
   "outputs": [
    {
     "name": "stdout",
     "output_type": "stream",
     "text": [
      "1.010000000000001\n",
      "1.0000999999998899\n",
      "1.0000009999177333\n",
      "1.0000000039225287\n",
      "1.000000082840371\n",
      "1.0000889005833413\n",
      "0.9992007221626509\n"
     ]
    }
   ],
   "source": [
    "#6.a\n",
    "def f(x):\n",
    "    return x*(x-1)\n",
    "\n",
    "#calcolo della derivata\n",
    "def fder(y, delta):\n",
    "    d = (f(y + delta) - f(y))/delta\n",
    "    return d\n",
    "\n",
    "acc = 0.01\n",
    "fder(1, acc)\n",
    "\n",
    "#6.b\n",
    "for i in range(2,16,2):\n",
    "    print(fder(1,10**-i))\n",
    "    "
   ]
  },
  {
   "cell_type": "markdown",
   "metadata": {},
   "source": [
    "7\\. Consider the integral of the semicircle of radius 1:\n",
    "$$\n",
    "I=\\int_{-1}^{1} \\sqrt(1-x^2) {\\rm d}x\n",
    "$$\n",
    "which it's known to be $I=\\frac{\\pi}{2}=1.57079632679...$.\n",
    "Alternatively we can use the Riemann definition of the integral:\n",
    "$$\n",
    "I=\\lim_{N\\to\\infty} \\sum_{k=1}^{N} h y_k \n",
    "$$\n",
    "\n",
    "with $h=2/N$ the width of each of the $N$ slices the domain is divided into and where\n",
    "$y_k$ is the value of the function at the $k-$th slice.\n",
    "\n",
    "(a) Write a programe to compute the integral with $N=100$. How does the result compares to the true value?\n",
    "\n",
    "(b) How much can $N$ be increased if the computation needs to be run in less than a second? What is the gain in running it for 1 minute? \n"
   ]
  },
  {
   "cell_type": "code",
   "execution_count": 198,
   "metadata": {},
   "outputs": [
    {
     "name": "stdout",
     "output_type": "stream",
     "text": [
      "10000000 0.8560192584991455 1.5707963267423612\n"
     ]
    }
   ],
   "source": [
    "#7.a\n",
    "import math as m\n",
    "import time as t\n",
    "def f(x):\n",
    "    res = m.sqrt(1-x*x)\n",
    "    return res\n",
    "\n",
    "def integralf(a,b,N): \n",
    "    h = (abs(b-a)/N)\n",
    "    val = 0.\n",
    "    for i in range(1, N+1):\n",
    "        val = val + h*f(a+i*h)\n",
    "    return val\n",
    "\n",
    "N = 100\n",
    "timetot = 0.\n",
    "res = 0.\n",
    "ttemp = 0.\n",
    "Ntemp = 0\n",
    "while timetot < 1.: #<61.\n",
    "    ttemp = timetot\n",
    "    Ntemp = N\n",
    "    start = t.time()\n",
    "    res = integralf(-1,1,N)\n",
    "    end = t.time()\n",
    "    N = N*10\n",
    "    timetot = end - start\n",
    "print(Ntemp, ttemp, res)\n",
    "#in 0.82 s il programma risulta accurato fino alla decima cifra decimale\n",
    "#in 36.6 s il programma risulta accurato fino all'undicesima cifra decimale\n"
   ]
  },
  {
   "cell_type": "code",
   "execution_count": null,
   "metadata": {},
   "outputs": [],
   "source": []
  }
 ],
 "metadata": {
  "kernelspec": {
   "display_name": "Python 3",
   "language": "python",
   "name": "python3"
  },
  "language_info": {
   "codemirror_mode": {
    "name": "ipython",
    "version": 3
   },
   "file_extension": ".py",
   "mimetype": "text/x-python",
   "name": "python",
   "nbconvert_exporter": "python",
   "pygments_lexer": "ipython3",
   "version": "3.6.6"
  }
 },
 "nbformat": 4,
 "nbformat_minor": 2
}
