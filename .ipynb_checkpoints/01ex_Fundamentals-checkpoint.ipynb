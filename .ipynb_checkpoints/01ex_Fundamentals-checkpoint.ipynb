{
 "cells": [
  {
   "cell_type": "markdown",
   "metadata": {},
   "source": [
    "1\\. Write the following as a list comprehension"
   ]
  },
  {
   "cell_type": "code",
   "execution_count": 1,
   "metadata": {},
   "outputs": [
    {
     "name": "stdout",
     "output_type": "stream",
     "text": [
      "[(0, 0), (0, 1), (0, 2), (0, 3), (1, 0), (1, 1), (1, 2), (1, 3), (2, 0), (2, 1), (2, 2), (2, 3)]\n",
      "[0, 4, 16]\n"
     ]
    }
   ],
   "source": [
    "# 1\n",
    "\n",
    "#Nested list comphrension\n",
    "ans = [(x,y) for x in range(3) for y in range(4)]\n",
    "print(ans)\n",
    "\n",
    "# 2\n",
    "\n",
    "# map(function_to_apply, list_of_inputs)\n",
    "# filter creates a list of elements for which a function returns true. \n",
    "# A lambda function can take any number of arguments, but can only have one expression.\n",
    "\n",
    "ans = [x*x for x in filter(lambda x: x%2 == 0, range(5))]\n",
    "print(ans)\n",
    "\n",
    "#ans = map(lambda x: x*x, filter(lambda x: x%2 == 0, range(5)))\n",
    "#print (list(ans))\n",
    "\n"
   ]
  },
  {
   "cell_type": "markdown",
   "metadata": {},
   "source": [
    "2\\. Converte the following function into a pure function with no global variables or side effects"
   ]
  },
  {
   "cell_type": "code",
   "execution_count": 2,
   "metadata": {},
   "outputs": [
    {
     "name": "stdout",
     "output_type": "stream",
     "text": [
      "[1, 2, 3, 0, 1, 2, 3, 4]\n",
      "[1, 2, 3]\n"
     ]
    }
   ],
   "source": [
    "def f(alist,x):\n",
    "    lista = []\n",
    "    for i in alist:\n",
    "        lista.append(i)\n",
    "    for i in range(x):\n",
    "        lista.append(i)\n",
    "    return lista\n",
    "\n",
    "alist = [1,2,3]\n",
    "ans = f(alist,5)\n",
    "print (ans)\n",
    "print (alist) # alist has been changed!"
   ]
  },
  {
   "cell_type": "markdown",
   "metadata": {},
   "source": [
    "3\\. Write a `decorator` hello that makes every wrapped function print “Hello!”, i.e. something like:\n",
    "\n",
    "```python\n",
    "@hello\n",
    "def square(x):\n",
    "    return x*x\n",
    "```\n",
    "\n"
   ]
  },
  {
   "cell_type": "code",
   "execution_count": 3,
   "metadata": {},
   "outputs": [
    {
     "name": "stdout",
     "output_type": "stream",
     "text": [
      "Hello World!\n",
      "2\n"
     ]
    }
   ],
   "source": [
    "def hello(function_parameter):\n",
    "    def wrapper(x):\n",
    "        print(\"Hello World!\")\n",
    "        function_parameter(x)\n",
    "        return x\n",
    "    return wrapper\n",
    "\n",
    "@hello\n",
    "def square(x):\n",
    "    return x*x\n",
    "\n",
    "result = square(2)\n",
    "print(result)\n",
    "\n",
    "\n",
    "\n",
    "        "
   ]
  },
  {
   "cell_type": "markdown",
   "metadata": {},
   "source": [
    "4\\. Write the factorial function so that it a) does and b) does not use recursion."
   ]
  },
  {
   "cell_type": "code",
   "execution_count": 4,
   "metadata": {
    "scrolled": true
   },
   "outputs": [
    {
     "name": "stdout",
     "output_type": "stream",
     "text": [
      "24\n",
      "120\n"
     ]
    }
   ],
   "source": [
    "#factorial function with recursion\n",
    "\n",
    "def factorial(x):\n",
    "    if x<=1:\n",
    "        return 1\n",
    "    return(x*factorial(x-1))\n",
    "\n",
    "#factorial function without recursion 4\n",
    "\n",
    "def factorialnr(x):\n",
    "    if x<=1:\n",
    "        return 1\n",
    "    value = 1\n",
    "    for i in range(x):\n",
    "        value = (i+1)*value\n",
    "    return value\n",
    "\n",
    "a = factorial(4)\n",
    "b = factorialnr(5)\n",
    "print(a)\n",
    "print(b)\n"
   ]
  },
  {
   "cell_type": "markdown",
   "metadata": {},
   "source": [
    "5. Use HOFs (zip in particular) to compute the weight of a circle, a disk and a sphere, assuming different radii and different densities:\n",
    "where the entries of the dictionary's values are the linear, superficial and volumetric densities of the materials respectively.\n",
    "In particular define a list of three lambda functions using a comprehension that computes the circumference, the area and the volume for a given radius."
   ]
  },
  {
   "cell_type": "code",
   "execution_count": 50,
   "metadata": {},
   "outputs": [
    {
     "name": "stdout",
     "output_type": "stream",
     "text": [
      "3.141592653589793 3.141592653589793 8.377580409572781\n",
      "18.84955592153876 12.566370614359172 20.94395102393195\n",
      "94.24777960769379 62.83185307179586 125.66370614359171\n",
      "9.42477796076938 28.274333882308138 226.19467105846508\n",
      "56.548667764616276 113.09733552923255 565.4866776461627\n",
      "282.7433388230814 565.4866776461628 3392.920065876976\n",
      "18.84955592153876 113.09733552923255 1809.5573684677206\n",
      "113.09733552923255 452.3893421169302 4523.893421169301\n",
      "565.4866776461628 2261.946710584651 27143.360527015808\n"
     ]
    }
   ],
   "source": [
    "import math\n",
    "\n",
    "densities = {\"Al\":[0.5,1,2],\"Fe\":[3,4,5],\"Pb\": [15,20,30]}\n",
    "radii = [1,3,6]\n",
    "\n",
    "\n",
    "functions = [lambda x: 2*math.pi*x**1,lambda x: 1*math.pi*x**2,lambda x: 4/3*math.pi*x**3]\n",
    "\n",
    "for i in range(len(radii)):\n",
    "    for key in densities:\n",
    "        circle_weight = functions[0](radii[i])*densities[key][0]\n",
    "        disk_weight = functions[1](radii[i])*densities[key][1]\n",
    "        sphere_weight = function[2](radii[i])*densities[key][2]\n",
    "        \n",
    "        \n",
    "        print(circle_weight,disk_weight,sphere_weight)\n",
    "    \n",
    "\n"
   ]
  },
  {
   "cell_type": "markdown",
   "metadata": {},
   "source": [
    "6\\. Edit the class defintion to add an instance attribute of is_hungry = True to the Dog class. Then add a method called eat() which changes the value of is_hungry to False when called. Figure out the best way to feed each dog and then output “My dogs are hungry.” if all are hungry or “My dogs are not hungry.” if all are not hungry. The final output should look like this:\n",
    "\n",
    "`I have 3 dogs. \n",
    "Tom is 6. \n",
    "Fletcher is 7. \n",
    "Larry is 9. \n",
    "And they're all mammals, of course. \n",
    "My dogs are not hungry.\n",
    "`\n",
    "\n",
    "```python\n",
    "# Parent class\n",
    "class Dog:\n",
    "\n",
    "    # Class attribute\n",
    "    species = 'mammal'\n",
    "\n",
    "    # Initializer / Instance attributes\n",
    "    def __init__(self, name, age):\n",
    "        self.name = name\n",
    "        self.age = age\n",
    "\n",
    "    # instance method\n",
    "    def description(self):\n",
    "        return \"{} is {} years old\".format(self.name, self.age)\n",
    "\n",
    "    # instance method\n",
    "    def speak(self, sound):\n",
    "        return \"{} says {}\".format(self.name, sound)\n",
    "\n",
    "# Child class (inherits from Dog class)\n",
    "class RussellTerrier(Dog):\n",
    "    def run(self, speed):\n",
    "        return \"{} runs {}\".format(self.name, speed)\n",
    "\n",
    "# Child class (inherits from Dog class)\n",
    "class Bulldog(Dog):\n",
    "    def run(self, speed):\n",
    "        return \"{} runs {}\".format(self.name, speed)\n",
    "```"
   ]
  },
  {
   "cell_type": "code",
   "execution_count": 36,
   "metadata": {},
   "outputs": [
    {
     "name": "stdout",
     "output_type": "stream",
     "text": [
      "I have 3 Dogs\n",
      "Tom is 6 years old\n",
      "Fletcher is 7 years old\n",
      "Larry is 9 years old\n",
      "And they are all mammals of course\n",
      "My Dogs are hungry\n"
     ]
    }
   ],
   "source": [
    "# Parent class\n",
    "class Dog:\n",
    "\n",
    "    # Class attribute\n",
    "    species = 'mammal'\n",
    "\n",
    "    # Initializer / Instance attributes\n",
    "    def __init__(self, name, age):\n",
    "        self.name = name\n",
    "        self.age = age\n",
    "        self.is_hungry = True\n",
    "\n",
    "    # instance method\n",
    "    def description(self):\n",
    "        return \"{} is {} years old\".format(self.name, self.age)\n",
    "\n",
    "    # instance method\n",
    "    def speak(self, sound):\n",
    "        return \"{} says {}\".format(self.name, sound)\n",
    "    \n",
    "    #instance method\n",
    "    def eat(self):\n",
    "        self.is_hungry = False\n",
    "        \n",
    "    def feed(self):\n",
    "        self.eat()\n",
    "        \n",
    "    def get_Species(pets):\n",
    "        count = 0\n",
    "        for pet in pets:\n",
    "            if type(pet) is Dog:\n",
    "                count = count +1\n",
    "        if count == len(pets):\n",
    "            return(\"And they are all mammals of course\")\n",
    "        \n",
    "    def get_hungry(pets):\n",
    "        hungry = 0\n",
    "        not_hungry = 0\n",
    "        for pet in pets:\n",
    "            if pet.is_hungry == True:\n",
    "                hungry = hungry +1\n",
    "            else:\n",
    "                not_hungry = not_hungry +1\n",
    "        if hungry == len(pets):\n",
    "            return(\"My Dogs are hungry\")\n",
    "        else:\n",
    "            return(\"My Dogs are not hungry\")\n",
    "                \n",
    "\n",
    "# Child class (inherits from Dog class)\n",
    "class RussellTerrier(Dog):\n",
    "    def run(self, speed):\n",
    "        return \"{} runs {}\".format(self.name, speed)\n",
    "\n",
    "# Child class (inherits from Dog class)\n",
    "class Bulldog(Dog):\n",
    "    def run(self, speed):\n",
    "        return \"{} runs {}\".format(self.name, speed)\n",
    "    \n",
    "\n",
    "dogs = [Dog(\"Tom\",6),Dog(\"Fletcher\",7),Dog(\"Larry\",9)]\n",
    "print(\"I have\", len(dogs), \"Dogs\")\n",
    "\n",
    "for dog in dogs:\n",
    "    print(dog.description())\n",
    "\n",
    "\n",
    "print(Dog.get_Species(dogs))\n",
    "\n",
    "print(Dog.get_hungry(dogs))\n",
    "\n",
    "dogs[1].feed()\n",
    "    \n"
   ]
  },
  {
   "cell_type": "code",
   "execution_count": null,
   "metadata": {},
   "outputs": [],
   "source": []
  }
 ],
 "metadata": {
  "kernelspec": {
   "display_name": "Python 3",
   "language": "python",
   "name": "python3"
  },
  "language_info": {
   "codemirror_mode": {
    "name": "ipython",
    "version": 3
   },
   "file_extension": ".py",
   "mimetype": "text/x-python",
   "name": "python",
   "nbconvert_exporter": "python",
   "pygments_lexer": "ipython3",
   "version": "3.7.0"
  }
 },
 "nbformat": 4,
 "nbformat_minor": 2
}
