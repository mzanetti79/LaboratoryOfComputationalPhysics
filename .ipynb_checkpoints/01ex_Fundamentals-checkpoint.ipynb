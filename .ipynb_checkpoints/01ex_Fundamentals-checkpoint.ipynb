{
 "cells": [
  {
   "cell_type": "markdown",
   "metadata": {},
   "source": [
    "1\\. Write the following as a list comprehension"
   ]
  },
  {
   "cell_type": "code",
   "execution_count": 10,
   "metadata": {},
   "outputs": [
    {
     "name": "stdout",
     "output_type": "stream",
     "text": [
      "[(0, 0), (0, 1), (0, 2), (0, 3), (1, 0), (1, 1), (1, 2), (1, 3), (2, 0), (2, 1), (2, 2), (2, 3)]\n",
      "[0, 4, 16]\n",
      "[(0, 0), (0, 1), (0, 2), (0, 3), (1, 0), (1, 1), (1, 2), (1, 3), (2, 0), (2, 1), (2, 2), (2, 3)]\n",
      "[0, 4, 16]\n"
     ]
    }
   ],
   "source": [
    "# 1\n",
    "ans = []\n",
    "for i in range(3):\n",
    "    for j in range(4):\n",
    "        ans.append((i, j))\n",
    "print (ans)\n",
    "\n",
    "# 2\n",
    "ans = map(lambda x: x*x, filter(lambda x: x%2 == 0, range(5)))\n",
    "print (list(ans))\n",
    "\n",
    "# 3\n",
    "ans = [(i, j) for i in range(3) for j in range(4)]\n",
    "print(ans)\n",
    "\n",
    "# 4\n",
    "ans = [x*x for x in filter(lambda x: x%2 == 0, range(5))]\n",
    "print(ans)"
   ]
  },
  {
   "cell_type": "markdown",
   "metadata": {},
   "source": [
    "2\\. Convert the following function into a pure function with no global variables or side effects"
   ]
  },
  {
   "cell_type": "code",
   "execution_count": 67,
   "metadata": {},
   "outputs": [
    {
     "name": "stdout",
     "output_type": "stream",
     "text": [
      "[1, 2, 3, 0, 1, 2, 3, 4]\n",
      "[1, 2, 3]\n"
     ]
    }
   ],
   "source": [
    "x = 5\n",
    "#def f(alist):\n",
    "#    rlist = alist.copy()\n",
    "#    for i in range(x):\n",
    "#        rlist.append(i)\n",
    "#    return rlist\n",
    "def f(alist):\n",
    "    alist = alist + [i for i in range(x)]\n",
    "    return alist\n",
    "\n",
    "\n",
    "alist = [1,2,3]\n",
    "ans = f(alist)\n",
    "print (ans)\n",
    "print (alist) # alist has not been changed!"
   ]
  },
  {
   "cell_type": "markdown",
   "metadata": {},
   "source": [
    "3\\. Write a `decorator` hello that makes every wrapped function print “Hello!”, i.e. something like:\n",
    "\n",
    "```python\n",
    "@hello\n",
    "def square(x):\n",
    "    return x*x\n",
    "```\n",
    "\n"
   ]
  },
  {
   "cell_type": "code",
   "execution_count": 141,
   "metadata": {},
   "outputs": [
    {
     "name": "stdout",
     "output_type": "stream",
     "text": [
      "Hello!\n",
      "100\n",
      "Hello!\n",
      "3.1622776601683795\n"
     ]
    },
    {
     "data": {
      "text/plain": [
       "<function __main__.hello.<locals>.wrapper>"
      ]
     },
     "execution_count": 141,
     "metadata": {},
     "output_type": "execute_result"
    }
   ],
   "source": [
    "def hello(func):\n",
    "    def wrapper(x):\n",
    "        print(\"Hello!\")\n",
    "        print(func(x))\n",
    "        \n",
    "    return wrapper\n",
    "\n",
    "@hello\n",
    "def square(x):\n",
    "    return x*x\n",
    "@hello\n",
    "def sqrt(x):\n",
    "    return x**(1/2)\n",
    "hello(square(10))\n",
    "hello(sqrt(10))"
   ]
  },
  {
   "cell_type": "markdown",
   "metadata": {},
   "source": [
    "4\\. Write the factorial function so that it a) does and b) does not use recursion."
   ]
  },
  {
   "cell_type": "code",
   "execution_count": 53,
   "metadata": {},
   "outputs": [
    {
     "name": "stdout",
     "output_type": "stream",
     "text": [
      "6\n",
      "6\n"
     ]
    }
   ],
   "source": [
    "def iter_factorial(x):\n",
    "    if x == 1 or x == 0:\n",
    "        return 1\n",
    "    fact = 1\n",
    "    for i in range(1,x+1):\n",
    "        fact *= i\n",
    "    return fact\n",
    "\n",
    "def rec_factorial(x):\n",
    "    if x == 1 or x == 0:\n",
    "        return 1\n",
    "\n",
    "    return x*rec_factorial(x-1)\n",
    "\n",
    "print(rec_factorial(3))\n",
    "print(iter_factorial(3))"
   ]
  },
  {
   "cell_type": "markdown",
   "metadata": {},
   "source": [
    "5\\. Use HOFs (zip in particular) to compute the weight of a circle, a disk and a sphere, assuming different radii and different densities:\n",
    "\n",
    "```python\n",
    "densities = {\"Al\":[0.5,1,2],\"Fe\":[3,4,5],\"Pb\": [15,20,30]}\n",
    "radii = [1,2,3]\n",
    "```\n",
    "\n",
    "where the entries of the dictionary's values are the linear, superficial and volumetric densities of the materials respectively.\n",
    "\n",
    "In particular define a list of three lambda functions using a comprehension that computes the circumference, the area and the volume for a given radius.\n"
   ]
  },
  {
   "cell_type": "code",
   "execution_count": 142,
   "metadata": {},
   "outputs": [
    {
     "name": "stdout",
     "output_type": "stream",
     "text": [
      "('Al', [0.5, 1, 2])\n",
      "8.377580409572781\n",
      "3.141592653589793\n",
      "3.141592653589793\n",
      "('Fe', [3, 4, 5])\n",
      "20.94395102393195\n",
      "12.566370614359172\n",
      "18.84955592153876\n",
      "('Pb', [15, 20, 30])\n",
      "125.66370614359171\n",
      "62.83185307179586\n",
      "94.24777960769379\n",
      "('Al', [0.5, 1, 2])\n",
      "67.02064327658225\n",
      "12.566370614359172\n",
      "6.283185307179586\n",
      "('Fe', [3, 4, 5])\n",
      "167.5516081914556\n",
      "50.26548245743669\n",
      "37.69911184307752\n",
      "('Pb', [15, 20, 30])\n",
      "1005.3096491487337\n",
      "251.32741228718345\n",
      "188.49555921538757\n",
      "('Al', [0.5, 1, 2])\n",
      "226.19467105846508\n",
      "28.274333882308138\n",
      "9.42477796076938\n",
      "('Fe', [3, 4, 5])\n",
      "565.4866776461627\n",
      "113.09733552923255\n",
      "56.548667764616276\n",
      "('Pb', [15, 20, 30])\n",
      "3392.920065876976\n",
      "565.4866776461628\n",
      "282.7433388230814\n"
     ]
    }
   ],
   "source": [
    "import math\n",
    "densities = {\"Al\":[0.5,1,2],\"Fe\":[3,4,5],\"Pb\": [15,20,30]}\n",
    "radii = [1,2,3]\n",
    "\n",
    "def weight(density, volume):\n",
    "    return density*volume\n",
    "\n",
    "def volume_sphere(r):\n",
    "    return 4/3*math.pi*r**(3)\n",
    "\n",
    "def area_disk(r):\n",
    "    return math.pi*r**(2)\n",
    "\n",
    "def circ_circle(r):\n",
    "    return math.pi*2*r\n",
    "\n",
    "#for radius, density in zip(radii,densities.items()):\n",
    "for radius in radii:    \n",
    "    for density in densities.items():\n",
    "        print(density)\n",
    "        print( weight(density[1][2], volume_sphere(radius)) )\n",
    "        print( weight(density[1][1], area_disk(radius) ) )\n",
    "        print( weight(density[1][0], circ_circle(radius)) )"
   ]
  },
  {
   "cell_type": "markdown",
   "metadata": {},
   "source": [
    "6\\. Edit the class defintion to add an instance attribute of is_hungry = True to the Dog class. Then add a method called eat() which changes the value of is_hungry to False when called. Figure out the best way to feed each dog and then output “My dogs are hungry.” if all are hungry or “My dogs are not hungry.” if all are not hungry. The final output should look like this:\n",
    "\n",
    "`I have 3 dogs. \n",
    "Tom is 6. \n",
    "Fletcher is 7. \n",
    "Larry is 9. \n",
    "And they're all mammals, of course. \n",
    "My dogs are not hungry.\n",
    "`\n",
    "\n",
    "```python\n",
    "# Parent class\n",
    "class Dog:\n",
    "\n",
    "    # Class attribute\n",
    "    species = 'mammal'\n",
    "\n",
    "    # Initializer / Instance attributes\n",
    "    def __init__(self, name, age):\n",
    "        self.name = name\n",
    "        self.age = age\n",
    "\n",
    "    # instance method\n",
    "    def description(self):\n",
    "        return \"{} is {} years old\".format(self.name, self.age)\n",
    "\n",
    "    # instance method\n",
    "    def speak(self, sound):\n",
    "        return \"{} says {}\".format(self.name, sound)\n",
    "\n",
    "# Child class (inherits from Dog class)\n",
    "class RussellTerrier(Dog):\n",
    "    def run(self, speed):\n",
    "        return \"{} runs {}\".format(self.name, speed)\n",
    "\n",
    "# Child class (inherits from Dog class)\n",
    "class Bulldog(Dog):\n",
    "    def run(self, speed):\n",
    "        return \"{} runs {}\".format(self.name, speed)\n",
    "```"
   ]
  },
  {
   "cell_type": "code",
   "execution_count": 109,
   "metadata": {},
   "outputs": [
    {
     "name": "stdout",
     "output_type": "stream",
     "text": [
      "I have 3 dogs\n",
      "Tom is 6 years old\n",
      "Flatcher is 7 years old\n",
      "Larry is 9 years old\n",
      "And they're all mammals, of course. \n",
      "My dogs are hungry\n"
     ]
    }
   ],
   "source": [
    "# Parent class\n",
    "class Dog:\n",
    "\n",
    "    # Class attribute\n",
    "    species = 'mammal'\n",
    "    is_hungry = True\n",
    "\n",
    "    # Initializer / Instance attributes\n",
    "    def __init__(self, name, age):\n",
    "        self.name = name\n",
    "        self.age = age\n",
    "\n",
    "    # instance method\n",
    "    def description(self):\n",
    "        return \"{} is {} years old\".format(self.name, self.age)\n",
    "\n",
    "    # instance method\n",
    "    def speak(self, sound):\n",
    "        return \"{} says {}\".format(self.name, sound)\n",
    "    \n",
    "    def eat(self):\n",
    "        self.is_hungry = False\n",
    "        \n",
    "    def isMammal(self):\n",
    "        return self.species == \"mammal\"\n",
    "    \n",
    "    def isHungry(self):\n",
    "        return self.is_hungry == True\n",
    "\n",
    "# Child class (inherits from Dog class)\n",
    "class RussellTerrier(Dog):\n",
    "    def run(self, speed):\n",
    "        return \"{} runs {}\".format(self.name, speed)\n",
    "\n",
    "# Child class (inherits from Dog class)\n",
    "class Bulldog(Dog):\n",
    "    def run(self, speed):\n",
    "        return \"{} runs {}\".format(self.name, speed)\n",
    "\n",
    "#Figure out the best way to feed each dog and then output “My dogs are hungry.” \n",
    "#if all are hungry or “My dogs are not hungry.” i\n",
    "    \n",
    "dogs = [Dog(\"Tom\", 6), Dog(\"Flatcher\", 7), Dog(\"Larry\", 9)]\n",
    "\n",
    "print(\"I have {} dogs\".format(len(dogs)))\n",
    "areAllMammals = True\n",
    "areAllHungry = True\n",
    "\n",
    "#best way o feed dogs\n",
    "#for x in dogs:\n",
    "#    x.eat()\n",
    "\n",
    "for x in dogs:\n",
    "    print(x.description())\n",
    "    areAllMammals = x.isMammal() and areAllMammals\n",
    "    areAllHungry = x.isHungry() and areAllHungry\n",
    "    \n",
    "if areAllMammals:\n",
    "    print(\"And they're all mammals, of course. \")\n",
    "if areAllHungry:\n",
    "    print(\"My dogs are hungry\")\n",
    "else:\n",
    "    print(\"My dogs are not hungry\")"
   ]
  },
  {
   "cell_type": "code",
   "execution_count": null,
   "metadata": {
    "collapsed": true
   },
   "outputs": [],
   "source": []
  }
 ],
 "metadata": {
  "kernelspec": {
   "display_name": "Python 3",
   "language": "python",
   "name": "python3"
  },
  "language_info": {
   "codemirror_mode": {
    "name": "ipython",
    "version": 3
   },
   "file_extension": ".py",
   "mimetype": "text/x-python",
   "name": "python",
   "nbconvert_exporter": "python",
   "pygments_lexer": "ipython3",
   "version": "3.6.3"
  }
 },
 "nbformat": 4,
 "nbformat_minor": 2
}
