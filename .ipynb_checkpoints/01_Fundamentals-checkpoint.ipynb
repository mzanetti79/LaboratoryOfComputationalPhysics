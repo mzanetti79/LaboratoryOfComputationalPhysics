{
 "cells": [
  {
   "cell_type": "markdown",
   "metadata": {},
   "source": [
    "# Modules/packages/libraries\n",
    "\n",
    "Definitions:\n",
    "\n",
    "  * Modules:\n",
    "  A module is a file which contains python functions, global variables etc. It is nothing but .py file which has python executable code / statement.\n",
    "\n",
    "  * Packages:\n",
    "  A package is namespace which contains multiple package/modules. It is a directory which contains a special file `__init__.py`\n",
    "  \n",
    "  * Libraries:\n",
    "  A library is a collection of various packages. There is no difference between package and python library conceptually.\n",
    "  \n",
    "Modules/packages/libraries can be easily \"imported\" and made functional in your python code. A set of libriaries comes with every python installation. Others can be installed locally and then imported. Your own code sitting somewhere else in your local computer can be imported too.\n",
    "\n",
    "Further details (very important!) on packages and how to create them can be found online. We may find the need of creating our own during the course."
   ]
  },
  {
   "cell_type": "code",
   "execution_count": 3,
   "metadata": {},
   "outputs": [
    {
     "name": "stdout",
     "output_type": "stream",
     "text": [
      "3.141592653589793\n",
      "3.141592653589793\n",
      "3.141592653589793\n",
      "2.6457513110645907\n"
     ]
    }
   ],
   "source": [
    "###### all the \"stuff\" that is in the math library can be used\n",
    "import math\n",
    "print(math.pi)\n",
    "\n",
    "# you can give math a label for convenience\n",
    "import math as m\n",
    "print (m.pi)\n",
    "\n",
    "# alternatively you can import only a given \"thing\" from the library\n",
    "from math import pi\n",
    "print (pi)\n",
    "\n",
    "# or just get everything (very dangerous!!!)\n",
    "from math import *\n",
    "print (sqrt(7))"
   ]
  },
  {
   "cell_type": "markdown",
   "metadata": {},
   "source": [
    "To know which modules are there for you to use just type:"
   ]
  },
  {
   "cell_type": "code",
   "execution_count": 1,
   "metadata": {},
   "outputs": [
    {
     "name": "stdout",
     "output_type": "stream",
     "text": [
      "\n",
      "Please wait a moment while I gather a list of all available modules...\n",
      "\n"
     ]
    },
    {
     "name": "stderr",
     "output_type": "stream",
     "text": [
      "/opt/ubuntu-16.04/conda/lib/python3.6/site-packages/IPython/kernel/__init__.py:13: ShimWarning: The `IPython.kernel` package has been deprecated since IPython 4.0.You should import from ipykernel or jupyter_client instead.\n",
      "  \"You should import from ipykernel or jupyter_client instead.\", ShimWarning)\n",
      "/opt/ubuntu-16.04/conda/lib/python3.6/site-packages/matplotlib/font_manager.py:279: UserWarning: Matplotlib is building the font cache using fc-list. This may take a moment.\n",
      "  'Matplotlib is building the font cache using fc-list. '\n",
      "WARNING: AstropyDeprecationWarning: The astropy.vo.samp module has now been moved to astropy.samp [astropy.vo.samp]\n",
      "/opt/ubuntu-16.04/conda/lib/python3.6/site-packages/odo/backends/pandas.py:102: FutureWarning: pandas.tslib is deprecated and will be removed in a future version.\n",
      "You can access NaTType as type(pandas.NaT)\n",
      "  @convert.register((pd.Timestamp, pd.Timedelta), (pd.tslib.NaTType, type(None)))\n",
      "/opt/ubuntu-16.04/conda/lib/python3.6/site-packages/nltk/twitter/__init__.py:20: UserWarning: The twython library has not been installed. Some functionality from the twitter package will not be available.\n",
      "  warnings.warn(\"The twython library has not been installed. \"\n",
      "/opt/ubuntu-16.04/conda/lib/python3.6/site-packages/skimage/viewer/utils/core.py:10: UserWarning: Recommended matplotlib backend is `Agg` for full skimage.viewer functionality.\n",
      "  warn(\"Recommended matplotlib backend is `Agg` for full \"\n",
      "/opt/ubuntu-16.04/conda/lib/python3.6/site-packages/qtawesome/iconic_font.py:268: UserWarning: You need to have a running QApplication to use QtAwesome!\n",
      "  warnings.warn(\"You need to have a running \"\n",
      "/opt/ubuntu-16.04/conda/lib/python3.6/site-packages/statsmodels/compat/pandas.py:56: FutureWarning: The pandas.core.datetools module is deprecated and will be removed in a future version. Please use the pandas.tseries module instead.\n",
      "  from pandas.core import datetools\n"
     ]
    },
    {
     "name": "stdout",
     "output_type": "stream",
     "text": [
      "Crypto              brain_nose          jupyter             scripts\n",
      "Cython              brain_numpy         jupyter_client      seaborn\n",
      "IPython             brain_pkg_resources jupyter_console     secrets\n",
      "OleFileIO_PL        brain_pytest        jupyter_core        select\n",
      "OpenSSL             brain_qt            jupyterlab          selectors\n",
      "PIL                 brain_re            jupyterlab_launcher setuptools\n",
      "PyQt5               brain_six           keyword             shelve\n",
      "__future__          brain_ssl           lazy_object_proxy   shlex\n",
      "_ast                brain_subprocess    lib2to3             shutil\n",
      "_asyncio            brain_threading     linecache           signal\n",
      "_bisect             brain_typing        llvmlite            simplegeneric\n",
      "_blake2             bs4                 locale              singledispatch\n",
      "_bootlocale         builtins            locket              singledispatch_helpers\n",
      "_bz2                bz2                 logging             sip\n",
      "_cffi_backend       cProfile            lxml                sipconfig\n",
      "_codecs             calendar            lzma                sipdistutils\n",
      "_codecs_cn          certifi             macpath             site\n",
      "_codecs_hk          cffi                macurl2path         six\n",
      "_codecs_iso2022     cgi                 mailbox             skimage\n",
      "_codecs_jp          cgitb               mailcap             sklearn\n",
      "_codecs_kr          chardet             markupsafe          smtpd\n",
      "_codecs_tw          chunk               marshal             smtplib\n",
      "_collections        click               math                sndhdr\n",
      "_collections_abc    cloudpickle         matplotlib          snowballstemmer\n",
      "_compat_pickle      clyent              mccabe              socket\n",
      "_compression        cmath               mimetypes           socketserver\n",
      "_crypt              cmd                 mistune             socks\n",
      "_csv                code                mkl                 sockshandler\n",
      "_ctypes             codecs              mmap                sortedcollections\n",
      "_ctypes_test        codeop              modulefinder        sortedcontainers\n",
      "_curses             collections         mpmath              sphinx\n",
      "_curses_panel       colorama            msgpack             sphinxcontrib\n",
      "_datetime           colorsys            multipledispatch    spwd\n",
      "_decimal            compileall          multiprocessing     spyder\n",
      "_dummy_thread       concurrent          navigator_updater   spyder_breakpoints\n",
      "_elementtree        conda               nbconvert           spyder_io_dcm\n",
      "_functools          conda_build         nbformat            spyder_io_hdf5\n",
      "_hashlib            conda_env           netrc               spyder_profiler\n",
      "_heapq              conda_verify        networkx            spyder_pylint\n",
      "_imp                configparser        nis                 sqlalchemy\n",
      "_io                 contextlib          nltk                sqlite3\n",
      "_json               contextlib2         nntplib             sre_compile\n",
      "_locale             copy                nose                sre_constants\n",
      "_lsprof             copyreg             notebook            sre_parse\n",
      "_lzma               crypt               ntpath              ssl\n",
      "_markupbase         cryptography        nturl2path          stat\n",
      "_md5                csv                 numba               statistics\n",
      "_multibytecodec     ctypes              numbers             statsmodels\n",
      "_multiprocessing    curl                numexpr             storemagic\n",
      "_opcode             curses              numpy               string\n",
      "_operator           cycler              numpydoc            stringprep\n",
      "_osx_support        cython              odo                 struct\n",
      "_pickle             cythonmagic         olefile             subprocess\n",
      "_posixsubprocess    cytoolz             opcode              sunau\n",
      "_pydecimal          dask                openpyxl            symbol\n",
      "_pyio               datashape           operator            sympy\n",
      "_pytest             datetime            optparse            sympyprinting\n",
      "_random             dateutil            os                  symtable\n",
      "_sha1               dbm                 ossaudiodev         sys\n",
      "_sha256             decimal             packaging           sysconfig\n",
      "_sha3               decorator           pandas              syslog\n",
      "_sha512             difflib             pandocfilters       tables\n",
      "_signal             dis                 parser              tabnanny\n",
      "_sitebuiltins       distributed         partd               tarfile\n",
      "_socket             distutils           path                tblib\n",
      "_sqlite3            doctest             pathlib             telnetlib\n",
      "_sre                docutils            pathlib2            tempfile\n",
      "_ssl                dummy_threading     patsy               terminado\n",
      "_stat               easy_install        pdb                 termios\n",
      "_string             email               pep8                test\n",
      "_strptime           encodings           pexpect             test_path\n",
      "_struct             entrypoints         pickle              test_pycosat\n",
      "_symtable           enum                pickleshare         testpath\n",
      "_sysconfigdata_m_linux_x86_64-linux-gnu errno               pickletools         tests\n",
      "_sysconfigdata_x86_64_conda_cos6_linux_gnu et_xmlfile          pip                 textwrap\n",
      "_testbuffer         fastcache           pipes               this\n",
      "_testcapi           faulthandler        pkg_resources       threading\n",
      "_testimportmultiple fcntl               pkginfo             time\n",
      "_testmultiphase     filecmp             pkgutil             timeit\n",
      "_thread             fileinput           platform            tkinter\n",
      "_threading_local    filelock            plistlib            tlz\n",
      "_tkinter            flask               ply                 token\n",
      "_tracemalloc        flask_cors          poplib              tokenize\n",
      "_warnings           fnmatch             posix               toolz\n",
      "_weakref            formatter           posixpath           tornado\n",
      "_weakrefset         fractions           pprint              trace\n",
      "_yaml               ftplib              profile             traceback\n",
      "abc                 functools           prompt_toolkit      tracemalloc\n",
      "aifc                gc                  pstats              traitlets\n",
      "alabaster           genericpath         psutil              tty\n",
      "anaconda_navigator  getopt              pty                 turtle\n",
      "anaconda_project    getpass             ptyprocess          turtledemo\n",
      "antigravity         gettext             pwd                 types\n",
      "argparse            gevent              py                  typing\n",
      "array               glob                py_compile          unicodecsv\n",
      "asn1crypto          glob2               pyclbr              unicodedata\n",
      "ast                 gmpy2               pycodestyle         unittest\n",
      "astroid             greenlet            pycosat             urllib\n",
      "astropy             grp                 pycparser           urllib3\n",
      "asynchat            gzip                pycurl              uu\n",
      "asyncio             h5py                pydoc               uuid\n",
      "asyncore            hashlib             pydoc_data          venv\n",
      "atexit              heapdict            pyexpat             warnings\n",
      "audioop             heapq               pyflakes            wave\n",
      "autoreload          hmac                pygments            wcwidth\n",
      "babel               html                pylab               weakref\n",
      "backports           html5lib            pylint              webbrowser\n",
      "base64              http                pyodbc              webencodings\n",
      "bdb                 idlelib             pyparsing           werkzeug\n",
      "binascii            idna                pytest              wheel\n",
      "binhex              imageio             pytz                widgetsnbextension\n",
      "binstar_client      imagesize           pywt                wrapt\n",
      "bisect              imaplib             pyximport           wsgiref\n",
      "bitarray            imghdr              qtawesome           xdrlib\n",
      "bkcharts            imp                 qtconsole           xlrd\n",
      "blaze               importlib           qtpy                xlsxwriter\n",
      "bleach              inspect             queue               xlwt\n",
      "bokeh               io                  quopri              xml\n",
      "boto                ipaddress           random              xmlrpc\n",
      "bottleneck          ipykernel           re                  xxlimited\n",
      "brain_builtin_inference ipykernel_launcher  readline            xxsubtype\n",
      "brain_collections   ipython_genutils    reprlib             yaml\n",
      "brain_dateutil      ipywidgets          requests            zict\n",
      "brain_fstrings      isort               resource            zipapp\n",
      "brain_functools     itertools           rlcompleter         zipfile\n",
      "brain_gi            itsdangerous        rmagic              zipimport\n",
      "brain_hashlib       jdcal               rope                zlib\n",
      "brain_io            jedi                ruamel_yaml         zmq\n",
      "brain_mechanize     jinja2              runpy               \n",
      "brain_multiprocessing json                sched               \n",
      "brain_namedtuple_enum jsonschema          scipy               \n",
      "\n",
      "Enter any module name to get more help.  Or, type \"modules spam\" to search\n",
      "for modules whose name or summary contain the string \"spam\".\n",
      "\n",
      "None\n"
     ]
    }
   ],
   "source": [
    "print (help('modules') )"
   ]
  },
  {
   "cell_type": "markdown",
   "metadata": {},
   "source": [
    "`pip` is a special package. It is used from the command line to install properly (e.g. matching the version of the local packages) new packages. It can also be used from within python to check i.e. the set installed packages and their versions. N.B.: only the installed packages on top of the default ones will be listed "
   ]
  },
  {
   "cell_type": "code",
   "execution_count": 2,
   "metadata": {},
   "outputs": [
    {
     "data": {
      "text/plain": [
       "['alabaster==0.7.10',\n",
       " 'anaconda-client==1.6.5',\n",
       " 'anaconda-navigator==1.6.9',\n",
       " 'anaconda-project==0.8.0',\n",
       " 'asn1crypto==0.22.0',\n",
       " 'astroid==1.5.3',\n",
       " 'astropy==2.0.2',\n",
       " 'babel==2.5.0',\n",
       " 'backports.shutil-get-terminal-size==1.0.0',\n",
       " 'beautifulsoup4==4.6.0',\n",
       " 'bitarray==0.8.1',\n",
       " 'bkcharts==0.2',\n",
       " 'blaze==0.11.3',\n",
       " 'bleach==2.0.0',\n",
       " 'bokeh==0.12.10',\n",
       " 'boto==2.48.0',\n",
       " 'bottleneck==1.2.1',\n",
       " 'certifi==2017.7.27.1',\n",
       " 'cffi==1.10.0',\n",
       " 'chardet==3.0.4',\n",
       " 'click==6.7',\n",
       " 'cloudpickle==0.4.0',\n",
       " 'clyent==1.2.2',\n",
       " 'colorama==0.3.9',\n",
       " 'conda-build==3.0.27',\n",
       " 'conda-verify==2.0.0',\n",
       " 'conda==4.3.30',\n",
       " 'contextlib2==0.5.5',\n",
       " 'cryptography==2.0.3',\n",
       " 'cycler==0.10.0',\n",
       " 'cython==0.26.1',\n",
       " 'cytoolz==0.8.2',\n",
       " 'dask==0.15.3',\n",
       " 'datashape==0.5.4',\n",
       " 'decorator==4.1.2',\n",
       " 'distributed==1.19.1',\n",
       " 'docutils==0.14',\n",
       " 'entrypoints==0.2.3',\n",
       " 'et-xmlfile==1.0.1',\n",
       " 'fastcache==1.0.2',\n",
       " 'filelock==2.0.12',\n",
       " 'flask-cors==3.0.3',\n",
       " 'flask==0.12.2',\n",
       " 'gevent==1.2.2',\n",
       " 'glob2==0.5',\n",
       " 'gmpy2==2.0.8',\n",
       " 'greenlet==0.4.12',\n",
       " 'h5py==2.7.0',\n",
       " 'heapdict==1.0.0',\n",
       " 'html5lib==0.999999999',\n",
       " 'idna==2.6',\n",
       " 'imageio==2.2.0',\n",
       " 'imagesize==0.7.1',\n",
       " 'ipykernel==4.6.1',\n",
       " 'ipython-genutils==0.2.0',\n",
       " 'ipython==6.1.0',\n",
       " 'ipywidgets==7.0.0',\n",
       " 'isort==4.2.15',\n",
       " 'itsdangerous==0.24',\n",
       " 'jdcal==1.3',\n",
       " 'jedi==0.10.2',\n",
       " 'jinja2==2.9.6',\n",
       " 'jsonschema==2.6.0',\n",
       " 'jupyter-client==5.1.0',\n",
       " 'jupyter-console==5.2.0',\n",
       " 'jupyter-core==4.3.0',\n",
       " 'jupyterlab-launcher==0.4.0',\n",
       " 'jupyterlab==0.27.0',\n",
       " 'lazy-object-proxy==1.3.1',\n",
       " 'llvmlite==0.20.0',\n",
       " 'locket==0.2.0',\n",
       " 'lxml==4.1.0',\n",
       " 'markupsafe==1.0',\n",
       " 'matplotlib==2.1.0',\n",
       " 'mccabe==0.6.1',\n",
       " 'mistune==0.7.4',\n",
       " 'mpmath==0.19',\n",
       " 'msgpack-python==0.4.8',\n",
       " 'multipledispatch==0.4.9',\n",
       " 'navigator-updater==0.1.0',\n",
       " 'nbconvert==5.3.1',\n",
       " 'nbformat==4.4.0',\n",
       " 'networkx==2.0',\n",
       " 'nltk==3.2.4',\n",
       " 'nose==1.3.7',\n",
       " 'notebook==5.0.0',\n",
       " 'numba==0.35.0+10.g143f70e90',\n",
       " 'numexpr==2.6.2',\n",
       " 'numpy==1.13.3',\n",
       " 'numpydoc==0.7.0',\n",
       " 'odo==0.5.1',\n",
       " 'olefile==0.44',\n",
       " 'openpyxl==2.4.8',\n",
       " 'packaging==16.8',\n",
       " 'pandas==0.20.3',\n",
       " 'pandocfilters==1.4.2',\n",
       " 'partd==0.3.8',\n",
       " 'path.py==10.3.1',\n",
       " 'pathlib2==2.3.0',\n",
       " 'patsy==0.4.1',\n",
       " 'pep8==1.7.0',\n",
       " 'pexpect==4.2.1',\n",
       " 'pickleshare==0.7.4',\n",
       " 'pillow==4.2.1',\n",
       " 'pip==9.0.1',\n",
       " 'pkginfo==1.4.1',\n",
       " 'ply==3.10',\n",
       " 'prompt-toolkit==1.0.15',\n",
       " 'psutil==5.4.0',\n",
       " 'ptyprocess==0.5.2',\n",
       " 'py==1.4.34',\n",
       " 'pycodestyle==2.3.1',\n",
       " 'pycosat==0.6.2',\n",
       " 'pycparser==2.18',\n",
       " 'pycrypto==2.6.1',\n",
       " 'pycurl==7.43.0',\n",
       " 'pyflakes==1.6.0',\n",
       " 'pygments==2.2.0',\n",
       " 'pylint==1.7.4',\n",
       " 'pyodbc==4.0.17',\n",
       " 'pyopenssl==17.2.0',\n",
       " 'pyparsing==2.2.0',\n",
       " 'pysocks==1.6.7',\n",
       " 'pytest==3.2.1',\n",
       " 'python-dateutil==2.6.1',\n",
       " 'pytz==2017.2',\n",
       " 'pywavelets==0.5.2',\n",
       " 'pyyaml==3.12',\n",
       " 'pyzmq==16.0.2',\n",
       " 'qtawesome==0.4.4',\n",
       " 'qtconsole==4.3.1',\n",
       " 'qtpy==1.3.1',\n",
       " 'requests==2.18.4',\n",
       " 'rope==0.10.5',\n",
       " 'ruamel-yaml==0.11.14',\n",
       " 'scikit-image==0.13.0',\n",
       " 'scikit-learn==0.19.1',\n",
       " 'scipy==0.19.1',\n",
       " 'seaborn==0.8',\n",
       " 'setuptools==36.5.0.post20170921',\n",
       " 'simplegeneric==0.8.1',\n",
       " 'singledispatch==3.4.0.3',\n",
       " 'six==1.11.0',\n",
       " 'snowballstemmer==1.2.1',\n",
       " 'sortedcollections==0.5.3',\n",
       " 'sortedcontainers==1.5.7',\n",
       " 'sphinx==1.6.3',\n",
       " 'sphinxcontrib-websupport==1.0.1',\n",
       " 'spyder==3.2.4',\n",
       " 'sqlalchemy==1.1.13',\n",
       " 'statsmodels==0.8.0',\n",
       " 'sympy==1.1.1',\n",
       " 'tables==3.4.2',\n",
       " 'tblib==1.3.2',\n",
       " 'terminado==0.6',\n",
       " 'testpath==0.3.1',\n",
       " 'toolz==0.8.2',\n",
       " 'tornado==4.5.2',\n",
       " 'traitlets==4.3.2',\n",
       " 'typing==3.6.2',\n",
       " 'unicodecsv==0.14.1',\n",
       " 'urllib3==1.22',\n",
       " 'wcwidth==0.1.7',\n",
       " 'webencodings==0.5.1',\n",
       " 'werkzeug==0.12.2',\n",
       " 'wheel==0.29.0',\n",
       " 'widgetsnbextension==3.0.2',\n",
       " 'wrapt==1.10.11',\n",
       " 'xlrd==1.1.0',\n",
       " 'xlsxwriter==1.0.2',\n",
       " 'xlwt==1.3.0',\n",
       " 'zict==0.1.3']"
      ]
     },
     "execution_count": 2,
     "metadata": {},
     "output_type": "execute_result"
    }
   ],
   "source": [
    "import pip\n",
    "sorted([\"%s==%s\" % (i.key, i.version) for i in pip.get_installed_distributions()])"
   ]
  },
  {
   "cell_type": "markdown",
   "metadata": {},
   "source": [
    "# Functions"
   ]
  },
  {
   "cell_type": "code",
   "execution_count": null,
   "metadata": {
    "collapsed": true
   },
   "outputs": [],
   "source": [
    "def square(x):\n",
    "    \"\"\"Square of x.\"\"\"\n",
    "    return x*x\n",
    "\n",
    "def cube(x):\n",
    "    \"\"\"Cube of x.\"\"\"\n",
    "    return x*x*x\n",
    "\n",
    "# create a dictionary of functions\n",
    "funcs = {\n",
    "    'square': square,\n",
    "    'cube': cube,\n",
    "}\n",
    "\n",
    "x = 2\n",
    "print(square(x))\n",
    "print(cube(x))\n",
    "\n",
    "for func in sorted(funcs):\n",
    "    print (func, funcs[func](x))"
   ]
  },
  {
   "cell_type": "markdown",
   "metadata": {},
   "source": [
    "## Functions arguments"
   ]
  },
  {
   "cell_type": "markdown",
   "metadata": {},
   "source": [
    "what is passsed to a function is a copy of the input. Imagine we have a list *x =[1, 2, 3]*. If within the function the content of *x* is directly changed (e.g. *x[0] = 999*), then *x* chanes outside the funciton as well. However, if *x* is reassigned within the function to a new object (e.g. another list), then the copy of the name *x* now points to the new object, but *x* outside the function is unhcanged."
   ]
  },
  {
   "cell_type": "code",
   "execution_count": null,
   "metadata": {
    "collapsed": true
   },
   "outputs": [],
   "source": [
    "def modify(x):\n",
    "    x[0] = 999\n",
    "    return x\n",
    "\n",
    "x = [1,2,3]\n",
    "print (x)\n",
    "print (modify(x))\n",
    "print (x)"
   ]
  },
  {
   "cell_type": "code",
   "execution_count": null,
   "metadata": {
    "collapsed": true
   },
   "outputs": [],
   "source": [
    "def no_modify(x):\n",
    "    x = [4,5,6]\n",
    "    return x\n",
    "\n",
    "x = [1,2,3]\n",
    "print (x)\n",
    "print (no_modify(x))\n",
    "print (x)\n"
   ]
  },
  {
   "cell_type": "markdown",
   "metadata": {},
   "source": [
    "Binding of default arguments occurs at function definition:"
   ]
  },
  {
   "cell_type": "code",
   "execution_count": null,
   "metadata": {
    "collapsed": true
   },
   "outputs": [],
   "source": [
    "def f(x = []):\n",
    "    x.append(1)\n",
    "    return x\n",
    "\n",
    "print (f())\n",
    "print (f())\n",
    "print (f(x = [9,9,9]))\n",
    "print (f())\n",
    "print (f())"
   ]
  },
  {
   "cell_type": "markdown",
   "metadata": {},
   "source": [
    "Try to aviod that!!"
   ]
  },
  {
   "cell_type": "code",
   "execution_count": null,
   "metadata": {
    "collapsed": true
   },
   "outputs": [],
   "source": [
    "def f(x = None):\n",
    "    if x is None:\n",
    "        x = []\n",
    "    x.append(1)\n",
    "    return x\n",
    "\n",
    "print (f())\n",
    "print (f())\n",
    "print (f(x = [9,9,9]))\n",
    "print (f())\n",
    "print (f())"
   ]
  },
  {
   "cell_type": "markdown",
   "metadata": {},
   "source": [
    "## Higher order functions\n",
    "\n",
    "A function that uses another function as an input argument or returns a function (HOF) is known as a higher-order function. The most familiar examples are `map` and `filter`."
   ]
  },
  {
   "cell_type": "markdown",
   "metadata": {},
   "source": [
    "### map\n",
    "\n",
    "The map function applies a function to each member of a collection"
   ]
  },
  {
   "cell_type": "code",
   "execution_count": null,
   "metadata": {
    "collapsed": true
   },
   "outputs": [],
   "source": [
    "x = list(map(square, range(5)))\n",
    "print (x)\n",
    "\n",
    "# Note the difference w.r.t python 2. In python 3 map retuns an iterator so you can do stuff like:\n",
    "for i in map(square,range(5)): print(i)"
   ]
  },
  {
   "cell_type": "markdown",
   "metadata": {},
   "source": [
    "### filter\n",
    "\n",
    "The filter function applies a predicate to each memmber of a collection, retaining only those members where the predicate is True"
   ]
  },
  {
   "cell_type": "code",
   "execution_count": null,
   "metadata": {
    "collapsed": true
   },
   "outputs": [],
   "source": [
    "def is_even(x):\n",
    "    return x%2 == 0\n",
    "\n",
    "print (list(filter(is_even, range(5))))"
   ]
  },
  {
   "cell_type": "code",
   "execution_count": null,
   "metadata": {
    "collapsed": true
   },
   "outputs": [],
   "source": [
    "list(map(square, filter(is_even, range(5))))\n"
   ]
  },
  {
   "cell_type": "markdown",
   "metadata": {},
   "source": [
    "### reduce\n",
    "\n",
    "The reduce function reduces a collection using a binary operator to combine items two at a time. More often than not reduce can be substituted with a more efficient for loop. It is worth mentioning it for its key role in big-data applications together with map (the map-reduce paradigm). \n",
    "N.B.: it no loger exist in python 3, it is now part of the `functools` library"
   ]
  },
  {
   "cell_type": "code",
   "execution_count": null,
   "metadata": {
    "collapsed": true
   },
   "outputs": [],
   "source": [
    "from functools import reduce\n",
    "\n",
    "def my_add(x, y):\n",
    "    return x + y\n",
    "\n",
    "# another implementation of the sum function\n",
    "reduce(my_add, [1,2,3,4,5])"
   ]
  },
  {
   "cell_type": "markdown",
   "metadata": {},
   "source": [
    "### zip\n",
    "\n",
    "zip is useful when you need to iterate over matched elements of multiple lists"
   ]
  },
  {
   "cell_type": "code",
   "execution_count": null,
   "metadata": {
    "collapsed": true
   },
   "outputs": [],
   "source": [
    "xs = [1, 2, 3, 4]\n",
    "ys = [10, 20, 30, 40]\n",
    "zs = ['a', 'b', 'c', 'd', 'e']\n",
    "\n",
    "for x, y, z in zip(xs, ys, zs):\n",
    "    print (x, y, z)"
   ]
  },
  {
   "cell_type": "markdown",
   "metadata": {},
   "source": [
    "### Custom HOF"
   ]
  },
  {
   "cell_type": "code",
   "execution_count": null,
   "metadata": {
    "collapsed": true
   },
   "outputs": [],
   "source": [
    "def custom_sum(xs, transform):\n",
    "    \"\"\"Returns the sum of xs after a user specified transform.\"\"\"\n",
    "    return sum(map(transform, xs))\n",
    "\n",
    "xs = range(5)\n",
    "print (custom_sum(xs, square))\n",
    "print (custom_sum(xs, cube))\n",
    "\n"
   ]
  },
  {
   "cell_type": "markdown",
   "metadata": {},
   "source": [
    "### Returning a function"
   ]
  },
  {
   "cell_type": "code",
   "execution_count": null,
   "metadata": {
    "collapsed": true
   },
   "outputs": [],
   "source": [
    "def make_logger(target):\n",
    "    def logger(data):\n",
    "        with open(target, 'a') as f:\n",
    "            f.write(data + '\\n')\n",
    "    return logger\n",
    "\n",
    "foo_logger = make_logger('foo.txt')\n",
    "foo_logger('Hello')\n",
    "foo_logger('World')"
   ]
  },
  {
   "cell_type": "code",
   "execution_count": null,
   "metadata": {
    "collapsed": true
   },
   "outputs": [],
   "source": [
    "! cat 'foo.txt'"
   ]
  },
  {
   "cell_type": "markdown",
   "metadata": {},
   "source": [
    "## Anonimous functions (lambda)\n",
    "\n",
    "When using functional style, there is often the need to create small specific functions that perform a limited task as input to a HOF such as map or filter. In such cases, these functions are often written as anonymous or lambda functions. \n",
    "The syntax is as follows:\n",
    "\n",
    "lambda *arguments* : *expression*\n",
    "\n",
    "\n",
    "If you find it hard to understand what a lambda function is doing, it should probably be rewritten as a regular function."
   ]
  },
  {
   "cell_type": "code",
   "execution_count": null,
   "metadata": {
    "collapsed": true
   },
   "outputs": [],
   "source": [
    "sum = lambda x,y: x+y\n",
    "sum(3,4)"
   ]
  },
  {
   "cell_type": "code",
   "execution_count": null,
   "metadata": {
    "collapsed": true
   },
   "outputs": [],
   "source": [
    "for i in map(lambda x: x*x, range(5)): print (i)"
   ]
  },
  {
   "cell_type": "code",
   "execution_count": null,
   "metadata": {
    "collapsed": true
   },
   "outputs": [],
   "source": [
    "# what does this function do?\n",
    "from functools import reduce\n",
    "s1 = reduce(lambda x, y: x+y, map(lambda x: x**2, range(1,10)))\n",
    "print(s1)\n"
   ]
  },
  {
   "cell_type": "markdown",
   "metadata": {},
   "source": [
    "## Recursive functions "
   ]
  },
  {
   "cell_type": "code",
   "execution_count": null,
   "metadata": {
    "collapsed": true
   },
   "outputs": [],
   "source": [
    "def fib1(n):\n",
    "    \"\"\"Fib with recursion.\"\"\"\n",
    "\n",
    "    # base case\n",
    "    if n==0 or n==1:\n",
    "        return 1\n",
    "    # recurssive caae\n",
    "    else:\n",
    "        return fib1(n-1) + fib1(n-2)\n",
    "\n",
    "    \n",
    "print ([fib1(i) for i in range(10)])"
   ]
  },
  {
   "cell_type": "code",
   "execution_count": null,
   "metadata": {
    "collapsed": true
   },
   "outputs": [],
   "source": [
    "# In Python, a more efficient version that does not use recursion is\n",
    "\n",
    "def fib2(n):\n",
    "    \"\"\"Fib without recursion.\"\"\"\n",
    "    a, b = 0, 1\n",
    "    for i in range(1, n+1):\n",
    "        a, b = b, a+b\n",
    "    return b\n",
    "\n",
    "print ([fib2(i) for i in range(10)])"
   ]
  },
  {
   "cell_type": "code",
   "execution_count": null,
   "metadata": {
    "collapsed": true
   },
   "outputs": [],
   "source": [
    "# check indeed the timing:\n",
    "\n",
    "%timeit fib1(20)\n",
    "%timeit fib2(20)\n"
   ]
  },
  {
   "cell_type": "markdown",
   "metadata": {},
   "source": [
    "## Iterators\n",
    "\n",
    "Iterators represent streams of values. Because only one value is consumed at a time, they use very little memory. Use of iterators is very helpful for working with data sets too large to fit into RAM."
   ]
  },
  {
   "cell_type": "code",
   "execution_count": null,
   "metadata": {
    "collapsed": true
   },
   "outputs": [],
   "source": [
    "# Iterators can be created from sequences with the built-in function iter()\n",
    "\n",
    "xs = [1,2,3]\n",
    "x_iter = iter(xs)\n",
    "\n",
    "print (next(x_iter))\n",
    "print (next(x_iter))\n",
    "print (next(x_iter))\n",
    "print (next(x_iter))"
   ]
  },
  {
   "cell_type": "code",
   "execution_count": null,
   "metadata": {
    "collapsed": true
   },
   "outputs": [],
   "source": [
    "# Most commonly, iterators are used (automatically) within a for loop\n",
    "# which terminates when it encouters a StopIteration exception\n",
    "\n",
    "x_iter = iter(xs)\n",
    "for x in x_iter:\n",
    "    print (x)"
   ]
  },
  {
   "cell_type": "markdown",
   "metadata": {},
   "source": [
    "## More on comprehensions"
   ]
  },
  {
   "cell_type": "code",
   "execution_count": null,
   "metadata": {
    "collapsed": true
   },
   "outputs": [],
   "source": [
    "# A generator expression\n",
    "\n",
    "print ((x for x in range(10)))\n",
    "\n",
    "# A list comprehesnnion\n",
    "\n",
    "print ([x for x in range(10)])\n",
    "\n",
    "# A set comprehension\n",
    "\n",
    "print ({x for x in range(10)})\n",
    "\n",
    "# A dictionary comprehension\n",
    "\n",
    "print ({x: x for x in range(10)})"
   ]
  },
  {
   "cell_type": "markdown",
   "metadata": {},
   "source": [
    "## Useful Modules\n",
    "\n",
    "You may want to have a look at the content of the following modules for further usage of (HO) functions:\n",
    "  - [operator](https://docs.python.org/3/library/operator.html)\n",
    "  - [functools](https://docs.python.org/3/library/functools.html)\n",
    "  - [itertools](https://docs.python.org/3/library/itertools.html)\n",
    "  - [toolz](https://pypi.org/project/toolz/)\n",
    "  - [funcy](https://pypi.org/project/funcy/)"
   ]
  },
  {
   "cell_type": "markdown",
   "metadata": {},
   "source": [
    "## Decorators\n",
    "\n",
    "Decorators are a type of HOF that take a function and return a wrapped function that provides additional useful properties.\n",
    "\n",
    "Examples:\n",
    "\n",
    "  - logging\n",
    "  - profiling\n",
    "  - Just-In-Time (JIT) compilation"
   ]
  },
  {
   "cell_type": "code",
   "execution_count": null,
   "metadata": {
    "collapsed": true
   },
   "outputs": [],
   "source": [
    "def my_decorator(func):\n",
    "    def wrapper():\n",
    "        print(\"Something is happening before the function is called.\")\n",
    "        func()\n",
    "        print(\"Something is happening after the function is called.\")\n",
    "    return wrapper\n",
    "\n",
    "def say_whee():\n",
    "    print(\"Whee!\")\n",
    "\n",
    "say_whee = my_decorator(say_whee)"
   ]
  },
  {
   "cell_type": "code",
   "execution_count": null,
   "metadata": {
    "collapsed": true
   },
   "outputs": [],
   "source": [
    "say_whee()"
   ]
  },
  {
   "cell_type": "markdown",
   "metadata": {},
   "source": [
    "# Classes and Objects\n",
    "\n",
    "Old school object-oriented programming is possible and often used in python. Classes are defined similarly to standard object-oriented languages, with similar functionalities.\n",
    "\n",
    "The main python doc [page](https://docs.python.org/3.6/tutorial/classes.html) is worth reading through "
   ]
  },
  {
   "cell_type": "code",
   "execution_count": null,
   "metadata": {
    "collapsed": true
   },
   "outputs": [],
   "source": [
    "class Pet:\n",
    "    # the \"constructor\"\n",
    "    def __init__(self, name, age):\n",
    "        self.name=name\n",
    "        self.age=age\n",
    "    # class functions take the \"self\" parameter \n",
    "    def set_name(self,name):\n",
    "        self.name=name\n",
    "    def convert_age(self,factor):\n",
    "        self.age*=factor\n",
    "\n",
    "buddy=Pet(\"buddy\",12)\n",
    "print (buddy.name, buddy.age)\n",
    "buddy.convert_age(0.5)\n",
    "print (buddy.age)\n",
    "\n"
   ]
  },
  {
   "cell_type": "code",
   "execution_count": null,
   "metadata": {
    "collapsed": true
   },
   "outputs": [],
   "source": [
    "# ineritance is straightforward\n",
    "class Dog(Pet):\n",
    "    # the following variables is \"global\", i.e. holds for all \"Dog\" objects\n",
    "    species = \"mammal\"\n",
    "    # functions can be redefined as usual\n",
    "    def convert_age(self):\n",
    "        self.age*=7\n",
    "    def set_species(self, species):\n",
    "        self.species = species\n",
    "        \n",
    "puppy=Dog(\"tobia\",10)\n",
    "print(puppy.name)\n",
    "puppy.convert_age()\n",
    "print(puppy.age)\n",
    "\n"
   ]
  },
  {
   "cell_type": "code",
   "execution_count": null,
   "metadata": {
    "collapsed": true
   },
   "outputs": [],
   "source": []
  }
 ],
 "metadata": {
  "kernelspec": {
   "display_name": "Python 3",
   "language": "python",
   "name": "python3"
  },
  "language_info": {
   "codemirror_mode": {
    "name": "ipython",
    "version": 3
   },
   "file_extension": ".py",
   "mimetype": "text/x-python",
   "name": "python",
   "nbconvert_exporter": "python",
   "pygments_lexer": "ipython3",
   "version": "3.6.3"
  }
 },
 "nbformat": 4,
 "nbformat_minor": 2
}
