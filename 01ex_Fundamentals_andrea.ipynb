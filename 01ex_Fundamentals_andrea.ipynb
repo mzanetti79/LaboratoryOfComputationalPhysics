{
 "cells": [
  {
   "cell_type": "markdown",
   "metadata": {},
   "source": [
    "1\\. Write the following as a list comprehension"
   ]
  },
  {
   "cell_type": "code",
   "execution_count": 4,
   "metadata": {},
   "outputs": [
    {
     "name": "stdout",
     "output_type": "stream",
     "text": [
      "[(0, 0), (0, 1), (0, 2), (0, 3), (1, 0), (1, 1), (1, 2), (1, 3), (2, 0), (2, 1), (2, 2), (2, 3)]\n",
      "[0, 4, 16]\n"
     ]
    }
   ],
   "source": [
    "# 1\n",
    "ans = []\n",
    "for i in range(3):\n",
    "    for j in range(4):\n",
    "        ans.append((i, j))\n",
    "print (ans)\n",
    "\n",
    "# 2\n",
    "ans = map(lambda x: x*x, filter(lambda x: x%2 == 0, range(5)))\n",
    "print (list(ans))"
   ]
  },
  {
   "cell_type": "code",
   "execution_count": 2,
   "metadata": {},
   "outputs": [
    {
     "name": "stdout",
     "output_type": "stream",
     "text": [
      "[(0, 0), (0, 1), (0, 2), (0, 3), (1, 0), (1, 1), (1, 2), (1, 3), (2, 0), (2, 1), (2, 2), (2, 3)]\n",
      "[0, 4, 16]\n"
     ]
    }
   ],
   "source": [
    "#1.a\n",
    "ans = [(i,j) for i in range(3) for j in range(4)]\n",
    "print(ans)\n",
    "\n",
    "#1.b\n",
    "ans = [x*x for x in range(5) if x%2 == 0]\n",
    "print(ans)"
   ]
  },
  {
   "cell_type": "markdown",
   "metadata": {},
   "source": [
    "2\\. Converte the following function into a pure function with no global variables or side effects"
   ]
  },
  {
   "cell_type": "code",
   "execution_count": 3,
   "metadata": {},
   "outputs": [
    {
     "name": "stdout",
     "output_type": "stream",
     "text": [
      "[1, 2, 3, 0, 1, 2, 3, 4]\n",
      "[1, 2, 3, 0, 1, 2, 3, 4]\n"
     ]
    }
   ],
   "source": [
    "x = 5\n",
    "def f(alist):\n",
    "    for i in range(x):\n",
    "        alist.append(i)\n",
    "    return alist\n",
    "\n",
    "alist = [1,2,3]\n",
    "ans = f(alist)\n",
    "print (ans)\n",
    "print (alist) # alist has been changed!"
   ]
  },
  {
   "cell_type": "code",
   "execution_count": 189,
   "metadata": {},
   "outputs": [
    {
     "name": "stdout",
     "output_type": "stream",
     "text": [
      "[1, 2, 3, 0, 1, 2, 3, 4]\n",
      "[1, 2, 3]\n"
     ]
    }
   ],
   "source": [
    "#2\n",
    "def f(alist = None,x = None):\n",
    "    if alist is None:\n",
    "        alist = []\n",
    "    if x is None:\n",
    "        x = 0\n",
    "    blist = [0 for k in alist]\n",
    "    #print(len(blist))\n",
    "    for j in range(len(alist)):\n",
    "        blist[j] = alist[j]\n",
    "    for i in range(x):\n",
    "        blist.append(i)\n",
    "    return blist\n",
    "clist = [1,2,3]\n",
    "ans = f(alist = clist,x = 5)\n",
    "print (ans)\n",
    "print (clist)"
   ]
  },
  {
   "cell_type": "markdown",
   "metadata": {},
   "source": [
    "3\\. Write a `decorator` hello that makes every wrapped function print “Hello!”, i.e. something like:\n",
    "\n",
    "```python\n",
    "@hello\n",
    "def square(x):\n",
    "    return x*x\n",
    "```\n",
    "\n"
   ]
  },
  {
   "cell_type": "code",
   "execution_count": 190,
   "metadata": {},
   "outputs": [
    {
     "name": "stdout",
     "output_type": "stream",
     "text": [
      "Hello!\n",
      "625\n",
      "Hello!\n",
      "125\n"
     ]
    }
   ],
   "source": [
    "#3\n",
    "def Hello(func):\n",
    "    def wrap(x):\n",
    "        print(\"Hello!\")\n",
    "        print(func(x))\n",
    "    return wrap\n",
    "@Hello\n",
    "def square(x):\n",
    "    return x*x\n",
    "\n",
    "@Hello\n",
    "def cube(x):\n",
    "    return x*x*x\n",
    "\n",
    "square(25)\n",
    "cube(5)"
   ]
  },
  {
   "cell_type": "markdown",
   "metadata": {},
   "source": [
    "4\\. Write the factorial function so that it a) does and b) does not use recursion."
   ]
  },
  {
   "cell_type": "code",
   "execution_count": 178,
   "metadata": {},
   "outputs": [
    {
     "name": "stdout",
     "output_type": "stream",
     "text": [
      "[1, 1, 2, 6, 24, 120, 720, 5040, 40320, 362880, 3628800]\n",
      "[1, 1, 2, 6, 24, 120, 720, 5040, 40320, 362880, 3628800]\n",
      "100000 loops, best of 3: 5.38 µs per loop\n",
      "100000 loops, best of 3: 3.4 µs per loop\n"
     ]
    }
   ],
   "source": [
    "#4.a\n",
    "def fact1(n):\n",
    "    # base case\n",
    "    if n==0 or n==1:\n",
    "        return 1\n",
    "    # recurssive case\n",
    "    else:\n",
    "        return fact1(n-1) * n\n",
    "\n",
    "    \n",
    "print ([fact1(i) for i in range(11)])\n",
    "\n",
    "#4.b\n",
    "def fact2(n):\n",
    "    a = 1\n",
    "    for i in range(0, n):\n",
    "        a = a*(n-i)\n",
    "    return a\n",
    "\n",
    "print ([fact2(i) for i in range(11)])\n",
    "\n",
    "%timeit fact1(20)\n",
    "%timeit fact2(20)"
   ]
  },
  {
   "cell_type": "raw",
   "metadata": {},
   "source": [
    "# 5. Use HOFs (zip in particular) to compute the weight of a circle, a disk and a sphere, assuming different radii and different densities:\n",
    "\n",
    "densities = {\"Al\":[0.5,1,2],\"Fe\":[3,4,5],\"Pb\": [15,20,30]}\n",
    "radii = [1,2,3]\n",
    "\n",
    "where the entries of the dictionary's values are the linear, superficial and volumetric densities of the materials respectively.\n",
    "\n",
    "In particular define a list of three lambda functions using a comprehension that computes the circumference, the area and the volume for a given radius"
   ]
  },
  {
   "cell_type": "code",
   "execution_count": 188,
   "metadata": {},
   "outputs": [
    {
     "name": "stdout",
     "output_type": "stream",
     "text": [
      "('mass = 94.247780', 'Pb', 'circumference', 'radius = 1')\n",
      "('mass = 188.495559', 'Pb', 'circumference', 'radius = 2')\n",
      "('mass = 282.743339', 'Pb', 'circumference', 'radius = 3')\n",
      "('mass = 3.141593', 'Al', 'circumference', 'radius = 1')\n",
      "('mass = 6.283185', 'Al', 'circumference', 'radius = 2')\n",
      "('mass = 9.424778', 'Al', 'circumference', 'radius = 3')\n",
      "('mass = 18.849556', 'Fe', 'circumference', 'radius = 1')\n",
      "('mass = 37.699112', 'Fe', 'circumference', 'radius = 2')\n",
      "('mass = 56.548668', 'Fe', 'circumference', 'radius = 3')\n",
      "('mass = 62.831853', 'Pb', 'disk', 'radius = 1')\n",
      "('mass = 251.327412', 'Pb', 'disk', 'radius = 2')\n",
      "('mass = 565.486678', 'Pb', 'disk', 'radius = 3')\n",
      "('mass = 3.141593', 'Al', 'disk', 'radius = 1')\n",
      "('mass = 12.566371', 'Al', 'disk', 'radius = 2')\n",
      "('mass = 28.274334', 'Al', 'disk', 'radius = 3')\n",
      "('mass = 12.566371', 'Fe', 'disk', 'radius = 1')\n",
      "('mass = 50.265482', 'Fe', 'disk', 'radius = 2')\n",
      "('mass = 113.097336', 'Fe', 'disk', 'radius = 3')\n",
      "('mass = 125.663706', 'Pb', 'sphere', 'radius = 1')\n",
      "('mass = 1005.309649', 'Pb', 'sphere', 'radius = 2')\n",
      "('mass = 3392.920066', 'Pb', 'sphere', 'radius = 3')\n",
      "('mass = 8.377580', 'Al', 'sphere', 'radius = 1')\n",
      "('mass = 67.020643', 'Al', 'sphere', 'radius = 2')\n",
      "('mass = 226.194671', 'Al', 'sphere', 'radius = 3')\n",
      "('mass = 20.943951', 'Fe', 'sphere', 'radius = 1')\n",
      "('mass = 167.551608', 'Fe', 'sphere', 'radius = 2')\n",
      "('mass = 565.486678', 'Fe', 'sphere', 'radius = 3')\n",
      "Temo di non aver capito come avrei potuto usare zip in modo efficiente\n"
     ]
    }
   ],
   "source": [
    "#5\n",
    "densities = {\"Al\":[0.5,1,2],\"Fe\":[3,4,5],\"Pb\": [15,20,30]}\n",
    "radii = [1,2,3]\n",
    "import math\n",
    "labels = [\"circumference\", \"disk\", \"sphere\"]\n",
    "volumesform = [lambda x:2*math.pi*x, lambda x:math.pi*x*x, lambda x:(4*math.pi*x*x*x)/3]\n",
    "for j in range(3):\n",
    "    for k in densities:\n",
    "        masses[j] = [i*densities[k][j] for i in map(volumesform[j],radii)]\n",
    "        for l in range(len(radii)):\n",
    "            print(\"mass = %f\" %masses[j][l], k,labels[j], \"radius = %d\" %radii[l]) \n",
    "print(\"Temo di non aver capito come avrei potuto usare zip in modo efficiente\")"
   ]
  },
  {
   "cell_type": "raw",
   "metadata": {},
   "source": [
    "# 6. Edit the class defintion to add an instance attribute of is_hungry = True to the Dog class. Then add a method called eat() which changes the value of is_hungry to False when called. Figure out the best way to feed each dog and then output “My dogs are hungry.” if all are hungry or “My dogs are not hungry.” if all are not hungry. The final output should look like this:\n",
    "\n",
    "`I have 3 dogs. \n",
    "Tom is 6. \n",
    "Fletcher is 7. \n",
    "Larry is 9. \n",
    "And they're all mammals, of course. \n",
    "My dogs are not hungry.\n",
    "`\n",
    "\n",
    "```python\n",
    "# Parent class\n",
    "class Dog:\n",
    "\n",
    "    # Class attribute\n",
    "    species = 'mammal'\n",
    "\n",
    "    # Initializer / Instance attributes\n",
    "    def __init__(self, name, age):\n",
    "        self.name = name\n",
    "        self.age = age\n",
    "\n",
    "    # instance method\n",
    "    def description(self):\n",
    "        return \"{} is {} years old\".format(self.name, self.age)\n",
    "\n",
    "    # instance method\n",
    "    def speak(self, sound):\n",
    "        return \"{} says {}\".format(self.name, sound)\n",
    "\n",
    "# Child class (inherits from Dog class)\n",
    "class RussellTerrier(Dog):\n",
    "    def run(self, speed):\n",
    "        return \"{} runs {}\".format(self.name, speed)\n",
    "\n",
    "# Child class (inherits from Dog class)\n",
    "class Bulldog(Dog):\n",
    "    def run(self, speed):\n",
    "        return \"{} runs {}\".format(self.name, speed)\n",
    "```"
   ]
  },
  {
   "cell_type": "code",
   "execution_count": 184,
   "metadata": {},
   "outputs": [
    {
     "name": "stdout",
     "output_type": "stream",
     "text": [
      "I have 3 dogs\n",
      "Tom is 6 years old\n",
      "Fletcher is 7 years old\n",
      "Larry is 9 years old\n",
      "And they're all mammals, of course\n",
      "My dogs are not hungry\n"
     ]
    }
   ],
   "source": [
    "#6\n",
    "\n",
    "# Parent class\n",
    "class Dog:\n",
    "\n",
    "    # Class attribute\n",
    "    species = 'mammal'\n",
    "\n",
    "    # Initializer / Instance attributes\n",
    "    def __init__(self, name, age):\n",
    "        self.name = name\n",
    "        self.age = age\n",
    "        self.is_hungry = 1\n",
    "       \n",
    "\n",
    "    # instance method\n",
    "    def description(self):\n",
    "        return \"{} is {} years old\".format(self.name, self.age)\n",
    "\n",
    "    # instance method\n",
    "    def speak(self, sound):\n",
    "        return \"{} says {}\".format(self.name, sound)\n",
    "    \n",
    "    def eat(self):\n",
    "        self.is_hungry = 0\n",
    "        return self.is_hungry \n",
    "    \n",
    "    def check(self):\n",
    "        if self.is_hungry == 1:\n",
    "            return \"{} is hungry\".format(self.name)\n",
    "        else:\n",
    "            return \"{} is well fed\".format(self.name)\n",
    "\n",
    "# Child class (inherits from Dog class)\n",
    "class RussellTerrier(Dog):\n",
    "    def run(self, speed):\n",
    "        return \"{} runs {}\".format(self.name, speed)\n",
    "\n",
    "# Child class (inherits from Dog class)\n",
    "class Bulldog(Dog):\n",
    "    def run(self, speed):\n",
    "        return \"{} runs {}\".format(self.name, speed)\n",
    "\n",
    "\n",
    "Tom = Dog(\"Tom\", 6)\n",
    "Fletcher = Dog(\"Fletcher\",7)\n",
    "Larry = Dog(\"Larry\",9)\n",
    "mydogs = [Tom, Fletcher, Larry]\n",
    "\n",
    "j = 0\n",
    "for i in mydogs:\n",
    "    j = j+1\n",
    "if j > 1: print(\"I have %d dogs\" %j)\n",
    "elif j == 1:print(\"I have only one dog\")\n",
    "else: print(\"I have no dogs\")\n",
    "\n",
    "for i in range(len(mydogs)):\n",
    "    print(mydogs[i].description())\n",
    "\n",
    "\n",
    "def checkdogs(doglist):\n",
    "    k = 0\n",
    "    for i in range(len(doglist)):\n",
    "        if doglist[i].is_hungry == True:\n",
    "            k = k + 1\n",
    "    if k == 0:\n",
    "        print(\"My dogs are not hungry\")\n",
    "    elif k == 3:\n",
    "        print(\"My dogs are hungry\")\n",
    "        \n",
    "\n",
    "def feeddogs(doglist):        \n",
    "    for i in range(len(doglist)):\n",
    "        if doglist[i].is_hungry == True:\n",
    "            doglist[i].eat()\n",
    "            \n",
    "k = 0\n",
    "for i in range(len(mydogs)):\n",
    "    if mydogs[i].species == \"mammal\":\n",
    "        k = k + 1\n",
    "if k == len(mydogs): print(\"And they're all mammals, of course\")\n",
    "\n",
    "#checkdogs(mydogs)\n",
    "feeddogs(mydogs)\n",
    "checkdogs(mydogs) "
   ]
  },
  {
   "cell_type": "code",
   "execution_count": null,
   "metadata": {},
   "outputs": [],
   "source": []
  }
 ],
 "metadata": {
  "kernelspec": {
   "display_name": "Python 3",
   "language": "python",
   "name": "python3"
  },
  "language_info": {
   "codemirror_mode": {
    "name": "ipython",
    "version": 2
   },
   "file_extension": ".py",
   "mimetype": "text/x-python",
   "name": "python",
   "nbconvert_exporter": "python",
   "pygments_lexer": "ipython2",
   "version": "2.7.15rc1"
  }
 },
 "nbformat": 4,
 "nbformat_minor": 2
}
