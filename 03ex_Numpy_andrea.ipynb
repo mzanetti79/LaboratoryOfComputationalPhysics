{
 "cells": [
  {
   "cell_type": "markdown",
   "metadata": {},
   "source": [
    "### Numpy basics"
   ]
  },
  {
   "cell_type": "markdown",
   "metadata": {},
   "source": [
    "1\\. Find the row, column and overall means for the following matrix:\n",
    "\n",
    "```python\n",
    "m = np.arange(12).reshape((3,4))\n",
    "```"
   ]
  },
  {
   "cell_type": "code",
   "execution_count": 1,
   "metadata": {},
   "outputs": [
    {
     "name": "stdout",
     "output_type": "stream",
     "text": [
      "[[ 0  1  2  3]\n",
      " [ 4  5  6  7]\n",
      " [ 8  9 10 11]]\n",
      "[0. 0. 0. 0.]\n",
      "La media lungo le colonne è: [4. 5. 6. 7.] [4. 5. 6. 7.]\n",
      "La media lungo le righe è: [1.5 5.5 9.5] [1.5 5.5 9.5]\n",
      "La media su tutti gli elementi è: 5.5 5.5\n"
     ]
    }
   ],
   "source": [
    "#1\n",
    "import numpy as np\n",
    "\n",
    "m = np.arange(12).reshape((3,4))\n",
    "print(m)\n",
    "\n",
    "mcolumns = np.zeros(4)\n",
    "mrows = np.zeros(3)\n",
    "print(mcolumns)\n",
    "mean = 0.\n",
    "\n",
    "for i in range(3):\n",
    "    for j in range(4):\n",
    "        mcolumns[j] += m[i,j]\n",
    "        mrows[i] += m[i,j]\n",
    "        mean += m[i,j]\n",
    "#print(mcolumns/3,mrows/4,mean/(4*3))\n",
    "print(\"La media lungo le colonne è:\", m.mean(axis=0), mcolumns/3)\n",
    "print(\"La media lungo le righe è:\", m.mean(axis=1), mrows/4)\n",
    "print(\"La media su tutti gli elementi è:\", m.mean(), mean/(4*3))"
   ]
  },
  {
   "cell_type": "markdown",
   "metadata": {},
   "source": [
    "2\\. Find the outer product of the following two vecotrs\n",
    "\n",
    "```python\n",
    "u = np.array([1,3,5,7])\n",
    "v = np.array([2,4,6,8])\n",
    "```\n",
    "\n",
    "Do this in the following ways:\n",
    "\n",
    "   * Using the function outer in numpy\n",
    "   * Using a nested for loop or list comprehension\n",
    "   * Using numpy broadcasting operatoins\n"
   ]
  },
  {
   "cell_type": "code",
   "execution_count": 2,
   "metadata": {},
   "outputs": [
    {
     "name": "stdout",
     "output_type": "stream",
     "text": [
      "[[ 2  4  6  8]\n",
      " [ 6 12 18 24]\n",
      " [10 20 30 40]\n",
      " [14 28 42 56]]\n",
      "[[ 2.  4.  6.  8.]\n",
      " [ 6. 12. 18. 24.]\n",
      " [10. 20. 30. 40.]\n",
      " [14. 28. 42. 56.]]\n",
      "[[ 2  4  6  8]\n",
      " [ 6 12 18 24]\n",
      " [10 20 30 40]\n",
      " [14 28 42 56]]\n"
     ]
    }
   ],
   "source": [
    "#2\n",
    "u = np.array([1,3,5,7])\n",
    "v = np.array([2,4,6,8])\n",
    "\n",
    "#2.a\n",
    "print(np.outer(u,v))\n",
    "\n",
    "#2.b\n",
    "l = np.zeros((4,4))\n",
    "for i in range(len(u)):\n",
    "    for j in range(len(v)):\n",
    "        l[j,i] = u[j]*v[i]\n",
    "print(l)\n",
    "\n",
    "#2.c\n",
    "A = v*u.reshape(4,1)\n",
    "print(A)"
   ]
  },
  {
   "cell_type": "markdown",
   "metadata": {},
   "source": [
    "3\\. Create a 10 by 6 matrix of random uniform numbers. Set all rows with any entry less than 0.1 to be zero\n",
    "\n",
    "Hint: Use the following numpy functions - np.random.random, np.any as well as Boolean indexing and the axis argument."
   ]
  },
  {
   "cell_type": "code",
   "execution_count": 3,
   "metadata": {},
   "outputs": [
    {
     "name": "stdout",
     "output_type": "stream",
     "text": [
      "[[0.42170872 0.91112329 0.8050634  0.41753934 0.01221813 0.29049741]\n",
      " [0.48560741 0.86282963 0.02107422 0.35615905 0.23272441 0.65184514]\n",
      " [0.94353812 0.60173279 0.19377344 0.88940467 0.16564044 0.31142581]\n",
      " [0.20659817 0.18043479 0.81810608 0.88227876 0.24802947 0.18019832]\n",
      " [0.56915748 0.61494723 0.90793213 0.88000911 0.60232619 0.63006451]\n",
      " [0.26913716 0.78372763 0.50954497 0.1525559  0.7718165  0.39612942]\n",
      " [0.10249383 0.70321075 0.69370804 0.47083267 0.33685156 0.22614914]\n",
      " [0.03941187 0.63211544 0.91216015 0.66558269 0.280254   0.25794337]\n",
      " [0.47012615 0.18849851 0.02748516 0.17854179 0.6688643  0.91752731]\n",
      " [0.07664385 0.73026562 0.37478523 0.71621558 0.64105781 0.9557536 ]]\n",
      "[[False False False False  True False]\n",
      " [False False  True False False False]\n",
      " [False False False False False False]\n",
      " [False False False False False False]\n",
      " [False False False False False False]\n",
      " [False False False False False False]\n",
      " [False False False False False False]\n",
      " [ True False False False False False]\n",
      " [False False  True False False False]\n",
      " [ True False False False False False]]\n",
      "[False False False False  True False]\n",
      "[[0.         0.         0.         0.         0.         0.        ]\n",
      " [0.         0.         0.         0.         0.         0.        ]\n",
      " [0.94353812 0.60173279 0.19377344 0.88940467 0.16564044 0.31142581]\n",
      " [0.20659817 0.18043479 0.81810608 0.88227876 0.24802947 0.18019832]\n",
      " [0.56915748 0.61494723 0.90793213 0.88000911 0.60232619 0.63006451]\n",
      " [0.26913716 0.78372763 0.50954497 0.1525559  0.7718165  0.39612942]\n",
      " [0.10249383 0.70321075 0.69370804 0.47083267 0.33685156 0.22614914]\n",
      " [0.         0.         0.         0.         0.         0.        ]\n",
      " [0.         0.         0.         0.         0.         0.        ]\n",
      " [0.         0.         0.         0.         0.         0.        ]]\n"
     ]
    }
   ],
   "source": [
    "#3\n",
    "R = np.random.random(60)\n",
    "#print(R)\n",
    "R = R.reshape(10,6)\n",
    "print(R)\n",
    "mask = (R < 0.1)\n",
    "print(mask)\n",
    "print(mask[0,:])\n",
    "for i in range(10):\n",
    "    if np.any(mask[i,:]) == True:\n",
    "        R[i,:] = np.zeros(6)\n",
    "print(R)"
   ]
  },
  {
   "cell_type": "markdown",
   "metadata": {},
   "source": [
    "4\\. Use np.linspace to create an array of 100 numbers between 0 and 2π (includsive).\n",
    "\n",
    "  * Extract every 10th element using slice notation\n",
    "  * Reverse the array using slice notation\n",
    "  * Extract elements where the absolute difference between the sine and cosine functions evaluated at that element is less than 0.1\n",
    "  * Make a plot showing the sin and cos functions and indicate where they are close"
   ]
  },
  {
   "cell_type": "code",
   "execution_count": 4,
   "metadata": {},
   "outputs": [
    {
     "name": "stdout",
     "output_type": "stream",
     "text": [
      "[0.57119866 1.20586385 1.84052903 2.47519421 3.10985939 3.74452458\n",
      " 4.37918976 5.01385494 5.64852012 6.28318531]\n",
      "[6.28318531 6.21971879 6.15625227 6.09278575 6.02931923 5.96585272\n",
      " 5.9023862  5.83891968 5.77545316 5.71198664 5.64852012 5.58505361\n",
      " 5.52158709 5.45812057 5.39465405 5.33118753 5.26772102 5.2042545\n",
      " 5.14078798 5.07732146 5.01385494 4.95038842 4.88692191 4.82345539\n",
      " 4.75998887 4.69652235 4.63305583 4.56958931 4.5061228  4.44265628\n",
      " 4.37918976 4.31572324 4.25225672 4.1887902  4.12532369 4.06185717\n",
      " 3.99839065 3.93492413 3.87145761 3.8079911  3.74452458 3.68105806\n",
      " 3.61759154 3.55412502 3.4906585  3.42719199 3.36372547 3.30025895\n",
      " 3.23679243 3.17332591 3.10985939 3.04639288 2.98292636 2.91945984\n",
      " 2.85599332 2.7925268  2.72906028 2.66559377 2.60212725 2.53866073\n",
      " 2.47519421 2.41172769 2.34826118 2.28479466 2.22132814 2.15786162\n",
      " 2.0943951  2.03092858 1.96746207 1.90399555 1.84052903 1.77706251\n",
      " 1.71359599 1.65012947 1.58666296 1.52319644 1.45972992 1.3962634\n",
      " 1.33279688 1.26933037 1.20586385 1.14239733 1.07893081 1.01546429\n",
      " 0.95199777 0.88853126 0.82506474 0.76159822 0.6981317  0.63466518\n",
      " 0.57119866 0.50773215 0.44426563 0.38079911 0.31733259 0.25386607\n",
      " 0.19039955 0.12693304 0.06346652 0.        ]\n"
     ]
    },
    {
     "data": {
      "text/plain": [
       "[<matplotlib.lines.Line2D at 0x7ff1a741fb70>]"
      ]
     },
     "execution_count": 4,
     "metadata": {},
     "output_type": "execute_result"
    },
    {
     "data": {
      "image/png": "[encoded data removed]",
      "text/plain": [
       "<Figure size 432x288 with 1 Axes>"
      ]
     },
     "metadata": {
      "needs_background": "light"
     },
     "output_type": "display_data"
    }
   ],
   "source": [
    "#4\n",
    "import matplotlib.pyplot as plt \n",
    "\n",
    "%matplotlib inline \n",
    "\n",
    "P = np.linspace(0,2*np.pi,100)\n",
    "i = [i for i in range(9,100,10)]\n",
    "reverse = [-j for j in range(1,101)]\n",
    "#print(i)\n",
    "#print(reverse)\n",
    "\n",
    "#extraction on 10th element\n",
    "print(P[i])\n",
    "\n",
    "#reverse\n",
    "#print(P[reverse])\n",
    "print(P[::-1])\n",
    "\n",
    "#absolute difference\n",
    "C = P[abs(np.sin(P)-np.cos(P)) < 0.1]\n",
    "\n",
    "#plot\n",
    "plt.plot(P, np.sin(P))\n",
    "plt.plot(P, np.cos(P))\n",
    "plt.plot(C, np.sin(C), 'bo')\n",
    "plt.plot(C, np.cos(C), 'ro')"
   ]
  },
  {
   "cell_type": "markdown",
   "metadata": {},
   "source": [
    "5\\. Create a matrix that shows the 10 by 10 multiplication table.\n",
    "\n",
    " * Find the trace of the matrix\n",
    " * Extract the anto-diagonal (this should be ```array([10, 18, 24, 28, 30, 30, 28, 24, 18, 10])```)\n",
    " * Extract the diagnoal offset by 1 upwards (this should be ```array([ 2,  6, 12, 20, 30, 42, 56, 72, 90])```)"
   ]
  },
  {
   "cell_type": "code",
   "execution_count": 5,
   "metadata": {},
   "outputs": [
    {
     "name": "stdout",
     "output_type": "stream",
     "text": [
      "[[  1.   2.   3.   4.   5.   6.   7.   8.   9.  10.]\n",
      " [  2.   4.   6.   8.  10.  12.  14.  16.  18.  20.]\n",
      " [  3.   6.   9.  12.  15.  18.  21.  24.  27.  30.]\n",
      " [  4.   8.  12.  16.  20.  24.  28.  32.  36.  40.]\n",
      " [  5.  10.  15.  20.  25.  30.  35.  40.  45.  50.]\n",
      " [  6.  12.  18.  24.  30.  36.  42.  48.  54.  60.]\n",
      " [  7.  14.  21.  28.  35.  42.  49.  56.  63.  70.]\n",
      " [  8.  16.  24.  32.  40.  48.  56.  64.  72.  80.]\n",
      " [  9.  18.  27.  36.  45.  54.  63.  72.  81.  90.]\n",
      " [ 10.  20.  30.  40.  50.  60.  70.  80.  90. 100.]]\n",
      "385.0\n",
      "385.0\n",
      "[10. 18. 24. 28. 30. 30. 28. 24. 18. 10.]\n",
      "[ 2.  6. 12. 20. 30. 42. 56. 72. 90.]\n"
     ]
    }
   ],
   "source": [
    "#5\n",
    "M = np.zeros((10,10))\n",
    "for i in range(0,10):\n",
    "    for j in range(0,10):\n",
    "        M[i,j] = (j+1)*(i+1)\n",
    "print(M)\n",
    "\n",
    "#trace\n",
    "d = np.diag(M)\n",
    "print(d.sum())\n",
    "print(M.trace())\n",
    "\n",
    "#anti-diagonal\n",
    "\n",
    "#MT = np.zeros((10,10))\n",
    "\n",
    "#for i in range(-10,0):\n",
    "    #for j in range(0,10):\n",
    "        #MT[i,j] = (j+1)*abs(i)\n",
    "#print(MT)\n",
    "#antid = np.diag(MT)\n",
    "#print(antid)\n",
    "B = M[::-1]\n",
    "print(np.diag(B))\n",
    "\n",
    "#offset diagonal\n",
    "print(np.diag(M,1))"
   ]
  },
  {
   "cell_type": "markdown",
   "metadata": {},
   "source": [
    "6\\. Use broadcasting to create a grid of distances\n",
    "\n",
    "Route 66 crosses the following cities in the US: Chicago, Springfield, Saint-Louis, Tulsa, Oklahoma City, Amarillo, Santa Fe, Albuquerque, Flagstaff, Los Angeles\n",
    "The corresponding positions in miles are: 0, 198, 303, 736, 871, 1175, 1475, 1544, 1913, 2448\n",
    "\n",
    "  * Construct a 2D grid of distances among each city along Route 66\n",
    "  * Convert that in km (those savages...)"
   ]
  },
  {
   "cell_type": "code",
   "execution_count": 6,
   "metadata": {},
   "outputs": [
    {
     "name": "stdout",
     "output_type": "stream",
     "text": [
      "[[    0   198   303   736   871  1175  1475  1544  1913  2448]\n",
      " [ -198     0   105   538   673   977  1277  1346  1715  2250]\n",
      " [ -303  -105     0   433   568   872  1172  1241  1610  2145]\n",
      " [ -736  -538  -433     0   135   439   739   808  1177  1712]\n",
      " [ -871  -673  -568  -135     0   304   604   673  1042  1577]\n",
      " [-1175  -977  -872  -439  -304     0   300   369   738  1273]\n",
      " [-1475 -1277 -1172  -739  -604  -300     0    69   438   973]\n",
      " [-1544 -1346 -1241  -808  -673  -369   -69     0   369   904]\n",
      " [-1913 -1715 -1610 -1177 -1042  -738  -438  -369     0   535]\n",
      " [-2448 -2250 -2145 -1712 -1577 -1273  -973  -904  -535     0]]\n",
      "[[    0.     318.78   487.83  1184.96  1402.31  1891.75  2374.75  2485.84\n",
      "   3079.93  3941.28]\n",
      " [ -318.78     0.     169.05   866.18  1083.53  1572.97  2055.97  2167.06\n",
      "   2761.15  3622.5 ]\n",
      " [ -487.83  -169.05     0.     697.13   914.48  1403.92  1886.92  1998.01\n",
      "   2592.1   3453.45]\n",
      " [-1184.96  -866.18  -697.13     0.     217.35   706.79  1189.79  1300.88\n",
      "   1894.97  2756.32]\n",
      " [-1402.31 -1083.53  -914.48  -217.35     0.     489.44   972.44  1083.53\n",
      "   1677.62  2538.97]\n",
      " [-1891.75 -1572.97 -1403.92  -706.79  -489.44     0.     483.     594.09\n",
      "   1188.18  2049.53]\n",
      " [-2374.75 -2055.97 -1886.92 -1189.79  -972.44  -483.       0.     111.09\n",
      "    705.18  1566.53]\n",
      " [-2485.84 -2167.06 -1998.01 -1300.88 -1083.53  -594.09  -111.09     0.\n",
      "    594.09  1455.44]\n",
      " [-3079.93 -2761.15 -2592.1  -1894.97 -1677.62 -1188.18  -705.18  -594.09\n",
      "      0.     861.35]\n",
      " [-3941.28 -3622.5  -3453.45 -2756.32 -2538.97 -2049.53 -1566.53 -1455.44\n",
      "   -861.35     0.  ]]\n"
     ]
    }
   ],
   "source": [
    "#6\n",
    "D1 = np.array([0,198,303,736,871,1175,1475,1544,1913,2448])\n",
    "D2 = D1.reshape(10,1)\n",
    "Dmiles = D1-D2\n",
    "Dkm = Dmiles*1.61\n",
    "print(Dmiles)\n",
    "print(Dkm)"
   ]
  },
  {
   "cell_type": "code",
   "execution_count": null,
   "metadata": {},
   "outputs": [
    {
     "name": "stdout",
     "output_type": "stream",
     "text": [
      "[ 2  3  5  7 11 13 17 19 23 29 31 37 41 43 47 53 59 61 67 71 73 79 83 89\n",
      " 97]\n",
      "15.2 ms ± 4.86 ms per loop (mean ± std. dev. of 7 runs, 10 loops each)\n",
      "22.1 ms ± 1.46 ms per loop (mean ± std. dev. of 7 runs, 10 loops each)\n",
      "34.2 ms ± 161 µs per loop (mean ± std. dev. of 7 runs, 10 loops each)\n",
      "52 ms ± 1.03 ms per loop (mean ± std. dev. of 7 runs, 10 loops each)\n"
     ]
    }
   ],
   "source": [
    "#7\n",
    "\n",
    "N = 100\n",
    "def Nprimes(M):\n",
    "    primes = np.arange(2,M+1)\n",
    "    i = 2\n",
    "    remain = np.arange(2,M+1)\n",
    "    atemp = np.array([i])\n",
    "    while (i<int((M+1)/2)):\n",
    "        if len(np.intersect1d(primes,atemp)) != 0:\n",
    "            themask = np.array(primes%i != 0)\n",
    "            primes = primes[themask]\n",
    "            remain[remain%i == 0] = M+1\n",
    "            primes = np.union1d(atemp,primes)\n",
    "        i = remain.min()\n",
    "        atemp[0] = i\n",
    "    return(primes)\n",
    "\n",
    "print(Nprimes(N))\n",
    "for i in range(1,10):\n",
    "    %timeit Nprimes(N*10*i)\n",
    "#scala linearmente con N \n",
    "\n"
   ]
  },
  {
   "cell_type": "markdown",
   "metadata": {},
   "source": [
    "7\\. Prime numbers sieve: compute the prime numbers in the 0-N (N=99 to start with) range with a sieve (mask).\n",
    "  * Constract a shape (100,) boolean array, the mask\n",
    "  * Identify the multiples of each number starting from 2 and set accordingly the corresponding mask element\n",
    "  * Apply the mask to obtain an array of ordered prime numbers\n",
    "  * Check the performances (timeit); how does it scale with N?\n",
    "  * Implement the optimization suggested in the [sieve of Eratosthenes](https://en.wikipedia.org/wiki/Sieve_of_Eratosthenes)"
   ]
  },
  {
   "cell_type": "markdown",
   "metadata": {},
   "source": [
    "##### 8\\. Diffusion using random walk\n",
    "\n",
    "Consider a simple random walk process: at each step in time, a walker jumps right or left (+1 or -1) with equal probability. The goal is to find the typical distance from the origin of a random walker after a given amount of time. \n",
    "To do that, let's simulate many walkers and create a 2D array with each walker as a row and the actual time evolution as columns\n",
    "\n",
    "  * Take 1000 walkers and let them walk for 200 steps\n",
    "  * Use randint to create a 2D array of size walkers x steps with values -1 or 1\n",
    "  * Build the actual walking distances for each walker (i.e. another 2D array \"summing on each raw\")\n",
    "  * Take the square of that 2D array (elementwise)\n",
    "  * Compute the mean of the squared distances at each step (i.e. the mean along the columns)\n",
    "  * Plot the average distances (sqrt(distance\\*\\*2)) as a function of time (step)\n",
    "  \n",
    "Did you get what you expected?"
   ]
  },
  {
   "cell_type": "code",
   "execution_count": 8,
   "metadata": {},
   "outputs": [
    {
     "data": {
      "text/plain": [
       "[<matplotlib.lines.Line2D at 0x7ff1a6ec8c50>]"
      ]
     },
     "execution_count": 8,
     "metadata": {},
     "output_type": "execute_result"
    },
    {
     "data": {
      "image/png": "[encoded data removed]",
      "text/plain": [
       "<Figure size 432x288 with 1 Axes>"
      ]
     },
     "metadata": {
      "needs_background": "light"
     },
     "output_type": "display_data"
    }
   ],
   "source": [
    "#8\n",
    "import random as rand\n",
    "\n",
    "#walkers array\n",
    "N = 200\n",
    "M = 1000\n",
    "\n",
    "walkers = np.zeros((M,N))\n",
    "distances = np.zeros((M,N))\n",
    "for i in range(M):\n",
    "    for j in range(N):\n",
    "        r = rand.randint(0,1)\n",
    "        if r == 0:\n",
    "            walkers[i,j] = -1\n",
    "        else:\n",
    "            walkers[i,j] = +1\n",
    "        if j == 0:\n",
    "            distances[i,0] = walkers[i,0]\n",
    "        else:\n",
    "            distances[i,j] += walkers[i,j] + distances[i,j-1]\n",
    "            \n",
    "#print(distances)\n",
    "sqdist = distances**2\n",
    "#print(sqdist)\n",
    "\n",
    "meandistance = np.zeros((1,N))\n",
    "for j in range(N):\n",
    "    meandistance[:,j] = sqdist[:,j].mean()\n",
    "#print(meandistance)\n",
    "\n",
    "%matplotlib inline \n",
    "t = np.arange(0,N)\n",
    "avgdist = np.sqrt(meandistance)\n",
    "#print(t)\n",
    "#print(avgdist)\n",
    "plt.plot(t, avgdist.T[t])"
   ]
  },
  {
   "cell_type": "markdown",
   "metadata": {},
   "source": [
    "9\\. Analyze a data file \n",
    "  * Download the population of hares, lynxes and carrots at the beginning of the last century.\n",
    "    ```python\n",
    "    ! wget https://www.dropbox.com/s/3vigxoqayo389uc/populations.txt\n",
    "    ```\n",
    "\n",
    "  * Check the content by looking within the file\n",
    "  * Load the data (use an appropriate numpy method) into a 2D array\n",
    "  * Create arrays out of the columns, the arrays being (in order): *year*, *hares*, *lynxes*, *carrots* \n",
    "  * Plot the 3 populations over the years\n",
    "  * Compute the main statistical properties of the dataset (mean, std, correlations, etc.)\n",
    "  * Which species has the highest population each year?\n",
    "\n",
    "Do you feel there is some evident correlation here? [Studies](https://www.enr.gov.nt.ca/en/services/lynx/lynx-snowshoe-hare-cycle) tend to believe so."
   ]
  },
  {
   "cell_type": "code",
   "execution_count": 9,
   "metadata": {},
   "outputs": [
    {
     "name": "stdout",
     "output_type": "stream",
     "text": [
      "--2018-11-15 09:23:57--  https://www.dropbox.com/s/3vigxoqayo389uc/populations.txt\n",
      "Resolving www.dropbox.com (www.dropbox.com)... 162.125.69.1, 2620:100:6025:1::a27d:4501\n",
      "Connecting to www.dropbox.com (www.dropbox.com)|162.125.69.1|:443... connected.\n",
      "HTTP request sent, awaiting response... 301 Moved Permanently\n",
      "Location: /s/raw/3vigxoqayo389uc/populations.txt [following]\n",
      "--2018-11-15 09:23:57--  https://www.dropbox.com/s/raw/3vigxoqayo389uc/populations.txt\n",
      "Reusing existing connection to www.dropbox.com:443.\n",
      "HTTP request sent, awaiting response... 302 Found\n",
      "Location: https://uc3d1b3890ced912dfc41a3792f8.dl.dropboxusercontent.com/cd/0/inline/AVrOImCAdQbDj7JlsBD5DAVO1pnmhItd8TsqzQeoFx8ztp9Uusq2aLz_V79o_Gia0qsW5CrnoPzdsKeoWBUVcnPKIgn3f_ZXepgm8ZPNbNFAdH-ORFreOWM5Uk_rn0z8D_96tyPuzFf087sx-qPkbguopQ_FsINUWIO7Chw7UMHWh-kbHEKZBh-Fju-CamaQDVM/file [following]\n",
      "--2018-11-15 09:23:57--  https://uc3d1b3890ced912dfc41a3792f8.dl.dropboxusercontent.com/cd/0/inline/AVrOImCAdQbDj7JlsBD5DAVO1pnmhItd8TsqzQeoFx8ztp9Uusq2aLz_V79o_Gia0qsW5CrnoPzdsKeoWBUVcnPKIgn3f_ZXepgm8ZPNbNFAdH-ORFreOWM5Uk_rn0z8D_96tyPuzFf087sx-qPkbguopQ_FsINUWIO7Chw7UMHWh-kbHEKZBh-Fju-CamaQDVM/file\n",
      "Resolving uc3d1b3890ced912dfc41a3792f8.dl.dropboxusercontent.com (uc3d1b3890ced912dfc41a3792f8.dl.dropboxusercontent.com)... 162.125.69.6, 2620:100:6025:6::a27d:4506\n",
      "Connecting to uc3d1b3890ced912dfc41a3792f8.dl.dropboxusercontent.com (uc3d1b3890ced912dfc41a3792f8.dl.dropboxusercontent.com)|162.125.69.6|:443... connected.\n",
      "HTTP request sent, awaiting response... 200 OK\n",
      "Length: 525 [text/plain]\n",
      "Saving to: ‘populations.txt.2’\n",
      "\n",
      "populations.txt.2   100%[===================>]     525  --.-KB/s    in 0s      \n",
      "\n",
      "2018-11-15 09:23:58 (70,6 MB/s) - ‘populations.txt.2’ saved [525/525]\n",
      "\n"
     ]
    }
   ],
   "source": [
    "! wget https://www.dropbox.com/s/3vigxoqayo389uc/populations.txt\n"
   ]
  },
  {
   "cell_type": "code",
   "execution_count": 10,
   "metadata": {},
   "outputs": [
    {
     "name": "stdout",
     "output_type": "stream",
     "text": [
      "Average number of hares, median and standard deviation: 34080.95238095238 25400.0 20897.906458089667\n",
      "Average number of linxes, median and standard deviation: 20166.666666666668 12300.0 16254.591536908763\n",
      "Average number of carrots, median and standard deviation: 42400.0 41800.0 3322.5062255844787\n",
      "1900 carrots\n",
      "1901 carrots\n",
      "1902 hares\n",
      "1903 hares\n",
      "1904 linxes\n",
      "1905 linxes\n",
      "1906 carrots\n",
      "1907 carrots\n",
      "1908 carrots\n",
      "1909 carrots\n",
      "1910 carrots\n",
      "1911 carrots\n",
      "1912 hares\n",
      "1913 hares\n",
      "1914 hares\n",
      "1915 linxes\n",
      "1916 carrots\n",
      "1917 carrots\n",
      "1918 carrots\n",
      "1919 carrots\n"
     ]
    },
    {
     "data": {
      "image/png": "[encoded data removed]",
      "text/plain": [
       "<Figure size 432x288 with 1 Axes>"
      ]
     },
     "metadata": {
      "needs_background": "light"
     },
     "output_type": "display_data"
    }
   ],
   "source": [
    "#9 YEARS DA RIVEDERE\n",
    "data=np.genfromtxt(\"populations.txt\", skip_header = 1)\n",
    "#print(data)\n",
    "year = data[:,0]\n",
    "hares = data[:,1]\n",
    "linxes = data[:,2]\n",
    "carrots = data[:,3]\n",
    "\n",
    "\n",
    "#plot\n",
    "%matplotlib inline \n",
    "t = np.arange(int(year[0]),int(year[len(year)-1]))\n",
    "i = [x for x in range(len(t))]\n",
    "\n",
    "plt.plot(t, hares[i], \"r\")\n",
    "plt.plot(t, linxes[i], \"b\")\n",
    "plt.plot(t, carrots[i], \"g\")\n",
    "\n",
    "#statistical properties\n",
    "print(\"Average number of hares, median and standard deviation:\",hares.mean(),np.median(hares),hares.std())\n",
    "print(\"Average number of linxes, median and standard deviation:\",linxes.mean(),np.median(linxes),linxes.std())\n",
    "print(\"Average number of carrots, median and standard deviation:\",carrots.mean(),np.median(carrots),carrots.std())\n",
    "\n",
    "#max population\n",
    "labels = [\"year\",\"hares\",\"linxes\",\"carrots\"]\n",
    "for i in range(len(t)):\n",
    "    print(t[i], labels[np.argmax(data[i,])])\n"
   ]
  },
  {
   "cell_type": "code",
   "execution_count": null,
   "metadata": {},
   "outputs": [],
   "source": []
  }
 ],
 "metadata": {
  "kernelspec": {
   "display_name": "Python 3",
   "language": "python",
   "name": "python3"
  },
  "language_info": {
   "codemirror_mode": {
    "name": "ipython",
    "version": 3
   },
   "file_extension": ".py",
   "mimetype": "text/x-python",
   "name": "python",
   "nbconvert_exporter": "python",
   "pygments_lexer": "ipython3",
   "version": "3.6.6"
  }
 },
 "nbformat": 4,
 "nbformat_minor": 2
}
