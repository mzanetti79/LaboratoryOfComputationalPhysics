{
 "cells": [
  {
   "cell_type": "markdown",
   "metadata": {},
   "source": [
    "1. The MickeyMouse problem\n",
    "\n",
    "a) Write a program that prints the numbers from 1 to 100. But for multiples of three print Mickey instead of the number and for the multiples of five print Mouse. For numbers which are multiples of both three and five print MickeyMouse\n",
    "\n",
    "b) Put the result in a tuple and substitute Mickey with Donald and Mouse with Duck"
   ]
  },
  {
   "cell_type": "code",
   "execution_count": 1,
   "metadata": {},
   "outputs": [
    {
     "name": "stdout",
     "output_type": "stream",
     "text": [
      "1\n",
      "2\n",
      "Mickey\n",
      "4\n",
      "Mouse\n",
      "Mickey\n",
      "7\n",
      "8\n",
      "Mickey\n",
      "Mouse\n",
      "11\n",
      "Mickey\n",
      "13\n",
      "14\n",
      "Mickey Mouse\n",
      "16\n",
      "17\n",
      "Mickey\n",
      "19\n",
      "Mouse\n",
      "Mickey\n",
      "22\n",
      "23\n",
      "Mickey\n",
      "Mouse\n",
      "26\n",
      "Mickey\n",
      "28\n",
      "29\n",
      "Mickey Mouse\n",
      "31\n",
      "32\n",
      "Mickey\n",
      "34\n",
      "Mouse\n",
      "Mickey\n",
      "37\n",
      "38\n",
      "Mickey\n",
      "Mouse\n",
      "41\n",
      "Mickey\n",
      "43\n",
      "44\n",
      "Mickey Mouse\n",
      "46\n",
      "47\n",
      "Mickey\n",
      "49\n",
      "Mouse\n",
      "Mickey\n",
      "52\n",
      "53\n",
      "Mickey\n",
      "Mouse\n",
      "56\n",
      "Mickey\n",
      "58\n",
      "59\n",
      "Mickey Mouse\n",
      "61\n",
      "62\n",
      "Mickey\n",
      "64\n",
      "Mouse\n",
      "Mickey\n",
      "67\n",
      "68\n",
      "Mickey\n",
      "Mouse\n",
      "71\n",
      "Mickey\n",
      "73\n",
      "74\n",
      "Mickey Mouse\n",
      "76\n",
      "77\n",
      "Mickey\n",
      "79\n",
      "Mouse\n",
      "Mickey\n",
      "82\n",
      "83\n",
      "Mickey\n",
      "Mouse\n",
      "86\n",
      "Mickey\n",
      "88\n",
      "89\n",
      "Mickey Mouse\n",
      "91\n",
      "92\n",
      "Mickey\n",
      "94\n",
      "Mouse\n",
      "Mickey\n",
      "97\n",
      "98\n",
      "Mickey\n",
      "Mouse\n",
      "[1, 2, 'Donald', 4, 'Duck', 'Donald', 7, 8, 'Donald', 'Duck', 11, 'Donald', 13, 14, 'Donald Duck', 16, 17, 'Donald', 19, 'Duck', 'Donald', 22, 23, 'Donald', 'Duck', 26, 'Donald', 28, 29, 'Donald Duck', 31, 32, 'Donald', 34, 'Duck', 'Donald', 37, 38, 'Donald', 'Duck', 41, 'Donald', 43, 44, 'Donald Duck', 46, 47, 'Donald', 49, 'Duck', 'Donald', 52, 53, 'Donald', 'Duck', 56, 'Donald', 58, 59, 'Donald Duck', 61, 62, 'Donald', 64, 'Duck', 'Donald', 67, 68, 'Donald', 'Duck', 71, 'Donald', 73, 74, 'Donald Duck', 76, 77, 'Donald', 79, 'Duck', 'Donald', 82, 83, 'Donald', 'Duck', 86, 'Donald', 88, 89, 'Donald Duck', 91, 92, 'Donald', 94, 'Duck', 'Donald', 97, 98, 'Donald', 'Duck']\n"
     ]
    }
   ],
   "source": [
    "tuple=[]\n",
    "i=1\n",
    "while i<=100:\n",
    "    if i%3==0 and i%5==0:\n",
    "        print('Mickey Mouse')\n",
    "        tuple.append('Donald Duck')\n",
    "    elif i%3==0:\n",
    "        print('Mickey')\n",
    "        tuple.append('Donald')\n",
    "    elif i%5==0:\n",
    "        print('Mouse')\n",
    "        tuple.append('Duck')\n",
    "    else:\n",
    "        print(i)\n",
    "        tuple.append(i)\n",
    "    i+=1\n",
    "    \n",
    "print(tuple)"
   ]
  },
  {
   "cell_type": "markdown",
   "metadata": {},
   "source": [
    "2\\. The swap function\n",
    "\n",
    "Write a function that swap the values of two input variables x and y (whatever the type). Try to do that also without a temporary variable"
   ]
  },
  {
   "cell_type": "code",
   "execution_count": 2,
   "metadata": {},
   "outputs": [
    {
     "name": "stdout",
     "output_type": "stream",
     "text": [
      "Value of x: 1\n",
      "Value of y: 4\n",
      "SWAP!\n",
      "['4', '1']\n"
     ]
    }
   ],
   "source": [
    "def swap(x,y):\n",
    "    print('SWAP!')\n",
    "    tup=[x, y]\n",
    "    tup.reverse()\n",
    "    return tup\n",
    "\n",
    "x=input('Value of x: ')\n",
    "y=input('Value of y: ')\n",
    "\n",
    "print(swap(x,y))"
   ]
  },
  {
   "cell_type": "markdown",
   "metadata": {},
   "source": [
    "3\\. Computing the distance\n",
    "\n",
    "Write a function that calculates and returns the euclidean distance between two points *u* and *v*, where *u* and *v* are both 2-tuples *(x,y)*. For example, if *u=(3,0)* and *v=(0,4)*, the function should return 5"
   ]
  },
  {
   "cell_type": "code",
   "execution_count": 3,
   "metadata": {},
   "outputs": [
    {
     "name": "stdout",
     "output_type": "stream",
     "text": [
      "The euclidean distance is: 5.000000\n"
     ]
    }
   ],
   "source": [
    "u=[3,0]\n",
    "v=[0,4]\n",
    "def euclid(u,v):\n",
    "    return ((u[0]+v[0])**2 + (u[1]+v[1])**2)**(0.5)\n",
    "    \n",
    "print('The euclidean distance is: %2f'% (euclid(u,v)))"
   ]
  },
  {
   "cell_type": "markdown",
   "metadata": {},
   "source": [
    "4\\. Counting letters\n",
    "\n",
    "Write a program to calculate the number of times each character occurs in a given string *s*. Ignore differneces in capitalization"
   ]
  },
  {
   "cell_type": "code",
   "execution_count": 4,
   "metadata": {},
   "outputs": [
    {
     "name": "stdout",
     "output_type": "stream",
     "text": [
      "{'a': 7, 'b': 5, 'c': 3, 'd': 3, 'e': 22, 'f': 10, 'g': 1, 'h': 9, 'i': 14, 'j': 0, 'k': 2, 'l': 6, 'm': 12, 'n': 10, 'o': 13, 'p': 8, 'q': 0, 'r': 17, 's': 9, 't': 19, 'u': 9, 'v': 2, 'w': 2, 'x': 0, 'y': 2, 'z': 0, '.': 2, ',': 0, ':': 0, ';': 0, ' ': 41}\n"
     ]
    }
   ],
   "source": [
    "s=\"Write a program that prints the numbers from 1 to 100. \\\n",
    "But for multiples of three print Mickey instead of the number and for the multiples of five print Mouse. \\\n",
    "For numbers which are multiples of both three and five print MickeyMouse\"\n",
    "\n",
    "s=s.lower()\n",
    "x={'a':s.count('a'), 'b':s.count('b'), 'c':s.count('c'), 'd':s.count('d'), 'e':s.count('e'), 'f':s.count('f'), \\\n",
    "  'g':s.count('g'), 'h':s.count('h'), 'i':s.count('i'), 'j':s.count('j'), 'k':s.count('k'), 'l':s.count('l'), \\\n",
    "  'm':s.count('m'), 'n':s.count('n'), 'o':s.count('o'), 'p':s.count('p'), 'q':s.count('q'), 'r':s.count('r'), \\\n",
    "  's':s.count('s'), 't':s.count('t'), 'u':s.count('u'), 'v':s.count('v'), 'w':s.count('w'), 'x':s.count('x'), \\\n",
    "  'y':s.count('y'), 'z':s.count('z'), '.':s.count('.'), ',':s.count(','), ':':s.count(':'), ';':s.count(';'), \\\n",
    "  ' ':s.count(' '),}\n",
    "print(x)"
   ]
  },
  {
   "cell_type": "markdown",
   "metadata": {},
   "source": [
    "5\\. Isolating the unique\n",
    "\n",
    "Write a function that determines and count the unique numbers in the list *l*"
   ]
  },
  {
   "cell_type": "code",
   "execution_count": 17,
   "metadata": {},
   "outputs": [
    {
     "name": "stdout",
     "output_type": "stream",
     "text": [
      "58 is unique in the list\n",
      "74 is unique in the list\n",
      "96 is unique in the list\n",
      "64 is unique in the list\n",
      "10 is unique in the list\n",
      "24 is unique in the list\n",
      "19 is unique in the list\n",
      "33 is unique in the list\n",
      "86 is unique in the list\n",
      "99 is unique in the list\n",
      "18 is unique in the list\n",
      "47 is unique in the list\n",
      "88 is unique in the list\n",
      "55 is unique in the list\n",
      "54 is unique in the list\n",
      "8 is unique in the list\n",
      "79 is unique in the list\n",
      "81 is unique in the list\n",
      "57 is unique in the list\n",
      "37 is unique in the list\n",
      "1 is unique in the list\n",
      "9 is unique in the list\n",
      "95 is unique in the list\n",
      "90 is unique in the list\n",
      "98 is unique in the list\n",
      "39 is unique in the list\n",
      "16 is unique in the list\n",
      "82 is unique in the list\n",
      "92 is unique in the list\n",
      "41 is unique in the list\n",
      "30 is unique in the list\n",
      "94 is unique in the list\n",
      "5 is unique in the list\n",
      "72 is unique in the list\n",
      "87 is unique in the list\n",
      "75 is unique in the list\n",
      "53 is unique in the list\n",
      "Total number of unique elements in the list: 37\n"
     ]
    }
   ],
   "source": [
    "l = [36, 45, 58, 3, 74, 96, 64, 45, 31, 10, 24, 19, 33, 86, 99, 18, 63, 70, 85,\n",
    " 85, 63, 47, 56, 42, 70, 84, 88, 55, 20, 54, 8, 56, 51, 79, 81, 57, 37, 91,\n",
    " 1, 84, 84, 36, 66, 9, 89, 50, 42, 91, 50, 95, 90, 98, 39, 16, 82, 31, 92, 41,\n",
    " 45, 30, 66, 70, 34, 85, 94, 5, 3, 36, 72, 91, 84, 34, 87, 75, 53, 51, 20, 89, 51, 20]\n",
    "\n",
    "def count(l):\n",
    "    cnt=0\n",
    "    i=0\n",
    "    while i<=len(l)-1:\n",
    "        a=l[i]\n",
    "        j=0\n",
    "        while j<=len(l)-1:\n",
    "            if j==i:\n",
    "                j+=1\n",
    "            elif a==l[j]:\n",
    "                break\n",
    "            else:\n",
    "                if j==len(l)-1:\n",
    "                    print(a,'is unique in the list')\n",
    "                    cnt+=1\n",
    "            j+=1\n",
    "        i+=1\n",
    "    return cnt\n",
    "\n",
    "print('Total number of unique elements in the list:', count(l))"
   ]
  },
  {
   "cell_type": "markdown",
   "metadata": {},
   "source": [
    "6\\. Combination of functions\n",
    "\n",
    "Write two functions - one that returns the square of a number, and one that returns the cube. Now write a third function that returns the number raised to the 6th power using the two previous functions."
   ]
  },
  {
   "cell_type": "code",
   "execution_count": 6,
   "metadata": {},
   "outputs": [
    {
     "name": "stdout",
     "output_type": "stream",
     "text": [
      "64\n"
     ]
    }
   ],
   "source": [
    "def square(number):\n",
    "    square=number*number\n",
    "    return square\n",
    "\n",
    "def powthree(number):\n",
    "    powthree=number*number*number\n",
    "    return powthree\n",
    "\n",
    "def powsix(number):\n",
    "    powsix= square(powthree(number))\n",
    "    return powsix\n",
    "\n",
    "print(powsix(2))"
   ]
  },
  {
   "cell_type": "markdown",
   "metadata": {},
   "source": [
    "7\\. Cubes\n",
    "\n",
    "Create a list of the cubes of x for x in *[0, 10]* using:\n",
    "\n",
    "a) a for loop\n",
    "\n",
    "b) a list comprehension"
   ]
  },
  {
   "cell_type": "code",
   "execution_count": 7,
   "metadata": {},
   "outputs": [
    {
     "name": "stdout",
     "output_type": "stream",
     "text": [
      "[0, 1, 8, 27, 64, 125, 216, 343, 512, 729, 1000]\n",
      "[0, 1, 8, 27, 64, 125, 216, 343, 512, 729, 1000]\n"
     ]
    }
   ],
   "source": [
    "#a) for loop\n",
    "lst=[]\n",
    "for i in range(0,11):\n",
    "    lst.append(i**3)\n",
    "print(lst)\n",
    "\n",
    "#b) list comprehension\n",
    "lst_c=[x**3 for x in range(0,11)]\n",
    "\n",
    "print(lst_c)"
   ]
  },
  {
   "cell_type": "markdown",
   "metadata": {},
   "source": [
    "8\\. Nested list comprehension\n",
    "\n",
    "A Pythagorean triple is an integer solution to the Pythagorean theorem $a^2+b^2=c^2$. The first Pythagorean triple is (3,4,5). Find and put in a tuple all unique Pythagorean triples for the positive integers a, b and c less than 100."
   ]
  },
  {
   "cell_type": "code",
   "execution_count": 8,
   "metadata": {},
   "outputs": [
    {
     "name": "stdout",
     "output_type": "stream",
     "text": [
      "[[3, 4, 5], [5, 12, 13], [6, 8, 10], [7, 24, 25], [8, 6, 10], [8, 15, 17], [9, 12, 15], [9, 40, 41], [10, 24, 26], [11, 60, 61], [12, 5, 13], [12, 9, 15], [12, 16, 20], [12, 35, 37], [13, 84, 85], [14, 48, 50], [15, 8, 17], [15, 20, 25], [15, 36, 39], [16, 12, 20], [16, 30, 34], [16, 63, 65], [18, 24, 30], [18, 80, 82], [20, 15, 25], [20, 21, 29], [20, 48, 52], [20, 99, 101], [21, 20, 29], [21, 28, 35], [21, 72, 75], [24, 7, 25], [24, 10, 26], [24, 18, 30], [24, 32, 40], [24, 45, 51], [24, 70, 74], [25, 60, 65], [27, 36, 45], [28, 21, 35], [28, 45, 53], [28, 96, 100], [30, 16, 34], [30, 40, 50], [30, 72, 78], [32, 24, 40], [32, 60, 68], [33, 44, 55], [33, 56, 65], [35, 12, 37], [35, 84, 91], [36, 15, 39], [36, 27, 45], [36, 48, 60], [36, 77, 85], [39, 52, 65], [39, 80, 89], [40, 9, 41], [40, 30, 50], [40, 42, 58], [40, 75, 85], [40, 96, 104], [42, 40, 58], [42, 56, 70], [44, 33, 55], [45, 24, 51], [45, 28, 53], [45, 60, 75], [48, 14, 50], [48, 20, 52], [48, 36, 60], [48, 55, 73], [48, 64, 80], [48, 90, 102], [51, 68, 85], [52, 39, 65], [54, 72, 90], [55, 48, 73], [56, 33, 65], [56, 42, 70], [57, 76, 95], [60, 11, 61], [60, 25, 65], [60, 32, 68], [60, 45, 75], [60, 63, 87], [60, 80, 100], [63, 16, 65], [63, 60, 87], [63, 84, 105], [64, 48, 80], [65, 72, 97], [68, 51, 85], [70, 24, 74], [72, 21, 75], [72, 30, 78], [72, 54, 90], [72, 65, 97], [75, 40, 85], [76, 57, 95], [77, 36, 85], [80, 18, 82], [80, 39, 89], [80, 60, 100], [84, 13, 85], [84, 35, 91], [84, 63, 105], [90, 48, 102], [96, 28, 100], [96, 40, 104], [99, 20, 101]]\n"
     ]
    }
   ],
   "source": [
    "a,b,c=3,4,5\n",
    "tup=[[a,b,c]]\n",
    "for i in range(1,101):\n",
    "    a+=1\n",
    "    b=4\n",
    "    for j in range(1,101):\n",
    "        b+=1\n",
    "        c=5\n",
    "        for k in range(1,101):\n",
    "            c+=1\n",
    "            if a**2+b**2==c**2:\n",
    "                tup.append([a,b,c])\n",
    "            else:\n",
    "                continue\n",
    "\n",
    "print(tup)"
   ]
  },
  {
   "cell_type": "markdown",
   "metadata": {},
   "source": [
    "9\\. Normalization\n",
    "\n",
    "Write a function that takes a tuple of numbers and returns it with the entries normalized to one"
   ]
  },
  {
   "cell_type": "code",
   "execution_count": 13,
   "metadata": {},
   "outputs": [
    {
     "name": "stdout",
     "output_type": "stream",
     "text": [
      "[0.16666666666666666, 0.3333333333333333, 0.5]\n"
     ]
    }
   ],
   "source": [
    "def norm(tup):\n",
    "    #print(tup)\n",
    "    tot=sum(tup)\n",
    "    for i in tup:\n",
    "        tup[tup.index(i)]/=tot\n",
    "    return tup\n",
    "\n",
    "t=[1,2,3]\n",
    "\n",
    "print(norm(t))"
   ]
  }
 ],
 "metadata": {
  "kernelspec": {
   "display_name": "Python 3",
   "language": "python",
   "name": "python3"
  },
  "language_info": {
   "codemirror_mode": {
    "name": "ipython",
    "version": 3
   },
   "file_extension": ".py",
   "mimetype": "text/x-python",
   "name": "python",
   "nbconvert_exporter": "python",
   "pygments_lexer": "ipython3",
   "version": "3.7.1"
  }
 },
 "nbformat": 4,
 "nbformat_minor": 2
}
