{
 "cells": [
  {
   "cell_type": "markdown",
   "metadata": {},
   "source": [
    "1. The MickeyMouse problem\n",
    "\n",
    "a) Write a program that prints the numbers from 1 to 100. But for multiples of three print Mickey instead of the number and for the multiples of five print Mouse. For numbers which are multiples of both three and five print MickeyMouse\n",
    "\n",
    "b) Put the result in a tuple and substitute Mickey with Donald and Mouse with Duck"
   ]
  },
  {
   "cell_type": "code",
   "execution_count": 2,
   "metadata": {},
   "outputs": [
    {
     "name": "stdout",
     "output_type": "stream",
     "text": [
      "1 \n",
      "2 \n",
      "Mickey \n",
      "4 \n",
      "Mouse \n",
      "Mickey \n",
      "7 \n",
      "8 \n",
      "Mickey \n",
      "Mouse \n",
      "11 \n",
      "Mickey \n",
      "13 \n",
      "14 \n",
      "MickeyMouse \n",
      "16 \n",
      "17 \n",
      "Mickey \n",
      "19 \n",
      "Mouse \n",
      "Mickey \n",
      "22 \n",
      "23 \n",
      "Mickey \n",
      "Mouse \n",
      "26 \n",
      "Mickey \n",
      "28 \n",
      "29 \n",
      "MickeyMouse \n",
      "31 \n",
      "32 \n",
      "Mickey \n",
      "34 \n",
      "Mouse \n",
      "Mickey \n",
      "37 \n",
      "38 \n",
      "Mickey \n",
      "Mouse \n",
      "41 \n",
      "Mickey \n",
      "43 \n",
      "44 \n",
      "MickeyMouse \n",
      "46 \n",
      "47 \n",
      "Mickey \n",
      "49 \n",
      "Mouse \n",
      "Mickey \n",
      "52 \n",
      "53 \n",
      "Mickey \n",
      "Mouse \n",
      "56 \n",
      "Mickey \n",
      "58 \n",
      "59 \n",
      "MickeyMouse \n",
      "61 \n",
      "62 \n",
      "Mickey \n",
      "64 \n",
      "Mouse \n",
      "Mickey \n",
      "67 \n",
      "68 \n",
      "Mickey \n",
      "Mouse \n",
      "71 \n",
      "Mickey \n",
      "73 \n",
      "74 \n",
      "MickeyMouse \n",
      "76 \n",
      "77 \n",
      "Mickey \n",
      "79 \n",
      "Mouse \n",
      "Mickey \n",
      "82 \n",
      "83 \n",
      "Mickey \n",
      "Mouse \n",
      "86 \n",
      "Mickey \n",
      "88 \n",
      "89 \n",
      "MickeyMouse \n",
      "91 \n",
      "92 \n",
      "Mickey \n",
      "94 \n",
      "Mouse \n",
      "Mickey \n",
      "97 \n",
      "98 \n",
      "Mickey \n",
      "<class 'tuple'> ('1', '2', 'Donald', '4', 'Duck', 'Donald', '7', '8', 'Donald', 'Duck', '11', 'Donald', '13', '14', 'DonaldDuck', '16', '17', 'Donald', '19', 'Duck', 'Donald', '22', '23', 'Donald', 'Duck', '26', 'Donald', '28', '29', 'DonaldDuck', '31', '32', 'Donald', '34', 'Duck', 'Donald', '37', '38', 'Donald', 'Duck', '41', 'Donald', '43', '44', 'DonaldDuck', '46', '47', 'Donald', '49', 'Duck', 'Donald', '52', '53', 'Donald', 'Duck', '56', 'Donald', '58', '59', 'DonaldDuck', '61', '62', 'Donald', '64', 'Duck', 'Donald', '67', '68', 'Donald', 'Duck', '71', 'Donald', '73', '74', 'DonaldDuck', '76', '77', 'Donald', '79', 'Duck', 'Donald', '82', '83', 'Donald', 'Duck', '86', 'Donald', '88', '89', 'DonaldDuck', '91', '92', 'Donald', '94', 'Duck', 'Donald', '97', '98', 'Donald')\n"
     ]
    }
   ],
   "source": [
    "def mikey_mouse():\n",
    "    mylist=[]\n",
    "    for i in range(1,100):\n",
    "        toprint = \"\"\n",
    "        if i % 3 == 0:\n",
    "            toprint+=\"Mickey\"\n",
    "        if i % 5 == 0:\n",
    "            toprint+=\"Mouse\"\n",
    "        if i % 3 != 0 and i %5 != 0:\n",
    "            toprint = \"%.i\" %i\n",
    "        mylist.append(toprint)\n",
    "        print(toprint+\" \")\n",
    "    return mylist  \n",
    "\n",
    "mikeylist=mikey_mouse()\n",
    "donaldtuple=tuple([item.replace('Mickey','Donald').replace('Mouse','Duck') for item in mikeylist])\n",
    "print(type(donaldtuple), donaldtuple)"
   ]
  },
  {
   "cell_type": "markdown",
   "metadata": {},
   "source": [
    "2\\. The swap function\n",
    "\n",
    "Write a function that swap the values of two input variables x and y (whatever the type). Try to do that also without a temporary variable"
   ]
  },
  {
   "cell_type": "code",
   "execution_count": 26,
   "metadata": {},
   "outputs": [
    {
     "name": "stdout",
     "output_type": "stream",
     "text": [
      "['hey', 12] 3\n"
     ]
    }
   ],
   "source": [
    "# I'm not sure if I got the right task.. In principle this should work-\n",
    "\n",
    "def swap_easy(x,y):\n",
    "    return y,x\n",
    "\n",
    "x = 3\n",
    "y = [\"hey\", 12]\n",
    "x, y = swap_easy(x,y)\n",
    "print(x, y)"
   ]
  },
  {
   "cell_type": "markdown",
   "metadata": {},
   "source": [
    "3\\. Computing the distance\n",
    "\n",
    "Write a function that calculates and returns the euclidean distance between two points *u* and *v*, where *u* and *v* are both 2-tuples *(x,y)*. For example, if *u=(3,0)* and *v=(0,4)*, the function should return 5"
   ]
  },
  {
   "cell_type": "code",
   "execution_count": 17,
   "metadata": {},
   "outputs": [
    {
     "name": "stdout",
     "output_type": "stream",
     "text": [
      "5.0\n"
     ]
    }
   ],
   "source": [
    "def dist(a,b):\n",
    "    if type(a) is tuple and type(b) is tuple:\n",
    "        dx = b[0]-a[0]\n",
    "        dy = b[1]-a[1]\n",
    "        dist=(dx**2+dy**2)**0.5          \n",
    "    else:\n",
    "         print(\"Arguments must be 2-tuples!\")\n",
    "    return dist\n",
    "\n",
    "p = (0, 0)\n",
    "q = (3, 4)\n",
    "print(dist(p,q))"
   ]
  },
  {
   "cell_type": "markdown",
   "metadata": {},
   "source": [
    "4\\. Counting letters\n",
    "\n",
    "Write a program to calculate the number of times each character occurs in a given string *s*. Ignore differneces in capitalization"
   ]
  },
  {
   "cell_type": "code",
   "execution_count": 7,
   "metadata": {},
   "outputs": [],
   "source": [
    "s=\"Write a program that prints the numbers from 1 to 100. \\\n",
    "But for multiples of three print Mickey instead of the number and for the multiples of five print Mouse. \\\n",
    "For numbers which are multiples of both three and five print MickeyMouse\""
   ]
  },
  {
   "cell_type": "code",
   "execution_count": 9,
   "metadata": {},
   "outputs": [
    {
     "data": {
      "text/plain": [
       "{'a': 7,\n",
       " 'd': 3,\n",
       " 'm': 12,\n",
       " 'i': 14,\n",
       " 'h': 9,\n",
       " 'p': 8,\n",
       " '0': 2,\n",
       " 'k': 2,\n",
       " 'g': 1,\n",
       " '.': 2,\n",
       " '1': 2,\n",
       " 'c': 3,\n",
       " 'v': 2,\n",
       " 'r': 17,\n",
       " 'u': 9,\n",
       " 'n': 10,\n",
       " 'e': 22,\n",
       " 't': 19,\n",
       " 's': 9,\n",
       " ' ': 41,\n",
       " 'l': 6,\n",
       " 'b': 5,\n",
       " 'w': 2,\n",
       " 'y': 2,\n",
       " 'f': 10,\n",
       " 'o': 13}"
      ]
     },
     "execution_count": 9,
     "metadata": {},
     "output_type": "execute_result"
    }
   ],
   "source": [
    "def count_char(st):\n",
    "    t=st.lower()\n",
    "    ll=set(t)\n",
    "    for char in ll:\n",
    "        times[char]=t.count(char)\n",
    "    return times\n",
    "\n",
    "count_char(s)\n",
    "\n"
   ]
  },
  {
   "cell_type": "markdown",
   "metadata": {},
   "source": [
    "5\\. Isolating the unique\n",
    "\n",
    "Write a function that determines and count the unique numbers in the list *l*"
   ]
  },
  {
   "cell_type": "code",
   "execution_count": 10,
   "metadata": {},
   "outputs": [],
   "source": [
    "l = [36, 45, 58, 3, 74, 96, 64, 45, 31, 10, 24, 19, 33, 86, 99, 18, 63, 70, 85,\n",
    " 85, 63, 47, 56, 42, 70, 84, 88, 55, 20, 54, 8, 56, 51, 79, 81, 57, 37, 91,\n",
    " 1, 84, 84, 36, 66, 9, 89, 50, 42, 91, 50, 95, 90, 98, 39, 16, 82, 31, 92, 41,\n",
    " 45, 30, 66, 70, 34, 85, 94, 5, 3, 36, 72, 91, 84, 34, 87, 75, 53, 51, 20, 89, 51, 20]"
   ]
  },
  {
   "cell_type": "code",
   "execution_count": 12,
   "metadata": {},
   "outputs": [
    {
     "name": "stdout",
     "output_type": "stream",
     "text": [
      "[58, 74, 96, 64, 10, 24, 19, 33, 86, 99, 18, 47, 88, 55, 54, 8, 79, 81, 57, 37, 1, 9, 95, 90, 98, 39, 16, 82, 92, 41, 30, 94, 5, 72, 87, 75, 53] 37\n"
     ]
    }
   ],
   "source": [
    "def uniques(list0):\n",
    "    dict0 = {}\n",
    "    for num in list0:\n",
    "        if num not in dict0:\n",
    "            dict0[num] = 1\n",
    "        else:\n",
    "            dict0[num] += 1\n",
    "    list1=[]\n",
    "    for key in dict0:\n",
    "        if dict0[key] == 1 :\n",
    "            list1.append(key)\n",
    "    return list1, len(list1)\n",
    "\n",
    "\n",
    "newlist, counts = uniques(l)\n",
    "\n",
    "print(newlist, counts)"
   ]
  },
  {
   "cell_type": "markdown",
   "metadata": {},
   "source": [
    "6\\. Combination of functions\n",
    "\n",
    "Write two functions - one that returns the square of a number, and one that returns the cube. Now write a third function that returns the number raised to the 6th power using the two previous functions."
   ]
  },
  {
   "cell_type": "code",
   "execution_count": 28,
   "metadata": {},
   "outputs": [
    {
     "data": {
      "text/plain": [
       "729"
      ]
     },
     "execution_count": 28,
     "metadata": {},
     "output_type": "execute_result"
    }
   ],
   "source": [
    "def square(x):\n",
    "    sqr = x**2\n",
    "    return sqr\n",
    "   \n",
    "def cube(x):\n",
    "    square(x)\n",
    "    cub = x**3   \n",
    "    return cub\n",
    "   \n",
    "def sixth(x):\n",
    "    return cube(square(x))\n",
    "        \n",
    "sixth(3)"
   ]
  },
  {
   "cell_type": "markdown",
   "metadata": {},
   "source": [
    "7\\. Cubes\n",
    "\n",
    "Create a list of the cubes of x for x in *[0, 10]* using:\n",
    "\n",
    "a) a for loop\n",
    "\n",
    "b) a list comprehension"
   ]
  },
  {
   "cell_type": "code",
   "execution_count": 31,
   "metadata": {},
   "outputs": [
    {
     "name": "stdout",
     "output_type": "stream",
     "text": [
      "[0, 1, 8, 27, 64, 125, 216, 343, 512, 729, 1000]\n",
      "[0, 1, 8, 27, 64, 125, 216, 343, 512, 729, 1000]\n"
     ]
    }
   ],
   "source": [
    "cubes0 = []\n",
    "for i in range(11):\n",
    "    cubes0.append(i**3)\n",
    "print(cubes0)\n",
    "\n",
    "cubes1 = [i**3 for i in range(11)]\n",
    "print(cubes1)"
   ]
  },
  {
   "cell_type": "markdown",
   "metadata": {},
   "source": [
    "8\\. Nested list comprehension\n",
    "\n",
    "A Pythagorean triple is an integer solution to the Pythagorean theorem $a^2+b^2=c^2$. The first Pythagorean triple is (3,4,5). Find and put in a tuple all unique Pythagorean triples for the positive integers a, b and c less than 100."
   ]
  },
  {
   "cell_type": "code",
   "execution_count": 10,
   "metadata": {},
   "outputs": [
    {
     "name": "stdout",
     "output_type": "stream",
     "text": [
      "((3, 4, 5), (5, 12, 13), (6, 8, 10), (7, 24, 25), (8, 15, 17), (9, 12, 15), (9, 40, 41), (10, 24, 26), (11, 60, 61), (12, 16, 20), (12, 35, 37), (13, 84, 85), (14, 48, 50), (15, 20, 25), (15, 36, 39), (16, 30, 34), (16, 63, 65), (18, 24, 30), (18, 80, 82), (20, 21, 29), (20, 48, 52), (21, 28, 35), (21, 72, 75), (24, 32, 40), (24, 45, 51), (24, 70, 74), (25, 60, 65), (27, 36, 45), (28, 45, 53), (30, 40, 50), (30, 72, 78), (32, 60, 68), (33, 44, 55), (33, 56, 65), (35, 84, 91), (36, 48, 60), (36, 77, 85), (39, 52, 65), (39, 80, 89), (40, 42, 58), (40, 75, 85), (42, 56, 70), (45, 60, 75), (48, 55, 73), (48, 64, 80), (51, 68, 85), (54, 72, 90), (57, 76, 95), (60, 63, 87), (65, 72, 97))\n"
     ]
    }
   ],
   "source": [
    "py_triples=[]\n",
    "for a in range(1,101):\n",
    "    for b in range(a,101):\n",
    "        c=(a**2+b**2)**0.5\n",
    "        if c%1 == 0 and c<100:\n",
    "            py_triples.append((a,b,int(c)))\n",
    "                              \n",
    "py_tuples=tuple(py_triples)\n",
    "\n",
    "print(py_tuples)\n",
    "\n"
   ]
  },
  {
   "cell_type": "code",
   "execution_count": 9,
   "metadata": {},
   "outputs": [
    {
     "name": "stdout",
     "output_type": "stream",
     "text": [
      "((3, 4, 5), (5, 12, 13), (6, 8, 10), (7, 24, 25), (8, 15, 17), (9, 12, 15), (9, 40, 41), (10, 24, 26), (11, 60, 61), (12, 16, 20), (12, 35, 37), (13, 84, 85), (14, 48, 50), (15, 20, 25), (15, 36, 39), (16, 30, 34), (16, 63, 65), (18, 24, 30), (18, 80, 82), (20, 21, 29), (20, 48, 52), (21, 28, 35), (21, 72, 75), (24, 32, 40), (24, 45, 51), (24, 70, 74), (25, 60, 65), (27, 36, 45), (28, 45, 53), (30, 40, 50), (30, 72, 78), (32, 60, 68), (33, 44, 55), (33, 56, 65), (35, 84, 91), (36, 48, 60), (36, 77, 85), (39, 52, 65), (39, 80, 89), (40, 42, 58), (40, 75, 85), (42, 56, 70), (45, 60, 75), (48, 55, 73), (48, 64, 80), (51, 68, 85), (54, 72, 90), (57, 76, 95), (60, 63, 87), (65, 72, 97))\n"
     ]
    }
   ],
   "source": [
    "triples=[(x,y,int((x**2+y**2)**0.5)) for x in range(1,101) for y in range(x,101) if ((x**2+y**2)**0.5)%1==0 and (x**2+y**2)**0.5<100]\n",
    "trip_tup=tuple((triples))\n",
    "print(trip_tup)"
   ]
  },
  {
   "cell_type": "markdown",
   "metadata": {},
   "source": [
    "9\\. Normalization\n",
    "\n",
    "Write a function that takes a tuple of numbers and returns it with the entries normalized to one"
   ]
  },
  {
   "cell_type": "code",
   "execution_count": 14,
   "metadata": {},
   "outputs": [
    {
     "data": {
      "text/plain": [
       "(0.25, 0.25, 0.5)"
      ]
     },
     "execution_count": 14,
     "metadata": {},
     "output_type": "execute_result"
    }
   ],
   "source": [
    "def normatuple(tup):\n",
    "    sum=0\n",
    "    for i in tup:\n",
    "        sum += i\n",
    "    norm_list = [i/sum for i in tup]\n",
    "    return tuple(norm_list)\n",
    "\n",
    "\n",
    "normatuple((1,1,2))"
   ]
  }
 ],
 "metadata": {
  "kernelspec": {
   "display_name": "Python 3",
   "language": "python",
   "name": "python3"
  },
  "language_info": {
   "codemirror_mode": {
    "name": "ipython",
    "version": 3
   },
   "file_extension": ".py",
   "mimetype": "text/x-python",
   "name": "python",
   "nbconvert_exporter": "python",
   "pygments_lexer": "ipython3",
   "version": "3.7.0"
  }
 },
 "nbformat": 4,
 "nbformat_minor": 2
}
